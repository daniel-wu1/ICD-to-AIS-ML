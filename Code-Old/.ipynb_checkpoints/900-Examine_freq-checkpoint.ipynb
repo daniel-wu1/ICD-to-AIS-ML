{
 "cells": [
  {
   "cell_type": "markdown",
   "metadata": {},
   "source": [
    "# Project: ICD-AIS conversion using Deep Learning\n",
    "\n",
    "This script examines looks at the TF-IDF of the different terms in the data"
   ]
  },
  {
   "cell_type": "code",
   "execution_count": 1,
   "metadata": {},
   "outputs": [],
   "source": [
    "import numpy as np\n",
    "import pandas as pd\n",
    "import matplotlib.pyplot as plt\n",
    "import icd9cms\n",
    "import icd10\n",
    "import math"
   ]
  },
  {
   "cell_type": "markdown",
   "metadata": {},
   "source": [
    "## Load data"
   ]
  },
  {
   "cell_type": "code",
   "execution_count": 2,
   "metadata": {},
   "outputs": [],
   "source": [
    "icd_obs_file =\"../Data/test_icd_pre_I9_A05.csv\""
   ]
  },
  {
   "cell_type": "code",
   "execution_count": 3,
   "metadata": {},
   "outputs": [],
   "source": [
    "icd = pd.read_csv(icd_obs_file, header=None, names=[\"ICD9CODE\"])"
   ]
  },
  {
   "cell_type": "markdown",
   "metadata": {},
   "source": [
    "## Calc TF"
   ]
  },
  {
   "cell_type": "code",
   "execution_count": 4,
   "metadata": {},
   "outputs": [],
   "source": [
    "icd_split = icd['ICD9CODE'].str.split(' ', expand=True).fillna('NA')"
   ]
  },
  {
   "cell_type": "code",
   "execution_count": 5,
   "metadata": {},
   "outputs": [],
   "source": [
    "idx, count = np.unique(icd_split, return_counts = True)\n",
    "tf = pd.Series(count, index = idx)"
   ]
  },
  {
   "cell_type": "code",
   "execution_count": 6,
   "metadata": {},
   "outputs": [
    {
     "data": {
      "text/plain": [
       "A18       2222\n",
       "A19       2480\n",
       "A20       2474\n",
       "A21       2848\n",
       "A22       2801\n",
       "          ... \n",
       "P99.84       2\n",
       "P99.88       1\n",
       "P99.91       1\n",
       "P99.95       1\n",
       "P99.99    1062\n",
       "Length: 6439, dtype: int64"
      ]
     },
     "execution_count": 6,
     "metadata": {},
     "output_type": "execute_result"
    }
   ],
   "source": [
    "tf"
   ]
  },
  {
   "cell_type": "markdown",
   "metadata": {},
   "source": [
    "## Calc DF"
   ]
  },
  {
   "cell_type": "code",
   "execution_count": 7,
   "metadata": {},
   "outputs": [],
   "source": [
    "mask = icd_split.apply(pd.Series.duplicated, 1) & icd_split.astype(bool)"
   ]
  },
  {
   "cell_type": "code",
   "execution_count": 8,
   "metadata": {},
   "outputs": [],
   "source": [
    "icd_unique = icd_split.mask(mask,\"NA\")"
   ]
  },
  {
   "cell_type": "code",
   "execution_count": 9,
   "metadata": {},
   "outputs": [],
   "source": [
    "idx_u, count_u = np.unique(icd_unique, return_counts = True)\n",
    "df = pd.Series(count_u, index = idx_u)"
   ]
  },
  {
   "cell_type": "markdown",
   "metadata": {},
   "source": [
    "## Merge data"
   ]
  },
  {
   "cell_type": "code",
   "execution_count": 10,
   "metadata": {},
   "outputs": [],
   "source": [
    "tfidf = pd.DataFrame(tf, columns=['tf'])"
   ]
  },
  {
   "cell_type": "code",
   "execution_count": 11,
   "metadata": {},
   "outputs": [],
   "source": [
    "tfidf = tfidf.join(pd.DataFrame(df, columns=['df']), how='left')"
   ]
  },
  {
   "cell_type": "markdown",
   "metadata": {},
   "source": [
    "## Calc TF-IDF"
   ]
  },
  {
   "cell_type": "code",
   "execution_count": 12,
   "metadata": {},
   "outputs": [],
   "source": [
    "tfidf['idf'] = 1/tfidf.df"
   ]
  },
  {
   "cell_type": "code",
   "execution_count": 13,
   "metadata": {},
   "outputs": [],
   "source": [
    "tfidf['tf_idf'] = tfidf.tf * tfidf.idf"
   ]
  },
  {
   "cell_type": "code",
   "execution_count": 14,
   "metadata": {},
   "outputs": [
    {
     "data": {
      "text/html": [
       "<div>\n",
       "<style scoped>\n",
       "    .dataframe tbody tr th:only-of-type {\n",
       "        vertical-align: middle;\n",
       "    }\n",
       "\n",
       "    .dataframe tbody tr th {\n",
       "        vertical-align: top;\n",
       "    }\n",
       "\n",
       "    .dataframe thead th {\n",
       "        text-align: right;\n",
       "    }\n",
       "</style>\n",
       "<table border=\"1\" class=\"dataframe\">\n",
       "  <thead>\n",
       "    <tr style=\"text-align: right;\">\n",
       "      <th></th>\n",
       "      <th>tf</th>\n",
       "      <th>df</th>\n",
       "      <th>idf</th>\n",
       "      <th>tf_idf</th>\n",
       "    </tr>\n",
       "  </thead>\n",
       "  <tbody>\n",
       "    <tr>\n",
       "      <th>P84.44</th>\n",
       "      <td>3</td>\n",
       "      <td>1</td>\n",
       "      <td>1.000000e+00</td>\n",
       "      <td>3.000000</td>\n",
       "    </tr>\n",
       "    <tr>\n",
       "      <th>P89.16</th>\n",
       "      <td>3</td>\n",
       "      <td>1</td>\n",
       "      <td>1.000000e+00</td>\n",
       "      <td>3.000000</td>\n",
       "    </tr>\n",
       "    <tr>\n",
       "      <th>P97.16</th>\n",
       "      <td>221</td>\n",
       "      <td>89</td>\n",
       "      <td>1.123596e-02</td>\n",
       "      <td>2.483146</td>\n",
       "    </tr>\n",
       "    <tr>\n",
       "      <th>P96.53</th>\n",
       "      <td>12</td>\n",
       "      <td>5</td>\n",
       "      <td>2.000000e-01</td>\n",
       "      <td>2.400000</td>\n",
       "    </tr>\n",
       "    <tr>\n",
       "      <th>P23.49</th>\n",
       "      <td>7</td>\n",
       "      <td>3</td>\n",
       "      <td>3.333333e-01</td>\n",
       "      <td>2.333333</td>\n",
       "    </tr>\n",
       "    <tr>\n",
       "      <th>...</th>\n",
       "      <td>...</td>\n",
       "      <td>...</td>\n",
       "      <td>...</td>\n",
       "      <td>...</td>\n",
       "    </tr>\n",
       "    <tr>\n",
       "      <th>E885.0</th>\n",
       "      <td>49</td>\n",
       "      <td>49</td>\n",
       "      <td>2.040816e-02</td>\n",
       "      <td>1.000000</td>\n",
       "    </tr>\n",
       "    <tr>\n",
       "      <th>D921.9</th>\n",
       "      <td>237</td>\n",
       "      <td>237</td>\n",
       "      <td>4.219409e-03</td>\n",
       "      <td>1.000000</td>\n",
       "    </tr>\n",
       "    <tr>\n",
       "      <th>D920</th>\n",
       "      <td>10962</td>\n",
       "      <td>10962</td>\n",
       "      <td>9.122423e-05</td>\n",
       "      <td>1.000000</td>\n",
       "    </tr>\n",
       "    <tr>\n",
       "      <th>D881.01</th>\n",
       "      <td>1381</td>\n",
       "      <td>1381</td>\n",
       "      <td>7.241130e-04</td>\n",
       "      <td>1.000000</td>\n",
       "    </tr>\n",
       "    <tr>\n",
       "      <th>NA</th>\n",
       "      <td>14224095</td>\n",
       "      <td>14269988</td>\n",
       "      <td>7.007714e-08</td>\n",
       "      <td>0.996784</td>\n",
       "    </tr>\n",
       "  </tbody>\n",
       "</table>\n",
       "<p>6439 rows × 4 columns</p>\n",
       "</div>"
      ],
      "text/plain": [
       "               tf        df           idf    tf_idf\n",
       "P84.44          3         1  1.000000e+00  3.000000\n",
       "P89.16          3         1  1.000000e+00  3.000000\n",
       "P97.16        221        89  1.123596e-02  2.483146\n",
       "P96.53         12         5  2.000000e-01  2.400000\n",
       "P23.49          7         3  3.333333e-01  2.333333\n",
       "...           ...       ...           ...       ...\n",
       "E885.0         49        49  2.040816e-02  1.000000\n",
       "D921.9        237       237  4.219409e-03  1.000000\n",
       "D920        10962     10962  9.122423e-05  1.000000\n",
       "D881.01      1381      1381  7.241130e-04  1.000000\n",
       "NA       14224095  14269988  7.007714e-08  0.996784\n",
       "\n",
       "[6439 rows x 4 columns]"
      ]
     },
     "execution_count": 14,
     "metadata": {},
     "output_type": "execute_result"
    }
   ],
   "source": [
    "tfidf.sort_values('tf_idf', ascending=False)"
   ]
  },
  {
   "cell_type": "markdown",
   "metadata": {},
   "source": [
    "## Categorize terms"
   ]
  },
  {
   "cell_type": "code",
   "execution_count": 15,
   "metadata": {},
   "outputs": [],
   "source": [
    "tfidf['term'] = tfidf.index"
   ]
  },
  {
   "cell_type": "code",
   "execution_count": 16,
   "metadata": {},
   "outputs": [],
   "source": [
    "tfidf['cat'] = tfidf['term'].str[0]"
   ]
  },
  {
   "cell_type": "code",
   "execution_count": 17,
   "metadata": {},
   "outputs": [
    {
     "data": {
      "text/html": [
       "<div>\n",
       "<style scoped>\n",
       "    .dataframe tbody tr th:only-of-type {\n",
       "        vertical-align: middle;\n",
       "    }\n",
       "\n",
       "    .dataframe tbody tr th {\n",
       "        vertical-align: top;\n",
       "    }\n",
       "\n",
       "    .dataframe thead th {\n",
       "        text-align: right;\n",
       "    }\n",
       "</style>\n",
       "<table border=\"1\" class=\"dataframe\">\n",
       "  <thead>\n",
       "    <tr style=\"text-align: right;\">\n",
       "      <th></th>\n",
       "      <th>tf</th>\n",
       "      <th>df</th>\n",
       "      <th>idf</th>\n",
       "      <th>tf_idf</th>\n",
       "      <th>term</th>\n",
       "      <th>cat</th>\n",
       "    </tr>\n",
       "  </thead>\n",
       "  <tbody>\n",
       "    <tr>\n",
       "      <th>A18</th>\n",
       "      <td>2222</td>\n",
       "      <td>2222</td>\n",
       "      <td>0.000450</td>\n",
       "      <td>1.000000</td>\n",
       "      <td>A18</td>\n",
       "      <td>A</td>\n",
       "    </tr>\n",
       "    <tr>\n",
       "      <th>A19</th>\n",
       "      <td>2480</td>\n",
       "      <td>2480</td>\n",
       "      <td>0.000403</td>\n",
       "      <td>1.000000</td>\n",
       "      <td>A19</td>\n",
       "      <td>A</td>\n",
       "    </tr>\n",
       "    <tr>\n",
       "      <th>A20</th>\n",
       "      <td>2474</td>\n",
       "      <td>2474</td>\n",
       "      <td>0.000404</td>\n",
       "      <td>1.000000</td>\n",
       "      <td>A20</td>\n",
       "      <td>A</td>\n",
       "    </tr>\n",
       "    <tr>\n",
       "      <th>A21</th>\n",
       "      <td>2848</td>\n",
       "      <td>2848</td>\n",
       "      <td>0.000351</td>\n",
       "      <td>1.000000</td>\n",
       "      <td>A21</td>\n",
       "      <td>A</td>\n",
       "    </tr>\n",
       "    <tr>\n",
       "      <th>A22</th>\n",
       "      <td>2801</td>\n",
       "      <td>2801</td>\n",
       "      <td>0.000357</td>\n",
       "      <td>1.000000</td>\n",
       "      <td>A22</td>\n",
       "      <td>A</td>\n",
       "    </tr>\n",
       "    <tr>\n",
       "      <th>...</th>\n",
       "      <td>...</td>\n",
       "      <td>...</td>\n",
       "      <td>...</td>\n",
       "      <td>...</td>\n",
       "      <td>...</td>\n",
       "      <td>...</td>\n",
       "    </tr>\n",
       "    <tr>\n",
       "      <th>P99.84</th>\n",
       "      <td>2</td>\n",
       "      <td>2</td>\n",
       "      <td>0.500000</td>\n",
       "      <td>1.000000</td>\n",
       "      <td>P99.84</td>\n",
       "      <td>P</td>\n",
       "    </tr>\n",
       "    <tr>\n",
       "      <th>P99.88</th>\n",
       "      <td>1</td>\n",
       "      <td>1</td>\n",
       "      <td>1.000000</td>\n",
       "      <td>1.000000</td>\n",
       "      <td>P99.88</td>\n",
       "      <td>P</td>\n",
       "    </tr>\n",
       "    <tr>\n",
       "      <th>P99.91</th>\n",
       "      <td>1</td>\n",
       "      <td>1</td>\n",
       "      <td>1.000000</td>\n",
       "      <td>1.000000</td>\n",
       "      <td>P99.91</td>\n",
       "      <td>P</td>\n",
       "    </tr>\n",
       "    <tr>\n",
       "      <th>P99.95</th>\n",
       "      <td>1</td>\n",
       "      <td>1</td>\n",
       "      <td>1.000000</td>\n",
       "      <td>1.000000</td>\n",
       "      <td>P99.95</td>\n",
       "      <td>P</td>\n",
       "    </tr>\n",
       "    <tr>\n",
       "      <th>P99.99</th>\n",
       "      <td>1062</td>\n",
       "      <td>930</td>\n",
       "      <td>0.001075</td>\n",
       "      <td>1.141935</td>\n",
       "      <td>P99.99</td>\n",
       "      <td>P</td>\n",
       "    </tr>\n",
       "  </tbody>\n",
       "</table>\n",
       "<p>6439 rows × 6 columns</p>\n",
       "</div>"
      ],
      "text/plain": [
       "          tf    df       idf    tf_idf    term cat\n",
       "A18     2222  2222  0.000450  1.000000     A18   A\n",
       "A19     2480  2480  0.000403  1.000000     A19   A\n",
       "A20     2474  2474  0.000404  1.000000     A20   A\n",
       "A21     2848  2848  0.000351  1.000000     A21   A\n",
       "A22     2801  2801  0.000357  1.000000     A22   A\n",
       "...      ...   ...       ...       ...     ...  ..\n",
       "P99.84     2     2  0.500000  1.000000  P99.84   P\n",
       "P99.88     1     1  1.000000  1.000000  P99.88   P\n",
       "P99.91     1     1  1.000000  1.000000  P99.91   P\n",
       "P99.95     1     1  1.000000  1.000000  P99.95   P\n",
       "P99.99  1062   930  0.001075  1.141935  P99.99   P\n",
       "\n",
       "[6439 rows x 6 columns]"
      ]
     },
     "execution_count": 17,
     "metadata": {},
     "output_type": "execute_result"
    }
   ],
   "source": [
    "tfidf"
   ]
  },
  {
   "cell_type": "markdown",
   "metadata": {},
   "source": [
    "## Get stats on categories"
   ]
  },
  {
   "cell_type": "code",
   "execution_count": 18,
   "metadata": {},
   "outputs": [
    {
     "data": {
      "text/html": [
       "<div>\n",
       "<style scoped>\n",
       "    .dataframe tbody tr th:only-of-type {\n",
       "        vertical-align: middle;\n",
       "    }\n",
       "\n",
       "    .dataframe tbody tr th {\n",
       "        vertical-align: top;\n",
       "    }\n",
       "\n",
       "    .dataframe thead th {\n",
       "        text-align: right;\n",
       "    }\n",
       "</style>\n",
       "<table border=\"1\" class=\"dataframe\">\n",
       "  <thead>\n",
       "    <tr style=\"text-align: right;\">\n",
       "      <th></th>\n",
       "      <th>tf</th>\n",
       "      <th>df</th>\n",
       "      <th>idf</th>\n",
       "      <th>tf_idf</th>\n",
       "    </tr>\n",
       "    <tr>\n",
       "      <th>cat</th>\n",
       "      <th></th>\n",
       "      <th></th>\n",
       "      <th></th>\n",
       "      <th></th>\n",
       "    </tr>\n",
       "  </thead>\n",
       "  <tbody>\n",
       "    <tr>\n",
       "      <th>A</th>\n",
       "      <td>1.699639e+03</td>\n",
       "      <td>1.699639e+03</td>\n",
       "      <td>6.195530e-04</td>\n",
       "      <td>1.000000</td>\n",
       "    </tr>\n",
       "    <tr>\n",
       "      <th>D</th>\n",
       "      <td>1.243091e+02</td>\n",
       "      <td>1.243091e+02</td>\n",
       "      <td>3.572017e-01</td>\n",
       "      <td>1.000000</td>\n",
       "    </tr>\n",
       "    <tr>\n",
       "      <th>E</th>\n",
       "      <td>2.208917e+02</td>\n",
       "      <td>2.208917e+02</td>\n",
       "      <td>3.136950e-01</td>\n",
       "      <td>1.000000</td>\n",
       "    </tr>\n",
       "    <tr>\n",
       "      <th>N</th>\n",
       "      <td>1.422410e+07</td>\n",
       "      <td>1.426999e+07</td>\n",
       "      <td>7.007714e-08</td>\n",
       "      <td>0.996784</td>\n",
       "    </tr>\n",
       "    <tr>\n",
       "      <th>P</th>\n",
       "      <td>2.788416e+02</td>\n",
       "      <td>2.585887e+02</td>\n",
       "      <td>3.348286e-01</td>\n",
       "      <td>1.035491</td>\n",
       "    </tr>\n",
       "  </tbody>\n",
       "</table>\n",
       "</div>"
      ],
      "text/plain": [
       "               tf            df           idf    tf_idf\n",
       "cat                                                    \n",
       "A    1.699639e+03  1.699639e+03  6.195530e-04  1.000000\n",
       "D    1.243091e+02  1.243091e+02  3.572017e-01  1.000000\n",
       "E    2.208917e+02  2.208917e+02  3.136950e-01  1.000000\n",
       "N    1.422410e+07  1.426999e+07  7.007714e-08  0.996784\n",
       "P    2.788416e+02  2.585887e+02  3.348286e-01  1.035491"
      ]
     },
     "execution_count": 18,
     "metadata": {},
     "output_type": "execute_result"
    }
   ],
   "source": [
    "tfidf.groupby('cat').mean('tf_idf')"
   ]
  },
  {
   "cell_type": "code",
   "execution_count": 19,
   "metadata": {},
   "outputs": [
    {
     "data": {
      "text/html": [
       "<div>\n",
       "<style scoped>\n",
       "    .dataframe tbody tr th:only-of-type {\n",
       "        vertical-align: middle;\n",
       "    }\n",
       "\n",
       "    .dataframe tbody tr th {\n",
       "        vertical-align: top;\n",
       "    }\n",
       "\n",
       "    .dataframe thead th {\n",
       "        text-align: right;\n",
       "    }\n",
       "</style>\n",
       "<table border=\"1\" class=\"dataframe\">\n",
       "  <thead>\n",
       "    <tr style=\"text-align: right;\">\n",
       "      <th></th>\n",
       "      <th>tf</th>\n",
       "      <th>df</th>\n",
       "      <th>idf</th>\n",
       "      <th>tf_idf</th>\n",
       "    </tr>\n",
       "    <tr>\n",
       "      <th>cat</th>\n",
       "      <th></th>\n",
       "      <th></th>\n",
       "      <th></th>\n",
       "      <th></th>\n",
       "    </tr>\n",
       "  </thead>\n",
       "  <tbody>\n",
       "    <tr>\n",
       "      <th>A</th>\n",
       "      <td>1.699639e+03</td>\n",
       "      <td>1.699639e+03</td>\n",
       "      <td>6.195530e-04</td>\n",
       "      <td>1.000000</td>\n",
       "    </tr>\n",
       "    <tr>\n",
       "      <th>D</th>\n",
       "      <td>1.243091e+02</td>\n",
       "      <td>1.243091e+02</td>\n",
       "      <td>3.572017e-01</td>\n",
       "      <td>1.000000</td>\n",
       "    </tr>\n",
       "    <tr>\n",
       "      <th>E</th>\n",
       "      <td>2.208917e+02</td>\n",
       "      <td>2.208917e+02</td>\n",
       "      <td>3.136950e-01</td>\n",
       "      <td>1.000000</td>\n",
       "    </tr>\n",
       "    <tr>\n",
       "      <th>N</th>\n",
       "      <td>1.422410e+07</td>\n",
       "      <td>1.426999e+07</td>\n",
       "      <td>7.007714e-08</td>\n",
       "      <td>0.996784</td>\n",
       "    </tr>\n",
       "    <tr>\n",
       "      <th>P</th>\n",
       "      <td>2.788416e+02</td>\n",
       "      <td>2.585887e+02</td>\n",
       "      <td>3.348286e-01</td>\n",
       "      <td>1.035491</td>\n",
       "    </tr>\n",
       "  </tbody>\n",
       "</table>\n",
       "</div>"
      ],
      "text/plain": [
       "               tf            df           idf    tf_idf\n",
       "cat                                                    \n",
       "A    1.699639e+03  1.699639e+03  6.195530e-04  1.000000\n",
       "D    1.243091e+02  1.243091e+02  3.572017e-01  1.000000\n",
       "E    2.208917e+02  2.208917e+02  3.136950e-01  1.000000\n",
       "N    1.422410e+07  1.426999e+07  7.007714e-08  0.996784\n",
       "P    2.788416e+02  2.585887e+02  3.348286e-01  1.035491"
      ]
     },
     "execution_count": 19,
     "metadata": {},
     "output_type": "execute_result"
    }
   ],
   "source": [
    "tfidf.groupby('cat').mean()"
   ]
  }
 ],
 "metadata": {
  "kernelspec": {
   "display_name": "Python 3",
   "language": "python",
   "name": "python3"
  },
  "language_info": {
   "codemirror_mode": {
    "name": "ipython",
    "version": 3
   },
   "file_extension": ".py",
   "mimetype": "text/x-python",
   "name": "python",
   "nbconvert_exporter": "python",
   "pygments_lexer": "ipython3",
   "version": "3.8.8"
  }
 },
 "nbformat": 4,
 "nbformat_minor": 4
}
