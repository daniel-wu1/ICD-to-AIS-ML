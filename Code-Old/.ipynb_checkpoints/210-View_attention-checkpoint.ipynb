{
 "cells": [
  {
   "cell_type": "markdown",
   "metadata": {},
   "source": [
    "# Project: ICD-AIS conversion using Deep Learning\n",
    "\n",
    "This script examines the attention matrix of the model."
   ]
  },
  {
   "cell_type": "code",
   "execution_count": 1,
   "metadata": {},
   "outputs": [],
   "source": [
    "import numpy as np\n",
    "import pandas as pd\n",
    "import matplotlib.pyplot as plt\n",
    "import icd9cms\n",
    "import icd10\n",
    "import math"
   ]
  },
  {
   "cell_type": "markdown",
   "metadata": {},
   "source": [
    "## Load data"
   ]
  },
  {
   "cell_type": "code",
   "execution_count": 2,
   "metadata": {},
   "outputs": [],
   "source": [
    "# load attention file\n",
    "#attn_file = \"../Results/test_ais_pred_early_stop-100-attn.csv\"\n",
    "#attn_file = \"../Results/train_ais_pred_early_stop-100-attn.csv\"\n",
    "attn_file = \"../Results/test_ais_pred_early_stop-d_only-100-attn.csv\"\n",
    "\n",
    "with open(attn_file) as f:\n",
    "    lines = f.readlines()"
   ]
  },
  {
   "cell_type": "code",
   "execution_count": 3,
   "metadata": {},
   "outputs": [],
   "source": [
    "# load actual AIS codes\n",
    "ais_file = \"../Data/test_ais_pre_I9_A05.csv\"\n",
    "#ais_file = \"../Data/train_ais_pre_I9_A05.csv\"\n",
    "\n",
    "ais = pd.read_csv(ais_file, header=None).rename(columns={0:'AIS_actual'})"
   ]
  },
  {
   "cell_type": "code",
   "execution_count": 4,
   "metadata": {},
   "outputs": [],
   "source": [
    "# load AIS codes\n",
    "ais_lu_file = \"../Data/AIS08_codes.csv\"\n",
    "\n",
    "# load AIS codes\n",
    "ais_lu = pd.read_csv(ais_lu_file, header=0, encoding='iso-8859-1')\n",
    "\n",
    "# get predot code\n",
    "ais_lu['predot'] = ais_lu.code.apply(lambda x: math.floor(x))\n",
    "\n",
    "# make dictionary of codes\n",
    "ais_dot = pd.Series(ais_lu.code.values, index=ais_lu.predot).to_dict()\n",
    "ais_dot[0] = 0.0\n",
    "ais_dot[-1] = -1.0"
   ]
  },
  {
   "cell_type": "markdown",
   "metadata": {},
   "source": [
    "## Parse file"
   ]
  },
  {
   "cell_type": "code",
   "execution_count": 5,
   "metadata": {},
   "outputs": [],
   "source": [
    "# remove first two lines\n",
    "lines = lines[3:]"
   ]
  },
  {
   "cell_type": "code",
   "execution_count": 6,
   "metadata": {},
   "outputs": [],
   "source": [
    "attn_mat = []\n",
    "\n",
    "for i,l in enumerate(lines):\n",
    "    #print(i,l)\n",
    "    \n",
    "    # check if new attention matrix\n",
    "    if l.startswith(\"[2022\"):\n",
    "        \n",
    "        # remove timestamp and newline\n",
    "        l = l[l.find('D'):]\n",
    "        l = l[:l.find('\\\\')]\n",
    "        \n",
    "        # get icd codes\n",
    "        icd_codes = list(filter(None, l.split(\" \")))\n",
    "        \n",
    "        # create data frame\n",
    "        attn_df = pd.DataFrame(columns=['AIS']+icd_codes)\n",
    "    \n",
    "    # else this is not a new matrix\n",
    "    else:\n",
    "        # check if not empty line\n",
    "        if l[0]!='\\n':\n",
    "            # get AIS code and attention weights\n",
    "            ais_codes = list(filter(None, l.split(\" \")))\n",
    "\n",
    "            # remove asterisk\n",
    "            ais_codes = [s.replace('*','') for s in ais_codes]\n",
    "\n",
    "            # remove newline\n",
    "            ais_codes = ais_codes[:len(ais_codes)-1]\n",
    "            \n",
    "            # convert weights to floats\n",
    "            ais_codes = [ais_codes[0]] + [float(x) for x in ais_codes[1:len(ais_codes)]]\n",
    "            \n",
    "            # append to df\n",
    "            attn_df.loc[len(attn_df)] = ais_codes\n",
    "        \n",
    "        # end of matrix, store\n",
    "        else:\n",
    "            #display(attn_df)\n",
    "            \n",
    "            attn_mat.append(attn_df)"
   ]
  },
  {
   "cell_type": "markdown",
   "metadata": {},
   "source": [
    "## Function to display attention matrix"
   ]
  },
  {
   "cell_type": "code",
   "execution_count": 7,
   "metadata": {},
   "outputs": [],
   "source": [
    "def display_attn(attn_df, showmat=True, colorbar=True, d_only=False):\n",
    "    '''\n",
    "    This function displays attention weights for translations.\n",
    "    Parameters:\n",
    "        showmat - print attention dataframe\n",
    "        attn_df - dataframe with attention weights\n",
    "        colorbar - whether to add colorbar\n",
    "    Returns:\n",
    "        None - outputs matrix and plots\n",
    "    '''\n",
    "    \n",
    "    # display matrix as dataframe\n",
    "    if showmat:\n",
    "        display(attn_df)\n",
    "    \n",
    "    # remove all non-D-codes if applicable\n",
    "    if d_only:\n",
    "        d_cols = [x for x in attn_df.columns  if x.startswith('D')]\n",
    "        \n",
    "        attn_df = attn_df[['AIS']+d_cols]\n",
    "        \n",
    "    # get weights\n",
    "    weights = attn_df.iloc[:,1:].values\n",
    "\n",
    "    # get icd and ais codes\n",
    "    icd_codes = attn_df.columns[1:]\n",
    "    ais_codes = attn_df.AIS.values      \n",
    "    \n",
    "    # display matrix\n",
    "    plt.matshow(weights, cmap=plt.get_cmap('gray'))\n",
    "\n",
    "    # add labels\n",
    "    plt.xticks(np.arange(0, len(icd_codes), 1), icd_codes)\n",
    "    plt.yticks(np.arange(0, len(ais_codes), 1), ais_codes)\n",
    "    \n",
    "    # add color bar if applicable\n",
    "    if colorbar:\n",
    "        plt.colorbar()\n",
    "        \n",
    "    plt.show()"
   ]
  },
  {
   "cell_type": "markdown",
   "metadata": {},
   "source": [
    "## Decoding functions"
   ]
  },
  {
   "cell_type": "code",
   "execution_count": 8,
   "metadata": {},
   "outputs": [],
   "source": [
    "def icd_to_text(icd_list, icd_version=9):\n",
    "    '''\n",
    "    This script takes a list of ICD codes and returns the text diagnoses.\n",
    "    Parameters:\n",
    "        icd_list - ICD codes to translate\n",
    "    Returns:\n",
    "        list of text diagnoses\n",
    "    '''\n",
    "    \n",
    "    # list for text\n",
    "    icd_txt = []\n",
    "    \n",
    "    # loop through all codes\n",
    "    for code in icd_list:\n",
    "        \n",
    "        # check version of ICD\n",
    "        if icd_version==9:\n",
    "            \n",
    "            # remove prefix from non-E/P codes\n",
    "            if (code[0] == 'E') or (code[0] == 'P'):\n",
    "                \n",
    "                icd_trans = icd9cms.search(code)\n",
    "            else:\n",
    "                \n",
    "                icd_trans = icd9cms.search(code[1:])\n",
    "            \n",
    "            # check if not valid code\n",
    "            if icd_trans == None:\n",
    "                \n",
    "                icd_txt.append(code + ': code not found')\n",
    "                \n",
    "            else:\n",
    "                \n",
    "                # if no long description use short description\n",
    "                if icd_trans.long_desc == None:\n",
    "                    \n",
    "                    icd_txt.append(code + \": \" + icd_trans.short_desc)\n",
    "                    \n",
    "                else:\n",
    "                    icd_txt.append(code + \": \" + icd_trans.long_desc)\n",
    "    \n",
    "    return icd_txt"
   ]
  },
  {
   "cell_type": "code",
   "execution_count": 9,
   "metadata": {},
   "outputs": [],
   "source": [
    "def icd_mat(mat, icd_version=9):\n",
    "    \n",
    "    icd_codes = mat.columns[1:]\n",
    "    \n",
    "    print(icd_codes)\n",
    "    \n",
    "    return icd_to_text(icd_codes)"
   ]
  },
  {
   "cell_type": "code",
   "execution_count": 10,
   "metadata": {},
   "outputs": [
    {
     "name": "stdout",
     "output_type": "stream",
     "text": [
      "Index(['D850.0'], dtype='object')\n"
     ]
    },
    {
     "data": {
      "text/plain": [
       "['D850.0: Concussion with no loss of consciousness']"
      ]
     },
     "execution_count": 10,
     "metadata": {},
     "output_type": "execute_result"
    }
   ],
   "source": [
    "icd_mat(attn_mat[0])"
   ]
  },
  {
   "cell_type": "code",
   "execution_count": 11,
   "metadata": {},
   "outputs": [],
   "source": [
    "def ais_to_text(ais_list, ais_version='2005'):\n",
    "    '''\n",
    "    This script takes a list of AIS codes and returns the text diagnoses.\n",
    "    Parameters:\n",
    "       ais_list - AIS codes to translate\n",
    "    Returns:\n",
    "        list of text diagnoses\n",
    "    '''\n",
    "    \n",
    "    # list for text\n",
    "    ais_txt = []\n",
    "    \n",
    "    # loop through all codes\n",
    "    for code in ais_list:    \n",
    "\n",
    "        if code != '</s>':\n",
    "            \n",
    "            # convert code to number\n",
    "            code = int(code)\n",
    "        \n",
    "            if ais_version=='2005':\n",
    "            \n",
    "                if code in ais_lu.predot.values:\n",
    "                \n",
    "                    ais_txt.append(str(code) + \": \" + ais_lu[ais_lu.predot==code].Description.values[0])\n",
    "                \n",
    "                else:\n",
    "                \n",
    "                    ais_txt.append(str(code) + \": code not found\")\n",
    "                \n",
    "    return ais_txt"
   ]
  },
  {
   "cell_type": "code",
   "execution_count": 12,
   "metadata": {},
   "outputs": [],
   "source": [
    "def ais_split(ais_str, ais_version='2005'):\n",
    "\n",
    "    ais_split = ais_str.values[0].split(\" \")\n",
    "\n",
    "    ais_num = [int(x) for x in ais_split]\n",
    "\n",
    "    return ais_to_text(ais_num)"
   ]
  },
  {
   "cell_type": "code",
   "execution_count": 13,
   "metadata": {},
   "outputs": [
    {
     "data": {
      "text/html": [
       "<div>\n",
       "<style scoped>\n",
       "    .dataframe tbody tr th:only-of-type {\n",
       "        vertical-align: middle;\n",
       "    }\n",
       "\n",
       "    .dataframe tbody tr th {\n",
       "        vertical-align: top;\n",
       "    }\n",
       "\n",
       "    .dataframe thead th {\n",
       "        text-align: right;\n",
       "    }\n",
       "</style>\n",
       "<table border=\"1\" class=\"dataframe\">\n",
       "  <thead>\n",
       "    <tr style=\"text-align: right;\">\n",
       "      <th></th>\n",
       "      <th>AIS</th>\n",
       "      <th>D850.0</th>\n",
       "    </tr>\n",
       "  </thead>\n",
       "  <tbody>\n",
       "    <tr>\n",
       "      <th>0</th>\n",
       "      <td>161001</td>\n",
       "      <td>1.0</td>\n",
       "    </tr>\n",
       "    <tr>\n",
       "      <th>1</th>\n",
       "      <td>&lt;/s&gt;</td>\n",
       "      <td>1.0</td>\n",
       "    </tr>\n",
       "  </tbody>\n",
       "</table>\n",
       "</div>"
      ],
      "text/plain": [
       "      AIS  D850.0\n",
       "0  161001     1.0\n",
       "1    </s>     1.0"
      ]
     },
     "execution_count": 13,
     "metadata": {},
     "output_type": "execute_result"
    }
   ],
   "source": [
    "attn_mat[0]"
   ]
  },
  {
   "cell_type": "markdown",
   "metadata": {},
   "source": [
    "## Visualization of Attention"
   ]
  },
  {
   "cell_type": "code",
   "execution_count": 23,
   "metadata": {},
   "outputs": [
    {
     "data": {
      "text/html": [
       "<div>\n",
       "<style scoped>\n",
       "    .dataframe tbody tr th:only-of-type {\n",
       "        vertical-align: middle;\n",
       "    }\n",
       "\n",
       "    .dataframe tbody tr th {\n",
       "        vertical-align: top;\n",
       "    }\n",
       "\n",
       "    .dataframe thead th {\n",
       "        text-align: right;\n",
       "    }\n",
       "</style>\n",
       "<table border=\"1\" class=\"dataframe\">\n",
       "  <thead>\n",
       "    <tr style=\"text-align: right;\">\n",
       "      <th></th>\n",
       "      <th>AIS</th>\n",
       "      <th>D811.02</th>\n",
       "      <th>D852.02</th>\n",
       "      <th>D873.1</th>\n",
       "    </tr>\n",
       "  </thead>\n",
       "  <tbody>\n",
       "    <tr>\n",
       "      <th>0</th>\n",
       "      <td>110602</td>\n",
       "      <td>0.080003</td>\n",
       "      <td>0.362771</td>\n",
       "      <td>0.557226</td>\n",
       "    </tr>\n",
       "    <tr>\n",
       "      <th>1</th>\n",
       "      <td>140694</td>\n",
       "      <td>0.086742</td>\n",
       "      <td>0.743501</td>\n",
       "      <td>0.169757</td>\n",
       "    </tr>\n",
       "    <tr>\n",
       "      <th>2</th>\n",
       "      <td>750951</td>\n",
       "      <td>0.819018</td>\n",
       "      <td>0.116907</td>\n",
       "      <td>0.064075</td>\n",
       "    </tr>\n",
       "    <tr>\n",
       "      <th>3</th>\n",
       "      <td>&lt;/s&gt;</td>\n",
       "      <td>0.254267</td>\n",
       "      <td>0.422661</td>\n",
       "      <td>0.323072</td>\n",
       "    </tr>\n",
       "  </tbody>\n",
       "</table>\n",
       "</div>"
      ],
      "text/plain": [
       "      AIS   D811.02   D852.02    D873.1\n",
       "0  110602  0.080003  0.362771  0.557226\n",
       "1  140694  0.086742  0.743501  0.169757\n",
       "2  750951  0.819018  0.116907  0.064075\n",
       "3    </s>  0.254267  0.422661  0.323072"
      ]
     },
     "metadata": {},
     "output_type": "display_data"
    },
    {
     "data": {
      "image/png": "[encoded data removed]",
      "text/plain": [
       "<Figure size 288x384 with 2 Axes>"
      ]
     },
     "metadata": {
      "needs_background": "light"
     },
     "output_type": "display_data"
    },
    {
     "name": "stdout",
     "output_type": "stream",
     "text": [
      "Actual ICD:\n",
      "Index(['D811.02', 'D852.02', 'D873.1'], dtype='object')\n"
     ]
    },
    {
     "data": {
      "text/plain": [
       "['D811.02: Closed fracture of coracoid process of scapula',\n",
       " 'D852.02: Subarachnoid hemorrhage following injury without mention of open intracranial wound, with brief [less than one hour] loss of consciousness',\n",
       " 'D873.1: Open wound of scalp, complicated']"
      ]
     },
     "metadata": {},
     "output_type": "display_data"
    },
    {
     "name": "stdout",
     "output_type": "stream",
     "text": [
      "Predicted AIS:\n"
     ]
    },
    {
     "data": {
      "text/plain": [
       "['110602: Scalp, laceration, minor; superficial',\n",
       " '140694: Cerebrum [includes basal ganglia, thalamus, putamen, globus pallidus], subarachnoid hemorrhage, not associated with coma >6 hours',\n",
       " '750951: Scapula fracture, body']"
      ]
     },
     "metadata": {},
     "output_type": "display_data"
    },
    {
     "name": "stdout",
     "output_type": "stream",
     "text": [
      "Actual AIS:\n"
     ]
    },
    {
     "data": {
      "text/plain": [
       "['110604: Scalp, laceration, major; >10cm long and into subcutaneous tissue',\n",
       " '140694: Cerebrum [includes basal ganglia, thalamus, putamen, globus pallidus], subarachnoid hemorrhage, not associated with coma >6 hours',\n",
       " '750961: Scapula fracture, neck with or without body']"
      ]
     },
     "metadata": {},
     "output_type": "display_data"
    }
   ],
   "source": [
    "i=9\n",
    "display_attn(attn_mat[i])\n",
    "print(\"Actual ICD:\")\n",
    "display(icd_mat(attn_mat[i]))\n",
    "print(\"Predicted AIS:\")\n",
    "display(ais_to_text(attn_mat[i].AIS.values))\n",
    "print(\"Actual AIS:\")\n",
    "display(ais_split(ais.iloc[i]))"
   ]
  },
  {
   "cell_type": "code",
   "execution_count": 15,
   "metadata": {},
   "outputs": [
    {
     "data": {
      "text/html": [
       "<div>\n",
       "<style scoped>\n",
       "    .dataframe tbody tr th:only-of-type {\n",
       "        vertical-align: middle;\n",
       "    }\n",
       "\n",
       "    .dataframe tbody tr th {\n",
       "        vertical-align: top;\n",
       "    }\n",
       "\n",
       "    .dataframe thead th {\n",
       "        text-align: right;\n",
       "    }\n",
       "</style>\n",
       "<table border=\"1\" class=\"dataframe\">\n",
       "  <thead>\n",
       "    <tr style=\"text-align: right;\">\n",
       "      <th></th>\n",
       "      <th>AIS</th>\n",
       "      <th>D805.4</th>\n",
       "      <th>D823.01</th>\n",
       "      <th>D825.20</th>\n",
       "    </tr>\n",
       "  </thead>\n",
       "  <tbody>\n",
       "    <tr>\n",
       "      <th>0</th>\n",
       "      <td>650630</td>\n",
       "      <td>0.823148</td>\n",
       "      <td>0.053517</td>\n",
       "      <td>0.123335</td>\n",
       "    </tr>\n",
       "    <tr>\n",
       "      <th>1</th>\n",
       "      <td>852004</td>\n",
       "      <td>0.244039</td>\n",
       "      <td>0.320710</td>\n",
       "      <td>0.435251</td>\n",
       "    </tr>\n",
       "    <tr>\n",
       "      <th>2</th>\n",
       "      <td>854471</td>\n",
       "      <td>0.073334</td>\n",
       "      <td>0.726828</td>\n",
       "      <td>0.199838</td>\n",
       "    </tr>\n",
       "    <tr>\n",
       "      <th>3</th>\n",
       "      <td>&lt;/s&gt;</td>\n",
       "      <td>0.360506</td>\n",
       "      <td>0.245061</td>\n",
       "      <td>0.394433</td>\n",
       "    </tr>\n",
       "  </tbody>\n",
       "</table>\n",
       "</div>"
      ],
      "text/plain": [
       "      AIS    D805.4   D823.01   D825.20\n",
       "0  650630  0.823148  0.053517  0.123335\n",
       "1  852004  0.244039  0.320710  0.435251\n",
       "2  854471  0.073334  0.726828  0.199838\n",
       "3    </s>  0.360506  0.245061  0.394433"
      ]
     },
     "metadata": {},
     "output_type": "display_data"
    },
    {
     "data": {
      "image/png": "[encoded data removed]",
      "text/plain": [
       "<Figure size 288x384 with 2 Axes>"
      ]
     },
     "metadata": {
      "needs_background": "light"
     },
     "output_type": "display_data"
    },
    {
     "name": "stdout",
     "output_type": "stream",
     "text": [
      "AIS_actual    650616 854441 857200\n",
      "Name: 3, dtype: object\n"
     ]
    }
   ],
   "source": [
    "i=\n",
    "display_attn(attn_mat[i])\n",
    "print(ais.iloc[i])"
   ]
  },
  {
   "cell_type": "code",
   "execution_count": 16,
   "metadata": {},
   "outputs": [
    {
     "data": {
      "text/html": [
       "<div>\n",
       "<style scoped>\n",
       "    .dataframe tbody tr th:only-of-type {\n",
       "        vertical-align: middle;\n",
       "    }\n",
       "\n",
       "    .dataframe tbody tr th {\n",
       "        vertical-align: top;\n",
       "    }\n",
       "\n",
       "    .dataframe thead th {\n",
       "        text-align: right;\n",
       "    }\n",
       "</style>\n",
       "<table border=\"1\" class=\"dataframe\">\n",
       "  <thead>\n",
       "    <tr style=\"text-align: right;\">\n",
       "      <th></th>\n",
       "      <th>AIS</th>\n",
       "      <th>D805.4</th>\n",
       "      <th>D823.01</th>\n",
       "      <th>D825.20</th>\n",
       "    </tr>\n",
       "  </thead>\n",
       "  <tbody>\n",
       "    <tr>\n",
       "      <th>0</th>\n",
       "      <td>650630</td>\n",
       "      <td>0.823148</td>\n",
       "      <td>0.053517</td>\n",
       "      <td>0.123335</td>\n",
       "    </tr>\n",
       "    <tr>\n",
       "      <th>1</th>\n",
       "      <td>852004</td>\n",
       "      <td>0.244039</td>\n",
       "      <td>0.320710</td>\n",
       "      <td>0.435251</td>\n",
       "    </tr>\n",
       "    <tr>\n",
       "      <th>2</th>\n",
       "      <td>854471</td>\n",
       "      <td>0.073334</td>\n",
       "      <td>0.726828</td>\n",
       "      <td>0.199838</td>\n",
       "    </tr>\n",
       "    <tr>\n",
       "      <th>3</th>\n",
       "      <td>&lt;/s&gt;</td>\n",
       "      <td>0.360506</td>\n",
       "      <td>0.245061</td>\n",
       "      <td>0.394433</td>\n",
       "    </tr>\n",
       "  </tbody>\n",
       "</table>\n",
       "</div>"
      ],
      "text/plain": [
       "      AIS    D805.4   D823.01   D825.20\n",
       "0  650630  0.823148  0.053517  0.123335\n",
       "1  852004  0.244039  0.320710  0.435251\n",
       "2  854471  0.073334  0.726828  0.199838\n",
       "3    </s>  0.360506  0.245061  0.394433"
      ]
     },
     "metadata": {},
     "output_type": "display_data"
    },
    {
     "data": {
      "image/png": "[encoded data removed]",
      "text/plain": [
       "<Figure size 288x384 with 2 Axes>"
      ]
     },
     "metadata": {
      "needs_background": "light"
     },
     "output_type": "display_data"
    },
    {
     "name": "stdout",
     "output_type": "stream",
     "text": [
      "AIS_actual    650616 854441 857200\n",
      "Name: 3, dtype: object\n"
     ]
    }
   ],
   "source": [
    "i=3\n",
    "display_attn(attn_mat[i])\n",
    "print(ais.iloc[i])"
   ]
  },
  {
   "cell_type": "code",
   "execution_count": 17,
   "metadata": {},
   "outputs": [
    {
     "data": {
      "text/html": [
       "<div>\n",
       "<style scoped>\n",
       "    .dataframe tbody tr th:only-of-type {\n",
       "        vertical-align: middle;\n",
       "    }\n",
       "\n",
       "    .dataframe tbody tr th {\n",
       "        vertical-align: top;\n",
       "    }\n",
       "\n",
       "    .dataframe thead th {\n",
       "        text-align: right;\n",
       "    }\n",
       "</style>\n",
       "<table border=\"1\" class=\"dataframe\">\n",
       "  <thead>\n",
       "    <tr style=\"text-align: right;\">\n",
       "      <th></th>\n",
       "      <th>AIS</th>\n",
       "      <th>D802.1</th>\n",
       "      <th>D805.05</th>\n",
       "      <th>D807.01</th>\n",
       "      <th>D861.21</th>\n",
       "      <th>D873.20</th>\n",
       "    </tr>\n",
       "  </thead>\n",
       "  <tbody>\n",
       "    <tr>\n",
       "      <th>0</th>\n",
       "      <td>210602</td>\n",
       "      <td>0.365991</td>\n",
       "      <td>0.105837</td>\n",
       "      <td>0.052129</td>\n",
       "      <td>0.079182</td>\n",
       "      <td>0.396861</td>\n",
       "    </tr>\n",
       "    <tr>\n",
       "      <th>1</th>\n",
       "      <td>251002</td>\n",
       "      <td>0.737381</td>\n",
       "      <td>0.044810</td>\n",
       "      <td>0.048521</td>\n",
       "      <td>0.112849</td>\n",
       "      <td>0.056439</td>\n",
       "    </tr>\n",
       "    <tr>\n",
       "      <th>2</th>\n",
       "      <td>441408</td>\n",
       "      <td>0.102134</td>\n",
       "      <td>0.104949</td>\n",
       "      <td>0.239711</td>\n",
       "      <td>0.465782</td>\n",
       "      <td>0.087424</td>\n",
       "    </tr>\n",
       "    <tr>\n",
       "      <th>3</th>\n",
       "      <td>450201</td>\n",
       "      <td>0.018103</td>\n",
       "      <td>0.056995</td>\n",
       "      <td>0.884546</td>\n",
       "      <td>0.029095</td>\n",
       "      <td>0.011262</td>\n",
       "    </tr>\n",
       "    <tr>\n",
       "      <th>4</th>\n",
       "      <td>650222</td>\n",
       "      <td>0.057787</td>\n",
       "      <td>0.739114</td>\n",
       "      <td>0.090058</td>\n",
       "      <td>0.062593</td>\n",
       "      <td>0.050448</td>\n",
       "    </tr>\n",
       "    <tr>\n",
       "      <th>5</th>\n",
       "      <td>&lt;/s&gt;</td>\n",
       "      <td>0.153087</td>\n",
       "      <td>0.312168</td>\n",
       "      <td>0.198323</td>\n",
       "      <td>0.169250</td>\n",
       "      <td>0.167172</td>\n",
       "    </tr>\n",
       "  </tbody>\n",
       "</table>\n",
       "</div>"
      ],
      "text/plain": [
       "      AIS    D802.1   D805.05   D807.01   D861.21   D873.20\n",
       "0  210602  0.365991  0.105837  0.052129  0.079182  0.396861\n",
       "1  251002  0.737381  0.044810  0.048521  0.112849  0.056439\n",
       "2  441408  0.102134  0.104949  0.239711  0.465782  0.087424\n",
       "3  450201  0.018103  0.056995  0.884546  0.029095  0.011262\n",
       "4  650222  0.057787  0.739114  0.090058  0.062593  0.050448\n",
       "5    </s>  0.153087  0.312168  0.198323  0.169250  0.167172"
      ]
     },
     "metadata": {},
     "output_type": "display_data"
    },
    {
     "data": {
      "image/png": "[encoded data removed]",
      "text/plain": [
       "<Figure size 288x345.6 with 2 Axes>"
      ]
     },
     "metadata": {
      "needs_background": "light"
     },
     "output_type": "display_data"
    }
   ],
   "source": [
    "display_attn(attn_mat[17], d_only = True)"
   ]
  },
  {
   "cell_type": "code",
   "execution_count": 18,
   "metadata": {},
   "outputs": [
    {
     "data": {
      "text/html": [
       "<div>\n",
       "<style scoped>\n",
       "    .dataframe tbody tr th:only-of-type {\n",
       "        vertical-align: middle;\n",
       "    }\n",
       "\n",
       "    .dataframe tbody tr th {\n",
       "        vertical-align: top;\n",
       "    }\n",
       "\n",
       "    .dataframe thead th {\n",
       "        text-align: right;\n",
       "    }\n",
       "</style>\n",
       "<table border=\"1\" class=\"dataframe\">\n",
       "  <thead>\n",
       "    <tr style=\"text-align: right;\">\n",
       "      <th></th>\n",
       "      <th>AIS</th>\n",
       "      <th>D802.1</th>\n",
       "      <th>D805.05</th>\n",
       "      <th>D807.01</th>\n",
       "      <th>D861.21</th>\n",
       "      <th>D873.20</th>\n",
       "    </tr>\n",
       "  </thead>\n",
       "  <tbody>\n",
       "    <tr>\n",
       "      <th>0</th>\n",
       "      <td>210602</td>\n",
       "      <td>0.365991</td>\n",
       "      <td>0.105837</td>\n",
       "      <td>0.052129</td>\n",
       "      <td>0.079182</td>\n",
       "      <td>0.396861</td>\n",
       "    </tr>\n",
       "    <tr>\n",
       "      <th>1</th>\n",
       "      <td>251002</td>\n",
       "      <td>0.737381</td>\n",
       "      <td>0.044810</td>\n",
       "      <td>0.048521</td>\n",
       "      <td>0.112849</td>\n",
       "      <td>0.056439</td>\n",
       "    </tr>\n",
       "    <tr>\n",
       "      <th>2</th>\n",
       "      <td>441408</td>\n",
       "      <td>0.102134</td>\n",
       "      <td>0.104949</td>\n",
       "      <td>0.239711</td>\n",
       "      <td>0.465782</td>\n",
       "      <td>0.087424</td>\n",
       "    </tr>\n",
       "    <tr>\n",
       "      <th>3</th>\n",
       "      <td>450201</td>\n",
       "      <td>0.018103</td>\n",
       "      <td>0.056995</td>\n",
       "      <td>0.884546</td>\n",
       "      <td>0.029095</td>\n",
       "      <td>0.011262</td>\n",
       "    </tr>\n",
       "    <tr>\n",
       "      <th>4</th>\n",
       "      <td>650222</td>\n",
       "      <td>0.057787</td>\n",
       "      <td>0.739114</td>\n",
       "      <td>0.090058</td>\n",
       "      <td>0.062593</td>\n",
       "      <td>0.050448</td>\n",
       "    </tr>\n",
       "    <tr>\n",
       "      <th>5</th>\n",
       "      <td>&lt;/s&gt;</td>\n",
       "      <td>0.153087</td>\n",
       "      <td>0.312168</td>\n",
       "      <td>0.198323</td>\n",
       "      <td>0.169250</td>\n",
       "      <td>0.167172</td>\n",
       "    </tr>\n",
       "  </tbody>\n",
       "</table>\n",
       "</div>"
      ],
      "text/plain": [
       "      AIS    D802.1   D805.05   D807.01   D861.21   D873.20\n",
       "0  210602  0.365991  0.105837  0.052129  0.079182  0.396861\n",
       "1  251002  0.737381  0.044810  0.048521  0.112849  0.056439\n",
       "2  441408  0.102134  0.104949  0.239711  0.465782  0.087424\n",
       "3  450201  0.018103  0.056995  0.884546  0.029095  0.011262\n",
       "4  650222  0.057787  0.739114  0.090058  0.062593  0.050448\n",
       "5    </s>  0.153087  0.312168  0.198323  0.169250  0.167172"
      ]
     },
     "metadata": {},
     "output_type": "display_data"
    },
    {
     "data": {
      "image/png": "[encoded data removed]",
      "text/plain": [
       "<Figure size 288x345.6 with 2 Axes>"
      ]
     },
     "metadata": {
      "needs_background": "light"
     },
     "output_type": "display_data"
    },
    {
     "name": "stdout",
     "output_type": "stream",
     "text": [
      "AIS_actual    210602 251002 441406 450201 650222\n",
      "Name: 17, dtype: object\n"
     ]
    }
   ],
   "source": [
    "i=17\n",
    "display_attn(attn_mat[i])\n",
    "print(ais.iloc[i])"
   ]
  },
  {
   "cell_type": "markdown",
   "metadata": {},
   "source": [
    "https://github.com/OpenNMT/OpenNMT-py/issues/897\n",
    "\n",
    "I have tried -atten_debug. I found it is for global-attention between source words and target words, not for self-attention within source words.\n",
    "\n",
    "http://nlp.seas.harvard.edu/2018/04/03/attention.html"
   ]
  },
  {
   "cell_type": "code",
   "execution_count": 19,
   "metadata": {},
   "outputs": [
    {
     "name": "stdout",
     "output_type": "stream",
     "text": [
      "80\n"
     ]
    },
    {
     "data": {
      "image/png": "[encoded data removed]",
      "text/plain": [
       "<Figure size 288x345.6 with 1 Axes>"
      ]
     },
     "metadata": {
      "needs_background": "light"
     },
     "output_type": "display_data"
    },
    {
     "name": "stdout",
     "output_type": "stream",
     "text": [
      "81\n"
     ]
    },
    {
     "data": {
      "image/png": "[encoded data removed]",
      "text/plain": [
       "<Figure size 288x576 with 1 Axes>"
      ]
     },
     "metadata": {
      "needs_background": "light"
     },
     "output_type": "display_data"
    },
    {
     "name": "stdout",
     "output_type": "stream",
     "text": [
      "82\n"
     ]
    },
    {
     "data": {
      "image/png": "[encoded data removed]",
      "text/plain": [
       "<Figure size 329.143x288 with 1 Axes>"
      ]
     },
     "metadata": {
      "needs_background": "light"
     },
     "output_type": "display_data"
    },
    {
     "name": "stdout",
     "output_type": "stream",
     "text": [
      "83\n"
     ]
    },
    {
     "data": {
      "image/png": "[encoded data removed]",
      "text/plain": [
       "<Figure size 288x360 with 1 Axes>"
      ]
     },
     "metadata": {
      "needs_background": "light"
     },
     "output_type": "display_data"
    },
    {
     "name": "stdout",
     "output_type": "stream",
     "text": [
      "84\n"
     ]
    },
    {
     "data": {
      "image/png": "[encoded data removed]",
      "text/plain": [
       "<Figure size 288x576 with 1 Axes>"
      ]
     },
     "metadata": {
      "needs_background": "light"
     },
     "output_type": "display_data"
    },
    {
     "name": "stdout",
     "output_type": "stream",
     "text": [
      "85\n"
     ]
    },
    {
     "data": {
      "image/png": "[encoded data removed]",
      "text/plain": [
       "<Figure size 288x576 with 1 Axes>"
      ]
     },
     "metadata": {
      "needs_background": "light"
     },
     "output_type": "display_data"
    },
    {
     "name": "stdout",
     "output_type": "stream",
     "text": [
      "86\n"
     ]
    },
    {
     "data": {
      "image/png": "[encoded data removed]",
      "text/plain": [
       "<Figure size 288x576 with 1 Axes>"
      ]
     },
     "metadata": {
      "needs_background": "light"
     },
     "output_type": "display_data"
    },
    {
     "name": "stdout",
     "output_type": "stream",
     "text": [
      "87\n"
     ]
    },
    {
     "data": {
      "image/png": "[encoded data removed]",
      "text/plain": [
       "<Figure size 288x576 with 1 Axes>"
      ]
     },
     "metadata": {
      "needs_background": "light"
     },
     "output_type": "display_data"
    },
    {
     "name": "stdout",
     "output_type": "stream",
     "text": [
      "88\n"
     ]
    },
    {
     "data": {
      "image/png": "[encoded data removed]",
      "text/plain": [
       "<Figure size 288x432 with 1 Axes>"
      ]
     },
     "metadata": {
      "needs_background": "light"
     },
     "output_type": "display_data"
    },
    {
     "name": "stdout",
     "output_type": "stream",
     "text": [
      "89\n"
     ]
    },
    {
     "data": {
      "image/png": "[encoded data removed]",
      "text/plain": [
       "<Figure size 288x360 with 1 Axes>"
      ]
     },
     "metadata": {
      "needs_background": "light"
     },
     "output_type": "display_data"
    }
   ],
   "source": [
    "for i in range(80,90):\n",
    "    print(i)\n",
    "    display_attn(attn_mat[i], showmat=False, colorbar=False, d_only=False)"
   ]
  },
  {
   "cell_type": "code",
   "execution_count": null,
   "metadata": {},
   "outputs": [],
   "source": []
  }
 ],
 "metadata": {
  "kernelspec": {
   "display_name": "Python 3",
   "language": "python",
   "name": "python3"
  },
  "language_info": {
   "codemirror_mode": {
    "name": "ipython",
    "version": 3
   },
   "file_extension": ".py",
   "mimetype": "text/x-python",
   "name": "python",
   "nbconvert_exporter": "python",
   "pygments_lexer": "ipython3",
   "version": "3.8.8"
  }
 },
 "nbformat": 4,
 "nbformat_minor": 4
}
