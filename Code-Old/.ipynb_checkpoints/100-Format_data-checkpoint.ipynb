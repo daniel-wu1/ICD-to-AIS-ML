{
 "cells": [
  {
   "cell_type": "markdown",
   "metadata": {},
   "source": [
    "# Project: ICD-AIS conversion using Deep Learning\n",
    "\n",
    "This script opens the previously created SQL database of the NTDB and extracts data in a format to be used for training and testing a DL model.  The output format is:\n",
    "- One patient per line\n",
    "- ICD: Age first, then ECode, then procedure and diagnostic codes in ascending alphanumeric order\n",
    "- AIS: Codes in ascending order, no post-dot severity\n",
    "- Space in between codes"
   ]
  },
  {
   "cell_type": "markdown",
   "metadata": {},
   "source": [
    "## Setup"
   ]
  },
  {
   "cell_type": "code",
   "execution_count": 41,
   "metadata": {},
   "outputs": [],
   "source": [
    "import numpy as np\n",
    "import pandas as pd\n",
    "import sqlite3\n",
    "import random\n",
    "import math"
   ]
  },
  {
   "cell_type": "code",
   "execution_count": 43,
   "metadata": {},
   "outputs": [],
   "source": [
    "# parameters\n",
    "db_loc = \"/data/galen-ics333/ivy-hip-apid/databases/NTDBDatabase/NTDB-2007-2017.db\"\n",
    "years = \"(2013,2014)\" # years to use\n",
    "test_percent = 0.1 # percent of data for test\n",
    "validation_num = 2000 # number of cases for validation\n",
    "min_age = 18 # minimum age of patient\n",
    "prefix_age = True # add 'A' designator to age\n",
    "prefix_ecodes = True # add 'E' designator to E-codes\n",
    "prefix_pcodes = True # add 'P' designator to P-codes\n",
    "prefix_dcodes = True # add 'D' designator to D-codes\n",
    "turncate_ais = True # remove severity designation of AIS codes\n",
    "age_cat = True  # place ages in bins"
   ]
  },
  {
   "cell_type": "markdown",
   "metadata": {},
   "source": [
    "## Function to sample tables"
   ]
  },
  {
   "cell_type": "code",
   "execution_count": 44,
   "metadata": {},
   "outputs": [],
   "source": [
    "def get_table_rows(table, n_rows):\n",
    "    \n",
    "    # assemble query\n",
    "    query = \"SELECT * FROM \" + table + \" LIMIT \" + str(n_rows) + \";\"\n",
    "\n",
    "    print(query)\n",
    "    \n",
    "    # execute query\n",
    "    cur. execute(query)\n",
    "    \n",
    "    # get column names\n",
    "    names = [description[0] for description in cur.description]\n",
    "\n",
    "    # fetch results\n",
    "    return pd.DataFrame(cur.fetchall(), columns=names)"
   ]
  },
  {
   "cell_type": "markdown",
   "metadata": {},
   "source": [
    "## Connect to database"
   ]
  },
  {
   "cell_type": "code",
   "execution_count": 45,
   "metadata": {},
   "outputs": [],
   "source": [
    "# connect to SQLite database\n",
    "con = sqlite3.connect(db_loc)\n",
    "\n",
    "# get cursor\n",
    "cur = con.cursor()"
   ]
  },
  {
   "cell_type": "markdown",
   "metadata": {},
   "source": [
    "## Extract data for cases of interest"
   ]
  },
  {
   "cell_type": "code",
   "execution_count": 46,
   "metadata": {},
   "outputs": [
    {
     "name": "stdout",
     "output_type": "stream",
     "text": [
      "CPU times: user 15.1 s, sys: 4.88 s, total: 20 s\n",
      "Wall time: 29.8 s\n"
     ]
    }
   ],
   "source": [
    "%%time\n",
    "\n",
    "# get patients meeting age and year parameters\n",
    "cur. execute('''\n",
    "SELECT Demo.INC_KEY, Demo.AGE, ED.YOADMIT, Ecodes.ECODE\n",
    "FROM Demographics as Demo\n",
    "LEFT JOIN (\n",
    "    SELECT INC_KEY, YOADMIT\n",
    "    FROM ED ) as ED\n",
    "ON Demo.INC_KEY = ED.INC_KEY\n",
    "LEFT JOIN (\n",
    "    SELECT INC_KEY, ECODE\n",
    "    FROM ICD9CM_ECodes) as Ecodes\n",
    "ON Demo.INC_KEY = Ecodes.INC_KEY\n",
    "WHERE Demo.AGE >=''' + str(min_age) + '''\n",
    "AND ED.YOADMIT IN ''' + years\n",
    ")\n",
    "\n",
    "# fetch results\n",
    "pt_dat = cur.fetchall()"
   ]
  },
  {
   "cell_type": "code",
   "execution_count": 47,
   "metadata": {},
   "outputs": [],
   "source": [
    "# convert to pandas DF\n",
    "pt_df = pd.DataFrame(pt_dat, columns=['INC_KEY','AGE','YOADMIT','ECODE'])"
   ]
  },
  {
   "cell_type": "code",
   "execution_count": 48,
   "metadata": {},
   "outputs": [],
   "source": [
    "# filter out cases not coded in ICD-9\n",
    "pt_df = pt_df[pt_df.ECODE!='-1']"
   ]
  },
  {
   "cell_type": "code",
   "execution_count": 49,
   "metadata": {},
   "outputs": [],
   "source": [
    "# add 'A' prefix to age if necessary\n",
    "if prefix_age:\n",
    "    pt_df['AGE'] = 'A' + pt_df.AGE.astype(str)"
   ]
  },
  {
   "cell_type": "code",
   "execution_count": 50,
   "metadata": {},
   "outputs": [],
   "source": [
    "# add 'E' prefix to ECODE if necessary\n",
    "if prefix_ecodes:\n",
    "    pt_df['ECODE'] = 'E' + pt_df.ECODE"
   ]
  },
  {
   "cell_type": "code",
   "execution_count": 51,
   "metadata": {},
   "outputs": [
    {
     "data": {
      "text/html": [
       "<div>\n",
       "<style scoped>\n",
       "    .dataframe tbody tr th:only-of-type {\n",
       "        vertical-align: middle;\n",
       "    }\n",
       "\n",
       "    .dataframe tbody tr th {\n",
       "        vertical-align: top;\n",
       "    }\n",
       "\n",
       "    .dataframe thead th {\n",
       "        text-align: right;\n",
       "    }\n",
       "</style>\n",
       "<table border=\"1\" class=\"dataframe\">\n",
       "  <thead>\n",
       "    <tr style=\"text-align: right;\">\n",
       "      <th></th>\n",
       "      <th>INC_KEY</th>\n",
       "      <th>AGE</th>\n",
       "      <th>YOADMIT</th>\n",
       "      <th>ECODE</th>\n",
       "    </tr>\n",
       "  </thead>\n",
       "  <tbody>\n",
       "    <tr>\n",
       "      <th>0</th>\n",
       "      <td>14000000</td>\n",
       "      <td>A79</td>\n",
       "      <td>2013</td>\n",
       "      <td>E880.9</td>\n",
       "    </tr>\n",
       "    <tr>\n",
       "      <th>1</th>\n",
       "      <td>14000002</td>\n",
       "      <td>A55</td>\n",
       "      <td>2013</td>\n",
       "      <td>E884.9</td>\n",
       "    </tr>\n",
       "    <tr>\n",
       "      <th>2</th>\n",
       "      <td>14000003</td>\n",
       "      <td>A70</td>\n",
       "      <td>2013</td>\n",
       "      <td>E885.9</td>\n",
       "    </tr>\n",
       "    <tr>\n",
       "      <th>3</th>\n",
       "      <td>14000004</td>\n",
       "      <td>A56</td>\n",
       "      <td>2013</td>\n",
       "      <td>E881.0</td>\n",
       "    </tr>\n",
       "    <tr>\n",
       "      <th>4</th>\n",
       "      <td>14000005</td>\n",
       "      <td>A40</td>\n",
       "      <td>2013</td>\n",
       "      <td>E986</td>\n",
       "    </tr>\n",
       "  </tbody>\n",
       "</table>\n",
       "</div>"
      ],
      "text/plain": [
       "    INC_KEY  AGE  YOADMIT   ECODE\n",
       "0  14000000  A79     2013  E880.9\n",
       "1  14000002  A55     2013  E884.9\n",
       "2  14000003  A70     2013  E885.9\n",
       "3  14000004  A56     2013  E881.0\n",
       "4  14000005  A40     2013    E986"
      ]
     },
     "execution_count": 51,
     "metadata": {},
     "output_type": "execute_result"
    }
   ],
   "source": [
    "pt_df.head(5)"
   ]
  },
  {
   "cell_type": "markdown",
   "metadata": {},
   "source": [
    "## Get procedure codes"
   ]
  },
  {
   "cell_type": "code",
   "execution_count": 52,
   "metadata": {},
   "outputs": [],
   "source": [
    "pt_list = '(' + ','.join(str(i) for i in pt_df.INC_KEY) + ')'"
   ]
  },
  {
   "cell_type": "code",
   "execution_count": 53,
   "metadata": {},
   "outputs": [
    {
     "name": "stdout",
     "output_type": "stream",
     "text": [
      "CPU times: user 14.9 s, sys: 4.41 s, total: 19.3 s\n",
      "Wall time: 20.3 s\n"
     ]
    }
   ],
   "source": [
    "%%time\n",
    "\n",
    "# get pcodes for selected patients\n",
    "cur. execute('''\n",
    "SELECT INC_KEY, PCODE \n",
    "FROM ICD9_10CM_PCodes\n",
    "WHERE INC_KEY IN ''' + pt_list\n",
    ")\n",
    "\n",
    "# fetch results\n",
    "pcodes = pd.DataFrame(cur.fetchall(), columns=['INC_KEY','PCODE'])"
   ]
  },
  {
   "cell_type": "code",
   "execution_count": 54,
   "metadata": {},
   "outputs": [],
   "source": [
    "# add 'P' to procedure codes if necessary\n",
    "if prefix_pcodes:\n",
    "    pcodes['PCODE'] = 'P' + pcodes.PCODE"
   ]
  },
  {
   "cell_type": "code",
   "execution_count": 55,
   "metadata": {},
   "outputs": [
    {
     "name": "stdout",
     "output_type": "stream",
     "text": [
      "CPU times: user 1min 55s, sys: 223 ms, total: 1min 55s\n",
      "Wall time: 1min 55s\n"
     ]
    }
   ],
   "source": [
    "%%time \n",
    "# transform PCODES into list for each patient\n",
    "pcodes = pcodes.groupby('INC_KEY')['PCODE'].apply(list).reset_index(name='PCODES')"
   ]
  },
  {
   "cell_type": "code",
   "execution_count": 56,
   "metadata": {},
   "outputs": [],
   "source": [
    "# merge Pcodes in DF\n",
    "pt_df = pt_df.merge(pcodes, on='INC_KEY')"
   ]
  },
  {
   "cell_type": "code",
   "execution_count": 57,
   "metadata": {},
   "outputs": [
    {
     "data": {
      "text/html": [
       "<div>\n",
       "<style scoped>\n",
       "    .dataframe tbody tr th:only-of-type {\n",
       "        vertical-align: middle;\n",
       "    }\n",
       "\n",
       "    .dataframe tbody tr th {\n",
       "        vertical-align: top;\n",
       "    }\n",
       "\n",
       "    .dataframe thead th {\n",
       "        text-align: right;\n",
       "    }\n",
       "</style>\n",
       "<table border=\"1\" class=\"dataframe\">\n",
       "  <thead>\n",
       "    <tr style=\"text-align: right;\">\n",
       "      <th></th>\n",
       "      <th>INC_KEY</th>\n",
       "      <th>AGE</th>\n",
       "      <th>YOADMIT</th>\n",
       "      <th>ECODE</th>\n",
       "      <th>PCODES</th>\n",
       "    </tr>\n",
       "  </thead>\n",
       "  <tbody>\n",
       "    <tr>\n",
       "      <th>0</th>\n",
       "      <td>14000000</td>\n",
       "      <td>A79</td>\n",
       "      <td>2013</td>\n",
       "      <td>E880.9</td>\n",
       "      <td>[P87.03, P87.44]</td>\n",
       "    </tr>\n",
       "    <tr>\n",
       "      <th>1</th>\n",
       "      <td>14000002</td>\n",
       "      <td>A55</td>\n",
       "      <td>2013</td>\n",
       "      <td>E884.9</td>\n",
       "      <td>[P-2]</td>\n",
       "    </tr>\n",
       "    <tr>\n",
       "      <th>2</th>\n",
       "      <td>14000003</td>\n",
       "      <td>A70</td>\n",
       "      <td>2013</td>\n",
       "      <td>E885.9</td>\n",
       "      <td>[P79.35, P87.03]</td>\n",
       "    </tr>\n",
       "    <tr>\n",
       "      <th>3</th>\n",
       "      <td>14000004</td>\n",
       "      <td>A56</td>\n",
       "      <td>2013</td>\n",
       "      <td>E881.0</td>\n",
       "      <td>[P88.38, P88.01]</td>\n",
       "    </tr>\n",
       "    <tr>\n",
       "      <th>4</th>\n",
       "      <td>14000005</td>\n",
       "      <td>A40</td>\n",
       "      <td>2013</td>\n",
       "      <td>E986</td>\n",
       "      <td>[P54.11]</td>\n",
       "    </tr>\n",
       "  </tbody>\n",
       "</table>\n",
       "</div>"
      ],
      "text/plain": [
       "    INC_KEY  AGE  YOADMIT   ECODE            PCODES\n",
       "0  14000000  A79     2013  E880.9  [P87.03, P87.44]\n",
       "1  14000002  A55     2013  E884.9             [P-2]\n",
       "2  14000003  A70     2013  E885.9  [P79.35, P87.03]\n",
       "3  14000004  A56     2013  E881.0  [P88.38, P88.01]\n",
       "4  14000005  A40     2013    E986          [P54.11]"
      ]
     },
     "execution_count": 57,
     "metadata": {},
     "output_type": "execute_result"
    }
   ],
   "source": [
    "pt_df.head(5)"
   ]
  },
  {
   "cell_type": "markdown",
   "metadata": {},
   "source": [
    "## Get diagnostic codes"
   ]
  },
  {
   "cell_type": "code",
   "execution_count": 58,
   "metadata": {},
   "outputs": [],
   "source": [
    "# get dcodes for selected patients\n",
    "cur. execute('''\n",
    "SELECT INC_KEY, DCODE \n",
    "FROM ICD9CM_DCodes\n",
    "WHERE INC_KEY IN ''' + pt_list\n",
    ")\n",
    "\n",
    "# fetch results\n",
    "dcodes = pd.DataFrame(cur.fetchall(), columns=['INC_KEY','DCODE'])"
   ]
  },
  {
   "cell_type": "code",
   "execution_count": 59,
   "metadata": {},
   "outputs": [],
   "source": [
    "# remove blank results, not sure why I am getting blank codes\n",
    "dcodes = dcodes[~(dcodes.DCODE=='')]"
   ]
  },
  {
   "cell_type": "code",
   "execution_count": 60,
   "metadata": {},
   "outputs": [],
   "source": [
    "# remove 'V' codes\n",
    "dcodes = dcodes[~dcodes.DCODE.str.contains('V')]"
   ]
  },
  {
   "cell_type": "code",
   "execution_count": 61,
   "metadata": {},
   "outputs": [],
   "source": [
    "# add 'D' to diagnostic codes if necessary\n",
    "if prefix_dcodes:\n",
    "    dcodes['DCODE'] = 'D' + dcodes.DCODE"
   ]
  },
  {
   "cell_type": "code",
   "execution_count": 62,
   "metadata": {},
   "outputs": [
    {
     "name": "stdout",
     "output_type": "stream",
     "text": [
      "CPU times: user 1min 58s, sys: 129 ms, total: 1min 58s\n",
      "Wall time: 1min 58s\n"
     ]
    }
   ],
   "source": [
    "%%time \n",
    "# transform DCODES into list for each patient\n",
    "dcodes = dcodes.groupby('INC_KEY')['DCODE'].apply(list).reset_index(name='DCODES')"
   ]
  },
  {
   "cell_type": "code",
   "execution_count": 63,
   "metadata": {},
   "outputs": [],
   "source": [
    "# merge dcodes in DF\n",
    "pt_df = pt_df.merge(dcodes, on='INC_KEY')"
   ]
  },
  {
   "cell_type": "code",
   "execution_count": 64,
   "metadata": {},
   "outputs": [
    {
     "data": {
      "text/html": [
       "<div>\n",
       "<style scoped>\n",
       "    .dataframe tbody tr th:only-of-type {\n",
       "        vertical-align: middle;\n",
       "    }\n",
       "\n",
       "    .dataframe tbody tr th {\n",
       "        vertical-align: top;\n",
       "    }\n",
       "\n",
       "    .dataframe thead th {\n",
       "        text-align: right;\n",
       "    }\n",
       "</style>\n",
       "<table border=\"1\" class=\"dataframe\">\n",
       "  <thead>\n",
       "    <tr style=\"text-align: right;\">\n",
       "      <th></th>\n",
       "      <th>INC_KEY</th>\n",
       "      <th>AGE</th>\n",
       "      <th>YOADMIT</th>\n",
       "      <th>ECODE</th>\n",
       "      <th>PCODES</th>\n",
       "      <th>DCODES</th>\n",
       "    </tr>\n",
       "  </thead>\n",
       "  <tbody>\n",
       "    <tr>\n",
       "      <th>0</th>\n",
       "      <td>14000000</td>\n",
       "      <td>A79</td>\n",
       "      <td>2013</td>\n",
       "      <td>E880.9</td>\n",
       "      <td>[P87.03, P87.44]</td>\n",
       "      <td>[D850.0]</td>\n",
       "    </tr>\n",
       "    <tr>\n",
       "      <th>1</th>\n",
       "      <td>14000002</td>\n",
       "      <td>A55</td>\n",
       "      <td>2013</td>\n",
       "      <td>E884.9</td>\n",
       "      <td>[P-2]</td>\n",
       "      <td>[D807.03, D805.4, D805.2]</td>\n",
       "    </tr>\n",
       "    <tr>\n",
       "      <th>2</th>\n",
       "      <td>14000003</td>\n",
       "      <td>A70</td>\n",
       "      <td>2013</td>\n",
       "      <td>E885.9</td>\n",
       "      <td>[P79.35, P87.03]</td>\n",
       "      <td>[D820.21]</td>\n",
       "    </tr>\n",
       "    <tr>\n",
       "      <th>3</th>\n",
       "      <td>14000004</td>\n",
       "      <td>A56</td>\n",
       "      <td>2013</td>\n",
       "      <td>E881.0</td>\n",
       "      <td>[P88.38, P88.01]</td>\n",
       "      <td>[D825.20, D823.01, D805.4]</td>\n",
       "    </tr>\n",
       "    <tr>\n",
       "      <th>4</th>\n",
       "      <td>14000005</td>\n",
       "      <td>A40</td>\n",
       "      <td>2013</td>\n",
       "      <td>E986</td>\n",
       "      <td>[P54.11]</td>\n",
       "      <td>[D879.4]</td>\n",
       "    </tr>\n",
       "  </tbody>\n",
       "</table>\n",
       "</div>"
      ],
      "text/plain": [
       "    INC_KEY  AGE  YOADMIT   ECODE            PCODES  \\\n",
       "0  14000000  A79     2013  E880.9  [P87.03, P87.44]   \n",
       "1  14000002  A55     2013  E884.9             [P-2]   \n",
       "2  14000003  A70     2013  E885.9  [P79.35, P87.03]   \n",
       "3  14000004  A56     2013  E881.0  [P88.38, P88.01]   \n",
       "4  14000005  A40     2013    E986          [P54.11]   \n",
       "\n",
       "                       DCODES  \n",
       "0                    [D850.0]  \n",
       "1   [D807.03, D805.4, D805.2]  \n",
       "2                   [D820.21]  \n",
       "3  [D825.20, D823.01, D805.4]  \n",
       "4                    [D879.4]  "
      ]
     },
     "execution_count": 64,
     "metadata": {},
     "output_type": "execute_result"
    }
   ],
   "source": [
    "pt_df.head(5)"
   ]
  },
  {
   "cell_type": "markdown",
   "metadata": {},
   "source": [
    "## Get AIS codes"
   ]
  },
  {
   "cell_type": "code",
   "execution_count": 65,
   "metadata": {},
   "outputs": [],
   "source": [
    "# get dcodes for selected patients\n",
    "cur. execute('''\n",
    "SELECT INC_KEY, AIS05CODE \n",
    "FROM AIS\n",
    "WHERE INC_KEY IN ''' + pt_list\n",
    ")\n",
    "\n",
    "# fetch results\n",
    "aiscodes = pd.DataFrame(cur.fetchall(), columns=['INC_KEY','AIS05CODE'])"
   ]
  },
  {
   "cell_type": "code",
   "execution_count": 66,
   "metadata": {},
   "outputs": [],
   "source": [
    "# Remove none codes\n",
    "aiscodes = aiscodes[~aiscodes.AIS05CODE.isnull()].reset_index(drop=True)"
   ]
  },
  {
   "cell_type": "code",
   "execution_count": 67,
   "metadata": {},
   "outputs": [],
   "source": [
    "# remove severity designation if necessary\n",
    "if turncate_ais:\n",
    "    aiscodes['AIS05CODE'] = aiscodes.AIS05CODE.str.split(\".\", 1, expand=True)[0]"
   ]
  },
  {
   "cell_type": "code",
   "execution_count": 68,
   "metadata": {},
   "outputs": [
    {
     "name": "stdout",
     "output_type": "stream",
     "text": [
      "CPU times: user 1min 41s, sys: 0 ns, total: 1min 41s\n",
      "Wall time: 1min 41s\n"
     ]
    }
   ],
   "source": [
    "%%time \n",
    "# transform AIS codes into list for each patient\n",
    "aiscodes = aiscodes.groupby('INC_KEY')['AIS05CODE'].apply(list).reset_index(name='AIS05CODE')"
   ]
  },
  {
   "cell_type": "code",
   "execution_count": 69,
   "metadata": {},
   "outputs": [],
   "source": [
    "# merge AIS codes in DF\n",
    "pt_df = pt_df.merge(aiscodes, on='INC_KEY')"
   ]
  },
  {
   "cell_type": "code",
   "execution_count": 70,
   "metadata": {},
   "outputs": [
    {
     "data": {
      "text/html": [
       "<div>\n",
       "<style scoped>\n",
       "    .dataframe tbody tr th:only-of-type {\n",
       "        vertical-align: middle;\n",
       "    }\n",
       "\n",
       "    .dataframe tbody tr th {\n",
       "        vertical-align: top;\n",
       "    }\n",
       "\n",
       "    .dataframe thead th {\n",
       "        text-align: right;\n",
       "    }\n",
       "</style>\n",
       "<table border=\"1\" class=\"dataframe\">\n",
       "  <thead>\n",
       "    <tr style=\"text-align: right;\">\n",
       "      <th></th>\n",
       "      <th>INC_KEY</th>\n",
       "      <th>AGE</th>\n",
       "      <th>YOADMIT</th>\n",
       "      <th>ECODE</th>\n",
       "      <th>PCODES</th>\n",
       "      <th>DCODES</th>\n",
       "      <th>AIS05CODE</th>\n",
       "    </tr>\n",
       "  </thead>\n",
       "  <tbody>\n",
       "    <tr>\n",
       "      <th>0</th>\n",
       "      <td>14000000</td>\n",
       "      <td>A79</td>\n",
       "      <td>2013</td>\n",
       "      <td>E880.9</td>\n",
       "      <td>[P87.03, P87.44]</td>\n",
       "      <td>[D850.0]</td>\n",
       "      <td>[161001]</td>\n",
       "    </tr>\n",
       "    <tr>\n",
       "      <th>1</th>\n",
       "      <td>14000002</td>\n",
       "      <td>A55</td>\n",
       "      <td>2013</td>\n",
       "      <td>E884.9</td>\n",
       "      <td>[P-2]</td>\n",
       "      <td>[D807.03, D805.4, D805.2]</td>\n",
       "      <td>[650416, 650630, 450203]</td>\n",
       "    </tr>\n",
       "    <tr>\n",
       "      <th>2</th>\n",
       "      <td>14000003</td>\n",
       "      <td>A70</td>\n",
       "      <td>2013</td>\n",
       "      <td>E885.9</td>\n",
       "      <td>[P79.35, P87.03]</td>\n",
       "      <td>[D820.21]</td>\n",
       "      <td>[853151]</td>\n",
       "    </tr>\n",
       "    <tr>\n",
       "      <th>3</th>\n",
       "      <td>14000004</td>\n",
       "      <td>A56</td>\n",
       "      <td>2013</td>\n",
       "      <td>E881.0</td>\n",
       "      <td>[P88.38, P88.01]</td>\n",
       "      <td>[D825.20, D823.01, D805.4]</td>\n",
       "      <td>[857200, 650616, 854441]</td>\n",
       "    </tr>\n",
       "    <tr>\n",
       "      <th>4</th>\n",
       "      <td>14000005</td>\n",
       "      <td>A40</td>\n",
       "      <td>2013</td>\n",
       "      <td>E986</td>\n",
       "      <td>[P54.11]</td>\n",
       "      <td>[D879.4]</td>\n",
       "      <td>[516000]</td>\n",
       "    </tr>\n",
       "  </tbody>\n",
       "</table>\n",
       "</div>"
      ],
      "text/plain": [
       "    INC_KEY  AGE  YOADMIT   ECODE            PCODES  \\\n",
       "0  14000000  A79     2013  E880.9  [P87.03, P87.44]   \n",
       "1  14000002  A55     2013  E884.9             [P-2]   \n",
       "2  14000003  A70     2013  E885.9  [P79.35, P87.03]   \n",
       "3  14000004  A56     2013  E881.0  [P88.38, P88.01]   \n",
       "4  14000005  A40     2013    E986          [P54.11]   \n",
       "\n",
       "                       DCODES                 AIS05CODE  \n",
       "0                    [D850.0]                  [161001]  \n",
       "1   [D807.03, D805.4, D805.2]  [650416, 650630, 450203]  \n",
       "2                   [D820.21]                  [853151]  \n",
       "3  [D825.20, D823.01, D805.4]  [857200, 650616, 854441]  \n",
       "4                    [D879.4]                  [516000]  "
      ]
     },
     "execution_count": 70,
     "metadata": {},
     "output_type": "execute_result"
    }
   ],
   "source": [
    "pt_df.head(5)"
   ]
  },
  {
   "cell_type": "markdown",
   "metadata": {},
   "source": [
    "## Bin ages"
   ]
  },
  {
   "cell_type": "code",
   "execution_count": 94,
   "metadata": {},
   "outputs": [],
   "source": [
    "# if we want to categorize age\n",
    "if age_cat:\n",
    "    \n",
    "    # cut points and labels\n",
    "    age_bins = [0,10,20,30,40,50,60,70,80,90,110]\n",
    "    age_labels = ['A00_09','A10_19','A20_29','A30_39','A40_49','A50_59','A60_69','A70_79','A80_89','A90_99']\n",
    "    \n",
    "    # get integer of age\n",
    "    pt_df['IAGE'] = pt_df.AGE.str.replace('A','').astype(int)\n",
    "    \n",
    "    # get categories\n",
    "    pt_df['AGEBIN'] = pd.cut(pt_df.IAGE, bins=age_bins, labels=age_labels)\n",
    "    \n",
    "    # replace age with categories\n",
    "    pt_df['AGE'] = pt_df.AGEBIN\n",
    "    \n",
    "    # remove extra columns\n",
    "    pt_df = pt_df.drop(columns=['IAGE','AGEBIN'])"
   ]
  },
  {
   "cell_type": "markdown",
   "metadata": {},
   "source": [
    "## Function to write data to file"
   ]
  },
  {
   "cell_type": "code",
   "execution_count": 96,
   "metadata": {},
   "outputs": [],
   "source": [
    "def write_pt_dat(pt_df, columns, output_file):\n",
    "    '''\n",
    "    The function takes a dataframe and output the values in all columns in as values separated with spaces.\n",
    "    \n",
    "    Arguments:\n",
    "        pt_df - dataframe with patient data\n",
    "        columns - columns with data to include\n",
    "        output_file - name of output file\n",
    "    Returns:\n",
    "        None\n",
    "    '''\n",
    "    \n",
    "    # select only columns of interest\n",
    "    pt_df = pt_df[columns].copy()\n",
    "    \n",
    "    # loop through all columns\n",
    "    for col in columns:\n",
    "        \n",
    "        #check if column contains list\n",
    "        if isinstance(pt_df[col].reset_index(drop=True)[0], list):\n",
    "            #print(col,\" is a list\")\n",
    "               \n",
    "            pt_df[col] = pt_df[col].apply(lambda x: sorted(x))     \n",
    "                \n",
    "            # convert list to string\n",
    "            pt_df[col] = pt_df[col].apply(lambda x: \" \".join(x))\n",
    "\n",
    "        else:\n",
    "            #print(col,\" is not a list\")\n",
    "            \n",
    "            # convert values to string\n",
    "            pt_df[col] = pt_df[col].apply(lambda x: str(x))\n",
    "            \n",
    "    \n",
    "    # merge columns\n",
    "    pt_df = pt_df.apply(lambda x: \" \".join(x), axis=1)\n",
    "    \n",
    "    pt_df.to_csv(output_file,index=False)\n",
    "    \n",
    "    #return pt_df\n",
    "    "
   ]
  },
  {
   "cell_type": "markdown",
   "metadata": {},
   "source": [
    "## Write out data files"
   ]
  },
  {
   "cell_type": "code",
   "execution_count": 97,
   "metadata": {},
   "outputs": [],
   "source": [
    "ICD_cols = ['AGE','ECODE','PCODES','DCODES']\n",
    "AIS_cols = ['AIS05CODE']"
   ]
  },
  {
   "cell_type": "code",
   "execution_count": 98,
   "metadata": {},
   "outputs": [],
   "source": [
    "# calc number of test cases\n",
    "num_test = round(len(pt_df)*test_percent)"
   ]
  },
  {
   "cell_type": "code",
   "execution_count": 33,
   "metadata": {},
   "outputs": [],
   "source": [
    "# ICD files\n",
    "write_pt_dat(pt_df[:num_test], ICD_cols, \"../Data/test_icd_pre_I9_A05.csv\")\n",
    "write_pt_dat(pt_df[num_test:(num_test+validation_num)], ICD_cols, \"../Data/val_icd_pre_I9_A05.csv\")\n",
    "write_pt_dat(pt_df[(num_test+validation_num):], ICD_cols, \"../Data/train_icd_pre_I9_A05.csv\")\n",
    "\n",
    "write_pt_dat(pt_df[:num_test], AIS_cols, \"../Data/test_ais_pre_I9_A05.csv\")\n",
    "write_pt_dat(pt_df[num_test:(num_test+validation_num)], AIS_cols, \"../Data/val_ais_pre_I9_A05.csv\")\n",
    "write_pt_dat(pt_df[(num_test+validation_num):], AIS_cols, \"../Data/train_ais_pre_I9_A05.csv\")"
   ]
  },
  {
   "cell_type": "code",
   "execution_count": 99,
   "metadata": {},
   "outputs": [],
   "source": [
    "# ICD files if categorizing age\n",
    "write_pt_dat(pt_df[:num_test], ICD_cols, \"../Data/test_icd_agecat_I9_A05.csv\")\n",
    "write_pt_dat(pt_df[num_test:(num_test+validation_num)], ICD_cols, \"../Data/val_icd_agecat_I9_A05.csv\")\n",
    "write_pt_dat(pt_df[(num_test+validation_num):], ICD_cols, \"../Data/train_icd_agecat_I9_A05.csv\")\n",
    "\n",
    "write_pt_dat(pt_df[:num_test], AIS_cols, \"../Data/test_ais_agecat_I9_A05.csv\")\n",
    "write_pt_dat(pt_df[num_test:(num_test+validation_num)], AIS_cols, \"../Data/val_ais_agecat_I9_A05.csv\")\n",
    "write_pt_dat(pt_df[(num_test+validation_num):], AIS_cols, \"../Data/train_ais_agecat_I9_A05.csv\")"
   ]
  },
  {
   "cell_type": "code",
   "execution_count": null,
   "metadata": {},
   "outputs": [],
   "source": []
  },
  {
   "cell_type": "code",
   "execution_count": 34,
   "metadata": {},
   "outputs": [
    {
     "name": "stdout",
     "output_type": "stream",
     "text": [
      "CPU times: user 31.5 s, sys: 236 ms, total: 31.7 s\n",
      "Wall time: 31.7 s\n"
     ]
    }
   ],
   "source": [
    "%%time\n",
    "temp = pt_df.copy()\n",
    "\n",
    "cols = ['AGE','ECODE','PCODES','DCODES','AIS05CODE']\n",
    "\n",
    "temp = write_pt_dat(temp, cols, 'test')"
   ]
  },
  {
   "cell_type": "code",
   "execution_count": 100,
   "metadata": {},
   "outputs": [
    {
     "data": {
      "text/html": [
       "<div>\n",
       "<style scoped>\n",
       "    .dataframe tbody tr th:only-of-type {\n",
       "        vertical-align: middle;\n",
       "    }\n",
       "\n",
       "    .dataframe tbody tr th {\n",
       "        vertical-align: top;\n",
       "    }\n",
       "\n",
       "    .dataframe thead th {\n",
       "        text-align: right;\n",
       "    }\n",
       "</style>\n",
       "<table border=\"1\" class=\"dataframe\">\n",
       "  <thead>\n",
       "    <tr style=\"text-align: right;\">\n",
       "      <th></th>\n",
       "      <th>INC_KEY</th>\n",
       "      <th>AGE</th>\n",
       "      <th>YOADMIT</th>\n",
       "      <th>ECODE</th>\n",
       "      <th>PCODES</th>\n",
       "      <th>DCODES</th>\n",
       "      <th>AIS05CODE</th>\n",
       "    </tr>\n",
       "  </thead>\n",
       "  <tbody>\n",
       "    <tr>\n",
       "      <th>0</th>\n",
       "      <td>14000000</td>\n",
       "      <td>A70_79</td>\n",
       "      <td>2013</td>\n",
       "      <td>E880.9</td>\n",
       "      <td>[P87.03, P87.44]</td>\n",
       "      <td>[D850.0]</td>\n",
       "      <td>[161001]</td>\n",
       "    </tr>\n",
       "    <tr>\n",
       "      <th>1</th>\n",
       "      <td>14000002</td>\n",
       "      <td>A50_59</td>\n",
       "      <td>2013</td>\n",
       "      <td>E884.9</td>\n",
       "      <td>[P-2]</td>\n",
       "      <td>[D807.03, D805.4, D805.2]</td>\n",
       "      <td>[650416, 650630, 450203]</td>\n",
       "    </tr>\n",
       "    <tr>\n",
       "      <th>2</th>\n",
       "      <td>14000003</td>\n",
       "      <td>A60_69</td>\n",
       "      <td>2013</td>\n",
       "      <td>E885.9</td>\n",
       "      <td>[P79.35, P87.03]</td>\n",
       "      <td>[D820.21]</td>\n",
       "      <td>[853151]</td>\n",
       "    </tr>\n",
       "    <tr>\n",
       "      <th>3</th>\n",
       "      <td>14000004</td>\n",
       "      <td>A50_59</td>\n",
       "      <td>2013</td>\n",
       "      <td>E881.0</td>\n",
       "      <td>[P88.38, P88.01]</td>\n",
       "      <td>[D825.20, D823.01, D805.4]</td>\n",
       "      <td>[857200, 650616, 854441]</td>\n",
       "    </tr>\n",
       "    <tr>\n",
       "      <th>4</th>\n",
       "      <td>14000005</td>\n",
       "      <td>A30_39</td>\n",
       "      <td>2013</td>\n",
       "      <td>E986</td>\n",
       "      <td>[P54.11]</td>\n",
       "      <td>[D879.4]</td>\n",
       "      <td>[516000]</td>\n",
       "    </tr>\n",
       "  </tbody>\n",
       "</table>\n",
       "</div>"
      ],
      "text/plain": [
       "    INC_KEY     AGE  YOADMIT   ECODE            PCODES  \\\n",
       "0  14000000  A70_79     2013  E880.9  [P87.03, P87.44]   \n",
       "1  14000002  A50_59     2013  E884.9             [P-2]   \n",
       "2  14000003  A60_69     2013  E885.9  [P79.35, P87.03]   \n",
       "3  14000004  A50_59     2013  E881.0  [P88.38, P88.01]   \n",
       "4  14000005  A30_39     2013    E986          [P54.11]   \n",
       "\n",
       "                       DCODES                 AIS05CODE  \n",
       "0                    [D850.0]                  [161001]  \n",
       "1   [D807.03, D805.4, D805.2]  [650416, 650630, 450203]  \n",
       "2                   [D820.21]                  [853151]  \n",
       "3  [D825.20, D823.01, D805.4]  [857200, 650616, 854441]  \n",
       "4                    [D879.4]                  [516000]  "
      ]
     },
     "execution_count": 100,
     "metadata": {},
     "output_type": "execute_result"
    }
   ],
   "source": [
    "pt_df.head(5)"
   ]
  },
  {
   "cell_type": "code",
   "execution_count": null,
   "metadata": {},
   "outputs": [],
   "source": []
  }
 ],
 "metadata": {
  "kernelspec": {
   "display_name": "Python 3",
   "language": "python",
   "name": "python3"
  },
  "language_info": {
   "codemirror_mode": {
    "name": "ipython",
    "version": 3
   },
   "file_extension": ".py",
   "mimetype": "text/x-python",
   "name": "python",
   "nbconvert_exporter": "python",
   "pygments_lexer": "ipython3",
   "version": "3.8.8"
  }
 },
 "nbformat": 4,
 "nbformat_minor": 4
}
