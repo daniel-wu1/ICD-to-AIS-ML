{
 "cells": [
  {
   "cell_type": "markdown",
   "metadata": {},
   "source": [
    "# Project: ICD-AIS conversion using Deep Learning\n",
    "\n",
    "This script creates sparse matrices for the input and output files"
   ]
  },
  {
   "cell_type": "markdown",
   "metadata": {},
   "source": [
    "## Setup"
   ]
  },
  {
   "cell_type": "code",
   "execution_count": 1,
   "metadata": {},
   "outputs": [],
   "source": [
    "import numpy as np\n",
    "import pandas as pd\n",
    "import sqlite3\n",
    "import random\n",
    "import math\n",
    "import torch\n",
    "import sys"
   ]
  },
  {
   "cell_type": "code",
   "execution_count": 47,
   "metadata": {},
   "outputs": [],
   "source": [
    "ais_train_file = \"../Data/train_ais_agecat_I9_A05.csv\"\n",
    "icd_train_file =\"../Data/train_icd_agecat_I9_A05.csv\"\n",
    "ais_val_file = \"../Data/val_ais_agecat_I9_A05.csv\"\n",
    "icd_val_file =\"../Data/val_icd_agecat_I9_A05.csv\"\n",
    "ais_test_file = \"../Data/test_ais_agecat_I9_A05.csv\"\n",
    "icd_test_file =\"../Data/test_icd_agecat_I9_A05.csv\"\n",
    "ais_codes_file = \"../Data/AIS08_codes.csv\""
   ]
  },
  {
   "cell_type": "markdown",
   "metadata": {},
   "source": [
    "## Load data"
   ]
  },
  {
   "cell_type": "code",
   "execution_count": 58,
   "metadata": {},
   "outputs": [],
   "source": [
    "icd_train = pd.read_csv(icd_train_file, header=None, names=[\"icd_code\"])\n",
    "icd_val = pd.read_csv(icd_val_file, header=None, names=[\"icd_code\"])\n",
    "icd_test = pd.read_csv(icd_test_file, header=None, names=[\"icd_code\"])\n",
    "ais_train = pd.read_csv(ais_train_file, header=None, names=[\"icd_code\"])\n",
    "ais_val = pd.read_csv(ais_val_file, header=None, names=[\"icd_code\"])\n",
    "ais_test = pd.read_csv(ais_test_file, header=None, names=[\"icd_code\"])\n",
    "\n",
    "# load AIS codes\n",
    "ais_map = pd.read_csv(ais_codes_file, header=0, encoding='iso-8859-1')"
   ]
  },
  {
   "cell_type": "markdown",
   "metadata": {},
   "source": [
    "## Extract all unique patient ICD and AIS codes"
   ]
  },
  {
   "cell_type": "code",
   "execution_count": 27,
   "metadata": {},
   "outputs": [],
   "source": [
    "def get_unique_codes(dfs):\n",
    "    \n",
    "    # empty list for codes\n",
    "    unique_codes = []\n",
    "    \n",
    "    # loop through all dataframes\n",
    "    for df in dfs:\n",
    "        \n",
    "        # loop through all rows\n",
    "        for i in range(0,len(df)):\n",
    "          \n",
    "             # extract line and split into \n",
    "            line = df.iloc[i].str.split(\" \").values[0]\n",
    "            \n",
    "            # loop through terms\n",
    "            for j in line:\n",
    "                \n",
    "                # check if terms in already in dictionary\n",
    "                if j not in unique_codes:\n",
    "    \n",
    "                    # add term to dictionary\n",
    "                    unique_codes.append(j)\n",
    "\n",
    "    # sort values\n",
    "    unique_codes.sort()\n",
    "    \n",
    "    return unique_codes\n",
    "            "
   ]
  },
  {
   "cell_type": "code",
   "execution_count": 39,
   "metadata": {},
   "outputs": [
    {
     "name": "stdout",
     "output_type": "stream",
     "text": [
      "CPU times: user 6min 35s, sys: 4.85 s, total: 6min 40s\n",
      "Wall time: 6min 37s\n"
     ]
    }
   ],
   "source": [
    "%%time\n",
    "# get unique icd codes from all sets\n",
    "icd_codes = get_unique_codes([icd_train, icd_val, icd_test])"
   ]
  },
  {
   "cell_type": "code",
   "execution_count": 42,
   "metadata": {},
   "outputs": [],
   "source": [
    "# create dictionary of ICD codes\n",
    "icd_dict = dict(zip(icd_codes, list(range(len(icd_codes)))))"
   ]
  },
  {
   "cell_type": "code",
   "execution_count": 64,
   "metadata": {},
   "outputs": [
    {
     "name": "stdout",
     "output_type": "stream",
     "text": [
      "CPU times: user 4min 31s, sys: 4.28 s, total: 4min 36s\n",
      "Wall time: 4min 32s\n"
     ]
    }
   ],
   "source": [
    "%%time\n",
    "# get unique ais codes from all sets\n",
    "ais_codes = get_unique_codes([ais_train, ais_val, ais_test])"
   ]
  },
  {
   "cell_type": "code",
   "execution_count": 77,
   "metadata": {},
   "outputs": [],
   "source": [
    "# create dictionary of AIS codes\n",
    "ais_dict = dict(zip(ais_codes, list(range(len(ais_codes)))))"
   ]
  },
  {
   "cell_type": "markdown",
   "metadata": {},
   "source": [
    "## Create sparse matrix"
   ]
  },
  {
   "cell_type": "code",
   "execution_count": 80,
   "metadata": {},
   "outputs": [],
   "source": [
    "def decode_df_coo(df, dic):\n",
    "        \n",
    "    # decoded array\n",
    "    row = []\n",
    "    col = []\n",
    "    data = []\n",
    "    \n",
    "    # loop through all rows\n",
    "    for i in range(0,len(df)):\n",
    "        \n",
    "        # extract line and split into \n",
    "        line = df.iloc[i].str.split(\" \").values[0]\n",
    "        \n",
    "        # decoded line\n",
    "        line_d = []\n",
    "        \n",
    "        # loop through terms\n",
    "        for j in line:\n",
    "                  \n",
    "            # create new decoded line\n",
    "            row.append(i)\n",
    "            col.append(dic[j])\n",
    "            data.append(1)\n",
    "    \n",
    "    # return dictionary and decoded array\n",
    "    return dic, row, col, data"
   ]
  },
  {
   "cell_type": "code",
   "execution_count": 92,
   "metadata": {},
   "outputs": [
    {
     "name": "stdout",
     "output_type": "stream",
     "text": [
      "CPU times: user 3min 40s, sys: 3.43 s, total: 3min 44s\n",
      "Wall time: 3min 41s\n"
     ]
    }
   ],
   "source": [
    "%%time\n",
    "dic, row, col, data = decode_df_coo(icd_train, icd_dict)"
   ]
  },
  {
   "cell_type": "code",
   "execution_count": 93,
   "metadata": {},
   "outputs": [
    {
     "name": "stdout",
     "output_type": "stream",
     "text": [
      "CPU times: user 3min 34s, sys: 3.22 s, total: 3min 37s\n",
      "Wall time: 3min 34s\n"
     ]
    }
   ],
   "source": [
    "%%time\n",
    "dic, row, col, data = decode_df_coo(ais_train, ais_dict)"
   ]
  },
  {
   "cell_type": "code",
   "execution_count": 95,
   "metadata": {},
   "outputs": [],
   "source": [
    "s = torch.sparse_coo_tensor([row,col], data)"
   ]
  },
  {
   "cell_type": "code",
   "execution_count": 96,
   "metadata": {},
   "outputs": [
    {
     "data": {
      "text/plain": [
       "10362"
      ]
     },
     "execution_count": 96,
     "metadata": {},
     "output_type": "execute_result"
    }
   ],
   "source": [
    "len(icd_codes)"
   ]
  },
  {
   "cell_type": "code",
   "execution_count": 97,
   "metadata": {},
   "outputs": [
    {
     "data": {
      "text/plain": [
       "tensor(indices=tensor([[      0,       0,       0,  ..., 1099358, 1099359,\n",
       "                        1099360],\n",
       "                       [     13,     750,    1237,  ...,      12,    1562,\n",
       "                           1114]]),\n",
       "       values=tensor([1, 1, 1,  ..., 1, 1, 1]),\n",
       "       size=(1099361, 1986), nnz=3585129, layout=torch.sparse_coo)"
      ]
     },
     "execution_count": 97,
     "metadata": {},
     "output_type": "execute_result"
    }
   ],
   "source": [
    "s"
   ]
  },
  {
   "cell_type": "code",
   "execution_count": null,
   "metadata": {},
   "outputs": [],
   "source": []
  },
  {
   "cell_type": "code",
   "execution_count": null,
   "metadata": {},
   "outputs": [],
   "source": []
  },
  {
   "cell_type": "code",
   "execution_count": null,
   "metadata": {},
   "outputs": [],
   "source": []
  }
 ],
 "metadata": {
  "kernelspec": {
   "display_name": "Python 3",
   "language": "python",
   "name": "python3"
  },
  "language_info": {
   "codemirror_mode": {
    "name": "ipython",
    "version": 3
   },
   "file_extension": ".py",
   "mimetype": "text/x-python",
   "name": "python",
   "nbconvert_exporter": "python",
   "pygments_lexer": "ipython3",
   "version": "3.8.8"
  }
 },
 "nbformat": 4,
 "nbformat_minor": 4
}
