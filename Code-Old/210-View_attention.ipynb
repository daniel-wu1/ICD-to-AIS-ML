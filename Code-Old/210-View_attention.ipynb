{
 "cells": [
  {
   "cell_type": "markdown",
   "metadata": {},
   "source": [
    "# Project: ICD-AIS conversion using Deep Learning\n",
    "\n",
    "This script examines the attention matrix of the model."
   ]
  },
  {
   "cell_type": "code",
   "execution_count": 1,
   "metadata": {},
   "outputs": [],
   "source": [
    "import numpy as np\n",
    "import pandas as pd\n",
    "import matplotlib.pyplot as plt\n",
    "import icd9cms\n",
    "import icd10\n",
    "import math"
   ]
  },
  {
   "cell_type": "markdown",
   "metadata": {},
   "source": [
    "## Load data"
   ]
  },
  {
   "cell_type": "code",
   "execution_count": 3,
   "metadata": {},
   "outputs": [],
   "source": [
    "# load attention file\n",
    "attn_file = \"../Results/test_ais_pred_early_stop-100-attn.csv\"\n",
    "#attn_file = \"../Results/train_ais_pred_early_stop-100-attn.csv\"\n",
    "#attn_file = \"../Results/test_ais_pred_early_stop-d_only-100-attn.csv\"\n",
    "\n",
    "with open(attn_file) as f:\n",
    "    lines = f.readlines()"
   ]
  },
  {
   "cell_type": "code",
   "execution_count": 4,
   "metadata": {},
   "outputs": [],
   "source": [
    "# load actual AIS codes\n",
    "ais_file = \"../Data/test_ais_pre_I9_A05.csv\"\n",
    "#ais_file = \"../Data/train_ais_pre_I9_A05.csv\"\n",
    "\n",
    "ais = pd.read_csv(ais_file, header=None).rename(columns={0:'AIS_actual'})"
   ]
  },
  {
   "cell_type": "code",
   "execution_count": 5,
   "metadata": {},
   "outputs": [],
   "source": [
    "# load AIS codes\n",
    "ais_lu_file = \"../Data/AIS08_codes.csv\"\n",
    "\n",
    "# load AIS codes\n",
    "ais_lu = pd.read_csv(ais_lu_file, header=0, encoding='iso-8859-1')\n",
    "\n",
    "# get predot code\n",
    "ais_lu['predot'] = ais_lu.code.apply(lambda x: math.floor(x))\n",
    "\n",
    "# make dictionary of codes\n",
    "ais_dot = pd.Series(ais_lu.code.values, index=ais_lu.predot).to_dict()\n",
    "ais_dot[0] = 0.0\n",
    "ais_dot[-1] = -1.0"
   ]
  },
  {
   "cell_type": "markdown",
   "metadata": {},
   "source": [
    "## Parse file"
   ]
  },
  {
   "cell_type": "code",
   "execution_count": 6,
   "metadata": {},
   "outputs": [],
   "source": [
    "# remove first two lines\n",
    "lines = lines[3:]"
   ]
  },
  {
   "cell_type": "code",
   "execution_count": 7,
   "metadata": {},
   "outputs": [],
   "source": [
    "attn_mat = []\n",
    "\n",
    "for i,l in enumerate(lines):\n",
    "    #print(i,l)\n",
    "    \n",
    "    # check if new attention matrix\n",
    "    if l.startswith(\"[2022\"):\n",
    "        \n",
    "        # remove timestamp and newline\n",
    "        #l = l[l.find('D'):]\n",
    "        l = l[l.find('A'):]\n",
    "        l = l[:l.find('\\\\')]\n",
    "        \n",
    "        # get icd codes\n",
    "        icd_codes = list(filter(None, l.split(\" \")))\n",
    "        \n",
    "        # create data frame\n",
    "        attn_df = pd.DataFrame(columns=['AIS']+icd_codes)\n",
    "    \n",
    "    # else this is not a new matrix\n",
    "    else:\n",
    "        # check if not empty line\n",
    "        if l[0]!='\\n':\n",
    "            # get AIS code and attention weights\n",
    "            ais_codes = list(filter(None, l.split(\" \")))\n",
    "\n",
    "            # remove asterisk\n",
    "            ais_codes = [s.replace('*','') for s in ais_codes]\n",
    "\n",
    "            # remove newline\n",
    "            ais_codes = ais_codes[:len(ais_codes)-1]\n",
    "            \n",
    "            # convert weights to floats\n",
    "            ais_codes = [ais_codes[0]] + [float(x) for x in ais_codes[1:len(ais_codes)]]\n",
    "            \n",
    "            # append to df\n",
    "            attn_df.loc[len(attn_df)] = ais_codes\n",
    "        \n",
    "        # end of matrix, store\n",
    "        else:\n",
    "            #display(attn_df)\n",
    "            \n",
    "            attn_mat.append(attn_df)"
   ]
  },
  {
   "cell_type": "code",
   "execution_count": 8,
   "metadata": {},
   "outputs": [
    {
     "data": {
      "text/plain": [
       "['AVG', 'SCORE:', '-0.7922,', 'PRED', 'PPL:', '2.2082']"
      ]
     },
     "execution_count": 8,
     "metadata": {},
     "output_type": "execute_result"
    }
   ],
   "source": [
    "icd_codes"
   ]
  },
  {
   "cell_type": "code",
   "execution_count": 9,
   "metadata": {},
   "outputs": [
    {
     "data": {
      "text/plain": [
       "['</s>',\n",
       " 0.1271546,\n",
       " 0.1391219,\n",
       " 0.1410825,\n",
       " 0.1386032,\n",
       " 0.1353844,\n",
       " 0.1250679,\n",
       " 0.0606395,\n",
       " 0.0600177,\n",
       " 0.0729281]"
      ]
     },
     "execution_count": 9,
     "metadata": {},
     "output_type": "execute_result"
    }
   ],
   "source": [
    "ais_codes"
   ]
  },
  {
   "cell_type": "code",
   "execution_count": 10,
   "metadata": {},
   "outputs": [
    {
     "data": {
      "text/plain": [
       "'AVG SCORE: -0.7922, PRED PPL: 2.2082'"
      ]
     },
     "execution_count": 10,
     "metadata": {},
     "output_type": "execute_result"
    }
   ],
   "source": [
    "l"
   ]
  },
  {
   "cell_type": "markdown",
   "metadata": {},
   "source": [
    "## Function to display attention matrix"
   ]
  },
  {
   "cell_type": "code",
   "execution_count": 11,
   "metadata": {},
   "outputs": [],
   "source": [
    "def display_attn(attn_df, showmat=True, colorbar=True, d_only=False):\n",
    "    '''\n",
    "    This function displays attention weights for translations.\n",
    "    Parameters:\n",
    "        showmat - print attention dataframe\n",
    "        attn_df - dataframe with attention weights\n",
    "        colorbar - whether to add colorbar\n",
    "    Returns:\n",
    "        None - outputs matrix and plots\n",
    "    '''\n",
    "    \n",
    "    # display matrix as dataframe\n",
    "    if showmat:\n",
    "        display(attn_df)\n",
    "    \n",
    "    # remove all non-D-codes if applicable\n",
    "    if d_only:\n",
    "        d_cols = [x for x in attn_df.columns  if x.startswith('D')]\n",
    "        \n",
    "        attn_df = attn_df[['AIS']+d_cols]\n",
    "        \n",
    "    # get weights\n",
    "    weights = attn_df.iloc[:,1:].values\n",
    "\n",
    "    # get icd and ais codes\n",
    "    icd_codes = attn_df.columns[1:]\n",
    "    ais_codes = attn_df.AIS.values      \n",
    "    \n",
    "    # display matrix\n",
    "    plt.matshow(weights, cmap=plt.get_cmap('gray'))\n",
    "\n",
    "    # add labels\n",
    "    plt.xticks(np.arange(0, len(icd_codes), 1), icd_codes)\n",
    "    plt.yticks(np.arange(0, len(ais_codes), 1), ais_codes)\n",
    "    \n",
    "    # add color bar if applicable\n",
    "    if colorbar:\n",
    "        plt.colorbar()\n",
    "        \n",
    "    plt.show()"
   ]
  },
  {
   "cell_type": "markdown",
   "metadata": {},
   "source": [
    "## Decoding functions"
   ]
  },
  {
   "cell_type": "code",
   "execution_count": 12,
   "metadata": {},
   "outputs": [],
   "source": [
    "def icd_to_text(icd_list, icd_version=9):\n",
    "    '''\n",
    "    This script takes a list of ICD codes and returns the text diagnoses.\n",
    "    Parameters:\n",
    "        icd_list - ICD codes to translate\n",
    "    Returns:\n",
    "        list of text diagnoses\n",
    "    '''\n",
    "    \n",
    "    # list for text\n",
    "    icd_txt = []\n",
    "    \n",
    "    # loop through all codes\n",
    "    for code in icd_list:\n",
    "        \n",
    "        # check version of ICD\n",
    "        if icd_version==9:\n",
    "            \n",
    "            # remove prefix from non-E/P codes\n",
    "            if (code[0] == 'E') or (code[0] == 'P'):\n",
    "                \n",
    "                icd_trans = icd9cms.search(code)\n",
    "            else:\n",
    "                \n",
    "                icd_trans = icd9cms.search(code[1:])\n",
    "            \n",
    "            # check if not valid code\n",
    "            if icd_trans == None:\n",
    "                \n",
    "                icd_txt.append(code + ': code not found')\n",
    "                \n",
    "            else:\n",
    "                \n",
    "                # if no long description use short description\n",
    "                if icd_trans.long_desc == None:\n",
    "                    \n",
    "                    icd_txt.append(code + \": \" + icd_trans.short_desc)\n",
    "                    \n",
    "                else:\n",
    "                    icd_txt.append(code + \": \" + icd_trans.long_desc)\n",
    "    \n",
    "    return icd_txt"
   ]
  },
  {
   "cell_type": "code",
   "execution_count": 13,
   "metadata": {},
   "outputs": [],
   "source": [
    "def icd_mat(mat, icd_version=9):\n",
    "    \n",
    "    icd_codes = mat.columns[1:]\n",
    "    \n",
    "    print(icd_codes)\n",
    "    \n",
    "    return icd_to_text(icd_codes)"
   ]
  },
  {
   "cell_type": "code",
   "execution_count": 14,
   "metadata": {},
   "outputs": [
    {
     "name": "stdout",
     "output_type": "stream",
     "text": [
      "Index(['A79', 'E880.9', 'P87.03', 'P87.44', 'D850.0'], dtype='object')\n"
     ]
    },
    {
     "data": {
      "text/plain": [
       "['A79: code not found',\n",
       " 'E880.9: Accidental fall on or from other stairs or steps',\n",
       " 'P87.03: code not found',\n",
       " 'P87.44: code not found',\n",
       " 'D850.0: Concussion with no loss of consciousness']"
      ]
     },
     "execution_count": 14,
     "metadata": {},
     "output_type": "execute_result"
    }
   ],
   "source": [
    "icd_mat(attn_mat[0])"
   ]
  },
  {
   "cell_type": "code",
   "execution_count": 15,
   "metadata": {},
   "outputs": [],
   "source": [
    "def ais_to_text(ais_list, ais_version='2005'):\n",
    "    '''\n",
    "    This script takes a list of AIS codes and returns the text diagnoses.\n",
    "    Parameters:\n",
    "       ais_list - AIS codes to translate\n",
    "    Returns:\n",
    "        list of text diagnoses\n",
    "    '''\n",
    "    \n",
    "    # list for text\n",
    "    ais_txt = []\n",
    "    \n",
    "    # loop through all codes\n",
    "    for code in ais_list:    \n",
    "\n",
    "        if code != '</s>':\n",
    "            \n",
    "            # convert code to number\n",
    "            code = int(code)\n",
    "        \n",
    "            if ais_version=='2005':\n",
    "            \n",
    "                if code in ais_lu.predot.values:\n",
    "                \n",
    "                    ais_txt.append(str(code) + \": \" + ais_lu[ais_lu.predot==code].Description.values[0])\n",
    "                \n",
    "                else:\n",
    "                \n",
    "                    ais_txt.append(str(code) + \": code not found\")\n",
    "                \n",
    "    return ais_txt"
   ]
  },
  {
   "cell_type": "code",
   "execution_count": 16,
   "metadata": {},
   "outputs": [],
   "source": [
    "def ais_split(ais_str, ais_version='2005'):\n",
    "\n",
    "    ais_split = ais_str.values[0].split(\" \")\n",
    "\n",
    "    ais_num = [int(x) for x in ais_split]\n",
    "\n",
    "    return ais_to_text(ais_num)"
   ]
  },
  {
   "cell_type": "code",
   "execution_count": 17,
   "metadata": {},
   "outputs": [
    {
     "data": {
      "text/html": [
       "<div>\n",
       "<style scoped>\n",
       "    .dataframe tbody tr th:only-of-type {\n",
       "        vertical-align: middle;\n",
       "    }\n",
       "\n",
       "    .dataframe tbody tr th {\n",
       "        vertical-align: top;\n",
       "    }\n",
       "\n",
       "    .dataframe thead th {\n",
       "        text-align: right;\n",
       "    }\n",
       "</style>\n",
       "<table border=\"1\" class=\"dataframe\">\n",
       "  <thead>\n",
       "    <tr style=\"text-align: right;\">\n",
       "      <th></th>\n",
       "      <th>AIS</th>\n",
       "      <th>A79</th>\n",
       "      <th>E880.9</th>\n",
       "      <th>P87.03</th>\n",
       "      <th>P87.44</th>\n",
       "      <th>D850.0</th>\n",
       "    </tr>\n",
       "  </thead>\n",
       "  <tbody>\n",
       "    <tr>\n",
       "      <th>0</th>\n",
       "      <td>161001</td>\n",
       "      <td>0.225491</td>\n",
       "      <td>0.248663</td>\n",
       "      <td>0.232821</td>\n",
       "      <td>0.238867</td>\n",
       "      <td>0.054158</td>\n",
       "    </tr>\n",
       "    <tr>\n",
       "      <th>1</th>\n",
       "      <td>&lt;/s&gt;</td>\n",
       "      <td>0.244717</td>\n",
       "      <td>0.227772</td>\n",
       "      <td>0.220282</td>\n",
       "      <td>0.209790</td>\n",
       "      <td>0.097438</td>\n",
       "    </tr>\n",
       "  </tbody>\n",
       "</table>\n",
       "</div>"
      ],
      "text/plain": [
       "      AIS       A79    E880.9    P87.03    P87.44    D850.0\n",
       "0  161001  0.225491  0.248663  0.232821  0.238867  0.054158\n",
       "1    </s>  0.244717  0.227772  0.220282  0.209790  0.097438"
      ]
     },
     "execution_count": 17,
     "metadata": {},
     "output_type": "execute_result"
    }
   ],
   "source": [
    "attn_mat[0]"
   ]
  },
  {
   "cell_type": "markdown",
   "metadata": {},
   "source": [
    "## Visualization of Attention"
   ]
  },
  {
   "cell_type": "code",
   "execution_count": 18,
   "metadata": {},
   "outputs": [
    {
     "data": {
      "text/html": [
       "<div>\n",
       "<style scoped>\n",
       "    .dataframe tbody tr th:only-of-type {\n",
       "        vertical-align: middle;\n",
       "    }\n",
       "\n",
       "    .dataframe tbody tr th {\n",
       "        vertical-align: top;\n",
       "    }\n",
       "\n",
       "    .dataframe thead th {\n",
       "        text-align: right;\n",
       "    }\n",
       "</style>\n",
       "<table border=\"1\" class=\"dataframe\">\n",
       "  <thead>\n",
       "    <tr style=\"text-align: right;\">\n",
       "      <th></th>\n",
       "      <th>AIS</th>\n",
       "      <th>A73</th>\n",
       "      <th>E816.0</th>\n",
       "      <th>P87.03</th>\n",
       "      <th>P87.04</th>\n",
       "      <th>P87.41</th>\n",
       "      <th>P88.01</th>\n",
       "      <th>P88.38</th>\n",
       "      <th>P88.76</th>\n",
       "      <th>D811.02</th>\n",
       "      <th>D852.02</th>\n",
       "      <th>D873.1</th>\n",
       "    </tr>\n",
       "  </thead>\n",
       "  <tbody>\n",
       "    <tr>\n",
       "      <th>0</th>\n",
       "      <td>110604</td>\n",
       "      <td>0.092528</td>\n",
       "      <td>0.119917</td>\n",
       "      <td>0.109110</td>\n",
       "      <td>0.092675</td>\n",
       "      <td>0.093355</td>\n",
       "      <td>0.097251</td>\n",
       "      <td>0.119935</td>\n",
       "      <td>0.240408</td>\n",
       "      <td>0.027571</td>\n",
       "      <td>0.005277</td>\n",
       "      <td>0.001972</td>\n",
       "    </tr>\n",
       "    <tr>\n",
       "      <th>1</th>\n",
       "      <td>140694</td>\n",
       "      <td>0.128362</td>\n",
       "      <td>0.132512</td>\n",
       "      <td>0.120473</td>\n",
       "      <td>0.097444</td>\n",
       "      <td>0.108797</td>\n",
       "      <td>0.111909</td>\n",
       "      <td>0.113782</td>\n",
       "      <td>0.131133</td>\n",
       "      <td>0.043813</td>\n",
       "      <td>0.005875</td>\n",
       "      <td>0.005901</td>\n",
       "    </tr>\n",
       "    <tr>\n",
       "      <th>2</th>\n",
       "      <td>750951</td>\n",
       "      <td>0.110974</td>\n",
       "      <td>0.128694</td>\n",
       "      <td>0.114371</td>\n",
       "      <td>0.110246</td>\n",
       "      <td>0.105610</td>\n",
       "      <td>0.106264</td>\n",
       "      <td>0.113274</td>\n",
       "      <td>0.145717</td>\n",
       "      <td>0.044379</td>\n",
       "      <td>0.013423</td>\n",
       "      <td>0.007048</td>\n",
       "    </tr>\n",
       "    <tr>\n",
       "      <th>3</th>\n",
       "      <td>&lt;/s&gt;</td>\n",
       "      <td>0.120796</td>\n",
       "      <td>0.118136</td>\n",
       "      <td>0.112890</td>\n",
       "      <td>0.100302</td>\n",
       "      <td>0.111275</td>\n",
       "      <td>0.112543</td>\n",
       "      <td>0.105012</td>\n",
       "      <td>0.079718</td>\n",
       "      <td>0.063600</td>\n",
       "      <td>0.046245</td>\n",
       "      <td>0.029484</td>\n",
       "    </tr>\n",
       "  </tbody>\n",
       "</table>\n",
       "</div>"
      ],
      "text/plain": [
       "      AIS       A73    E816.0    P87.03    P87.04    P87.41    P88.01  \\\n",
       "0  110604  0.092528  0.119917  0.109110  0.092675  0.093355  0.097251   \n",
       "1  140694  0.128362  0.132512  0.120473  0.097444  0.108797  0.111909   \n",
       "2  750951  0.110974  0.128694  0.114371  0.110246  0.105610  0.106264   \n",
       "3    </s>  0.120796  0.118136  0.112890  0.100302  0.111275  0.112543   \n",
       "\n",
       "     P88.38    P88.76   D811.02   D852.02    D873.1  \n",
       "0  0.119935  0.240408  0.027571  0.005277  0.001972  \n",
       "1  0.113782  0.131133  0.043813  0.005875  0.005901  \n",
       "2  0.113274  0.145717  0.044379  0.013423  0.007048  \n",
       "3  0.105012  0.079718  0.063600  0.046245  0.029484  "
      ]
     },
     "metadata": {},
     "output_type": "display_data"
    },
    {
     "data": {
      "image/png": "[encoded data removed]",
      "text/plain": [
       "<Figure size 792x288 with 2 Axes>"
      ]
     },
     "metadata": {
      "needs_background": "light"
     },
     "output_type": "display_data"
    },
    {
     "name": "stdout",
     "output_type": "stream",
     "text": [
      "Actual ICD:\n",
      "Index(['A73', 'E816.0', 'P87.03', 'P87.04', 'P87.41', 'P88.01', 'P88.38',\n",
      "       'P88.76', 'D811.02', 'D852.02', 'D873.1'],\n",
      "      dtype='object')\n"
     ]
    },
    {
     "data": {
      "text/plain": [
       "['A73: code not found',\n",
       " 'E816.0: Motor vehicle traffic accident due to loss of control, without collision on the highway, injuring driver of motor vehicle other than motorcycle',\n",
       " 'P87.03: code not found',\n",
       " 'P87.04: code not found',\n",
       " 'P87.41: code not found',\n",
       " 'P88.01: code not found',\n",
       " 'P88.38: code not found',\n",
       " 'P88.76: code not found',\n",
       " 'D811.02: Closed fracture of coracoid process of scapula',\n",
       " 'D852.02: Subarachnoid hemorrhage following injury without mention of open intracranial wound, with brief [less than one hour] loss of consciousness',\n",
       " 'D873.1: Open wound of scalp, complicated']"
      ]
     },
     "metadata": {},
     "output_type": "display_data"
    },
    {
     "name": "stdout",
     "output_type": "stream",
     "text": [
      "Predicted AIS:\n",
      "2022-06-20 15:35:00,541: Note: NumExpr detected 28 cores but \"NUMEXPR_MAX_THREADS\" not set, so enforcing safe limit of 8.\n",
      "2022-06-20 15:35:00,543: NumExpr defaulting to 8 threads.\n"
     ]
    },
    {
     "data": {
      "text/plain": [
       "['110604: Scalp, laceration, major; >10cm long and into subcutaneous tissue',\n",
       " '140694: Cerebrum [includes basal ganglia, thalamus, putamen, globus pallidus], subarachnoid hemorrhage, not associated with coma >6 hours',\n",
       " '750951: Scapula fracture, body']"
      ]
     },
     "metadata": {},
     "output_type": "display_data"
    },
    {
     "name": "stdout",
     "output_type": "stream",
     "text": [
      "Actual AIS:\n"
     ]
    },
    {
     "data": {
      "text/plain": [
       "['110604: Scalp, laceration, major; >10cm long and into subcutaneous tissue',\n",
       " '140694: Cerebrum [includes basal ganglia, thalamus, putamen, globus pallidus], subarachnoid hemorrhage, not associated with coma >6 hours',\n",
       " '750961: Scapula fracture, neck with or without body']"
      ]
     },
     "metadata": {},
     "output_type": "display_data"
    }
   ],
   "source": [
    "i=9\n",
    "display_attn(attn_mat[i])\n",
    "print(\"Actual ICD:\")\n",
    "display(icd_mat(attn_mat[i]))\n",
    "print(\"Predicted AIS:\")\n",
    "display(ais_to_text(attn_mat[i].AIS.values))\n",
    "print(\"Actual AIS:\")\n",
    "display(ais_split(ais.iloc[i]))"
   ]
  },
  {
   "cell_type": "code",
   "execution_count": 19,
   "metadata": {},
   "outputs": [
    {
     "data": {
      "text/html": [
       "<div>\n",
       "<style scoped>\n",
       "    .dataframe tbody tr th:only-of-type {\n",
       "        vertical-align: middle;\n",
       "    }\n",
       "\n",
       "    .dataframe tbody tr th {\n",
       "        vertical-align: top;\n",
       "    }\n",
       "\n",
       "    .dataframe thead th {\n",
       "        text-align: right;\n",
       "    }\n",
       "</style>\n",
       "<table border=\"1\" class=\"dataframe\">\n",
       "  <thead>\n",
       "    <tr style=\"text-align: right;\">\n",
       "      <th></th>\n",
       "      <th>AIS</th>\n",
       "      <th>A56</th>\n",
       "      <th>E881.0</th>\n",
       "      <th>P88.01</th>\n",
       "      <th>P88.38</th>\n",
       "      <th>D805.4</th>\n",
       "      <th>D823.01</th>\n",
       "      <th>D825.20</th>\n",
       "    </tr>\n",
       "  </thead>\n",
       "  <tbody>\n",
       "    <tr>\n",
       "      <th>0</th>\n",
       "      <td>650620</td>\n",
       "      <td>0.167682</td>\n",
       "      <td>0.222366</td>\n",
       "      <td>0.195501</td>\n",
       "      <td>0.198129</td>\n",
       "      <td>0.109517</td>\n",
       "      <td>0.062476</td>\n",
       "      <td>0.044330</td>\n",
       "    </tr>\n",
       "    <tr>\n",
       "      <th>1</th>\n",
       "      <td>852004</td>\n",
       "      <td>0.169064</td>\n",
       "      <td>0.242405</td>\n",
       "      <td>0.212674</td>\n",
       "      <td>0.218114</td>\n",
       "      <td>0.077985</td>\n",
       "      <td>0.050904</td>\n",
       "      <td>0.028854</td>\n",
       "    </tr>\n",
       "    <tr>\n",
       "      <th>2</th>\n",
       "      <td>854471</td>\n",
       "      <td>0.195999</td>\n",
       "      <td>0.222185</td>\n",
       "      <td>0.201282</td>\n",
       "      <td>0.194855</td>\n",
       "      <td>0.091479</td>\n",
       "      <td>0.051200</td>\n",
       "      <td>0.043000</td>\n",
       "    </tr>\n",
       "    <tr>\n",
       "      <th>3</th>\n",
       "      <td>&lt;/s&gt;</td>\n",
       "      <td>0.182130</td>\n",
       "      <td>0.195848</td>\n",
       "      <td>0.180793</td>\n",
       "      <td>0.155171</td>\n",
       "      <td>0.109582</td>\n",
       "      <td>0.083505</td>\n",
       "      <td>0.092972</td>\n",
       "    </tr>\n",
       "  </tbody>\n",
       "</table>\n",
       "</div>"
      ],
      "text/plain": [
       "      AIS       A56    E881.0    P88.01    P88.38    D805.4   D823.01  \\\n",
       "0  650620  0.167682  0.222366  0.195501  0.198129  0.109517  0.062476   \n",
       "1  852004  0.169064  0.242405  0.212674  0.218114  0.077985  0.050904   \n",
       "2  854471  0.195999  0.222185  0.201282  0.194855  0.091479  0.051200   \n",
       "3    </s>  0.182130  0.195848  0.180793  0.155171  0.109582  0.083505   \n",
       "\n",
       "    D825.20  \n",
       "0  0.044330  \n",
       "1  0.028854  \n",
       "2  0.043000  \n",
       "3  0.092972  "
      ]
     },
     "metadata": {},
     "output_type": "display_data"
    },
    {
     "data": {
      "image/png": "[encoded data removed]",
      "text/plain": [
       "<Figure size 504x288 with 2 Axes>"
      ]
     },
     "metadata": {
      "needs_background": "light"
     },
     "output_type": "display_data"
    },
    {
     "name": "stdout",
     "output_type": "stream",
     "text": [
      "AIS_actual    650616 854441 857200\n",
      "Name: 3, dtype: object\n"
     ]
    }
   ],
   "source": [
    "i=3\n",
    "display_attn(attn_mat[i])\n",
    "print(ais.iloc[i])"
   ]
  },
  {
   "cell_type": "code",
   "execution_count": 20,
   "metadata": {},
   "outputs": [
    {
     "data": {
      "text/html": [
       "<div>\n",
       "<style scoped>\n",
       "    .dataframe tbody tr th:only-of-type {\n",
       "        vertical-align: middle;\n",
       "    }\n",
       "\n",
       "    .dataframe tbody tr th {\n",
       "        vertical-align: top;\n",
       "    }\n",
       "\n",
       "    .dataframe thead th {\n",
       "        text-align: right;\n",
       "    }\n",
       "</style>\n",
       "<table border=\"1\" class=\"dataframe\">\n",
       "  <thead>\n",
       "    <tr style=\"text-align: right;\">\n",
       "      <th></th>\n",
       "      <th>AIS</th>\n",
       "      <th>A70</th>\n",
       "      <th>E885.9</th>\n",
       "      <th>P79.35</th>\n",
       "      <th>P87.03</th>\n",
       "      <th>D820.21</th>\n",
       "    </tr>\n",
       "  </thead>\n",
       "  <tbody>\n",
       "    <tr>\n",
       "      <th>0</th>\n",
       "      <td>853151</td>\n",
       "      <td>0.211171</td>\n",
       "      <td>0.251925</td>\n",
       "      <td>0.230469</td>\n",
       "      <td>0.225884</td>\n",
       "      <td>0.080551</td>\n",
       "    </tr>\n",
       "    <tr>\n",
       "      <th>1</th>\n",
       "      <td>&lt;/s&gt;</td>\n",
       "      <td>0.249452</td>\n",
       "      <td>0.219673</td>\n",
       "      <td>0.166636</td>\n",
       "      <td>0.192846</td>\n",
       "      <td>0.171391</td>\n",
       "    </tr>\n",
       "  </tbody>\n",
       "</table>\n",
       "</div>"
      ],
      "text/plain": [
       "      AIS       A70    E885.9    P79.35    P87.03   D820.21\n",
       "0  853151  0.211171  0.251925  0.230469  0.225884  0.080551\n",
       "1    </s>  0.249452  0.219673  0.166636  0.192846  0.171391"
      ]
     },
     "metadata": {},
     "output_type": "display_data"
    },
    {
     "data": {
      "image/png": "[encoded data removed]",
      "text/plain": [
       "<Figure size 720x288 with 2 Axes>"
      ]
     },
     "metadata": {
      "needs_background": "light"
     },
     "output_type": "display_data"
    },
    {
     "name": "stdout",
     "output_type": "stream",
     "text": [
      "AIS_actual    853151\n",
      "Name: 2, dtype: object\n"
     ]
    }
   ],
   "source": [
    "i=2\n",
    "display_attn(attn_mat[i])\n",
    "print(ais.iloc[i])"
   ]
  },
  {
   "cell_type": "code",
   "execution_count": 21,
   "metadata": {},
   "outputs": [
    {
     "data": {
      "text/html": [
       "<div>\n",
       "<style scoped>\n",
       "    .dataframe tbody tr th:only-of-type {\n",
       "        vertical-align: middle;\n",
       "    }\n",
       "\n",
       "    .dataframe tbody tr th {\n",
       "        vertical-align: top;\n",
       "    }\n",
       "\n",
       "    .dataframe thead th {\n",
       "        text-align: right;\n",
       "    }\n",
       "</style>\n",
       "<table border=\"1\" class=\"dataframe\">\n",
       "  <thead>\n",
       "    <tr style=\"text-align: right;\">\n",
       "      <th></th>\n",
       "      <th>AIS</th>\n",
       "      <th>A66</th>\n",
       "      <th>E812.0</th>\n",
       "      <th>P87.03</th>\n",
       "      <th>P87.41</th>\n",
       "      <th>P88.01</th>\n",
       "      <th>P88.38</th>\n",
       "      <th>P96.04</th>\n",
       "      <th>P96.71</th>\n",
       "      <th>D802.1</th>\n",
       "      <th>D805.05</th>\n",
       "      <th>D807.01</th>\n",
       "      <th>D861.21</th>\n",
       "      <th>D873.20</th>\n",
       "    </tr>\n",
       "  </thead>\n",
       "  <tbody>\n",
       "    <tr>\n",
       "      <th>0</th>\n",
       "      <td>210602</td>\n",
       "      <td>0.102987</td>\n",
       "      <td>0.118329</td>\n",
       "      <td>0.100349</td>\n",
       "      <td>0.096298</td>\n",
       "      <td>0.094247</td>\n",
       "      <td>0.098671</td>\n",
       "      <td>0.088759</td>\n",
       "      <td>0.087482</td>\n",
       "      <td>0.100628</td>\n",
       "      <td>0.058636</td>\n",
       "      <td>0.030333</td>\n",
       "      <td>0.015449</td>\n",
       "      <td>0.007833</td>\n",
       "    </tr>\n",
       "    <tr>\n",
       "      <th>1</th>\n",
       "      <td>251002</td>\n",
       "      <td>0.074595</td>\n",
       "      <td>0.070437</td>\n",
       "      <td>0.060187</td>\n",
       "      <td>0.058491</td>\n",
       "      <td>0.057332</td>\n",
       "      <td>0.060331</td>\n",
       "      <td>0.045439</td>\n",
       "      <td>0.042993</td>\n",
       "      <td>0.299486</td>\n",
       "      <td>0.147280</td>\n",
       "      <td>0.047252</td>\n",
       "      <td>0.025534</td>\n",
       "      <td>0.010644</td>\n",
       "    </tr>\n",
       "    <tr>\n",
       "      <th>2</th>\n",
       "      <td>441407</td>\n",
       "      <td>0.133435</td>\n",
       "      <td>0.128659</td>\n",
       "      <td>0.106146</td>\n",
       "      <td>0.102081</td>\n",
       "      <td>0.099971</td>\n",
       "      <td>0.102860</td>\n",
       "      <td>0.079623</td>\n",
       "      <td>0.076343</td>\n",
       "      <td>0.076202</td>\n",
       "      <td>0.050963</td>\n",
       "      <td>0.023401</td>\n",
       "      <td>0.012649</td>\n",
       "      <td>0.007666</td>\n",
       "    </tr>\n",
       "    <tr>\n",
       "      <th>3</th>\n",
       "      <td>450201</td>\n",
       "      <td>0.111999</td>\n",
       "      <td>0.123212</td>\n",
       "      <td>0.112972</td>\n",
       "      <td>0.112765</td>\n",
       "      <td>0.111556</td>\n",
       "      <td>0.118961</td>\n",
       "      <td>0.099027</td>\n",
       "      <td>0.096950</td>\n",
       "      <td>0.037831</td>\n",
       "      <td>0.030132</td>\n",
       "      <td>0.022291</td>\n",
       "      <td>0.012481</td>\n",
       "      <td>0.009823</td>\n",
       "    </tr>\n",
       "    <tr>\n",
       "      <th>4</th>\n",
       "      <td>650220</td>\n",
       "      <td>0.122456</td>\n",
       "      <td>0.129550</td>\n",
       "      <td>0.109177</td>\n",
       "      <td>0.105158</td>\n",
       "      <td>0.103772</td>\n",
       "      <td>0.096761</td>\n",
       "      <td>0.090670</td>\n",
       "      <td>0.087208</td>\n",
       "      <td>0.063125</td>\n",
       "      <td>0.041353</td>\n",
       "      <td>0.023779</td>\n",
       "      <td>0.016400</td>\n",
       "      <td>0.010591</td>\n",
       "    </tr>\n",
       "    <tr>\n",
       "      <th>5</th>\n",
       "      <td>&lt;/s&gt;</td>\n",
       "      <td>0.131393</td>\n",
       "      <td>0.142641</td>\n",
       "      <td>0.122625</td>\n",
       "      <td>0.118509</td>\n",
       "      <td>0.116107</td>\n",
       "      <td>0.105040</td>\n",
       "      <td>0.094134</td>\n",
       "      <td>0.089917</td>\n",
       "      <td>0.024047</td>\n",
       "      <td>0.019017</td>\n",
       "      <td>0.017012</td>\n",
       "      <td>0.010288</td>\n",
       "      <td>0.009270</td>\n",
       "    </tr>\n",
       "  </tbody>\n",
       "</table>\n",
       "</div>"
      ],
      "text/plain": [
       "      AIS       A66    E812.0    P87.03    P87.41    P88.01    P88.38  \\\n",
       "0  210602  0.102987  0.118329  0.100349  0.096298  0.094247  0.098671   \n",
       "1  251002  0.074595  0.070437  0.060187  0.058491  0.057332  0.060331   \n",
       "2  441407  0.133435  0.128659  0.106146  0.102081  0.099971  0.102860   \n",
       "3  450201  0.111999  0.123212  0.112972  0.112765  0.111556  0.118961   \n",
       "4  650220  0.122456  0.129550  0.109177  0.105158  0.103772  0.096761   \n",
       "5    </s>  0.131393  0.142641  0.122625  0.118509  0.116107  0.105040   \n",
       "\n",
       "     P96.04    P96.71    D802.1   D805.05   D807.01   D861.21   D873.20  \n",
       "0  0.088759  0.087482  0.100628  0.058636  0.030333  0.015449  0.007833  \n",
       "1  0.045439  0.042993  0.299486  0.147280  0.047252  0.025534  0.010644  \n",
       "2  0.079623  0.076343  0.076202  0.050963  0.023401  0.012649  0.007666  \n",
       "3  0.099027  0.096950  0.037831  0.030132  0.022291  0.012481  0.009823  \n",
       "4  0.090670  0.087208  0.063125  0.041353  0.023779  0.016400  0.010591  \n",
       "5  0.094134  0.089917  0.024047  0.019017  0.017012  0.010288  0.009270  "
      ]
     },
     "metadata": {},
     "output_type": "display_data"
    },
    {
     "data": {
      "image/png": "[encoded data removed]",
      "text/plain": [
       "<Figure size 288x345.6 with 2 Axes>"
      ]
     },
     "metadata": {
      "needs_background": "light"
     },
     "output_type": "display_data"
    }
   ],
   "source": [
    "display_attn(attn_mat[17], d_only = True)"
   ]
  },
  {
   "cell_type": "code",
   "execution_count": 22,
   "metadata": {},
   "outputs": [
    {
     "data": {
      "text/html": [
       "<div>\n",
       "<style scoped>\n",
       "    .dataframe tbody tr th:only-of-type {\n",
       "        vertical-align: middle;\n",
       "    }\n",
       "\n",
       "    .dataframe tbody tr th {\n",
       "        vertical-align: top;\n",
       "    }\n",
       "\n",
       "    .dataframe thead th {\n",
       "        text-align: right;\n",
       "    }\n",
       "</style>\n",
       "<table border=\"1\" class=\"dataframe\">\n",
       "  <thead>\n",
       "    <tr style=\"text-align: right;\">\n",
       "      <th></th>\n",
       "      <th>AIS</th>\n",
       "      <th>A66</th>\n",
       "      <th>E812.0</th>\n",
       "      <th>P87.03</th>\n",
       "      <th>P87.41</th>\n",
       "      <th>P88.01</th>\n",
       "      <th>P88.38</th>\n",
       "      <th>P96.04</th>\n",
       "      <th>P96.71</th>\n",
       "      <th>D802.1</th>\n",
       "      <th>D805.05</th>\n",
       "      <th>D807.01</th>\n",
       "      <th>D861.21</th>\n",
       "      <th>D873.20</th>\n",
       "    </tr>\n",
       "  </thead>\n",
       "  <tbody>\n",
       "    <tr>\n",
       "      <th>0</th>\n",
       "      <td>210602</td>\n",
       "      <td>0.102987</td>\n",
       "      <td>0.118329</td>\n",
       "      <td>0.100349</td>\n",
       "      <td>0.096298</td>\n",
       "      <td>0.094247</td>\n",
       "      <td>0.098671</td>\n",
       "      <td>0.088759</td>\n",
       "      <td>0.087482</td>\n",
       "      <td>0.100628</td>\n",
       "      <td>0.058636</td>\n",
       "      <td>0.030333</td>\n",
       "      <td>0.015449</td>\n",
       "      <td>0.007833</td>\n",
       "    </tr>\n",
       "    <tr>\n",
       "      <th>1</th>\n",
       "      <td>251002</td>\n",
       "      <td>0.074595</td>\n",
       "      <td>0.070437</td>\n",
       "      <td>0.060187</td>\n",
       "      <td>0.058491</td>\n",
       "      <td>0.057332</td>\n",
       "      <td>0.060331</td>\n",
       "      <td>0.045439</td>\n",
       "      <td>0.042993</td>\n",
       "      <td>0.299486</td>\n",
       "      <td>0.147280</td>\n",
       "      <td>0.047252</td>\n",
       "      <td>0.025534</td>\n",
       "      <td>0.010644</td>\n",
       "    </tr>\n",
       "    <tr>\n",
       "      <th>2</th>\n",
       "      <td>441407</td>\n",
       "      <td>0.133435</td>\n",
       "      <td>0.128659</td>\n",
       "      <td>0.106146</td>\n",
       "      <td>0.102081</td>\n",
       "      <td>0.099971</td>\n",
       "      <td>0.102860</td>\n",
       "      <td>0.079623</td>\n",
       "      <td>0.076343</td>\n",
       "      <td>0.076202</td>\n",
       "      <td>0.050963</td>\n",
       "      <td>0.023401</td>\n",
       "      <td>0.012649</td>\n",
       "      <td>0.007666</td>\n",
       "    </tr>\n",
       "    <tr>\n",
       "      <th>3</th>\n",
       "      <td>450201</td>\n",
       "      <td>0.111999</td>\n",
       "      <td>0.123212</td>\n",
       "      <td>0.112972</td>\n",
       "      <td>0.112765</td>\n",
       "      <td>0.111556</td>\n",
       "      <td>0.118961</td>\n",
       "      <td>0.099027</td>\n",
       "      <td>0.096950</td>\n",
       "      <td>0.037831</td>\n",
       "      <td>0.030132</td>\n",
       "      <td>0.022291</td>\n",
       "      <td>0.012481</td>\n",
       "      <td>0.009823</td>\n",
       "    </tr>\n",
       "    <tr>\n",
       "      <th>4</th>\n",
       "      <td>650220</td>\n",
       "      <td>0.122456</td>\n",
       "      <td>0.129550</td>\n",
       "      <td>0.109177</td>\n",
       "      <td>0.105158</td>\n",
       "      <td>0.103772</td>\n",
       "      <td>0.096761</td>\n",
       "      <td>0.090670</td>\n",
       "      <td>0.087208</td>\n",
       "      <td>0.063125</td>\n",
       "      <td>0.041353</td>\n",
       "      <td>0.023779</td>\n",
       "      <td>0.016400</td>\n",
       "      <td>0.010591</td>\n",
       "    </tr>\n",
       "    <tr>\n",
       "      <th>5</th>\n",
       "      <td>&lt;/s&gt;</td>\n",
       "      <td>0.131393</td>\n",
       "      <td>0.142641</td>\n",
       "      <td>0.122625</td>\n",
       "      <td>0.118509</td>\n",
       "      <td>0.116107</td>\n",
       "      <td>0.105040</td>\n",
       "      <td>0.094134</td>\n",
       "      <td>0.089917</td>\n",
       "      <td>0.024047</td>\n",
       "      <td>0.019017</td>\n",
       "      <td>0.017012</td>\n",
       "      <td>0.010288</td>\n",
       "      <td>0.009270</td>\n",
       "    </tr>\n",
       "  </tbody>\n",
       "</table>\n",
       "</div>"
      ],
      "text/plain": [
       "      AIS       A66    E812.0    P87.03    P87.41    P88.01    P88.38  \\\n",
       "0  210602  0.102987  0.118329  0.100349  0.096298  0.094247  0.098671   \n",
       "1  251002  0.074595  0.070437  0.060187  0.058491  0.057332  0.060331   \n",
       "2  441407  0.133435  0.128659  0.106146  0.102081  0.099971  0.102860   \n",
       "3  450201  0.111999  0.123212  0.112972  0.112765  0.111556  0.118961   \n",
       "4  650220  0.122456  0.129550  0.109177  0.105158  0.103772  0.096761   \n",
       "5    </s>  0.131393  0.142641  0.122625  0.118509  0.116107  0.105040   \n",
       "\n",
       "     P96.04    P96.71    D802.1   D805.05   D807.01   D861.21   D873.20  \n",
       "0  0.088759  0.087482  0.100628  0.058636  0.030333  0.015449  0.007833  \n",
       "1  0.045439  0.042993  0.299486  0.147280  0.047252  0.025534  0.010644  \n",
       "2  0.079623  0.076343  0.076202  0.050963  0.023401  0.012649  0.007666  \n",
       "3  0.099027  0.096950  0.037831  0.030132  0.022291  0.012481  0.009823  \n",
       "4  0.090670  0.087208  0.063125  0.041353  0.023779  0.016400  0.010591  \n",
       "5  0.094134  0.089917  0.024047  0.019017  0.017012  0.010288  0.009270  "
      ]
     },
     "metadata": {},
     "output_type": "display_data"
    },
    {
     "data": {
      "image/png": "[encoded data removed]",
      "text/plain": [
       "<Figure size 624x288 with 2 Axes>"
      ]
     },
     "metadata": {
      "needs_background": "light"
     },
     "output_type": "display_data"
    },
    {
     "name": "stdout",
     "output_type": "stream",
     "text": [
      "AIS_actual    210602 251002 441406 450201 650222\n",
      "Name: 17, dtype: object\n"
     ]
    }
   ],
   "source": [
    "i=17\n",
    "display_attn(attn_mat[i])\n",
    "print(ais.iloc[i])"
   ]
  },
  {
   "cell_type": "markdown",
   "metadata": {},
   "source": [
    "https://github.com/OpenNMT/OpenNMT-py/issues/897\n",
    "\n",
    "I have tried -atten_debug. I found it is for global-attention between source words and target words, not for self-attention within source words.\n",
    "\n",
    "http://nlp.seas.harvard.edu/2018/04/03/attention.html"
   ]
  },
  {
   "cell_type": "code",
   "execution_count": 23,
   "metadata": {},
   "outputs": [
    {
     "name": "stdout",
     "output_type": "stream",
     "text": [
      "80\n"
     ]
    },
    {
     "data": {
      "image/png": "[encoded data removed]",
      "text/plain": [
       "<Figure size 480x288 with 1 Axes>"
      ]
     },
     "metadata": {
      "needs_background": "light"
     },
     "output_type": "display_data"
    },
    {
     "name": "stdout",
     "output_type": "stream",
     "text": [
      "81\n"
     ]
    },
    {
     "data": {
      "image/png": "[encoded data removed]",
      "text/plain": [
       "<Figure size 1152x256 with 1 Axes>"
      ]
     },
     "metadata": {
      "needs_background": "light"
     },
     "output_type": "display_data"
    },
    {
     "name": "stdout",
     "output_type": "stream",
     "text": [
      "82\n"
     ]
    },
    {
     "data": {
      "image/png": "[encoded data removed]",
      "text/plain": [
       "<Figure size 576x288 with 1 Axes>"
      ]
     },
     "metadata": {
      "needs_background": "light"
     },
     "output_type": "display_data"
    },
    {
     "name": "stdout",
     "output_type": "stream",
     "text": [
      "83\n"
     ]
    },
    {
     "data": {
      "image/png": "[encoded data removed]",
      "text/plain": [
       "<Figure size 960x288 with 1 Axes>"
      ]
     },
     "metadata": {
      "needs_background": "light"
     },
     "output_type": "display_data"
    },
    {
     "name": "stdout",
     "output_type": "stream",
     "text": [
      "84\n"
     ]
    },
    {
     "data": {
      "image/png": "[encoded data removed]",
      "text/plain": [
       "<Figure size 1008x288 with 1 Axes>"
      ]
     },
     "metadata": {
      "needs_background": "light"
     },
     "output_type": "display_data"
    },
    {
     "name": "stdout",
     "output_type": "stream",
     "text": [
      "85\n"
     ]
    },
    {
     "data": {
      "image/png": "[encoded data removed]",
      "text/plain": [
       "<Figure size 576x288 with 1 Axes>"
      ]
     },
     "metadata": {
      "needs_background": "light"
     },
     "output_type": "display_data"
    },
    {
     "name": "stdout",
     "output_type": "stream",
     "text": [
      "86\n"
     ]
    },
    {
     "data": {
      "image/png": "[encoded data removed]",
      "text/plain": [
       "<Figure size 720x288 with 1 Axes>"
      ]
     },
     "metadata": {
      "needs_background": "light"
     },
     "output_type": "display_data"
    },
    {
     "name": "stdout",
     "output_type": "stream",
     "text": [
      "87\n"
     ]
    },
    {
     "data": {
      "image/png": "[encoded data removed]",
      "text/plain": [
       "<Figure size 576x288 with 1 Axes>"
      ]
     },
     "metadata": {
      "needs_background": "light"
     },
     "output_type": "display_data"
    },
    {
     "name": "stdout",
     "output_type": "stream",
     "text": [
      "88\n"
     ]
    },
    {
     "data": {
      "image/png": "[encoded data removed]",
      "text/plain": [
       "<Figure size 480x288 with 1 Axes>"
      ]
     },
     "metadata": {
      "needs_background": "light"
     },
     "output_type": "display_data"
    },
    {
     "name": "stdout",
     "output_type": "stream",
     "text": [
      "89\n"
     ]
    },
    {
     "data": {
      "image/png": "[encoded data removed]",
      "text/plain": [
       "<Figure size 403.2x288 with 1 Axes>"
      ]
     },
     "metadata": {
      "needs_background": "light"
     },
     "output_type": "display_data"
    }
   ],
   "source": [
    "for i in range(80,90):\n",
    "    print(i)\n",
    "    display_attn(attn_mat[i], showmat=False, colorbar=False, d_only=False)"
   ]
  },
  {
   "cell_type": "code",
   "execution_count": null,
   "metadata": {},
   "outputs": [],
   "source": []
  },
  {
   "cell_type": "code",
   "execution_count": null,
   "metadata": {},
   "outputs": [],
   "source": []
  }
 ],
 "metadata": {
  "kernelspec": {
   "display_name": "Python 3",
   "language": "python",
   "name": "python3"
  },
  "language_info": {
   "codemirror_mode": {
    "name": "ipython",
    "version": 3
   },
   "file_extension": ".py",
   "mimetype": "text/x-python",
   "name": "python",
   "nbconvert_exporter": "python",
   "pygments_lexer": "ipython3",
   "version": "3.8.8"
  }
 },
 "nbformat": 4,
 "nbformat_minor": 4
}
