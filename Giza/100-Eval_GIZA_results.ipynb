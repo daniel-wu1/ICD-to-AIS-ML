{
 "cells": [
  {
   "cell_type": "markdown",
   "metadata": {},
   "source": [
    "# ICD-AIS translation: Analysis of GIZA output\n",
    "Thomas Hartka\n",
    "3/14/22"
   ]
  },
  {
   "cell_type": "code",
   "execution_count": 1,
   "metadata": {},
   "outputs": [],
   "source": [
    "import numpy as np\n",
    "import pandas as pd\n",
    "import matplotlib.pyplot as plt\n",
    "import icd9cms\n",
    "import math"
   ]
  },
  {
   "cell_type": "markdown",
   "metadata": {},
   "source": [
    "## Load Data"
   ]
  },
  {
   "cell_type": "code",
   "execution_count": 2,
   "metadata": {},
   "outputs": [],
   "source": [
    "# ais and icd vocab\n",
    "icd_vcb = pd.read_csv(\"./train_icd_pre_I9_A05.csv.vcb\", header=None, sep=\" \", names=['key','code','occurrences'])\n",
    "ais_vcb = pd.read_csv(\"./train_ais_pre_I9_A05.csv.vcb\", header=None, sep=\" \", names=['key','code','occurrences'])"
   ]
  },
  {
   "cell_type": "code",
   "execution_count": 3,
   "metadata": {},
   "outputs": [],
   "source": [
    "# load sentence file\n",
    "snt_file = \"./train_ais_pre_I9_A05.csv_train_icd_pre_I9_A05.csv.snt\"\n",
    "\n",
    "with open(snt_file) as f:\n",
    "    snt_lines = f.readlines()"
   ]
  },
  {
   "cell_type": "code",
   "execution_count": 4,
   "metadata": {},
   "outputs": [],
   "source": [
    "# load translation file\n",
    "ais_trans = pd.read_csv(\"./icd_ais.t3.final\", header=None, sep=\" \", names=['ais','icd','prob'])"
   ]
  },
  {
   "cell_type": "code",
   "execution_count": 5,
   "metadata": {},
   "outputs": [],
   "source": [
    "# load ais training data\n",
    "train_ais = pd.read_csv(\"./train_ais_pre_I9_A05.csv\", header=None)"
   ]
  },
  {
   "cell_type": "code",
   "execution_count": 6,
   "metadata": {},
   "outputs": [],
   "source": [
    "# load AIS code descriptions\n",
    "ais_lookup = pd.read_csv(\"./AIS08_codes.csv\", header=0, encoding='iso-8859-1')\n",
    "\n",
    "ais_lookup['predot'] = ais_lookup.code.apply(lambda x: math.floor(x))"
   ]
  },
  {
   "cell_type": "markdown",
   "metadata": {},
   "source": [
    "## Analysis of training data"
   ]
  },
  {
   "cell_type": "code",
   "execution_count": 7,
   "metadata": {},
   "outputs": [],
   "source": [
    "train_ais['codes_list'] = train_ais[0].apply(lambda x: x.split(\" \"))"
   ]
  },
  {
   "cell_type": "code",
   "execution_count": 8,
   "metadata": {},
   "outputs": [
    {
     "data": {
      "text/plain": [
       "1986"
      ]
     },
     "execution_count": 8,
     "metadata": {},
     "output_type": "execute_result"
    }
   ],
   "source": [
    "train_ais_uniq = np.unique([item for sublist in train_ais.codes_list.values for item in sublist])\n",
    "len(train_ais_uniq)"
   ]
  },
  {
   "cell_type": "code",
   "execution_count": 9,
   "metadata": {},
   "outputs": [
    {
     "data": {
      "text/plain": [
       "array(['010002', '010004', '10000', ..., '915004', '915006', '916000'],\n",
       "      dtype='<U6')"
      ]
     },
     "execution_count": 9,
     "metadata": {},
     "output_type": "execute_result"
    }
   ],
   "source": [
    "train_ais_uniq"
   ]
  },
  {
   "cell_type": "markdown",
   "metadata": {},
   "source": [
    "## Parse sentence file"
   ]
  },
  {
   "cell_type": "code",
   "execution_count": 10,
   "metadata": {},
   "outputs": [],
   "source": [
    "snt_occ = []   # sentence occurences\n",
    "snt_src = []   # source sentence\n",
    "snt_trg = []   # target sentence\n",
    "\n",
    "# loop through all lines\n",
    "for i,l in enumerate(snt_lines):\n",
    "    # first line in triple is number of occurences\n",
    "    if ((i%3)==0):\n",
    "        l = int(l.replace(\"\\n\",\"\"))\n",
    "        snt_occ = snt_occ + [l]\n",
    "        \n",
    "    # second line in triple is source sentence\n",
    "    elif (((i+1)%3)==0):\n",
    "        l = l.replace(\"\\n\",\"\").rstrip(' ')\n",
    "        l = l.split(' ')\n",
    "        snt_src = snt_src + [[int(x) for x in l]]\n",
    "        \n",
    "    # thrid line in triple is target sentence\n",
    "    else:\n",
    "        l = l.replace(\"\\n\",\"\").rstrip(' ')\n",
    "        l = l.split(' ')\n",
    "        snt_trg = snt_trg + [[int(x) for x in l]]     \n",
    "        \n",
    "    if(i>=29999):\n",
    "        break"
   ]
  },
  {
   "cell_type": "code",
   "execution_count": 11,
   "metadata": {},
   "outputs": [],
   "source": [
    "trg_list = [item for sublist in snt_trg for item in sublist]"
   ]
  },
  {
   "cell_type": "code",
   "execution_count": 12,
   "metadata": {},
   "outputs": [
    {
     "data": {
      "text/plain": [
       "array([   2,    3,    4, ..., 1404, 1405, 1406])"
      ]
     },
     "execution_count": 12,
     "metadata": {},
     "output_type": "execute_result"
    }
   ],
   "source": [
    "np.unique(trg_list)"
   ]
  },
  {
   "cell_type": "code",
   "execution_count": 13,
   "metadata": {},
   "outputs": [
    {
     "data": {
      "text/plain": [
       "10000"
      ]
     },
     "execution_count": 13,
     "metadata": {},
     "output_type": "execute_result"
    }
   ],
   "source": [
    "len(snt_src)"
   ]
  },
  {
   "cell_type": "markdown",
   "metadata": {},
   "source": [
    "## Display translations"
   ]
  },
  {
   "cell_type": "code",
   "execution_count": 14,
   "metadata": {},
   "outputs": [],
   "source": [
    "def translate_ais(ais_code, top_n=5):\n",
    "    '''\n",
    "    This function finds the top_n translations for an AIS based on the\n",
    "    statistical occurrence.\n",
    "    \n",
    "    Parameters:\n",
    "        ais_code - AIS code to translation\n",
    "        top_n - number of results to return\n",
    "    Returns:\n",
    "        top translated code\n",
    "    '''\n",
    "    \n",
    "    # get description for AIS code\n",
    "    ais_desc = ais_lookup[ais_lookup.predot==ais_code].Description.values[0]\n",
    "    \n",
    "    print(\"AIS Code:\", ais_code, \":\", ais_desc)\n",
    "    \n",
    "    # get key for AIS code\n",
    "    ais_key = ais_vcb[ais_vcb.code==ais_code].reset_index().key[0]\n",
    "       \n",
    "    # find matches for ais code \n",
    "    trans = ais_trans[ais_trans.ais == ais_key]\n",
    "    \n",
    "    # reorder and take top n\n",
    "    trans = trans.sort_values('prob', ascending=False).head(top_n).reset_index()\n",
    " \n",
    "    # look up icd code from vocab\n",
    "    trans['icd_code'] = trans.apply(lambda x: icd_vcb[icd_vcb.key==x.icd]['code'].values[0].replace(\"D\",\"\").replace(\"P\",\"\"), axis=1)\n",
    "\n",
    "    # decode ICD\n",
    "    trans['icd_desc'] = trans.apply(lambda x: icd9cms.search(x.icd_code), axis=1)\n",
    "    \n",
    "    display(trans)\n",
    " \n",
    "    # get top icd key\n",
    "    icd_key = int(trans.iloc[0]['icd'])\n",
    "\n",
    "    # get top icd code\n",
    "    icd_code = icd_vcb[icd_vcb.key==icd_key]['code'].values[0]\n",
    "    \n",
    "    # take off prefixes\n",
    "    icd_code = icd_code.replace(\"D\",\"\").replace(\"P\",\"\")\n",
    "   \n",
    "    return icd9cms.search(icd_code)"
   ]
  },
  {
   "cell_type": "markdown",
   "metadata": {},
   "source": [
    "## Examine translations"
   ]
  },
  {
   "cell_type": "code",
   "execution_count": 15,
   "metadata": {},
   "outputs": [
    {
     "name": "stdout",
     "output_type": "stream",
     "text": [
      "AIS Code: 710402 : Skin/subcutaneous/muscle, upper extremity, contusion; hematoma\n"
     ]
    },
    {
     "data": {
      "text/html": [
       "<div>\n",
       "<style scoped>\n",
       "    .dataframe tbody tr th:only-of-type {\n",
       "        vertical-align: middle;\n",
       "    }\n",
       "\n",
       "    .dataframe tbody tr th {\n",
       "        vertical-align: top;\n",
       "    }\n",
       "\n",
       "    .dataframe thead th {\n",
       "        text-align: right;\n",
       "    }\n",
       "</style>\n",
       "<table border=\"1\" class=\"dataframe\">\n",
       "  <thead>\n",
       "    <tr style=\"text-align: right;\">\n",
       "      <th></th>\n",
       "      <th>index</th>\n",
       "      <th>ais</th>\n",
       "      <th>icd</th>\n",
       "      <th>prob</th>\n",
       "      <th>icd_code</th>\n",
       "      <th>icd_desc</th>\n",
       "    </tr>\n",
       "  </thead>\n",
       "  <tbody>\n",
       "    <tr>\n",
       "      <th>0</th>\n",
       "      <td>3335</td>\n",
       "      <td>4</td>\n",
       "      <td>200</td>\n",
       "      <td>0.260017</td>\n",
       "      <td>923.00</td>\n",
       "      <td>92300:Contusion shoulder reg:Contusion of shou...</td>\n",
       "    </tr>\n",
       "    <tr>\n",
       "      <th>1</th>\n",
       "      <td>3292</td>\n",
       "      <td>4</td>\n",
       "      <td>45</td>\n",
       "      <td>0.198556</td>\n",
       "      <td>923.9</td>\n",
       "      <td>9239:Contusion upper limb NOS:Contusion of uns...</td>\n",
       "    </tr>\n",
       "    <tr>\n",
       "      <th>2</th>\n",
       "      <td>3321</td>\n",
       "      <td>4</td>\n",
       "      <td>141</td>\n",
       "      <td>0.124369</td>\n",
       "      <td>923.20</td>\n",
       "      <td>92320:Contusion of hand(s):Contusion of hand(s)</td>\n",
       "    </tr>\n",
       "    <tr>\n",
       "      <th>3</th>\n",
       "      <td>3308</td>\n",
       "      <td>4</td>\n",
       "      <td>89</td>\n",
       "      <td>0.118434</td>\n",
       "      <td>923.11</td>\n",
       "      <td>92311:Contusion of elbow:Contusion of elbow</td>\n",
       "    </tr>\n",
       "    <tr>\n",
       "      <th>4</th>\n",
       "      <td>3370</td>\n",
       "      <td>4</td>\n",
       "      <td>424</td>\n",
       "      <td>0.091967</td>\n",
       "      <td>923.10</td>\n",
       "      <td>92310:Contusion of forearm:Contusion of forearm</td>\n",
       "    </tr>\n",
       "  </tbody>\n",
       "</table>\n",
       "</div>"
      ],
      "text/plain": [
       "   index  ais  icd      prob icd_code  \\\n",
       "0   3335    4  200  0.260017   923.00   \n",
       "1   3292    4   45  0.198556    923.9   \n",
       "2   3321    4  141  0.124369   923.20   \n",
       "3   3308    4   89  0.118434   923.11   \n",
       "4   3370    4  424  0.091967   923.10   \n",
       "\n",
       "                                            icd_desc  \n",
       "0  92300:Contusion shoulder reg:Contusion of shou...  \n",
       "1  9239:Contusion upper limb NOS:Contusion of uns...  \n",
       "2    92320:Contusion of hand(s):Contusion of hand(s)  \n",
       "3        92311:Contusion of elbow:Contusion of elbow  \n",
       "4    92310:Contusion of forearm:Contusion of forearm  "
      ]
     },
     "metadata": {},
     "output_type": "display_data"
    },
    {
     "data": {
      "text/plain": [
       "92300:Contusion shoulder reg:Contusion of shoulder region"
      ]
     },
     "execution_count": 15,
     "metadata": {},
     "output_type": "execute_result"
    }
   ],
   "source": [
    "translate_ais(710402)"
   ]
  },
  {
   "cell_type": "code",
   "execution_count": 16,
   "metadata": {},
   "outputs": [
    {
     "name": "stdout",
     "output_type": "stream",
     "text": [
      "AIS Code: 650432 : Vertebra, thoracic spine, fracture with or without dislocation but no cord involvement, vertebral body (\"burst\" fracture), minor compression (<=20% loss of anterior height)\n"
     ]
    },
    {
     "data": {
      "text/html": [
       "<div>\n",
       "<style scoped>\n",
       "    .dataframe tbody tr th:only-of-type {\n",
       "        vertical-align: middle;\n",
       "    }\n",
       "\n",
       "    .dataframe tbody tr th {\n",
       "        vertical-align: top;\n",
       "    }\n",
       "\n",
       "    .dataframe thead th {\n",
       "        text-align: right;\n",
       "    }\n",
       "</style>\n",
       "<table border=\"1\" class=\"dataframe\">\n",
       "  <thead>\n",
       "    <tr style=\"text-align: right;\">\n",
       "      <th></th>\n",
       "      <th>index</th>\n",
       "      <th>ais</th>\n",
       "      <th>icd</th>\n",
       "      <th>prob</th>\n",
       "      <th>icd_code</th>\n",
       "      <th>icd_desc</th>\n",
       "    </tr>\n",
       "  </thead>\n",
       "  <tbody>\n",
       "    <tr>\n",
       "      <th>0</th>\n",
       "      <td>16190</td>\n",
       "      <td>21</td>\n",
       "      <td>39</td>\n",
       "      <td>0.437160</td>\n",
       "      <td>805.2</td>\n",
       "      <td>8052:Fx dorsal vertebra-close:Closed fracture ...</td>\n",
       "    </tr>\n",
       "    <tr>\n",
       "      <th>1</th>\n",
       "      <td>16265</td>\n",
       "      <td>21</td>\n",
       "      <td>305</td>\n",
       "      <td>0.062406</td>\n",
       "      <td>88.93</td>\n",
       "      <td>None</td>\n",
       "    </tr>\n",
       "    <tr>\n",
       "      <th>2</th>\n",
       "      <td>16181</td>\n",
       "      <td>21</td>\n",
       "      <td>11</td>\n",
       "      <td>0.055104</td>\n",
       "      <td>88.38</td>\n",
       "      <td>None</td>\n",
       "    </tr>\n",
       "    <tr>\n",
       "      <th>3</th>\n",
       "      <td>16194</td>\n",
       "      <td>21</td>\n",
       "      <td>52</td>\n",
       "      <td>0.041484</td>\n",
       "      <td>87.41</td>\n",
       "      <td>8741:Open wound of larynx and trachea complica...</td>\n",
       "    </tr>\n",
       "    <tr>\n",
       "      <th>4</th>\n",
       "      <td>16180</td>\n",
       "      <td>21</td>\n",
       "      <td>10</td>\n",
       "      <td>0.022061</td>\n",
       "      <td>88.01</td>\n",
       "      <td>8801:Open wound of shoulder and upper arm comp...</td>\n",
       "    </tr>\n",
       "  </tbody>\n",
       "</table>\n",
       "</div>"
      ],
      "text/plain": [
       "   index  ais  icd      prob icd_code  \\\n",
       "0  16190   21   39  0.437160    805.2   \n",
       "1  16265   21  305  0.062406    88.93   \n",
       "2  16181   21   11  0.055104    88.38   \n",
       "3  16194   21   52  0.041484    87.41   \n",
       "4  16180   21   10  0.022061    88.01   \n",
       "\n",
       "                                            icd_desc  \n",
       "0  8052:Fx dorsal vertebra-close:Closed fracture ...  \n",
       "1                                               None  \n",
       "2                                               None  \n",
       "3  8741:Open wound of larynx and trachea complica...  \n",
       "4  8801:Open wound of shoulder and upper arm comp...  "
      ]
     },
     "metadata": {},
     "output_type": "display_data"
    },
    {
     "data": {
      "text/plain": [
       "8052:Fx dorsal vertebra-close:Closed fracture of dorsal [thoracic] vertebra without mention of spinal cord injury"
      ]
     },
     "execution_count": 16,
     "metadata": {},
     "output_type": "execute_result"
    }
   ],
   "source": [
    "translate_ais(650432)"
   ]
  },
  {
   "cell_type": "code",
   "execution_count": 17,
   "metadata": {},
   "outputs": [
    {
     "name": "stdout",
     "output_type": "stream",
     "text": [
      "AIS Code: 110600 : Scalp, laceration NFS\n"
     ]
    },
    {
     "data": {
      "text/html": [
       "<div>\n",
       "<style scoped>\n",
       "    .dataframe tbody tr th:only-of-type {\n",
       "        vertical-align: middle;\n",
       "    }\n",
       "\n",
       "    .dataframe tbody tr th {\n",
       "        vertical-align: top;\n",
       "    }\n",
       "\n",
       "    .dataframe thead th {\n",
       "        text-align: right;\n",
       "    }\n",
       "</style>\n",
       "<table border=\"1\" class=\"dataframe\">\n",
       "  <thead>\n",
       "    <tr style=\"text-align: right;\">\n",
       "      <th></th>\n",
       "      <th>index</th>\n",
       "      <th>ais</th>\n",
       "      <th>icd</th>\n",
       "      <th>prob</th>\n",
       "      <th>icd_code</th>\n",
       "      <th>icd_desc</th>\n",
       "    </tr>\n",
       "  </thead>\n",
       "  <tbody>\n",
       "    <tr>\n",
       "      <th>0</th>\n",
       "      <td>13922</td>\n",
       "      <td>19</td>\n",
       "      <td>41</td>\n",
       "      <td>0.427589</td>\n",
       "      <td>873.0</td>\n",
       "      <td>8730:Open wound of scalp:Open wound of scalp, ...</td>\n",
       "    </tr>\n",
       "    <tr>\n",
       "      <th>1</th>\n",
       "      <td>13908</td>\n",
       "      <td>19</td>\n",
       "      <td>8</td>\n",
       "      <td>0.118951</td>\n",
       "      <td>86.59</td>\n",
       "      <td>None</td>\n",
       "    </tr>\n",
       "    <tr>\n",
       "      <th>2</th>\n",
       "      <td>13909</td>\n",
       "      <td>19</td>\n",
       "      <td>9</td>\n",
       "      <td>0.075465</td>\n",
       "      <td>87.03</td>\n",
       "      <td>8703:Penetr wnd orbit w/o FB:Penetrating wound...</td>\n",
       "    </tr>\n",
       "    <tr>\n",
       "      <th>3</th>\n",
       "      <td>13918</td>\n",
       "      <td>19</td>\n",
       "      <td>34</td>\n",
       "      <td>0.034371</td>\n",
       "      <td>E885.9</td>\n",
       "      <td>E8859:Fall from slipping NEC:Fall from other s...</td>\n",
       "    </tr>\n",
       "    <tr>\n",
       "      <th>4</th>\n",
       "      <td>13930</td>\n",
       "      <td>19</td>\n",
       "      <td>60</td>\n",
       "      <td>0.021238</td>\n",
       "      <td>E880.9</td>\n",
       "      <td>E8809:Fall on stair/step NEC:Accidental fall o...</td>\n",
       "    </tr>\n",
       "  </tbody>\n",
       "</table>\n",
       "</div>"
      ],
      "text/plain": [
       "   index  ais  icd      prob icd_code  \\\n",
       "0  13922   19   41  0.427589    873.0   \n",
       "1  13908   19    8  0.118951    86.59   \n",
       "2  13909   19    9  0.075465    87.03   \n",
       "3  13918   19   34  0.034371   E885.9   \n",
       "4  13930   19   60  0.021238   E880.9   \n",
       "\n",
       "                                            icd_desc  \n",
       "0  8730:Open wound of scalp:Open wound of scalp, ...  \n",
       "1                                               None  \n",
       "2  8703:Penetr wnd orbit w/o FB:Penetrating wound...  \n",
       "3  E8859:Fall from slipping NEC:Fall from other s...  \n",
       "4  E8809:Fall on stair/step NEC:Accidental fall o...  "
      ]
     },
     "metadata": {},
     "output_type": "display_data"
    },
    {
     "data": {
      "text/plain": [
       "8730:Open wound of scalp:Open wound of scalp, without mention of complication"
      ]
     },
     "execution_count": 17,
     "metadata": {},
     "output_type": "execute_result"
    }
   ],
   "source": [
    "translate_ais(110600)"
   ]
  },
  {
   "cell_type": "code",
   "execution_count": 18,
   "metadata": {},
   "outputs": [
    {
     "name": "stdout",
     "output_type": "stream",
     "text": [
      "AIS Code: 320211 : Carotid artery [common, internal], laceration; perforation; puncture, minor; superficial; incomplete circumferential involvement; blood loss <=20% by volume, neurological deficit (stroke) not head-injury related, bilateral\n"
     ]
    },
    {
     "data": {
      "text/html": [
       "<div>\n",
       "<style scoped>\n",
       "    .dataframe tbody tr th:only-of-type {\n",
       "        vertical-align: middle;\n",
       "    }\n",
       "\n",
       "    .dataframe tbody tr th {\n",
       "        vertical-align: top;\n",
       "    }\n",
       "\n",
       "    .dataframe thead th {\n",
       "        text-align: right;\n",
       "    }\n",
       "</style>\n",
       "<table border=\"1\" class=\"dataframe\">\n",
       "  <thead>\n",
       "    <tr style=\"text-align: right;\">\n",
       "      <th></th>\n",
       "      <th>index</th>\n",
       "      <th>ais</th>\n",
       "      <th>icd</th>\n",
       "      <th>prob</th>\n",
       "      <th>icd_code</th>\n",
       "      <th>icd_desc</th>\n",
       "    </tr>\n",
       "  </thead>\n",
       "  <tbody>\n",
       "    <tr>\n",
       "      <th>0</th>\n",
       "      <td>444833</td>\n",
       "      <td>1985</td>\n",
       "      <td>1546</td>\n",
       "      <td>0.070309</td>\n",
       "      <td>81.01</td>\n",
       "      <td>8101:Open fracture of clavicle:None</td>\n",
       "    </tr>\n",
       "    <tr>\n",
       "      <th>1</th>\n",
       "      <td>444836</td>\n",
       "      <td>1985</td>\n",
       "      <td>1782</td>\n",
       "      <td>0.070309</td>\n",
       "      <td>25.51</td>\n",
       "      <td>2551:Hyperaldosteronism:None</td>\n",
       "    </tr>\n",
       "    <tr>\n",
       "      <th>2</th>\n",
       "      <td>444826</td>\n",
       "      <td>1985</td>\n",
       "      <td>389</td>\n",
       "      <td>0.070309</td>\n",
       "      <td>81.62</td>\n",
       "      <td>None</td>\n",
       "    </tr>\n",
       "    <tr>\n",
       "      <th>3</th>\n",
       "      <td>444838</td>\n",
       "      <td>1985</td>\n",
       "      <td>2002</td>\n",
       "      <td>0.070307</td>\n",
       "      <td>76.73</td>\n",
       "      <td>7673:Bone injury NEC at birth:Other injuries t...</td>\n",
       "    </tr>\n",
       "    <tr>\n",
       "      <th>4</th>\n",
       "      <td>444837</td>\n",
       "      <td>1985</td>\n",
       "      <td>1965</td>\n",
       "      <td>0.070305</td>\n",
       "      <td>24.32</td>\n",
       "      <td>None</td>\n",
       "    </tr>\n",
       "  </tbody>\n",
       "</table>\n",
       "</div>"
      ],
      "text/plain": [
       "    index   ais   icd      prob icd_code  \\\n",
       "0  444833  1985  1546  0.070309    81.01   \n",
       "1  444836  1985  1782  0.070309    25.51   \n",
       "2  444826  1985   389  0.070309    81.62   \n",
       "3  444838  1985  2002  0.070307    76.73   \n",
       "4  444837  1985  1965  0.070305    24.32   \n",
       "\n",
       "                                            icd_desc  \n",
       "0                8101:Open fracture of clavicle:None  \n",
       "1                       2551:Hyperaldosteronism:None  \n",
       "2                                               None  \n",
       "3  7673:Bone injury NEC at birth:Other injuries t...  \n",
       "4                                               None  "
      ]
     },
     "metadata": {},
     "output_type": "display_data"
    },
    {
     "data": {
      "text/plain": [
       "8101:Open fracture of clavicle:None"
      ]
     },
     "execution_count": 18,
     "metadata": {},
     "output_type": "execute_result"
    }
   ],
   "source": [
    "translate_ais(320211)"
   ]
  },
  {
   "cell_type": "code",
   "execution_count": 19,
   "metadata": {},
   "outputs": [
    {
     "name": "stdout",
     "output_type": "stream",
     "text": [
      "AIS Code: 251000 : Nose, fracture, closed or NFS\n"
     ]
    },
    {
     "data": {
      "text/html": [
       "<div>\n",
       "<style scoped>\n",
       "    .dataframe tbody tr th:only-of-type {\n",
       "        vertical-align: middle;\n",
       "    }\n",
       "\n",
       "    .dataframe tbody tr th {\n",
       "        vertical-align: top;\n",
       "    }\n",
       "\n",
       "    .dataframe thead th {\n",
       "        text-align: right;\n",
       "    }\n",
       "</style>\n",
       "<table border=\"1\" class=\"dataframe\">\n",
       "  <thead>\n",
       "    <tr style=\"text-align: right;\">\n",
       "      <th></th>\n",
       "      <th>index</th>\n",
       "      <th>ais</th>\n",
       "      <th>icd</th>\n",
       "      <th>prob</th>\n",
       "      <th>icd_code</th>\n",
       "      <th>icd_desc</th>\n",
       "    </tr>\n",
       "  </thead>\n",
       "  <tbody>\n",
       "    <tr>\n",
       "      <th>0</th>\n",
       "      <td>44617</td>\n",
       "      <td>67</td>\n",
       "      <td>55</td>\n",
       "      <td>0.763127</td>\n",
       "      <td>802.0</td>\n",
       "      <td>8020:Nasal bone fx-closed:Closed fracture of n...</td>\n",
       "    </tr>\n",
       "    <tr>\n",
       "      <th>1</th>\n",
       "      <td>44599</td>\n",
       "      <td>67</td>\n",
       "      <td>11</td>\n",
       "      <td>0.033497</td>\n",
       "      <td>88.38</td>\n",
       "      <td>None</td>\n",
       "    </tr>\n",
       "    <tr>\n",
       "      <th>2</th>\n",
       "      <td>44597</td>\n",
       "      <td>67</td>\n",
       "      <td>9</td>\n",
       "      <td>0.024286</td>\n",
       "      <td>87.03</td>\n",
       "      <td>8703:Penetr wnd orbit w/o FB:Penetrating wound...</td>\n",
       "    </tr>\n",
       "    <tr>\n",
       "      <th>3</th>\n",
       "      <td>44603</td>\n",
       "      <td>67</td>\n",
       "      <td>25</td>\n",
       "      <td>0.011826</td>\n",
       "      <td>E960.0</td>\n",
       "      <td>E9600:Unarmed fight or brawl:Unarmed fight or ...</td>\n",
       "    </tr>\n",
       "    <tr>\n",
       "      <th>4</th>\n",
       "      <td>44775</td>\n",
       "      <td>67</td>\n",
       "      <td>755</td>\n",
       "      <td>0.008868</td>\n",
       "      <td>21.71</td>\n",
       "      <td>None</td>\n",
       "    </tr>\n",
       "  </tbody>\n",
       "</table>\n",
       "</div>"
      ],
      "text/plain": [
       "   index  ais  icd      prob icd_code  \\\n",
       "0  44617   67   55  0.763127    802.0   \n",
       "1  44599   67   11  0.033497    88.38   \n",
       "2  44597   67    9  0.024286    87.03   \n",
       "3  44603   67   25  0.011826   E960.0   \n",
       "4  44775   67  755  0.008868    21.71   \n",
       "\n",
       "                                            icd_desc  \n",
       "0  8020:Nasal bone fx-closed:Closed fracture of n...  \n",
       "1                                               None  \n",
       "2  8703:Penetr wnd orbit w/o FB:Penetrating wound...  \n",
       "3  E9600:Unarmed fight or brawl:Unarmed fight or ...  \n",
       "4                                               None  "
      ]
     },
     "metadata": {},
     "output_type": "display_data"
    },
    {
     "data": {
      "text/plain": [
       "8020:Nasal bone fx-closed:Closed fracture of nasal bones"
      ]
     },
     "execution_count": 19,
     "metadata": {},
     "output_type": "execute_result"
    }
   ],
   "source": [
    "translate_ais(251000)"
   ]
  },
  {
   "cell_type": "markdown",
   "metadata": {},
   "source": [
    "## Store best translations"
   ]
  },
  {
   "cell_type": "code",
   "execution_count": 20,
   "metadata": {},
   "outputs": [],
   "source": [
    "# remove ais key 0 (placeholder?)\n",
    "trans = ais_trans[ais_trans.ais!=0].copy()"
   ]
  },
  {
   "cell_type": "code",
   "execution_count": 21,
   "metadata": {},
   "outputs": [],
   "source": [
    "# merge ais key with ais code\n",
    "trans = trans.merge(ais_vcb, how='left', left_on='ais', right_on='key').rename(columns={'code':'ais_code'}).drop(columns=['key', 'occurrences'])"
   ]
  },
  {
   "cell_type": "code",
   "execution_count": 22,
   "metadata": {},
   "outputs": [],
   "source": [
    "# merge icd key with icd code\n",
    "trans = trans.merge(icd_vcb, how='left', left_on='icd', right_on='key').rename(columns={'code':'icd_code'}).drop(columns=['key','occurrences'])"
   ]
  },
  {
   "cell_type": "code",
   "execution_count": 23,
   "metadata": {},
   "outputs": [],
   "source": [
    "# drop keys and rearrange columns\n",
    "trans = trans.drop(columns=['ais','icd'])[['icd_code','ais_code','prob']]"
   ]
  },
  {
   "cell_type": "code",
   "execution_count": 24,
   "metadata": {},
   "outputs": [],
   "source": [
    "# keep only D-codes\n",
    "trans = trans[trans.icd_code.str.contains('D')].reset_index(drop=True)"
   ]
  },
  {
   "cell_type": "code",
   "execution_count": 25,
   "metadata": {},
   "outputs": [],
   "source": [
    "# filter best translation\n",
    "trans = trans.sort_values(['icd_code','prob'], ascending=[True, False]).groupby('icd_code').head(1).reset_index(drop=True)"
   ]
  },
  {
   "cell_type": "code",
   "execution_count": 26,
   "metadata": {},
   "outputs": [],
   "source": [
    "# store to file\n",
    "trans.to_csv(\"../Results/SMT_ICD_AIS_map.csv\", index=False)"
   ]
  },
  {
   "cell_type": "code",
   "execution_count": null,
   "metadata": {},
   "outputs": [],
   "source": []
  }
 ],
 "metadata": {
  "kernelspec": {
   "display_name": "Python 3",
   "language": "python",
   "name": "python3"
  },
  "language_info": {
   "codemirror_mode": {
    "name": "ipython",
    "version": 3
   },
   "file_extension": ".py",
   "mimetype": "text/x-python",
   "name": "python",
   "nbconvert_exporter": "python",
   "pygments_lexer": "ipython3",
   "version": "3.8.8"
  }
 },
 "nbformat": 4,
 "nbformat_minor": 4
}
