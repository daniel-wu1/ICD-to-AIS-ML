{
 "cells": [
  {
   "cell_type": "markdown",
   "metadata": {},
   "source": [
    "# Project: ICD-AIS conversion using Deep Learning\n",
    "\n",
    "This converts ICD codes to AIS using the AAAM ICD-AIS map"
   ]
  },
  {
   "cell_type": "markdown",
   "metadata": {},
   "source": [
    "## Setup"
   ]
  },
  {
   "cell_type": "code",
   "execution_count": 7,
   "metadata": {},
   "outputs": [],
   "source": [
    "import numpy as np\n",
    "import pandas as pd\n",
    "import sqlite3\n",
    "import random\n",
    "import math"
   ]
  },
  {
   "cell_type": "markdown",
   "metadata": {},
   "source": [
    "## Parameters\n"
   ]
  },
  {
   "cell_type": "code",
   "execution_count": 8,
   "metadata": {},
   "outputs": [],
   "source": [
    "icd_obs_file =\"../Data/test_icd_pre_I9_A05.csv\"\n",
    "ais_map_codes_file = \"../Data/AIS08_mapped_codes.csv\"\n",
    "aaam_map_file = \"../Data/AAAM ICD-ISS Map v2.0 (00082).xlsx\"\n",
    "aaam_map_sheet = \"icd9Map\""
   ]
  },
  {
   "cell_type": "markdown",
   "metadata": {},
   "source": [
    "## Load data"
   ]
  },
  {
   "cell_type": "code",
   "execution_count": 9,
   "metadata": {},
   "outputs": [],
   "source": [
    "# load ICD codes\n",
    "icd_codes = pd.read_csv(icd_obs_file, header=None, names=[\"ICD9CODE\"])"
   ]
  },
  {
   "cell_type": "code",
   "execution_count": 10,
   "metadata": {},
   "outputs": [],
   "source": [
    "# load ICD-AIS map\n",
    "aaam_map = pd.read_excel(aaam_map_file, sheet_name=\"icd9Map\", header=0, converters={'CODE':str})"
   ]
  },
  {
   "cell_type": "code",
   "execution_count": 11,
   "metadata": {},
   "outputs": [
    {
     "data": {
      "text/html": [
       "<div>\n",
       "<style scoped>\n",
       "    .dataframe tbody tr th:only-of-type {\n",
       "        vertical-align: middle;\n",
       "    }\n",
       "\n",
       "    .dataframe tbody tr th {\n",
       "        vertical-align: top;\n",
       "    }\n",
       "\n",
       "    .dataframe thead th {\n",
       "        text-align: right;\n",
       "    }\n",
       "</style>\n",
       "<table border=\"1\" class=\"dataframe\">\n",
       "  <thead>\n",
       "    <tr style=\"text-align: right;\">\n",
       "      <th></th>\n",
       "      <th>CODE</th>\n",
       "      <th>DESCRIPTION</th>\n",
       "      <th>HIGHEST AIS SEVERITY</th>\n",
       "      <th>ISS BODY REGION</th>\n",
       "      <th>AIS CHAPTER</th>\n",
       "    </tr>\n",
       "  </thead>\n",
       "  <tbody>\n",
       "    <tr>\n",
       "      <th>0</th>\n",
       "      <td>800</td>\n",
       "      <td>Fracture Of Vault Of Skull</td>\n",
       "      <td>2</td>\n",
       "      <td>1</td>\n",
       "      <td>1</td>\n",
       "    </tr>\n",
       "    <tr>\n",
       "      <th>1</th>\n",
       "      <td>800.0</td>\n",
       "      <td>Closed Fracture Of Vault Of Skull Without Ment...</td>\n",
       "      <td>2</td>\n",
       "      <td>1</td>\n",
       "      <td>1</td>\n",
       "    </tr>\n",
       "    <tr>\n",
       "      <th>2</th>\n",
       "      <td>800.00</td>\n",
       "      <td>Closed fracture of vault of skull without ment...</td>\n",
       "      <td>2</td>\n",
       "      <td>1</td>\n",
       "      <td>1</td>\n",
       "    </tr>\n",
       "    <tr>\n",
       "      <th>3</th>\n",
       "      <td>800.01</td>\n",
       "      <td>Closed fracture of vault of skull without ment...</td>\n",
       "      <td>2</td>\n",
       "      <td>1</td>\n",
       "      <td>1</td>\n",
       "    </tr>\n",
       "    <tr>\n",
       "      <th>4</th>\n",
       "      <td>800.02</td>\n",
       "      <td>Closed fracture of vault of skull without ment...</td>\n",
       "      <td>2</td>\n",
       "      <td>1</td>\n",
       "      <td>1</td>\n",
       "    </tr>\n",
       "  </tbody>\n",
       "</table>\n",
       "</div>"
      ],
      "text/plain": [
       "     CODE                                        DESCRIPTION  \\\n",
       "0     800                         Fracture Of Vault Of Skull   \n",
       "1   800.0  Closed Fracture Of Vault Of Skull Without Ment...   \n",
       "2  800.00  Closed fracture of vault of skull without ment...   \n",
       "3  800.01  Closed fracture of vault of skull without ment...   \n",
       "4  800.02  Closed fracture of vault of skull without ment...   \n",
       "\n",
       "   HIGHEST AIS SEVERITY  ISS BODY REGION  AIS CHAPTER  \n",
       "0                     2                1            1  \n",
       "1                     2                1            1  \n",
       "2                     2                1            1  \n",
       "3                     2                1            1  \n",
       "4                     2                1            1  "
      ]
     },
     "execution_count": 11,
     "metadata": {},
     "output_type": "execute_result"
    }
   ],
   "source": [
    "aaam_map.head(5)"
   ]
  },
  {
   "cell_type": "markdown",
   "metadata": {},
   "source": [
    "## Create AIS code from Information\n",
    "\n",
    "Since AIS codes are typically [Chapter]XXXXX.[Severity], we will transform this to [Chapter][Region]0000.[Severity].  These will not overlap any valid AIS08 codes."
   ]
  },
  {
   "cell_type": "code",
   "execution_count": 12,
   "metadata": {},
   "outputs": [],
   "source": [
    "aaam_map['DEV_CODE'] = aaam_map['AIS CHAPTER'] * 100_000 + aaam_map['ISS BODY REGION'] * 10_000 + aaam_map['HIGHEST AIS SEVERITY'] * 0.1"
   ]
  },
  {
   "cell_type": "code",
   "execution_count": 13,
   "metadata": {},
   "outputs": [
    {
     "data": {
      "text/html": [
       "<div>\n",
       "<style scoped>\n",
       "    .dataframe tbody tr th:only-of-type {\n",
       "        vertical-align: middle;\n",
       "    }\n",
       "\n",
       "    .dataframe tbody tr th {\n",
       "        vertical-align: top;\n",
       "    }\n",
       "\n",
       "    .dataframe thead th {\n",
       "        text-align: right;\n",
       "    }\n",
       "</style>\n",
       "<table border=\"1\" class=\"dataframe\">\n",
       "  <thead>\n",
       "    <tr style=\"text-align: right;\">\n",
       "      <th></th>\n",
       "      <th>CODE</th>\n",
       "      <th>DESCRIPTION</th>\n",
       "      <th>HIGHEST AIS SEVERITY</th>\n",
       "      <th>ISS BODY REGION</th>\n",
       "      <th>AIS CHAPTER</th>\n",
       "      <th>DEV_CODE</th>\n",
       "    </tr>\n",
       "  </thead>\n",
       "  <tbody>\n",
       "    <tr>\n",
       "      <th>0</th>\n",
       "      <td>800</td>\n",
       "      <td>Fracture Of Vault Of Skull</td>\n",
       "      <td>2</td>\n",
       "      <td>1</td>\n",
       "      <td>1</td>\n",
       "      <td>110000.2</td>\n",
       "    </tr>\n",
       "    <tr>\n",
       "      <th>1</th>\n",
       "      <td>800.0</td>\n",
       "      <td>Closed Fracture Of Vault Of Skull Without Ment...</td>\n",
       "      <td>2</td>\n",
       "      <td>1</td>\n",
       "      <td>1</td>\n",
       "      <td>110000.2</td>\n",
       "    </tr>\n",
       "    <tr>\n",
       "      <th>2</th>\n",
       "      <td>800.00</td>\n",
       "      <td>Closed fracture of vault of skull without ment...</td>\n",
       "      <td>2</td>\n",
       "      <td>1</td>\n",
       "      <td>1</td>\n",
       "      <td>110000.2</td>\n",
       "    </tr>\n",
       "    <tr>\n",
       "      <th>3</th>\n",
       "      <td>800.01</td>\n",
       "      <td>Closed fracture of vault of skull without ment...</td>\n",
       "      <td>2</td>\n",
       "      <td>1</td>\n",
       "      <td>1</td>\n",
       "      <td>110000.2</td>\n",
       "    </tr>\n",
       "    <tr>\n",
       "      <th>4</th>\n",
       "      <td>800.02</td>\n",
       "      <td>Closed fracture of vault of skull without ment...</td>\n",
       "      <td>2</td>\n",
       "      <td>1</td>\n",
       "      <td>1</td>\n",
       "      <td>110000.2</td>\n",
       "    </tr>\n",
       "  </tbody>\n",
       "</table>\n",
       "</div>"
      ],
      "text/plain": [
       "     CODE                                        DESCRIPTION  \\\n",
       "0     800                         Fracture Of Vault Of Skull   \n",
       "1   800.0  Closed Fracture Of Vault Of Skull Without Ment...   \n",
       "2  800.00  Closed fracture of vault of skull without ment...   \n",
       "3  800.01  Closed fracture of vault of skull without ment...   \n",
       "4  800.02  Closed fracture of vault of skull without ment...   \n",
       "\n",
       "   HIGHEST AIS SEVERITY  ISS BODY REGION  AIS CHAPTER  DEV_CODE  \n",
       "0                     2                1            1  110000.2  \n",
       "1                     2                1            1  110000.2  \n",
       "2                     2                1            1  110000.2  \n",
       "3                     2                1            1  110000.2  \n",
       "4                     2                1            1  110000.2  "
      ]
     },
     "execution_count": 13,
     "metadata": {},
     "output_type": "execute_result"
    }
   ],
   "source": [
    "aaam_map.head(5)"
   ]
  },
  {
   "cell_type": "markdown",
   "metadata": {},
   "source": [
    "## Convert ICD codes with tidy format"
   ]
  },
  {
   "cell_type": "code",
   "execution_count": 14,
   "metadata": {},
   "outputs": [],
   "source": [
    "# split strings into separate columns (wide format)\n",
    "icd_codes = icd_codes.ICD9CODE.str.split(' ', expand=True)"
   ]
  },
  {
   "cell_type": "code",
   "execution_count": 15,
   "metadata": {},
   "outputs": [
    {
     "data": {
      "text/html": [
       "<div>\n",
       "<style scoped>\n",
       "    .dataframe tbody tr th:only-of-type {\n",
       "        vertical-align: middle;\n",
       "    }\n",
       "\n",
       "    .dataframe tbody tr th {\n",
       "        vertical-align: top;\n",
       "    }\n",
       "\n",
       "    .dataframe thead th {\n",
       "        text-align: right;\n",
       "    }\n",
       "</style>\n",
       "<table border=\"1\" class=\"dataframe\">\n",
       "  <thead>\n",
       "    <tr style=\"text-align: right;\">\n",
       "      <th></th>\n",
       "      <th>0</th>\n",
       "      <th>1</th>\n",
       "      <th>2</th>\n",
       "      <th>3</th>\n",
       "      <th>4</th>\n",
       "      <th>5</th>\n",
       "      <th>6</th>\n",
       "      <th>7</th>\n",
       "      <th>8</th>\n",
       "      <th>9</th>\n",
       "      <th>...</th>\n",
       "      <th>117</th>\n",
       "      <th>118</th>\n",
       "      <th>119</th>\n",
       "      <th>120</th>\n",
       "      <th>121</th>\n",
       "      <th>122</th>\n",
       "      <th>123</th>\n",
       "      <th>124</th>\n",
       "      <th>125</th>\n",
       "      <th>126</th>\n",
       "    </tr>\n",
       "  </thead>\n",
       "  <tbody>\n",
       "    <tr>\n",
       "      <th>0</th>\n",
       "      <td>A79</td>\n",
       "      <td>E880.9</td>\n",
       "      <td>P87.03</td>\n",
       "      <td>P87.44</td>\n",
       "      <td>D850.0</td>\n",
       "      <td>None</td>\n",
       "      <td>None</td>\n",
       "      <td>None</td>\n",
       "      <td>None</td>\n",
       "      <td>None</td>\n",
       "      <td>...</td>\n",
       "      <td>None</td>\n",
       "      <td>None</td>\n",
       "      <td>None</td>\n",
       "      <td>None</td>\n",
       "      <td>None</td>\n",
       "      <td>None</td>\n",
       "      <td>None</td>\n",
       "      <td>None</td>\n",
       "      <td>None</td>\n",
       "      <td>None</td>\n",
       "    </tr>\n",
       "    <tr>\n",
       "      <th>1</th>\n",
       "      <td>A55</td>\n",
       "      <td>E884.9</td>\n",
       "      <td>P-2</td>\n",
       "      <td>D805.2</td>\n",
       "      <td>D805.4</td>\n",
       "      <td>D807.03</td>\n",
       "      <td>None</td>\n",
       "      <td>None</td>\n",
       "      <td>None</td>\n",
       "      <td>None</td>\n",
       "      <td>...</td>\n",
       "      <td>None</td>\n",
       "      <td>None</td>\n",
       "      <td>None</td>\n",
       "      <td>None</td>\n",
       "      <td>None</td>\n",
       "      <td>None</td>\n",
       "      <td>None</td>\n",
       "      <td>None</td>\n",
       "      <td>None</td>\n",
       "      <td>None</td>\n",
       "    </tr>\n",
       "    <tr>\n",
       "      <th>2</th>\n",
       "      <td>A70</td>\n",
       "      <td>E885.9</td>\n",
       "      <td>P79.35</td>\n",
       "      <td>P87.03</td>\n",
       "      <td>D820.21</td>\n",
       "      <td>None</td>\n",
       "      <td>None</td>\n",
       "      <td>None</td>\n",
       "      <td>None</td>\n",
       "      <td>None</td>\n",
       "      <td>...</td>\n",
       "      <td>None</td>\n",
       "      <td>None</td>\n",
       "      <td>None</td>\n",
       "      <td>None</td>\n",
       "      <td>None</td>\n",
       "      <td>None</td>\n",
       "      <td>None</td>\n",
       "      <td>None</td>\n",
       "      <td>None</td>\n",
       "      <td>None</td>\n",
       "    </tr>\n",
       "    <tr>\n",
       "      <th>3</th>\n",
       "      <td>A56</td>\n",
       "      <td>E881.0</td>\n",
       "      <td>P88.01</td>\n",
       "      <td>P88.38</td>\n",
       "      <td>D805.4</td>\n",
       "      <td>D823.01</td>\n",
       "      <td>D825.20</td>\n",
       "      <td>None</td>\n",
       "      <td>None</td>\n",
       "      <td>None</td>\n",
       "      <td>...</td>\n",
       "      <td>None</td>\n",
       "      <td>None</td>\n",
       "      <td>None</td>\n",
       "      <td>None</td>\n",
       "      <td>None</td>\n",
       "      <td>None</td>\n",
       "      <td>None</td>\n",
       "      <td>None</td>\n",
       "      <td>None</td>\n",
       "      <td>None</td>\n",
       "    </tr>\n",
       "    <tr>\n",
       "      <th>4</th>\n",
       "      <td>A40</td>\n",
       "      <td>E986</td>\n",
       "      <td>P54.11</td>\n",
       "      <td>D879.4</td>\n",
       "      <td>None</td>\n",
       "      <td>None</td>\n",
       "      <td>None</td>\n",
       "      <td>None</td>\n",
       "      <td>None</td>\n",
       "      <td>None</td>\n",
       "      <td>...</td>\n",
       "      <td>None</td>\n",
       "      <td>None</td>\n",
       "      <td>None</td>\n",
       "      <td>None</td>\n",
       "      <td>None</td>\n",
       "      <td>None</td>\n",
       "      <td>None</td>\n",
       "      <td>None</td>\n",
       "      <td>None</td>\n",
       "      <td>None</td>\n",
       "    </tr>\n",
       "    <tr>\n",
       "      <th>...</th>\n",
       "      <td>...</td>\n",
       "      <td>...</td>\n",
       "      <td>...</td>\n",
       "      <td>...</td>\n",
       "      <td>...</td>\n",
       "      <td>...</td>\n",
       "      <td>...</td>\n",
       "      <td>...</td>\n",
       "      <td>...</td>\n",
       "      <td>...</td>\n",
       "      <td>...</td>\n",
       "      <td>...</td>\n",
       "      <td>...</td>\n",
       "      <td>...</td>\n",
       "      <td>...</td>\n",
       "      <td>...</td>\n",
       "      <td>...</td>\n",
       "      <td>...</td>\n",
       "      <td>...</td>\n",
       "      <td>...</td>\n",
       "      <td>...</td>\n",
       "    </tr>\n",
       "    <tr>\n",
       "      <th>122369</th>\n",
       "      <td>A22</td>\n",
       "      <td>E881.1</td>\n",
       "      <td>P78.13</td>\n",
       "      <td>D812.40</td>\n",
       "      <td>D813.40</td>\n",
       "      <td>D813.43</td>\n",
       "      <td>D850.9</td>\n",
       "      <td>D884.0</td>\n",
       "      <td>None</td>\n",
       "      <td>None</td>\n",
       "      <td>...</td>\n",
       "      <td>None</td>\n",
       "      <td>None</td>\n",
       "      <td>None</td>\n",
       "      <td>None</td>\n",
       "      <td>None</td>\n",
       "      <td>None</td>\n",
       "      <td>None</td>\n",
       "      <td>None</td>\n",
       "      <td>None</td>\n",
       "      <td>None</td>\n",
       "    </tr>\n",
       "    <tr>\n",
       "      <th>122370</th>\n",
       "      <td>A66</td>\n",
       "      <td>E885.9</td>\n",
       "      <td>P-2</td>\n",
       "      <td>D852.01</td>\n",
       "      <td>D873.43</td>\n",
       "      <td>None</td>\n",
       "      <td>None</td>\n",
       "      <td>None</td>\n",
       "      <td>None</td>\n",
       "      <td>None</td>\n",
       "      <td>...</td>\n",
       "      <td>None</td>\n",
       "      <td>None</td>\n",
       "      <td>None</td>\n",
       "      <td>None</td>\n",
       "      <td>None</td>\n",
       "      <td>None</td>\n",
       "      <td>None</td>\n",
       "      <td>None</td>\n",
       "      <td>None</td>\n",
       "      <td>None</td>\n",
       "    </tr>\n",
       "    <tr>\n",
       "      <th>122371</th>\n",
       "      <td>A83</td>\n",
       "      <td>E888.9</td>\n",
       "      <td>P87.03</td>\n",
       "      <td>P88.38</td>\n",
       "      <td>P93.90</td>\n",
       "      <td>D852.05</td>\n",
       "      <td>D852.25</td>\n",
       "      <td>None</td>\n",
       "      <td>None</td>\n",
       "      <td>None</td>\n",
       "      <td>...</td>\n",
       "      <td>None</td>\n",
       "      <td>None</td>\n",
       "      <td>None</td>\n",
       "      <td>None</td>\n",
       "      <td>None</td>\n",
       "      <td>None</td>\n",
       "      <td>None</td>\n",
       "      <td>None</td>\n",
       "      <td>None</td>\n",
       "      <td>None</td>\n",
       "    </tr>\n",
       "    <tr>\n",
       "      <th>122372</th>\n",
       "      <td>A50</td>\n",
       "      <td>E816.0</td>\n",
       "      <td>P34.04</td>\n",
       "      <td>D807.09</td>\n",
       "      <td>D860.0</td>\n",
       "      <td>None</td>\n",
       "      <td>None</td>\n",
       "      <td>None</td>\n",
       "      <td>None</td>\n",
       "      <td>None</td>\n",
       "      <td>...</td>\n",
       "      <td>None</td>\n",
       "      <td>None</td>\n",
       "      <td>None</td>\n",
       "      <td>None</td>\n",
       "      <td>None</td>\n",
       "      <td>None</td>\n",
       "      <td>None</td>\n",
       "      <td>None</td>\n",
       "      <td>None</td>\n",
       "      <td>None</td>\n",
       "    </tr>\n",
       "    <tr>\n",
       "      <th>122373</th>\n",
       "      <td>A20</td>\n",
       "      <td>E812.1</td>\n",
       "      <td>P-2</td>\n",
       "      <td>D807.02</td>\n",
       "      <td>D812.31</td>\n",
       "      <td>D873.0</td>\n",
       "      <td>None</td>\n",
       "      <td>None</td>\n",
       "      <td>None</td>\n",
       "      <td>None</td>\n",
       "      <td>...</td>\n",
       "      <td>None</td>\n",
       "      <td>None</td>\n",
       "      <td>None</td>\n",
       "      <td>None</td>\n",
       "      <td>None</td>\n",
       "      <td>None</td>\n",
       "      <td>None</td>\n",
       "      <td>None</td>\n",
       "      <td>None</td>\n",
       "      <td>None</td>\n",
       "    </tr>\n",
       "  </tbody>\n",
       "</table>\n",
       "<p>122374 rows × 127 columns</p>\n",
       "</div>"
      ],
      "text/plain": [
       "        0       1       2        3        4        5        6       7     8    \\\n",
       "0       A79  E880.9  P87.03   P87.44   D850.0     None     None    None  None   \n",
       "1       A55  E884.9     P-2   D805.2   D805.4  D807.03     None    None  None   \n",
       "2       A70  E885.9  P79.35   P87.03  D820.21     None     None    None  None   \n",
       "3       A56  E881.0  P88.01   P88.38   D805.4  D823.01  D825.20    None  None   \n",
       "4       A40    E986  P54.11   D879.4     None     None     None    None  None   \n",
       "...     ...     ...     ...      ...      ...      ...      ...     ...   ...   \n",
       "122369  A22  E881.1  P78.13  D812.40  D813.40  D813.43   D850.9  D884.0  None   \n",
       "122370  A66  E885.9     P-2  D852.01  D873.43     None     None    None  None   \n",
       "122371  A83  E888.9  P87.03   P88.38   P93.90  D852.05  D852.25    None  None   \n",
       "122372  A50  E816.0  P34.04  D807.09   D860.0     None     None    None  None   \n",
       "122373  A20  E812.1     P-2  D807.02  D812.31   D873.0     None    None  None   \n",
       "\n",
       "         9    ...   117   118   119   120   121   122   123   124   125   126  \n",
       "0       None  ...  None  None  None  None  None  None  None  None  None  None  \n",
       "1       None  ...  None  None  None  None  None  None  None  None  None  None  \n",
       "2       None  ...  None  None  None  None  None  None  None  None  None  None  \n",
       "3       None  ...  None  None  None  None  None  None  None  None  None  None  \n",
       "4       None  ...  None  None  None  None  None  None  None  None  None  None  \n",
       "...      ...  ...   ...   ...   ...   ...   ...   ...   ...   ...   ...   ...  \n",
       "122369  None  ...  None  None  None  None  None  None  None  None  None  None  \n",
       "122370  None  ...  None  None  None  None  None  None  None  None  None  None  \n",
       "122371  None  ...  None  None  None  None  None  None  None  None  None  None  \n",
       "122372  None  ...  None  None  None  None  None  None  None  None  None  None  \n",
       "122373  None  ...  None  None  None  None  None  None  None  None  None  None  \n",
       "\n",
       "[122374 rows x 127 columns]"
      ]
     },
     "execution_count": 15,
     "metadata": {},
     "output_type": "execute_result"
    }
   ],
   "source": [
    "icd_codes"
   ]
  },
  {
   "cell_type": "code",
   "execution_count": 16,
   "metadata": {},
   "outputs": [],
   "source": [
    "# convert to long format\n",
    "icd_codes = pd.DataFrame(icd_codes.stack()).reset_index().rename(columns={'level_0':'key',0:'icd9_code'}).drop(columns=['level_1'])"
   ]
  },
  {
   "cell_type": "markdown",
   "metadata": {},
   "source": [
    "## Trim to only diagnosis codes"
   ]
  },
  {
   "cell_type": "code",
   "execution_count": 17,
   "metadata": {},
   "outputs": [],
   "source": [
    "# remove all codes that are not 'D' codes\n",
    "icd_codes = icd_codes[icd_codes.icd9_code.str.contains('D')].reset_index(drop=True)\n",
    "#icd_codes = icd_codes[~icd_codes.icd9_code.str.contains('V')].reset_index(drop=True)"
   ]
  },
  {
   "cell_type": "code",
   "execution_count": 18,
   "metadata": {},
   "outputs": [],
   "source": [
    "# remove leading 'D' \n",
    "icd_codes['icd9_code'] = icd_codes.icd9_code.apply(lambda x: x.lstrip('D'))"
   ]
  },
  {
   "cell_type": "code",
   "execution_count": 19,
   "metadata": {},
   "outputs": [
    {
     "data": {
      "text/plain": [
       "440800"
      ]
     },
     "execution_count": 19,
     "metadata": {},
     "output_type": "execute_result"
    }
   ],
   "source": [
    "len(icd_codes)"
   ]
  },
  {
   "cell_type": "markdown",
   "metadata": {},
   "source": [
    "## Map ICD9 to AIS 08"
   ]
  },
  {
   "cell_type": "code",
   "execution_count": 20,
   "metadata": {},
   "outputs": [],
   "source": [
    "# merge map onto ICD codes\n",
    "icd_codes = icd_codes.merge(aaam_map[['CODE','DEV_CODE']], how='left', left_on='icd9_code', right_on='CODE')"
   ]
  },
  {
   "cell_type": "code",
   "execution_count": 21,
   "metadata": {},
   "outputs": [],
   "source": [
    "# sort in ascending order\n",
    "icd_codes = icd_codes.sort_values(['key','DEV_CODE'])"
   ]
  },
  {
   "cell_type": "code",
   "execution_count": 22,
   "metadata": {},
   "outputs": [],
   "source": [
    "# convert codes to numbers\n",
    "icd_codes['DEV_CODE'] = icd_codes.DEV_CODE.astype(np.float64)"
   ]
  },
  {
   "cell_type": "code",
   "execution_count": 23,
   "metadata": {},
   "outputs": [],
   "source": [
    "# fill in unmapped codes with '-1'\n",
    "icd_codes = icd_codes.fillna(-1)"
   ]
  },
  {
   "cell_type": "code",
   "execution_count": 24,
   "metadata": {},
   "outputs": [],
   "source": [
    "# fill in uspecified codes with 0\n",
    "icd_codes = icd_codes.replace(-100000, 0)"
   ]
  },
  {
   "cell_type": "markdown",
   "metadata": {},
   "source": [
    "## Evaluate map"
   ]
  },
  {
   "cell_type": "code",
   "execution_count": 25,
   "metadata": {},
   "outputs": [
    {
     "name": "stdout",
     "output_type": "stream",
     "text": [
      "Unmatched 20485\n",
      "% Unmatched 4.647232304900181\n"
     ]
    }
   ],
   "source": [
    "# number of codes that do not map\n",
    "print(\"Unmatched\", sum(icd_codes.DEV_CODE==-1))\n",
    "print(\"% Unmatched\", sum(icd_codes.DEV_CODE==-1)/len(icd_codes)*100)"
   ]
  },
  {
   "cell_type": "code",
   "execution_count": 26,
   "metadata": {},
   "outputs": [
    {
     "name": "stdout",
     "output_type": "stream",
     "text": [
      "Unspecified 2266\n",
      "% Unspecified 0.514065335753176\n"
     ]
    }
   ],
   "source": [
    "# number of unspecified codes\n",
    "print(\"Unspecified\", sum(icd_codes.DEV_CODE==0))\n",
    "print(\"% Unspecified\", sum(icd_codes.DEV_CODE==0)/len(icd_codes)*100)"
   ]
  },
  {
   "cell_type": "code",
   "execution_count": 27,
   "metadata": {},
   "outputs": [
    {
     "data": {
      "text/plain": [
       "440800"
      ]
     },
     "execution_count": 27,
     "metadata": {},
     "output_type": "execute_result"
    }
   ],
   "source": [
    "# number of codes\n",
    "len(icd_codes)"
   ]
  },
  {
   "cell_type": "code",
   "execution_count": 28,
   "metadata": {},
   "outputs": [
    {
     "data": {
      "text/plain": [
       "122374"
      ]
     },
     "execution_count": 28,
     "metadata": {},
     "output_type": "execute_result"
    }
   ],
   "source": [
    "# number of patients\n",
    "len(icd_codes.key.unique())"
   ]
  },
  {
   "cell_type": "markdown",
   "metadata": {},
   "source": [
    "## Convert to codes list"
   ]
  },
  {
   "cell_type": "code",
   "execution_count": 29,
   "metadata": {},
   "outputs": [],
   "source": [
    "icd_codes = icd_codes.groupby('key')['DEV_CODE'].apply(list).reset_index(name='DEV_CODE').drop(columns=['key'])"
   ]
  },
  {
   "cell_type": "code",
   "execution_count": 30,
   "metadata": {},
   "outputs": [
    {
     "data": {
      "text/html": [
       "<div>\n",
       "<style scoped>\n",
       "    .dataframe tbody tr th:only-of-type {\n",
       "        vertical-align: middle;\n",
       "    }\n",
       "\n",
       "    .dataframe tbody tr th {\n",
       "        vertical-align: top;\n",
       "    }\n",
       "\n",
       "    .dataframe thead th {\n",
       "        text-align: right;\n",
       "    }\n",
       "</style>\n",
       "<table border=\"1\" class=\"dataframe\">\n",
       "  <thead>\n",
       "    <tr style=\"text-align: right;\">\n",
       "      <th></th>\n",
       "      <th>DEV_CODE</th>\n",
       "    </tr>\n",
       "  </thead>\n",
       "  <tbody>\n",
       "    <tr>\n",
       "      <th>0</th>\n",
       "      <td>[110000.1]</td>\n",
       "    </tr>\n",
       "    <tr>\n",
       "      <th>1</th>\n",
       "      <td>[420000.3, 620000.2, 630000.2]</td>\n",
       "    </tr>\n",
       "    <tr>\n",
       "      <th>2</th>\n",
       "      <td>[840000.3]</td>\n",
       "    </tr>\n",
       "    <tr>\n",
       "      <th>3</th>\n",
       "      <td>[630000.2, 840000.2, 840000.2]</td>\n",
       "    </tr>\n",
       "    <tr>\n",
       "      <th>4</th>\n",
       "      <td>[560000.1]</td>\n",
       "    </tr>\n",
       "  </tbody>\n",
       "</table>\n",
       "</div>"
      ],
      "text/plain": [
       "                         DEV_CODE\n",
       "0                      [110000.1]\n",
       "1  [420000.3, 620000.2, 630000.2]\n",
       "2                      [840000.3]\n",
       "3  [630000.2, 840000.2, 840000.2]\n",
       "4                      [560000.1]"
      ]
     },
     "execution_count": 30,
     "metadata": {},
     "output_type": "execute_result"
    }
   ],
   "source": [
    "icd_codes.head(5)"
   ]
  },
  {
   "cell_type": "markdown",
   "metadata": {},
   "source": [
    "## Store results"
   ]
  },
  {
   "cell_type": "code",
   "execution_count": 31,
   "metadata": {},
   "outputs": [],
   "source": [
    "icd_codes.to_csv(\"../Results/test_ais_pred_aaam_map.csv\", index=False, header=False)"
   ]
  }
 ],
 "metadata": {
  "kernelspec": {
   "display_name": "Python 3.8",
   "language": "python",
   "name": "python-3.8"
  },
  "language_info": {
   "codemirror_mode": {
    "name": "ipython",
    "version": 3
   },
   "file_extension": ".py",
   "mimetype": "text/x-python",
   "name": "python",
   "nbconvert_exporter": "python",
   "pygments_lexer": "ipython3",
   "version": "3.8.8"
  }
 },
 "nbformat": 4,
 "nbformat_minor": 4
}
