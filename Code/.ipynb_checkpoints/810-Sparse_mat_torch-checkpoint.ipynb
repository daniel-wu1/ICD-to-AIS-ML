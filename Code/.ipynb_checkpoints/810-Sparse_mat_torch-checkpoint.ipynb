{
 "cells": [
  {
   "cell_type": "markdown",
   "metadata": {},
   "source": [
    "# Project: ICD-AIS conversion using Deep Learning\n",
    "\n",
    "### This script creates sparse matrices for the input and output files and creates a neural net using that data"
   ]
  },
  {
   "cell_type": "markdown",
   "metadata": {},
   "source": [
    "## Setup"
   ]
  },
  {
   "cell_type": "code",
   "execution_count": 1,
   "metadata": {},
   "outputs": [],
   "source": [
    "import pandas as pd\n",
    "import numpy as np\n",
    "import torch\n",
    "from torch import nn, optim\n",
    "from torch.utils.data import DataLoader, Dataset\n",
    "import matplotlib.pyplot as plt\n",
    "import math\n",
    "import time\n",
    "\n",
    "import modules.helper_functions_800 as hlp800\n",
    "import modules.helper_functions_200 as hlp200"
   ]
  },
  {
   "cell_type": "code",
   "execution_count": 2,
   "metadata": {},
   "outputs": [],
   "source": [
    "ais_train_file = \"../Data/train_ais_agecat_I9_A05.csv\"\n",
    "icd_train_file =\"../Data/train_icd_agecat_I9_A05.csv\"\n",
    "ais_val_file = \"../Data/val_ais_agecat_I9_A05.csv\"\n",
    "icd_val_file =\"../Data/val_icd_agecat_I9_A05.csv\"\n",
    "ais_test_file = \"../Data/test_ais_agecat_I9_A05.csv\"\n",
    "icd_test_file =\"../Data/test_icd_agecat_I9_A05.csv\"\n",
    "\n",
    "ais_codes_file = \"../Data/AIS08_codes.csv\"\n",
    "ais_map_file = \"../Results/test_ais_pred_aaam_map.csv\"\n",
    "\n",
    "MODEL_ROOT_PATH = '/home/qdy4zt/ICD_to_AIS_playground/Models/' # Path that models will be stored in"
   ]
  },
  {
   "cell_type": "code",
   "execution_count": 3,
   "metadata": {},
   "outputs": [],
   "source": [
    "icd_train = pd.read_csv(icd_train_file, header=None, names=[\"icd_code\"])\n",
    "icd_val = pd.read_csv(icd_val_file, header=None, names=[\"icd_code\"])\n",
    "icd_test = pd.read_csv(icd_test_file, header=None, names=[\"icd_code\"])\n",
    "ais_train = pd.read_csv(ais_train_file, header=None, names=[\"icd_code\"])\n",
    "ais_val = pd.read_csv(ais_val_file, header=None, names=[\"icd_code\"])\n",
    "ais_test = pd.read_csv(ais_test_file, header=None, names=[\"icd_code\"])\n",
    "\n",
    "# load mapped values\n",
    "ais_map = pd.read_csv(ais_map_file, header=None, skip_blank_lines=False, names=[\"AIS05CODE\"])\n",
    "# load AIS codes\n",
    "ais_codes_file = \"../Data/AIS08_codes.csv\" # This maps AIS08 to AIS98\n",
    "ais_codes_df = pd.read_csv(ais_codes_file, header=0, encoding='iso-8859-1')\n",
    "# Make dictionary of codes to get full code with post dot from just the predot\n",
    "# get predot code\n",
    "ais_codes_df['predot'] = ais_codes_df.code.apply(lambda x: math.floor(x))\n",
    "ais_dot = hlp200.get_ais_dot_map(ais_codes_df)"
   ]
  },
  {
   "cell_type": "markdown",
   "metadata": {},
   "source": [
    "## Retrieve all data to train the neural net\n",
    "\n",
    "### Only use this if you want to skip to [creating a neural net](#neural_net) with a new kernel as opposed to running the whole notebook again."
   ]
  },
  {
   "cell_type": "code",
   "execution_count": 4,
   "metadata": {},
   "outputs": [],
   "source": [
    "%store -r icd_codes\n",
    "icd_dict = dict(zip(icd_codes, list(range(len(icd_codes)))))\n",
    "\n",
    "%store -r ais_codes\n",
    "ais_dict = dict(zip(ais_codes, list(range(len(ais_codes)))))\n",
    "\n",
    "%store -r spliced_icd_train\n",
    "%store -r spliced_icd_test\n",
    "%store -r spliced_icd_val\n",
    "\n",
    "%store -r spliced_ais_train\n",
    "%store -r spliced_ais_test\n",
    "%store -r spliced_ais_val\n",
    "\n",
    "# Create inverted dicts to test validity\n",
    "icd_inverted_dict = {v: k for k, v in icd_dict.items()}\n",
    "ais_inverted_dict = {v: k for k, v in ais_dict.items()}"
   ]
  },
  {
   "cell_type": "markdown",
   "metadata": {},
   "source": [
    "## Set batch size\n",
    "\n",
    "### Changing the batch size means you must [recreate sparse matrices](#CreateSparse)"
   ]
  },
  {
   "cell_type": "code",
   "execution_count": 5,
   "metadata": {},
   "outputs": [],
   "source": [
    "# Decide on a batch size for training neural net\n",
    "# This is up here to create an array of spliced sparse matrices based on batch size\n",
    "batch_size = 1000 "
   ]
  },
  {
   "cell_type": "markdown",
   "metadata": {},
   "source": [
    "## Extract all unique patient ICD and AIS codes"
   ]
  },
  {
   "cell_type": "code",
   "execution_count": 85,
   "metadata": {
    "collapsed": true,
    "jupyter": {
     "outputs_hidden": true
    }
   },
   "outputs": [
    {
     "ename": "KeyboardInterrupt",
     "evalue": "",
     "output_type": "error",
     "traceback": [
      "\u001b[0;31m---------------------------------------------------------------------------\u001b[0m",
      "\u001b[0;31mKeyboardInterrupt\u001b[0m                         Traceback (most recent call last)",
      "\u001b[0;32m<timed exec>\u001b[0m in \u001b[0;36m<module>\u001b[0;34m\u001b[0m\n",
      "\u001b[0;32m/sfs/qumulo/qhome/qdy4zt/ICD_to_AIS_playground/Code/modules/helper_functions_800.py\u001b[0m in \u001b[0;36mget_unique_codes\u001b[0;34m(dfs)\u001b[0m\n\u001b[1;32m     23\u001b[0m         \u001b[0;32mfor\u001b[0m \u001b[0mi\u001b[0m \u001b[0;32min\u001b[0m \u001b[0mrange\u001b[0m\u001b[0;34m(\u001b[0m\u001b[0;36m0\u001b[0m\u001b[0;34m,\u001b[0m\u001b[0mlen\u001b[0m\u001b[0;34m(\u001b[0m\u001b[0mdf\u001b[0m\u001b[0;34m)\u001b[0m\u001b[0;34m)\u001b[0m\u001b[0;34m:\u001b[0m\u001b[0;34m\u001b[0m\u001b[0;34m\u001b[0m\u001b[0m\n\u001b[1;32m     24\u001b[0m              \u001b[0;31m# extract line and split into\u001b[0m\u001b[0;34m\u001b[0m\u001b[0;34m\u001b[0m\u001b[0;34m\u001b[0m\u001b[0m\n\u001b[0;32m---> 25\u001b[0;31m             \u001b[0mline\u001b[0m \u001b[0;34m=\u001b[0m \u001b[0mdf\u001b[0m\u001b[0;34m.\u001b[0m\u001b[0miloc\u001b[0m\u001b[0;34m[\u001b[0m\u001b[0mi\u001b[0m\u001b[0;34m]\u001b[0m\u001b[0;34m.\u001b[0m\u001b[0mstr\u001b[0m\u001b[0;34m.\u001b[0m\u001b[0msplit\u001b[0m\u001b[0;34m(\u001b[0m\u001b[0;34m\" \"\u001b[0m\u001b[0;34m)\u001b[0m\u001b[0;34m.\u001b[0m\u001b[0mvalues\u001b[0m\u001b[0;34m[\u001b[0m\u001b[0;36m0\u001b[0m\u001b[0;34m]\u001b[0m\u001b[0;34m\u001b[0m\u001b[0;34m\u001b[0m\u001b[0m\n\u001b[0m\u001b[1;32m     26\u001b[0m             \u001b[0;31m# loop through terms\u001b[0m\u001b[0;34m\u001b[0m\u001b[0;34m\u001b[0m\u001b[0;34m\u001b[0m\u001b[0m\n\u001b[1;32m     27\u001b[0m             \u001b[0;32mfor\u001b[0m \u001b[0mj\u001b[0m \u001b[0;32min\u001b[0m \u001b[0mline\u001b[0m\u001b[0;34m:\u001b[0m\u001b[0;34m\u001b[0m\u001b[0;34m\u001b[0m\u001b[0m\n",
      "\u001b[0;32m/apps/software/standard/compiler/gcc/9.2.0/jupyter_conda/2020.11-py3.8/lib/python3.8/site-packages/pandas/core/strings.py\u001b[0m in \u001b[0;36mwrapper\u001b[0;34m(self, *args, **kwargs)\u001b[0m\n\u001b[1;32m   1999\u001b[0m                 )\n\u001b[1;32m   2000\u001b[0m                 \u001b[0;32mraise\u001b[0m \u001b[0mTypeError\u001b[0m\u001b[0;34m(\u001b[0m\u001b[0mmsg\u001b[0m\u001b[0;34m)\u001b[0m\u001b[0;34m\u001b[0m\u001b[0;34m\u001b[0m\u001b[0m\n\u001b[0;32m-> 2001\u001b[0;31m             \u001b[0;32mreturn\u001b[0m \u001b[0mfunc\u001b[0m\u001b[0;34m(\u001b[0m\u001b[0mself\u001b[0m\u001b[0;34m,\u001b[0m \u001b[0;34m*\u001b[0m\u001b[0margs\u001b[0m\u001b[0;34m,\u001b[0m \u001b[0;34m**\u001b[0m\u001b[0mkwargs\u001b[0m\u001b[0;34m)\u001b[0m\u001b[0;34m\u001b[0m\u001b[0;34m\u001b[0m\u001b[0m\n\u001b[0m\u001b[1;32m   2002\u001b[0m \u001b[0;34m\u001b[0m\u001b[0m\n\u001b[1;32m   2003\u001b[0m         \u001b[0mwrapper\u001b[0m\u001b[0;34m.\u001b[0m\u001b[0m__name__\u001b[0m \u001b[0;34m=\u001b[0m \u001b[0mfunc_name\u001b[0m\u001b[0;34m\u001b[0m\u001b[0;34m\u001b[0m\u001b[0m\n",
      "\u001b[0;32m/apps/software/standard/compiler/gcc/9.2.0/jupyter_conda/2020.11-py3.8/lib/python3.8/site-packages/pandas/core/strings.py\u001b[0m in \u001b[0;36msplit\u001b[0;34m(self, pat, n, expand)\u001b[0m\n\u001b[1;32m   2687\u001b[0m     \u001b[0;34m@\u001b[0m\u001b[0mforbid_nonstring_types\u001b[0m\u001b[0;34m(\u001b[0m\u001b[0;34m[\u001b[0m\u001b[0;34m\"bytes\"\u001b[0m\u001b[0;34m]\u001b[0m\u001b[0;34m)\u001b[0m\u001b[0;34m\u001b[0m\u001b[0;34m\u001b[0m\u001b[0m\n\u001b[1;32m   2688\u001b[0m     \u001b[0;32mdef\u001b[0m \u001b[0msplit\u001b[0m\u001b[0;34m(\u001b[0m\u001b[0mself\u001b[0m\u001b[0;34m,\u001b[0m \u001b[0mpat\u001b[0m\u001b[0;34m=\u001b[0m\u001b[0;32mNone\u001b[0m\u001b[0;34m,\u001b[0m \u001b[0mn\u001b[0m\u001b[0;34m=\u001b[0m\u001b[0;34m-\u001b[0m\u001b[0;36m1\u001b[0m\u001b[0;34m,\u001b[0m \u001b[0mexpand\u001b[0m\u001b[0;34m=\u001b[0m\u001b[0;32mFalse\u001b[0m\u001b[0;34m)\u001b[0m\u001b[0;34m:\u001b[0m\u001b[0;34m\u001b[0m\u001b[0;34m\u001b[0m\u001b[0m\n\u001b[0;32m-> 2689\u001b[0;31m         \u001b[0mresult\u001b[0m \u001b[0;34m=\u001b[0m \u001b[0mstr_split\u001b[0m\u001b[0;34m(\u001b[0m\u001b[0mself\u001b[0m\u001b[0;34m.\u001b[0m\u001b[0m_parent\u001b[0m\u001b[0;34m,\u001b[0m \u001b[0mpat\u001b[0m\u001b[0;34m,\u001b[0m \u001b[0mn\u001b[0m\u001b[0;34m=\u001b[0m\u001b[0mn\u001b[0m\u001b[0;34m)\u001b[0m\u001b[0;34m\u001b[0m\u001b[0;34m\u001b[0m\u001b[0m\n\u001b[0m\u001b[1;32m   2690\u001b[0m         \u001b[0;32mreturn\u001b[0m \u001b[0mself\u001b[0m\u001b[0;34m.\u001b[0m\u001b[0m_wrap_result\u001b[0m\u001b[0;34m(\u001b[0m\u001b[0mresult\u001b[0m\u001b[0;34m,\u001b[0m \u001b[0mexpand\u001b[0m\u001b[0;34m=\u001b[0m\u001b[0mexpand\u001b[0m\u001b[0;34m,\u001b[0m \u001b[0mreturns_string\u001b[0m\u001b[0;34m=\u001b[0m\u001b[0mexpand\u001b[0m\u001b[0;34m)\u001b[0m\u001b[0;34m\u001b[0m\u001b[0;34m\u001b[0m\u001b[0m\n\u001b[1;32m   2691\u001b[0m \u001b[0;34m\u001b[0m\u001b[0m\n",
      "\u001b[0;32m/apps/software/standard/compiler/gcc/9.2.0/jupyter_conda/2020.11-py3.8/lib/python3.8/site-packages/pandas/core/strings.py\u001b[0m in \u001b[0;36mstr_split\u001b[0;34m(arr, pat, n)\u001b[0m\n\u001b[1;32m   1540\u001b[0m             \u001b[0mregex\u001b[0m \u001b[0;34m=\u001b[0m \u001b[0mre\u001b[0m\u001b[0;34m.\u001b[0m\u001b[0mcompile\u001b[0m\u001b[0;34m(\u001b[0m\u001b[0mpat\u001b[0m\u001b[0;34m)\u001b[0m\u001b[0;34m\u001b[0m\u001b[0;34m\u001b[0m\u001b[0m\n\u001b[1;32m   1541\u001b[0m             \u001b[0mf\u001b[0m \u001b[0;34m=\u001b[0m \u001b[0;32mlambda\u001b[0m \u001b[0mx\u001b[0m\u001b[0;34m:\u001b[0m \u001b[0mregex\u001b[0m\u001b[0;34m.\u001b[0m\u001b[0msplit\u001b[0m\u001b[0;34m(\u001b[0m\u001b[0mx\u001b[0m\u001b[0;34m,\u001b[0m \u001b[0mmaxsplit\u001b[0m\u001b[0;34m=\u001b[0m\u001b[0mn\u001b[0m\u001b[0;34m)\u001b[0m\u001b[0;34m\u001b[0m\u001b[0;34m\u001b[0m\u001b[0m\n\u001b[0;32m-> 1542\u001b[0;31m     \u001b[0mres\u001b[0m \u001b[0;34m=\u001b[0m \u001b[0m_na_map\u001b[0m\u001b[0;34m(\u001b[0m\u001b[0mf\u001b[0m\u001b[0;34m,\u001b[0m \u001b[0marr\u001b[0m\u001b[0;34m)\u001b[0m\u001b[0;34m\u001b[0m\u001b[0;34m\u001b[0m\u001b[0m\n\u001b[0m\u001b[1;32m   1543\u001b[0m     \u001b[0;32mreturn\u001b[0m \u001b[0mres\u001b[0m\u001b[0;34m\u001b[0m\u001b[0;34m\u001b[0m\u001b[0m\n\u001b[1;32m   1544\u001b[0m \u001b[0;34m\u001b[0m\u001b[0m\n",
      "\u001b[0;32m/apps/software/standard/compiler/gcc/9.2.0/jupyter_conda/2020.11-py3.8/lib/python3.8/site-packages/pandas/core/strings.py\u001b[0m in \u001b[0;36m_na_map\u001b[0;34m(f, arr, na_result, dtype)\u001b[0m\n\u001b[1;32m    128\u001b[0m     \u001b[0;32mif\u001b[0m \u001b[0mna_result\u001b[0m \u001b[0;32mis\u001b[0m \u001b[0;32mNone\u001b[0m\u001b[0;34m:\u001b[0m\u001b[0;34m\u001b[0m\u001b[0;34m\u001b[0m\u001b[0m\n\u001b[1;32m    129\u001b[0m         \u001b[0mna_result\u001b[0m \u001b[0;34m=\u001b[0m \u001b[0mnp\u001b[0m\u001b[0;34m.\u001b[0m\u001b[0mnan\u001b[0m\u001b[0;34m\u001b[0m\u001b[0;34m\u001b[0m\u001b[0m\n\u001b[0;32m--> 130\u001b[0;31m     \u001b[0;32mreturn\u001b[0m \u001b[0m_map_object\u001b[0m\u001b[0;34m(\u001b[0m\u001b[0mf\u001b[0m\u001b[0;34m,\u001b[0m \u001b[0marr\u001b[0m\u001b[0;34m,\u001b[0m \u001b[0mna_mask\u001b[0m\u001b[0;34m=\u001b[0m\u001b[0;32mTrue\u001b[0m\u001b[0;34m,\u001b[0m \u001b[0mna_value\u001b[0m\u001b[0;34m=\u001b[0m\u001b[0mna_result\u001b[0m\u001b[0;34m,\u001b[0m \u001b[0mdtype\u001b[0m\u001b[0;34m=\u001b[0m\u001b[0mdtype\u001b[0m\u001b[0;34m)\u001b[0m\u001b[0;34m\u001b[0m\u001b[0;34m\u001b[0m\u001b[0m\n\u001b[0m\u001b[1;32m    131\u001b[0m \u001b[0;34m\u001b[0m\u001b[0m\n\u001b[1;32m    132\u001b[0m \u001b[0;34m\u001b[0m\u001b[0m\n",
      "\u001b[0;32m/apps/software/standard/compiler/gcc/9.2.0/jupyter_conda/2020.11-py3.8/lib/python3.8/site-packages/pandas/core/strings.py\u001b[0m in \u001b[0;36m_map_object\u001b[0;34m(f, arr, na_mask, na_value, dtype)\u001b[0m\n\u001b[1;32m    213\u001b[0m         \u001b[0mconvert\u001b[0m \u001b[0;34m=\u001b[0m \u001b[0;32mnot\u001b[0m \u001b[0mnp\u001b[0m\u001b[0;34m.\u001b[0m\u001b[0mall\u001b[0m\u001b[0;34m(\u001b[0m\u001b[0mmask\u001b[0m\u001b[0;34m)\u001b[0m\u001b[0;34m\u001b[0m\u001b[0;34m\u001b[0m\u001b[0m\n\u001b[1;32m    214\u001b[0m         \u001b[0;32mtry\u001b[0m\u001b[0;34m:\u001b[0m\u001b[0;34m\u001b[0m\u001b[0;34m\u001b[0m\u001b[0m\n\u001b[0;32m--> 215\u001b[0;31m             \u001b[0mresult\u001b[0m \u001b[0;34m=\u001b[0m \u001b[0mlib\u001b[0m\u001b[0;34m.\u001b[0m\u001b[0mmap_infer_mask\u001b[0m\u001b[0;34m(\u001b[0m\u001b[0marr\u001b[0m\u001b[0;34m,\u001b[0m \u001b[0mf\u001b[0m\u001b[0;34m,\u001b[0m \u001b[0mmask\u001b[0m\u001b[0;34m.\u001b[0m\u001b[0mview\u001b[0m\u001b[0;34m(\u001b[0m\u001b[0mnp\u001b[0m\u001b[0;34m.\u001b[0m\u001b[0muint8\u001b[0m\u001b[0;34m)\u001b[0m\u001b[0;34m,\u001b[0m \u001b[0mconvert\u001b[0m\u001b[0;34m)\u001b[0m\u001b[0;34m\u001b[0m\u001b[0;34m\u001b[0m\u001b[0m\n\u001b[0m\u001b[1;32m    216\u001b[0m         \u001b[0;32mexcept\u001b[0m \u001b[0;34m(\u001b[0m\u001b[0mTypeError\u001b[0m\u001b[0;34m,\u001b[0m \u001b[0mAttributeError\u001b[0m\u001b[0;34m)\u001b[0m \u001b[0;32mas\u001b[0m \u001b[0me\u001b[0m\u001b[0;34m:\u001b[0m\u001b[0;34m\u001b[0m\u001b[0;34m\u001b[0m\u001b[0m\n\u001b[1;32m    217\u001b[0m             \u001b[0;31m# Reraise the exception if callable `f` got wrong number of args.\u001b[0m\u001b[0;34m\u001b[0m\u001b[0;34m\u001b[0m\u001b[0;34m\u001b[0m\u001b[0m\n",
      "\u001b[0;32mpandas/_libs/lib.pyx\u001b[0m in \u001b[0;36mpandas._libs.lib.map_infer_mask\u001b[0;34m()\u001b[0m\n",
      "\u001b[0;32mpandas/_libs/lib.pyx\u001b[0m in \u001b[0;36mpandas._libs.lib.maybe_convert_objects\u001b[0;34m()\u001b[0m\n",
      "\u001b[0;32m/apps/software/standard/compiler/gcc/9.2.0/jupyter_conda/2020.11-py3.8/lib/python3.8/site-packages/numpy/core/numeric.py\u001b[0m in \u001b[0;36mfull\u001b[0;34m(shape, fill_value, dtype, order)\u001b[0m\n\u001b[1;32m    266\u001b[0m \u001b[0;34m\u001b[0m\u001b[0m\n\u001b[1;32m    267\u001b[0m \u001b[0;34m\u001b[0m\u001b[0m\n\u001b[0;32m--> 268\u001b[0;31m \u001b[0;34m@\u001b[0m\u001b[0mset_module\u001b[0m\u001b[0;34m(\u001b[0m\u001b[0;34m'numpy'\u001b[0m\u001b[0;34m)\u001b[0m\u001b[0;34m\u001b[0m\u001b[0;34m\u001b[0m\u001b[0m\n\u001b[0m\u001b[1;32m    269\u001b[0m \u001b[0;32mdef\u001b[0m \u001b[0mfull\u001b[0m\u001b[0;34m(\u001b[0m\u001b[0mshape\u001b[0m\u001b[0;34m,\u001b[0m \u001b[0mfill_value\u001b[0m\u001b[0;34m,\u001b[0m \u001b[0mdtype\u001b[0m\u001b[0;34m=\u001b[0m\u001b[0;32mNone\u001b[0m\u001b[0;34m,\u001b[0m \u001b[0morder\u001b[0m\u001b[0;34m=\u001b[0m\u001b[0;34m'C'\u001b[0m\u001b[0;34m)\u001b[0m\u001b[0;34m:\u001b[0m\u001b[0;34m\u001b[0m\u001b[0;34m\u001b[0m\u001b[0m\n\u001b[1;32m    270\u001b[0m     \"\"\"\n",
      "\u001b[0;31mKeyboardInterrupt\u001b[0m: "
     ]
    }
   ],
   "source": [
    "%%time\n",
    "# get unique icd codes from all sets\n",
    "icd_codes = hlp800.get_unique_codes([icd_train, icd_val, icd_test])\n",
    "%store icd_codes"
   ]
  },
  {
   "cell_type": "code",
   "execution_count": 115,
   "metadata": {},
   "outputs": [],
   "source": [
    "# create dictionary of ICD codes\n",
    "icd_dict = dict(zip(icd_codes, list(range(len(icd_codes)))))"
   ]
  },
  {
   "cell_type": "code",
   "execution_count": 112,
   "metadata": {
    "collapsed": true,
    "jupyter": {
     "outputs_hidden": true
    }
   },
   "outputs": [
    {
     "ename": "KeyboardInterrupt",
     "evalue": "",
     "output_type": "error",
     "traceback": [
      "\u001b[0;31m---------------------------------------------------------------------------\u001b[0m",
      "\u001b[0;31mKeyboardInterrupt\u001b[0m                         Traceback (most recent call last)",
      "\u001b[0;32m<timed exec>\u001b[0m in \u001b[0;36m<module>\u001b[0;34m\u001b[0m\n",
      "\u001b[0;32m/sfs/qumulo/qhome/qdy4zt/ICD_to_AIS_playground/Code/modules/helper_functions_800.py\u001b[0m in \u001b[0;36mget_unique_codes\u001b[0;34m(dfs)\u001b[0m\n\u001b[1;32m     90\u001b[0m         \u001b[0;32mfor\u001b[0m \u001b[0mi\u001b[0m \u001b[0;32min\u001b[0m \u001b[0mrange\u001b[0m\u001b[0;34m(\u001b[0m\u001b[0;36m0\u001b[0m\u001b[0;34m,\u001b[0m\u001b[0mlen\u001b[0m\u001b[0;34m(\u001b[0m\u001b[0mdf\u001b[0m\u001b[0;34m)\u001b[0m\u001b[0;34m)\u001b[0m\u001b[0;34m:\u001b[0m\u001b[0;34m\u001b[0m\u001b[0;34m\u001b[0m\u001b[0m\n\u001b[1;32m     91\u001b[0m              \u001b[0;31m# extract line and split into\u001b[0m\u001b[0;34m\u001b[0m\u001b[0;34m\u001b[0m\u001b[0;34m\u001b[0m\u001b[0m\n\u001b[0;32m---> 92\u001b[0;31m             \u001b[0mline\u001b[0m \u001b[0;34m=\u001b[0m \u001b[0mdf\u001b[0m\u001b[0;34m.\u001b[0m\u001b[0miloc\u001b[0m\u001b[0;34m[\u001b[0m\u001b[0mi\u001b[0m\u001b[0;34m]\u001b[0m\u001b[0;34m.\u001b[0m\u001b[0mstr\u001b[0m\u001b[0;34m.\u001b[0m\u001b[0msplit\u001b[0m\u001b[0;34m(\u001b[0m\u001b[0;34m\" \"\u001b[0m\u001b[0;34m)\u001b[0m\u001b[0;34m.\u001b[0m\u001b[0mvalues\u001b[0m\u001b[0;34m[\u001b[0m\u001b[0;36m0\u001b[0m\u001b[0;34m]\u001b[0m\u001b[0;34m\u001b[0m\u001b[0;34m\u001b[0m\u001b[0m\n\u001b[0m\u001b[1;32m     93\u001b[0m             \u001b[0;31m# loop through terms\u001b[0m\u001b[0;34m\u001b[0m\u001b[0;34m\u001b[0m\u001b[0;34m\u001b[0m\u001b[0m\n\u001b[1;32m     94\u001b[0m             \u001b[0;32mfor\u001b[0m \u001b[0mj\u001b[0m \u001b[0;32min\u001b[0m \u001b[0mline\u001b[0m\u001b[0;34m:\u001b[0m\u001b[0;34m\u001b[0m\u001b[0;34m\u001b[0m\u001b[0m\n",
      "\u001b[0;32m/apps/software/standard/compiler/gcc/9.2.0/jupyter_conda/2020.11-py3.8/lib/python3.8/site-packages/pandas/core/strings.py\u001b[0m in \u001b[0;36mwrapper\u001b[0;34m(self, *args, **kwargs)\u001b[0m\n\u001b[1;32m   1999\u001b[0m                 )\n\u001b[1;32m   2000\u001b[0m                 \u001b[0;32mraise\u001b[0m \u001b[0mTypeError\u001b[0m\u001b[0;34m(\u001b[0m\u001b[0mmsg\u001b[0m\u001b[0;34m)\u001b[0m\u001b[0;34m\u001b[0m\u001b[0;34m\u001b[0m\u001b[0m\n\u001b[0;32m-> 2001\u001b[0;31m             \u001b[0;32mreturn\u001b[0m \u001b[0mfunc\u001b[0m\u001b[0;34m(\u001b[0m\u001b[0mself\u001b[0m\u001b[0;34m,\u001b[0m \u001b[0;34m*\u001b[0m\u001b[0margs\u001b[0m\u001b[0;34m,\u001b[0m \u001b[0;34m**\u001b[0m\u001b[0mkwargs\u001b[0m\u001b[0;34m)\u001b[0m\u001b[0;34m\u001b[0m\u001b[0;34m\u001b[0m\u001b[0m\n\u001b[0m\u001b[1;32m   2002\u001b[0m \u001b[0;34m\u001b[0m\u001b[0m\n\u001b[1;32m   2003\u001b[0m         \u001b[0mwrapper\u001b[0m\u001b[0;34m.\u001b[0m\u001b[0m__name__\u001b[0m \u001b[0;34m=\u001b[0m \u001b[0mfunc_name\u001b[0m\u001b[0;34m\u001b[0m\u001b[0;34m\u001b[0m\u001b[0m\n",
      "\u001b[0;32m/apps/software/standard/compiler/gcc/9.2.0/jupyter_conda/2020.11-py3.8/lib/python3.8/site-packages/pandas/core/strings.py\u001b[0m in \u001b[0;36msplit\u001b[0;34m(self, pat, n, expand)\u001b[0m\n\u001b[1;32m   2688\u001b[0m     \u001b[0;32mdef\u001b[0m \u001b[0msplit\u001b[0m\u001b[0;34m(\u001b[0m\u001b[0mself\u001b[0m\u001b[0;34m,\u001b[0m \u001b[0mpat\u001b[0m\u001b[0;34m=\u001b[0m\u001b[0;32mNone\u001b[0m\u001b[0;34m,\u001b[0m \u001b[0mn\u001b[0m\u001b[0;34m=\u001b[0m\u001b[0;34m-\u001b[0m\u001b[0;36m1\u001b[0m\u001b[0;34m,\u001b[0m \u001b[0mexpand\u001b[0m\u001b[0;34m=\u001b[0m\u001b[0;32mFalse\u001b[0m\u001b[0;34m)\u001b[0m\u001b[0;34m:\u001b[0m\u001b[0;34m\u001b[0m\u001b[0;34m\u001b[0m\u001b[0m\n\u001b[1;32m   2689\u001b[0m         \u001b[0mresult\u001b[0m \u001b[0;34m=\u001b[0m \u001b[0mstr_split\u001b[0m\u001b[0;34m(\u001b[0m\u001b[0mself\u001b[0m\u001b[0;34m.\u001b[0m\u001b[0m_parent\u001b[0m\u001b[0;34m,\u001b[0m \u001b[0mpat\u001b[0m\u001b[0;34m,\u001b[0m \u001b[0mn\u001b[0m\u001b[0;34m=\u001b[0m\u001b[0mn\u001b[0m\u001b[0;34m)\u001b[0m\u001b[0;34m\u001b[0m\u001b[0;34m\u001b[0m\u001b[0m\n\u001b[0;32m-> 2690\u001b[0;31m         \u001b[0;32mreturn\u001b[0m \u001b[0mself\u001b[0m\u001b[0;34m.\u001b[0m\u001b[0m_wrap_result\u001b[0m\u001b[0;34m(\u001b[0m\u001b[0mresult\u001b[0m\u001b[0;34m,\u001b[0m \u001b[0mexpand\u001b[0m\u001b[0;34m=\u001b[0m\u001b[0mexpand\u001b[0m\u001b[0;34m,\u001b[0m \u001b[0mreturns_string\u001b[0m\u001b[0;34m=\u001b[0m\u001b[0mexpand\u001b[0m\u001b[0;34m)\u001b[0m\u001b[0;34m\u001b[0m\u001b[0;34m\u001b[0m\u001b[0m\n\u001b[0m\u001b[1;32m   2691\u001b[0m \u001b[0;34m\u001b[0m\u001b[0m\n\u001b[1;32m   2692\u001b[0m     \u001b[0;34m@\u001b[0m\u001b[0mAppender\u001b[0m\u001b[0;34m(\u001b[0m\u001b[0m_shared_docs\u001b[0m\u001b[0;34m[\u001b[0m\u001b[0;34m\"str_split\"\u001b[0m\u001b[0;34m]\u001b[0m \u001b[0;34m%\u001b[0m \u001b[0;34m{\u001b[0m\u001b[0;34m\"side\"\u001b[0m\u001b[0;34m:\u001b[0m \u001b[0;34m\"end\"\u001b[0m\u001b[0;34m,\u001b[0m \u001b[0;34m\"method\"\u001b[0m\u001b[0;34m:\u001b[0m \u001b[0;34m\"rsplit\"\u001b[0m\u001b[0;34m}\u001b[0m\u001b[0;34m)\u001b[0m\u001b[0;34m\u001b[0m\u001b[0;34m\u001b[0m\u001b[0m\n",
      "\u001b[0;32m/apps/software/standard/compiler/gcc/9.2.0/jupyter_conda/2020.11-py3.8/lib/python3.8/site-packages/pandas/core/strings.py\u001b[0m in \u001b[0;36m_wrap_result\u001b[0;34m(self, result, use_codes, name, expand, fill_value, returns_string)\u001b[0m\n\u001b[1;32m   2274\u001b[0m                 \u001b[0;31m# Must be a Series\u001b[0m\u001b[0;34m\u001b[0m\u001b[0;34m\u001b[0m\u001b[0;34m\u001b[0m\u001b[0m\n\u001b[1;32m   2275\u001b[0m                 \u001b[0mcons\u001b[0m \u001b[0;34m=\u001b[0m \u001b[0mself\u001b[0m\u001b[0;34m.\u001b[0m\u001b[0m_orig\u001b[0m\u001b[0;34m.\u001b[0m\u001b[0m_constructor\u001b[0m\u001b[0;34m\u001b[0m\u001b[0;34m\u001b[0m\u001b[0m\n\u001b[0;32m-> 2276\u001b[0;31m                 \u001b[0mresult\u001b[0m \u001b[0;34m=\u001b[0m \u001b[0mcons\u001b[0m\u001b[0;34m(\u001b[0m\u001b[0mresult\u001b[0m\u001b[0;34m,\u001b[0m \u001b[0mname\u001b[0m\u001b[0;34m=\u001b[0m\u001b[0mname\u001b[0m\u001b[0;34m,\u001b[0m \u001b[0mindex\u001b[0m\u001b[0;34m=\u001b[0m\u001b[0mindex\u001b[0m\u001b[0;34m,\u001b[0m \u001b[0mdtype\u001b[0m\u001b[0;34m=\u001b[0m\u001b[0mdtype\u001b[0m\u001b[0;34m)\u001b[0m\u001b[0;34m\u001b[0m\u001b[0;34m\u001b[0m\u001b[0m\n\u001b[0m\u001b[1;32m   2277\u001b[0m             \u001b[0;32mreturn\u001b[0m \u001b[0mresult\u001b[0m\u001b[0;34m\u001b[0m\u001b[0;34m\u001b[0m\u001b[0m\n\u001b[1;32m   2278\u001b[0m \u001b[0;34m\u001b[0m\u001b[0m\n",
      "\u001b[0;32m/apps/software/standard/compiler/gcc/9.2.0/jupyter_conda/2020.11-py3.8/lib/python3.8/site-packages/pandas/core/series.py\u001b[0m in \u001b[0;36m__init__\u001b[0;34m(self, data, index, dtype, name, copy, fastpath)\u001b[0m\n\u001b[1;32m    327\u001b[0m                 \u001b[0mdata\u001b[0m \u001b[0;34m=\u001b[0m \u001b[0msanitize_array\u001b[0m\u001b[0;34m(\u001b[0m\u001b[0mdata\u001b[0m\u001b[0;34m,\u001b[0m \u001b[0mindex\u001b[0m\u001b[0;34m,\u001b[0m \u001b[0mdtype\u001b[0m\u001b[0;34m,\u001b[0m \u001b[0mcopy\u001b[0m\u001b[0;34m,\u001b[0m \u001b[0mraise_cast_failure\u001b[0m\u001b[0;34m=\u001b[0m\u001b[0;32mTrue\u001b[0m\u001b[0;34m)\u001b[0m\u001b[0;34m\u001b[0m\u001b[0;34m\u001b[0m\u001b[0m\n\u001b[1;32m    328\u001b[0m \u001b[0;34m\u001b[0m\u001b[0m\n\u001b[0;32m--> 329\u001b[0;31m                 \u001b[0mdata\u001b[0m \u001b[0;34m=\u001b[0m \u001b[0mSingleBlockManager\u001b[0m\u001b[0;34m.\u001b[0m\u001b[0mfrom_array\u001b[0m\u001b[0;34m(\u001b[0m\u001b[0mdata\u001b[0m\u001b[0;34m,\u001b[0m \u001b[0mindex\u001b[0m\u001b[0;34m)\u001b[0m\u001b[0;34m\u001b[0m\u001b[0;34m\u001b[0m\u001b[0m\n\u001b[0m\u001b[1;32m    330\u001b[0m \u001b[0;34m\u001b[0m\u001b[0m\n\u001b[1;32m    331\u001b[0m         \u001b[0mgeneric\u001b[0m\u001b[0;34m.\u001b[0m\u001b[0mNDFrame\u001b[0m\u001b[0;34m.\u001b[0m\u001b[0m__init__\u001b[0m\u001b[0;34m(\u001b[0m\u001b[0mself\u001b[0m\u001b[0;34m,\u001b[0m \u001b[0mdata\u001b[0m\u001b[0;34m)\u001b[0m\u001b[0;34m\u001b[0m\u001b[0;34m\u001b[0m\u001b[0m\n",
      "\u001b[0;32m/apps/software/standard/compiler/gcc/9.2.0/jupyter_conda/2020.11-py3.8/lib/python3.8/site-packages/pandas/core/internals/managers.py\u001b[0m in \u001b[0;36mfrom_array\u001b[0;34m(cls, array, index)\u001b[0m\n\u001b[1;32m   1568\u001b[0m         \"\"\"\n\u001b[1;32m   1569\u001b[0m         \u001b[0mblock\u001b[0m \u001b[0;34m=\u001b[0m \u001b[0mmake_block\u001b[0m\u001b[0;34m(\u001b[0m\u001b[0marray\u001b[0m\u001b[0;34m,\u001b[0m \u001b[0mplacement\u001b[0m\u001b[0;34m=\u001b[0m\u001b[0mslice\u001b[0m\u001b[0;34m(\u001b[0m\u001b[0;36m0\u001b[0m\u001b[0;34m,\u001b[0m \u001b[0mlen\u001b[0m\u001b[0;34m(\u001b[0m\u001b[0mindex\u001b[0m\u001b[0;34m)\u001b[0m\u001b[0;34m)\u001b[0m\u001b[0;34m,\u001b[0m \u001b[0mndim\u001b[0m\u001b[0;34m=\u001b[0m\u001b[0;36m1\u001b[0m\u001b[0;34m)\u001b[0m\u001b[0;34m\u001b[0m\u001b[0;34m\u001b[0m\u001b[0m\n\u001b[0;32m-> 1570\u001b[0;31m         \u001b[0;32mreturn\u001b[0m \u001b[0mcls\u001b[0m\u001b[0;34m(\u001b[0m\u001b[0mblock\u001b[0m\u001b[0;34m,\u001b[0m \u001b[0mindex\u001b[0m\u001b[0;34m)\u001b[0m\u001b[0;34m\u001b[0m\u001b[0;34m\u001b[0m\u001b[0m\n\u001b[0m\u001b[1;32m   1571\u001b[0m \u001b[0;34m\u001b[0m\u001b[0m\n\u001b[1;32m   1572\u001b[0m     \u001b[0;32mdef\u001b[0m \u001b[0m_post_setstate\u001b[0m\u001b[0;34m(\u001b[0m\u001b[0mself\u001b[0m\u001b[0;34m)\u001b[0m\u001b[0;34m:\u001b[0m\u001b[0;34m\u001b[0m\u001b[0;34m\u001b[0m\u001b[0m\n",
      "\u001b[0;32m/apps/software/standard/compiler/gcc/9.2.0/jupyter_conda/2020.11-py3.8/lib/python3.8/site-packages/pandas/core/internals/managers.py\u001b[0m in \u001b[0;36m__init__\u001b[0;34m(self, block, axis, do_integrity_check, fastpath)\u001b[0m\n\u001b[1;32m   1549\u001b[0m \u001b[0;34m\u001b[0m\u001b[0m\n\u001b[1;32m   1550\u001b[0m         \u001b[0mself\u001b[0m\u001b[0;34m.\u001b[0m\u001b[0maxes\u001b[0m \u001b[0;34m=\u001b[0m \u001b[0;34m[\u001b[0m\u001b[0maxis\u001b[0m\u001b[0;34m]\u001b[0m\u001b[0;34m\u001b[0m\u001b[0;34m\u001b[0m\u001b[0m\n\u001b[0;32m-> 1551\u001b[0;31m         \u001b[0mself\u001b[0m\u001b[0;34m.\u001b[0m\u001b[0mblocks\u001b[0m \u001b[0;34m=\u001b[0m \u001b[0mtuple\u001b[0m\u001b[0;34m(\u001b[0m\u001b[0;34m[\u001b[0m\u001b[0mblock\u001b[0m\u001b[0;34m]\u001b[0m\u001b[0;34m)\u001b[0m\u001b[0;34m\u001b[0m\u001b[0;34m\u001b[0m\u001b[0m\n\u001b[0m\u001b[1;32m   1552\u001b[0m \u001b[0;34m\u001b[0m\u001b[0m\n\u001b[1;32m   1553\u001b[0m     \u001b[0;34m@\u001b[0m\u001b[0mclassmethod\u001b[0m\u001b[0;34m\u001b[0m\u001b[0;34m\u001b[0m\u001b[0m\n",
      "\u001b[0;31mKeyboardInterrupt\u001b[0m: "
     ]
    }
   ],
   "source": [
    "%%time\n",
    "# get unique ais codes from all sets\n",
    "ais_codes = hlp800.get_unique_codes([ais_train, ais_val, ais_test])\n",
    "%store ais_codes"
   ]
  },
  {
   "cell_type": "code",
   "execution_count": 8,
   "metadata": {},
   "outputs": [],
   "source": [
    "# create dictionary of AIS codes\n",
    "ais_dict = dict(zip(ais_codes, list(range(len(ais_codes)))))"
   ]
  },
  {
   "cell_type": "markdown",
   "metadata": {},
   "source": [
    "<a id='CreateSparse'></a>\n",
    "## Create sparse matrices\n",
    "#### Run the two below lines when changing batch size"
   ]
  },
  {
   "cell_type": "markdown",
   "metadata": {},
   "source": [
    "### Create training, testing, and validation ICD matrices"
   ]
  },
  {
   "cell_type": "code",
   "execution_count": 27,
   "metadata": {},
   "outputs": [
    {
     "name": "stdout",
     "output_type": "stream",
     "text": [
      "Creating training matrices...\n",
      "Missing codes length: 155\n",
      "Number patients 895455\n",
      "Length of all sparse matrices together: 896000\n",
      "\n",
      "Creating testing matrices...\n",
      "Missing codes length: 3483\n",
      "Number patients 99717\n",
      "Length of all sparse matrices together: 100000\n",
      "torch.Size([1000, 9178])\n",
      "\n",
      "Creating validation matrices...\n",
      "Missing codes length: 7776\n",
      "Number patients 2000\n",
      "Length of all sparse matrices together: 2000\n",
      "Stored 'spliced_icd_train' (list)\n",
      "Stored 'spliced_icd_test' (list)\n",
      "Stored 'spliced_icd_val' (list)\n",
      "CPU times: user 6min 45s, sys: 4min 6s, total: 10min 52s\n",
      "Wall time: 5min 35s\n"
     ]
    }
   ],
   "source": [
    "%%time\n",
    "\n",
    "print('Creating training matrices...')\n",
    "row, col, data = hlp800.decode_df_coo(icd_train, icd_dict)\n",
    "print(\"Number patients \" + str(len(icd_train)))\n",
    "spliced_icd_train = hlp800.get_list_of_spliced_matrices(row, col, data, len(icd_train), icd_dict)\n",
    "length = 0\n",
    "for mat in spliced_icd_train:\n",
    "    length += len(mat)\n",
    "print(\"Length of all sparse matrices together: \" + str(length))\n",
    "\n",
    "print('\\nCreating testing matrices...')\n",
    "row, col, data = hlp800.decode_df_coo(icd_test, icd_dict)\n",
    "print(\"Number patients \" + str(len(icd_test)))\n",
    "spliced_icd_test = hlp800.get_list_of_spliced_matrices(row, col, data, len(icd_test), icd_dict)\n",
    "length = 0\n",
    "for mat in spliced_icd_test:\n",
    "    length += len(mat)\n",
    "print(\"Length of all sparse matrices together: \" + str(length))\n",
    "print(spliced_icd_test[-1].shape)\n",
    "\n",
    "print('\\nCreating validation matrices...')\n",
    "row, col, data = hlp800.decode_df_coo(icd_val, icd_dict)\n",
    "print(\"Number patients \" + str(len(icd_val)))\n",
    "spliced_icd_val = hlp800.get_list_of_spliced_matrices(row, col, data, len(icd_val), icd_dict)\n",
    "length = 0\n",
    "for mat in spliced_icd_val:\n",
    "    length += len(mat)\n",
    "print(\"Length of all sparse matrices together: \" + str(length))\n",
    "\n",
    "\n",
    "%store spliced_icd_train\n",
    "%store spliced_icd_test\n",
    "%store spliced_icd_val"
   ]
  },
  {
   "cell_type": "markdown",
   "metadata": {},
   "source": [
    "### Create training, testing, and validation AIS matrices"
   ]
  },
  {
   "cell_type": "code",
   "execution_count": 28,
   "metadata": {},
   "outputs": [
    {
     "name": "stdout",
     "output_type": "stream",
     "text": [
      "Missing codes length: 0\n",
      "Creating training matrices...\n",
      "Number patients 895455\n",
      "Length of all sparse matrices together: 896000\n",
      "\n",
      "Creating testing matrices...\n",
      "Missing codes length: 111\n",
      "Number patients 99717\n",
      "Length of all sparse matrices together: 100000\n",
      "\n",
      "Creating validation matrices...\n",
      "Missing codes length: 1118\n",
      "Number patients 2000\n",
      "Length of all sparse matrices together: 1000\n",
      "Stored 'spliced_ais_train' (list)\n",
      "Stored 'spliced_ais_test' (list)\n",
      "Stored 'spliced_ais_val' (list)\n",
      "CPU times: user 5min 21s, sys: 1min 29s, total: 6min 51s\n",
      "Wall time: 4min 52s\n"
     ]
    }
   ],
   "source": [
    "%%time\n",
    "\n",
    "row, col, data = hlp800.decode_df_coo(ais_train, ais_dict)\n",
    "print('Creating training matrices...')\n",
    "print(\"Number patients \" + str(len(ais_train)))\n",
    "spliced_ais_train = hlp800.get_list_of_spliced_matrices(row, col, data, len(ais_train), ais_dict)\n",
    "length = 0\n",
    "for mat in spliced_ais_train:\n",
    "    length += len(mat)\n",
    "print(\"Length of all sparse matrices together: \" + str(length))\n",
    "\n",
    "print(\"\\nCreating testing matrices...\")\n",
    "row, col, data = hlp800.decode_df_coo(ais_test, ais_dict)\n",
    "print(\"Number patients \" + str(len(ais_test)))\n",
    "spliced_ais_test = hlp800.get_list_of_spliced_matrices(row, col, data, len(ais_test), ais_dict)\n",
    "length = 0\n",
    "for mat in spliced_ais_test:\n",
    "    length += len(mat)\n",
    "print(\"Length of all sparse matrices together: \" + str(length))\n",
    "\n",
    "print(\"\\nCreating validation matrices...\")\n",
    "row, col, data = hlp800.decode_df_coo(ais_val, ais_dict)\n",
    "print(\"Number patients \" + str(len(ais_val)))\n",
    "spliced_ais_val = hlp800.get_list_of_spliced_matrices(row, col, data, len(ais_val), ais_dict)\n",
    "print(\"Length of all sparse matrices together: \" +  str(len(spliced_ais_val[0])))\n",
    "\n",
    "\n",
    "%store spliced_ais_train\n",
    "%store spliced_ais_test\n",
    "%store spliced_ais_val"
   ]
  },
  {
   "cell_type": "markdown",
   "metadata": {},
   "source": [
    "## Test validity of create sparse matrices"
   ]
  },
  {
   "cell_type": "code",
   "execution_count": 34,
   "metadata": {},
   "outputs": [
    {
     "name": "stdout",
     "output_type": "stream",
     "text": [
      "CPU times: user 777 µs, sys: 0 ns, total: 777 µs\n",
      "Wall time: 782 µs\n"
     ]
    }
   ],
   "source": [
    "%%time\n",
    "\n",
    "# Create inverted dicts to test validity\n",
    "icd_inverted_dict = {v: k for k, v in icd_dict.items()}\n",
    "ais_inverted_dict = {v: k for k, v in ais_dict.items()}"
   ]
  },
  {
   "cell_type": "code",
   "execution_count": null,
   "metadata": {},
   "outputs": [],
   "source": [
    "%%time\n",
    "ne, matrix_df = hlp800.test_sparse_matrix(sparse_icd_train, icd_train, icd_inverted_dict)\n",
    "hlp800.print_diff(ne)"
   ]
  },
  {
   "cell_type": "code",
   "execution_count": 7,
   "metadata": {},
   "outputs": [
    {
     "name": "stdout",
     "output_type": "stream",
     "text": [
      "Dataframes are identical\n"
     ]
    }
   ],
   "source": [
    "%%time\n",
    "ne, matrix_df = hlp800.test_sparse_matrices(spliced_icd_test, icd_test, icd_inverted_dict)\n",
    "hlp800.print_diff(ne)"
   ]
  },
  {
   "cell_type": "code",
   "execution_count": 59,
   "metadata": {},
   "outputs": [
    {
     "name": "stdout",
     "output_type": "stream",
     "text": [
      "Dataframes are identical\n",
      "CPU times: user 293 ms, sys: 0 ns, total: 293 ms\n",
      "Wall time: 291 ms\n"
     ]
    }
   ],
   "source": [
    "%%time\n",
    "ne, matrix_df = hlp800.test_sparse_matrices(spliced_icd_val, icd_val, icd_inverted_dict)\n",
    "hlp800.print_diff(ne)"
   ]
  },
  {
   "cell_type": "code",
   "execution_count": 41,
   "metadata": {
    "collapsed": true,
    "jupyter": {
     "outputs_hidden": true
    }
   },
   "outputs": [
    {
     "ename": "KeyboardInterrupt",
     "evalue": "",
     "output_type": "error",
     "traceback": [
      "\u001b[0;31m---------------------------------------------------------------------------\u001b[0m",
      "\u001b[0;31mKeyboardInterrupt\u001b[0m                         Traceback (most recent call last)",
      "\u001b[0;32m<timed exec>\u001b[0m in \u001b[0;36m<module>\u001b[0;34m\u001b[0m\n",
      "\u001b[0;32m/sfs/qumulo/qhome/qdy4zt/ICD_to_AIS_playground/Code/modules/helper_functions_800.py\u001b[0m in \u001b[0;36mtest_sparse_matrices\u001b[0;34m(sparse_matrices, orig_df, dict_)\u001b[0m\n\u001b[1;32m    130\u001b[0m         \u001b[0mnum_pts\u001b[0m \u001b[0;34m=\u001b[0m \u001b[0mlen\u001b[0m\u001b[0;34m(\u001b[0m\u001b[0mmat\u001b[0m\u001b[0;34m)\u001b[0m\u001b[0;34m\u001b[0m\u001b[0;34m\u001b[0m\u001b[0m\n\u001b[1;32m    131\u001b[0m         \u001b[0;32mfor\u001b[0m \u001b[0mi\u001b[0m \u001b[0;32min\u001b[0m \u001b[0mrange\u001b[0m\u001b[0;34m(\u001b[0m\u001b[0;36m0\u001b[0m\u001b[0;34m,\u001b[0m \u001b[0mnum_pts\u001b[0m\u001b[0;34m)\u001b[0m\u001b[0;34m:\u001b[0m\u001b[0;34m\u001b[0m\u001b[0;34m\u001b[0m\u001b[0m\n\u001b[0;32m--> 132\u001b[0;31m             \u001b[0mcode_string\u001b[0m \u001b[0;34m=\u001b[0m \u001b[0;34m''\u001b[0m\u001b[0;34m\u001b[0m\u001b[0;34m\u001b[0m\u001b[0m\n\u001b[0m\u001b[1;32m    133\u001b[0m             \u001b[0;32mfor\u001b[0m \u001b[0mindex\u001b[0m \u001b[0;32min\u001b[0m \u001b[0mmat\u001b[0m\u001b[0;34m[\u001b[0m\u001b[0mi\u001b[0m\u001b[0;34m]\u001b[0m\u001b[0;34m.\u001b[0m\u001b[0mcoalesce\u001b[0m\u001b[0;34m(\u001b[0m\u001b[0;34m)\u001b[0m\u001b[0;34m.\u001b[0m\u001b[0mindices\u001b[0m\u001b[0;34m(\u001b[0m\u001b[0;34m)\u001b[0m\u001b[0;34m[\u001b[0m\u001b[0;36m0\u001b[0m\u001b[0;34m]\u001b[0m\u001b[0;34m:\u001b[0m\u001b[0;34m\u001b[0m\u001b[0;34m\u001b[0m\u001b[0m\n\u001b[1;32m    134\u001b[0m                 \u001b[0;32mif\u001b[0m \u001b[0mcode_string\u001b[0m \u001b[0;34m==\u001b[0m \u001b[0;34m''\u001b[0m\u001b[0;34m:\u001b[0m\u001b[0;34m\u001b[0m\u001b[0;34m\u001b[0m\u001b[0m\n",
      "\u001b[0;31mKeyboardInterrupt\u001b[0m: "
     ]
    }
   ],
   "source": [
    "%%time\n",
    "ne, matrix_df = hlp800.test_sparse_matrices(spliced_ais_train, ais_train, ais_inverted_dict)\n",
    "hlp800.print_diff(ne)"
   ]
  },
  {
   "cell_type": "code",
   "execution_count": 14,
   "metadata": {},
   "outputs": [
    {
     "name": "stdout",
     "output_type": "stream",
     "text": [
      "Dataframes are identical\n",
      "CPU times: user 11.5 s, sys: 0 ns, total: 11.5 s\n",
      "Wall time: 11.5 s\n"
     ]
    }
   ],
   "source": [
    "%%time\n",
    "ne, matrix_df = hlp800.test_sparse_matrices(spliced_ais_test, ais_test, ais_inverted_dict)\n",
    "hlp800.print_diff(ne)"
   ]
  },
  {
   "cell_type": "code",
   "execution_count": 15,
   "metadata": {},
   "outputs": [
    {
     "name": "stdout",
     "output_type": "stream",
     "text": [
      "Dataframes are identical\n",
      "CPU times: user 177 ms, sys: 0 ns, total: 177 ms\n",
      "Wall time: 176 ms\n"
     ]
    }
   ],
   "source": [
    "%%time\n",
    "ne, matrix_df = hlp800.test_sparse_matrices(spliced_ais_val, ais_val, ais_inverted_dict)\n",
    "hlp800.print_diff(ne)"
   ]
  },
  {
   "cell_type": "markdown",
   "metadata": {},
   "source": [
    "## Load model by name\n",
    "\n",
    "### Run this line if you want to run a premade model as opposed to making a new one\n",
    "\n",
    "#### Skip [here](#test) to test model"
   ]
  },
  {
   "cell_type": "code",
   "execution_count": 29,
   "metadata": {},
   "outputs": [
    {
     "data": {
      "text/plain": [
       "NeuralNetwork(\n",
       "  (flatten): Flatten(start_dim=1, end_dim=-1)\n",
       "  (lin1): Linear(in_features=9178, out_features=2294, bias=True)\n",
       "  (relu1): ReLU()\n",
       "  (lin2): Linear(in_features=2294, out_features=1983, bias=True)\n",
       "  (relu2): ReLU()\n",
       "  (linear_relu_stack): Sequential(\n",
       "    (0): Linear(in_features=9178, out_features=2294, bias=True)\n",
       "    (1): ReLU()\n",
       "    (2): Linear(in_features=2294, out_features=1983, bias=True)\n",
       "    (3): Sigmoid()\n",
       "  )\n",
       ")"
      ]
     },
     "execution_count": 29,
     "metadata": {},
     "output_type": "execute_result"
    }
   ],
   "source": [
    "# Change model name here\n",
    "MODEL_NAME = 'model-1'\n",
    "\n",
    "model = torch.load(MODEL_ROOT_PATH + MODEL_NAME)\n",
    "model.to(device)"
   ]
  },
  {
   "cell_type": "markdown",
   "metadata": {},
   "source": [
    "<a id='neural_net'></a>\n",
    "## Set up neural net training"
   ]
  },
  {
   "cell_type": "code",
   "execution_count": 6,
   "metadata": {},
   "outputs": [],
   "source": [
    "# Set model name here\n",
    "MODEL_NAME = 'model-1'"
   ]
  },
  {
   "cell_type": "code",
   "execution_count": 7,
   "metadata": {},
   "outputs": [
    {
     "name": "stdout",
     "output_type": "stream",
     "text": [
      "9178\n",
      "1983\n"
     ]
    }
   ],
   "source": [
    "# Set parameters...\n",
    "# For training\n",
    "learning_rate = 0.0007 #play around w this\n",
    "num_epochs = 100\n",
    "# For neural net\n",
    "input_size = len(icd_dict)\n",
    "num_classes = len(ais_dict)\n",
    "print(input_size)\n",
    "print(num_classes)"
   ]
  },
  {
   "cell_type": "code",
   "execution_count": 8,
   "metadata": {},
   "outputs": [
    {
     "name": "stdout",
     "output_type": "stream",
     "text": [
      "Using cuda device\n"
     ]
    }
   ],
   "source": [
    "# Try to run on GPU else run on CPU\n",
    "device = \"cuda\" if torch.cuda.is_available() else \"cpu\"\n",
    "print(f\"Using {device} device\")\n",
    "device = torch.device(device)"
   ]
  },
  {
   "cell_type": "markdown",
   "metadata": {},
   "source": [
    "### Create a neural net class"
   ]
  },
  {
   "cell_type": "code",
   "execution_count": 9,
   "metadata": {},
   "outputs": [],
   "source": [
    "class NeuralNetwork(nn.Module):\n",
    "    def __init__(self, input_size, num_classes):\n",
    "        super(NeuralNetwork, self).__init__() # Init the superclass nn.Module\n",
    "        self.flatten = nn.Flatten()\n",
    "        self.lin1 = nn.Linear(input_size, int(input_size/4))\n",
    "        self.relu1 = nn.ReLU()\n",
    "        self.lin2 = nn.Linear(int(input_size/4), num_classes)\n",
    "        self.relu2 = nn.ReLU()\n",
    "        self.linear_relu_stack = nn.Sequential(\n",
    "            nn.Linear(input_size, int(input_size/4)),\n",
    "            nn.ReLU(),\n",
    "            nn.Linear(int(input_size/4), num_classes),\n",
    "            nn.Sigmoid()\n",
    "            # find a function to keep between 0-1\n",
    "        )\n",
    "\n",
    "    def forward(self, x):\n",
    "        r = self.linear_relu_stack(x)\n",
    "        return r"
   ]
  },
  {
   "cell_type": "markdown",
   "metadata": {},
   "source": [
    "### Create a dataset and a dataloader"
   ]
  },
  {
   "cell_type": "code",
   "execution_count": 10,
   "metadata": {},
   "outputs": [],
   "source": [
    "class SparseMatrixDataset(Dataset):\n",
    "    def __init__(self, spliced_icd, spliced_ais):\n",
    "        self.icd_spliced = spliced_icd\n",
    "        self.ais_spliced = spliced_ais\n",
    "        self.count = 0\n",
    "        self.length = len(self.icd_spliced)\n",
    "        if self.icd_spliced[0].shape != self.icd_spliced[1].shape:\n",
    "            self.length = self.length - 1\n",
    "\n",
    "    def __len__(self):\n",
    "        return self.length\n",
    "    \n",
    "    def __getitem__(self, idx):  \n",
    "        # Get indices for icd and ais and return\n",
    "        self.count += 1\n",
    "        return self.icd_spliced[self.count-1], self.ais_spliced[self.count-1]"
   ]
  },
  {
   "cell_type": "code",
   "execution_count": 11,
   "metadata": {},
   "outputs": [],
   "source": [
    "# Create dataloader using dataset\n",
    "train_loader = DataLoader(dataset=SparseMatrixDataset(spliced_icd_train, spliced_ais_train), batch_size=batch_size, shuffle=True)\n",
    "val_loader = DataLoader(dataset=SparseMatrixDataset(spliced_icd_val, spliced_ais_val), batch_size=batch_size, shuffle=True)\n",
    "test_loader = DataLoader(dataset=SparseMatrixDataset(spliced_icd_test, spliced_ais_test), batch_size=batch_size, shuffle=True)"
   ]
  },
  {
   "cell_type": "markdown",
   "metadata": {},
   "source": [
    "## Creating a neural net and training it"
   ]
  },
  {
   "cell_type": "markdown",
   "metadata": {},
   "source": [
    "### Create the model and set up training"
   ]
  },
  {
   "cell_type": "code",
   "execution_count": 14,
   "metadata": {},
   "outputs": [],
   "source": [
    "# Init network\n",
    "model = NeuralNetwork(input_size=input_size, num_classes=num_classes).to(device) # You can store\n",
    "\n",
    "# Set loss and optimizer\n",
    "loss_function = nn.BCELoss() #nn.MSELoss() Binary cross entropy seems to be the best\n",
    "optimizer = optim.Adam(model.parameters(), lr=learning_rate)"
   ]
  },
  {
   "cell_type": "markdown",
   "metadata": {},
   "source": [
    "### Train Neural Net"
   ]
  },
  {
   "cell_type": "code",
   "execution_count": 64,
   "metadata": {
    "collapsed": true,
    "jupyter": {
     "outputs_hidden": true
    }
   },
   "outputs": [
    {
     "name": "stdout",
     "output_type": "stream",
     "text": [
      "\n",
      "\n",
      "Starting epoch #1...\n",
      "Training data...\n",
      "Training loss at epoch number 1 is 0.044158559292554855\n",
      "\n",
      "Validating data...\n",
      "On batch 2 / 2\n",
      "\n",
      "Starting epoch #2...\n",
      "Training data...\n",
      "Training loss at epoch number 2 is 0.020954543724656105\n",
      "\n",
      "Validating data...\n",
      "Previous val losses : [0.007285265950486064]\n",
      "Last current val loss: 0.004350601229816675\n",
      "Model continuing to improve... saving state\n",
      "\n",
      "\n",
      "Starting epoch #3...\n",
      "Training data...\n",
      "Training loss at epoch number 3 is 0.012745552696287632\n",
      "\n",
      "Validating data...\n",
      "Previous val losses : [0.007285265950486064, 0.004350601229816675]\n",
      "Last current val loss: 0.0036110382061451674\n",
      "Model continuing to improve... saving state\n",
      "\n",
      "\n",
      "Starting epoch #4...\n",
      "Training data...\n",
      "Shuffling training data on the 4th epoch\n",
      "Training loss at epoch number 4 is 0.008520147763192654\n",
      "\n",
      "Validating data...\n",
      "Previous val losses : [0.007285265950486064, 0.004350601229816675, 0.0036110382061451674]\n",
      "Last current val loss: 0.003340999479405582\n",
      "Model continuing to improve... saving state\n",
      "\n",
      "\n",
      "Starting epoch #5...\n",
      "Training data...\n",
      "Training loss at epoch number 5 is 0.006037167273461819\n",
      "\n",
      "Validating data...\n",
      "Previous val losses : [0.007285265950486064, 0.004350601229816675, 0.0036110382061451674, 0.003340999479405582]\n",
      "Last current val loss: 0.003219267469830811\n",
      "Model continuing to improve... saving state\n",
      "\n",
      "\n",
      "Starting epoch #6...\n",
      "Training data...\n",
      "Training loss at epoch number 6 is 0.004509533289819956\n",
      "\n",
      "Validating data...\n",
      "Previous val losses : [0.007285265950486064, 0.004350601229816675, 0.0036110382061451674, 0.003340999479405582, 0.003219267469830811]\n",
      "Last current val loss: 0.003156246617436409\n",
      "Model continuing to improve... saving state\n",
      "\n",
      "\n",
      "Starting epoch #7...\n",
      "Training data...\n",
      "Training loss at epoch number 7 is 0.003550828667357564\n",
      "\n",
      "Validating data...\n",
      "Previous val losses : [0.007285265950486064, 0.004350601229816675, 0.0036110382061451674, 0.003340999479405582, 0.003219267469830811, 0.003156246617436409]\n",
      "Last current val loss: 0.0031178053468465805\n",
      "Model continuing to improve... saving state\n",
      "\n",
      "\n",
      "Starting epoch #8...\n",
      "Training data...\n",
      "Shuffling training data on the 4th epoch\n",
      "Training loss at epoch number 8 is 0.002937013516202569\n",
      "\n",
      "Validating data...\n",
      "Previous val losses : [0.007285265950486064, 0.004350601229816675, 0.0036110382061451674, 0.003340999479405582, 0.003219267469830811, 0.003156246617436409, 0.0031178053468465805]\n",
      "Last current val loss: 0.003095253836363554\n",
      "Model continuing to improve... saving state\n",
      "\n",
      "\n",
      "Starting epoch #9...\n",
      "Training data...\n",
      "Training loss at epoch number 9 is 0.002533002756536007\n",
      "\n",
      "Validating data...\n",
      "Previous val losses : [0.007285265950486064, 0.004350601229816675, 0.0036110382061451674, 0.003340999479405582, 0.003219267469830811, 0.003156246617436409, 0.0031178053468465805, 0.003095253836363554]\n",
      "Last current val loss: 0.003081955830566585\n",
      "Model continuing to improve... saving state\n",
      "\n",
      "\n",
      "Starting epoch #10...\n",
      "Training data...\n",
      "Training loss at epoch number 10 is 0.0022472916170954704\n",
      "\n",
      "Validating data...\n",
      "Previous val losses : [0.007285265950486064, 0.004350601229816675, 0.0036110382061451674, 0.003340999479405582, 0.003219267469830811, 0.003156246617436409, 0.0031178053468465805, 0.003095253836363554, 0.003081955830566585]\n",
      "Last current val loss: 0.0030825382564216852\n",
      "Model worsened...\n",
      "\n",
      "\n",
      "Starting epoch #11...\n",
      "Training data...\n",
      "Training loss at epoch number 11 is 0.002036766614764929\n",
      "\n",
      "Validating data...\n",
      "Previous val losses : [0.007285265950486064, 0.004350601229816675, 0.0036110382061451674, 0.003340999479405582, 0.003219267469830811, 0.003156246617436409, 0.0031178053468465805, 0.003095253836363554, 0.003081955830566585, 0.0030825382564216852]\n",
      "Last current val loss: 0.0030875481897965074\n",
      "Model worsened...\n",
      "\n",
      "\n",
      "Starting epoch #12...\n",
      "Training data...\n",
      "Shuffling training data on the 4th epoch\n",
      "Training loss at epoch number 12 is 0.001871889689937234\n",
      "\n",
      "Validating data...\n",
      "Previous val losses : [0.007285265950486064, 0.004350601229816675, 0.0036110382061451674, 0.003340999479405582, 0.003219267469830811, 0.003156246617436409, 0.0031178053468465805, 0.003095253836363554, 0.003081955830566585, 0.0030825382564216852, 0.0030875481897965074]\n",
      "Last current val loss: 0.0031107269460335374\n",
      "Model worsened...\n",
      "Model is worsening... decay learning rate\n",
      "New learning rate is 0.00035\n",
      "\n",
      "\n",
      "Starting epoch #13...\n",
      "Training data...\n",
      "Training loss at epoch number 13 is 0.0017319330945611\n",
      "\n",
      "Validating data...\n",
      "Previous val losses : [0.007285265950486064, 0.004350601229816675, 0.0036110382061451674, 0.003340999479405582, 0.003219267469830811, 0.003156246617436409, 0.0031178053468465805, 0.003095253836363554, 0.003081955830566585, 0.0030825382564216852, 0.0030875481897965074, 0.0031107269460335374]\n",
      "Last current val loss: 0.0030622310005128384\n",
      "Model continuing to improve... saving state\n",
      "\n",
      "\n",
      "Starting epoch #14...\n",
      "Training data...\n",
      "Training loss at epoch number 14 is 0.0016583491815254092\n",
      "\n",
      "Validating data...\n",
      "Previous val losses : [0.007285265950486064, 0.004350601229816675, 0.0036110382061451674, 0.003340999479405582, 0.003219267469830811, 0.003156246617436409, 0.0031178053468465805, 0.003095253836363554, 0.003081955830566585, 0.0030825382564216852, 0.0030875481897965074, 0.0031107269460335374, 0.0030622310005128384]\n",
      "Last current val loss: 0.0030793179757893085\n",
      "Model worsened...\n",
      "\n",
      "\n",
      "Starting epoch #15...\n",
      "Training data...\n",
      "Training loss at epoch number 15 is 0.0015981061151251197\n",
      "\n",
      "Validating data...\n",
      "Previous val losses : [0.007285265950486064, 0.004350601229816675, 0.0036110382061451674, 0.003340999479405582, 0.003219267469830811, 0.003156246617436409, 0.0031178053468465805, 0.003095253836363554, 0.003081955830566585, 0.0030825382564216852, 0.0030875481897965074, 0.0031107269460335374, 0.0030622310005128384, 0.0030793179757893085]\n",
      "Last current val loss: 0.0030972353415563703\n",
      "Model worsened...\n",
      "\n",
      "\n",
      "Starting epoch #16...\n",
      "Training data...\n",
      "Shuffling training data on the 4th epoch\n",
      "Training loss at epoch number 16 is 0.001544024795293808\n",
      "\n",
      "Validating data...\n",
      "Previous val losses : [0.007285265950486064, 0.004350601229816675, 0.0036110382061451674, 0.003340999479405582, 0.003219267469830811, 0.003156246617436409, 0.0031178053468465805, 0.003095253836363554, 0.003081955830566585, 0.0030825382564216852, 0.0030875481897965074, 0.0031107269460335374, 0.0030622310005128384, 0.0030793179757893085, 0.0030972353415563703]\n",
      "Last current val loss: 0.0031179061625152826\n",
      "Model worsened...\n",
      "Model is worsening... decay learning rate\n",
      "New learning rate is 0.000175\n",
      "\n",
      "\n",
      "Starting epoch #17...\n",
      "Training data...\n",
      "Training loss at epoch number 17 is 0.001497449353337288\n",
      "\n",
      "Validating data...\n",
      "Previous val losses : [0.007285265950486064, 0.004350601229816675, 0.0036110382061451674, 0.003340999479405582, 0.003219267469830811, 0.003156246617436409, 0.0031178053468465805, 0.003095253836363554, 0.003081955830566585, 0.0030825382564216852, 0.0030875481897965074, 0.0031107269460335374, 0.0030622310005128384, 0.0030793179757893085, 0.0030972353415563703, 0.0031179061625152826]\n",
      "Last current val loss: 0.0031099225161597133\n",
      "Model worsened...\n",
      "\n",
      "\n",
      "Starting epoch #18...\n",
      "Training data...\n",
      "Training loss at epoch number 18 is 0.0014668080257251859\n",
      "\n",
      "Validating data...\n",
      "Previous val losses : [0.007285265950486064, 0.004350601229816675, 0.0036110382061451674, 0.003340999479405582, 0.003219267469830811, 0.003156246617436409, 0.0031178053468465805, 0.003095253836363554, 0.003081955830566585, 0.0030825382564216852, 0.0030875481897965074, 0.0031107269460335374, 0.0030622310005128384, 0.0030793179757893085, 0.0030972353415563703, 0.0031179061625152826, 0.0031099225161597133]\n",
      "Last current val loss: 0.0031195422634482384\n",
      "Model worsened...\n",
      "\n",
      "\n",
      "Starting epoch #19...\n",
      "Training data...\n",
      "Training loss at epoch number 19 is 0.0014406702248379588\n",
      "\n",
      "Validating data...\n",
      "Previous val losses : [0.007285265950486064, 0.004350601229816675, 0.0036110382061451674, 0.003340999479405582, 0.003219267469830811, 0.003156246617436409, 0.0031178053468465805, 0.003095253836363554, 0.003081955830566585, 0.0030825382564216852, 0.0030875481897965074, 0.0031107269460335374, 0.0030622310005128384, 0.0030793179757893085, 0.0030972353415563703, 0.0031179061625152826, 0.0031099225161597133, 0.0031195422634482384]\n",
      "Last current val loss: 0.0031308969482779503\n",
      "Model worsened...\n",
      "Model is worsening... decay learning rate\n",
      "New learning rate is 8.75e-05\n",
      "\n",
      "\n",
      "Starting epoch #20...\n",
      "Training data...\n",
      "Shuffling training data on the 4th epoch\n",
      "Training loss at epoch number 20 is 0.0014097546227276325\n",
      "\n",
      "Validating data...\n",
      "Previous val losses : [0.007285265950486064, 0.004350601229816675, 0.0036110382061451674, 0.003340999479405582, 0.003219267469830811, 0.003156246617436409, 0.0031178053468465805, 0.003095253836363554, 0.003081955830566585, 0.0030825382564216852, 0.0030875481897965074, 0.0031107269460335374, 0.0030622310005128384, 0.0030793179757893085, 0.0030972353415563703, 0.0031179061625152826, 0.0031099225161597133, 0.0031195422634482384, 0.0031308969482779503]\n",
      "Last current val loss: 0.003114093095064163\n",
      "Model worsened...\n",
      "\n",
      "\n",
      "Starting epoch #21...\n",
      "Training data...\n",
      "Training loss at epoch number 21 is 0.0013954302994534373\n",
      "\n",
      "Validating data...\n",
      "Previous val losses : [0.007285265950486064, 0.004350601229816675, 0.0036110382061451674, 0.003340999479405582, 0.003219267469830811, 0.003156246617436409, 0.0031178053468465805, 0.003095253836363554, 0.003081955830566585, 0.0030825382564216852, 0.0030875481897965074, 0.0031107269460335374, 0.0030622310005128384, 0.0030793179757893085, 0.0030972353415563703, 0.0031179061625152826, 0.0031099225161597133, 0.0031195422634482384, 0.0031308969482779503, 0.003114093095064163]\n",
      "Last current val loss: 0.003119448432698846\n",
      "Model worsened...\n",
      "\n",
      "\n",
      "Starting epoch #22...\n",
      "Training data...\n",
      "Training loss at epoch number 22 is 0.001382389571517706\n",
      "\n",
      "Validating data...\n",
      "Previous val losses : [0.007285265950486064, 0.004350601229816675, 0.0036110382061451674, 0.003340999479405582, 0.003219267469830811, 0.003156246617436409, 0.0031178053468465805, 0.003095253836363554, 0.003081955830566585, 0.0030825382564216852, 0.0030875481897965074, 0.0031107269460335374, 0.0030622310005128384, 0.0030793179757893085, 0.0030972353415563703, 0.0031179061625152826, 0.0031099225161597133, 0.0031195422634482384, 0.0031308969482779503, 0.003114093095064163, 0.003119448432698846]\n",
      "Last current val loss: 0.003125449875369668\n",
      "Model worsened...\n",
      "Model is worsening... decay learning rate\n",
      "New learning rate is 4.375e-05\n",
      "\n",
      "\n",
      "Starting epoch #23...\n",
      "Training data...\n",
      "Training loss at epoch number 23 is 0.0013669253094121814\n",
      "\n",
      "Validating data...\n",
      "Previous val losses : [0.007285265950486064, 0.004350601229816675, 0.0036110382061451674, 0.003340999479405582, 0.003219267469830811, 0.003156246617436409, 0.0031178053468465805, 0.003095253836363554, 0.003081955830566585, 0.0030825382564216852, 0.0030875481897965074, 0.0031107269460335374, 0.0030622310005128384, 0.0030793179757893085, 0.0030972353415563703, 0.0031179061625152826, 0.0031099225161597133, 0.0031195422634482384, 0.0031308969482779503, 0.003114093095064163, 0.003119448432698846, 0.003125449875369668]\n",
      "Last current val loss: 0.003117866115644574\n",
      "Model worsened...\n",
      "\n",
      "\n",
      "Starting epoch #24...\n",
      "Training data...\n",
      "Shuffling training data on the 4th epoch\n",
      "Training loss at epoch number 24 is 0.0013599834637716413\n",
      "\n",
      "Validating data...\n",
      "Previous val losses : [0.007285265950486064, 0.004350601229816675, 0.0036110382061451674, 0.003340999479405582, 0.003219267469830811, 0.003156246617436409, 0.0031178053468465805, 0.003095253836363554, 0.003081955830566585, 0.0030825382564216852, 0.0030875481897965074, 0.0031107269460335374, 0.0030622310005128384, 0.0030793179757893085, 0.0030972353415563703, 0.0031179061625152826, 0.0031099225161597133, 0.0031195422634482384, 0.0031308969482779503, 0.003114093095064163, 0.003119448432698846, 0.003125449875369668, 0.003117866115644574]\n",
      "Last current val loss: 0.0031206674175336957\n",
      "Model worsened...\n",
      "\n",
      "\n",
      "Starting epoch #25...\n",
      "Training data...\n",
      "Training loss at epoch number 25 is 0.0013534416211768985\n",
      "\n",
      "Validating data...\n",
      "Previous val losses : [0.007285265950486064, 0.004350601229816675, 0.0036110382061451674, 0.003340999479405582, 0.003219267469830811, 0.003156246617436409, 0.0031178053468465805, 0.003095253836363554, 0.003081955830566585, 0.0030825382564216852, 0.0030875481897965074, 0.0031107269460335374, 0.0030622310005128384, 0.0030793179757893085, 0.0030972353415563703, 0.0031179061625152826, 0.0031099225161597133, 0.0031195422634482384, 0.0031308969482779503, 0.003114093095064163, 0.003119448432698846, 0.003125449875369668, 0.003117866115644574, 0.0031206674175336957]\n",
      "Last current val loss: 0.0031236576614901423\n",
      "Model worsened...\n",
      "Model is worsening... decay learning rate\n",
      "New learning rate is 2.1875e-05\n",
      "\n",
      "\n",
      "Starting epoch #26...\n",
      "Training data...\n",
      "Training loss at epoch number 26 is 0.0013475343585014343\n",
      "\n",
      "Validating data...\n",
      "Previous val losses : [0.007285265950486064, 0.004350601229816675, 0.0036110382061451674, 0.003340999479405582, 0.003219267469830811, 0.003156246617436409, 0.0031178053468465805, 0.003095253836363554, 0.003081955830566585, 0.0030825382564216852, 0.0030875481897965074, 0.0031107269460335374, 0.0030622310005128384, 0.0030793179757893085, 0.0030972353415563703, 0.0031179061625152826, 0.0031099225161597133, 0.0031195422634482384, 0.0031308969482779503, 0.003114093095064163, 0.003119448432698846, 0.003125449875369668, 0.003117866115644574, 0.0031206674175336957, 0.0031236576614901423]\n",
      "Last current val loss: 0.0031211604364216328\n",
      "Model worsened...\n",
      "\n",
      "\n",
      "Starting epoch #27...\n",
      "Training data...\n",
      "Training loss at epoch number 27 is 0.0013437822926789522\n",
      "\n",
      "Validating data...\n",
      "Previous val losses : [0.007285265950486064, 0.004350601229816675, 0.0036110382061451674, 0.003340999479405582, 0.003219267469830811, 0.003156246617436409, 0.0031178053468465805, 0.003095253836363554, 0.003081955830566585, 0.0030825382564216852, 0.0030875481897965074, 0.0031107269460335374, 0.0030622310005128384, 0.0030793179757893085, 0.0030972353415563703, 0.0031179061625152826, 0.0031099225161597133, 0.0031195422634482384, 0.0031308969482779503, 0.003114093095064163, 0.003119448432698846, 0.003125449875369668, 0.003117866115644574, 0.0031206674175336957, 0.0031236576614901423, 0.0031211604364216328]\n",
      "Last current val loss: 0.003122486756183207\n",
      "Model worsened...\n",
      "\n",
      "\n",
      "Starting epoch #28...\n",
      "Training data...\n",
      "Shuffling training data on the 4th epoch\n",
      "Training loss at epoch number 28 is 0.0013403409393504262\n",
      "\n",
      "Validating data...\n",
      "Previous val losses : [0.007285265950486064, 0.004350601229816675, 0.0036110382061451674, 0.003340999479405582, 0.003219267469830811, 0.003156246617436409, 0.0031178053468465805, 0.003095253836363554, 0.003081955830566585, 0.0030825382564216852, 0.0030875481897965074, 0.0031107269460335374, 0.0030622310005128384, 0.0030793179757893085, 0.0030972353415563703, 0.0031179061625152826, 0.0031099225161597133, 0.0031195422634482384, 0.0031308969482779503, 0.003114093095064163, 0.003119448432698846, 0.003125449875369668, 0.003117866115644574, 0.0031206674175336957, 0.0031236576614901423, 0.0031211604364216328, 0.003122486756183207]\n",
      "Last current val loss: 0.0031239321688190103\n",
      "Model worsened...\n",
      "Model is worsening... decay learning rate\n",
      "New learning rate is 1.09375e-05\n"
     ]
    },
    {
     "ename": "AttributeError",
     "evalue": "'collections.OrderedDict' object has no attribute 'to'",
     "output_type": "error",
     "traceback": [
      "\u001b[0;31m---------------------------------------------------------------------------\u001b[0m",
      "\u001b[0;31mAttributeError\u001b[0m                            Traceback (most recent call last)",
      "\u001b[0;32m<timed exec>\u001b[0m in \u001b[0;36m<module>\u001b[0;34m\u001b[0m\n",
      "\u001b[0;31mAttributeError\u001b[0m: 'collections.OrderedDict' object has no attribute 'to'"
     ]
    }
   ],
   "source": [
    "%%time\n",
    "# To Do:\n",
    "# Randomizing w/in sets of data ... pending # train_test_split, stratify by ais codes???\n",
    "import random\n",
    "\n",
    "# Set flags\n",
    "is_first_model_save = True # Flag to let us know if this is the first save of the model\n",
    "num_epochs_not_improved = 0 # number of epochs without improvement\n",
    "count_lr_decays = 0 # amount of times lr was decreased\n",
    "\n",
    "# Set paramaters\n",
    "lr_decay_factor_decrease = 10 # try 5-10 # amount lr is divided by each time it's decreased\n",
    "lr_decay_threshold = 3 # Threshold of epochs without improvement before decaying learning rate\n",
    "max_number_lr_decays = 5 # Amount of learning rate factor decreases we will allow\n",
    "num_epochs_shuffle = 4 # Number of epochs that it takes for training data to shuffle\n",
    "\n",
    "# Preset global vars\n",
    "list_training_matrices = [] # List to hold training data sparse matrices and allow for shuffling \n",
    "best_val_loss = 1 # Best loss score of validation data so far\n",
    "val_losses = [] # List of losses from each of the past epochs\n",
    "\n",
    "# Train the net work\n",
    "for epoch in range(num_epochs):\n",
    "    print('\\n\\nStarting epoch #' + str(epoch+1) + '...')\n",
    "    print('Training data...')\n",
    "    train_loader.dataset.count = 0\n",
    "    for batch_index, (icds, aiss) in enumerate((train_loader)):\n",
    "        # If haven't set the list_training_matrices\n",
    "        if list_training_matrices == []:\n",
    "            list_training_matrices = list(range(0, len(icds)))\n",
    "        if (epoch+1) % num_epochs_shuffle == 0:\n",
    "            print(\"Shuffling training data on the \" + str(num_epochs_shuffle) + \"th epoch\")\n",
    "            random.shuffle(random_order)\n",
    "        for idx in range(0, len(icds)):\n",
    "            print(\"On batch \" + str(idx+1) + \" / \" + str(len(icds)), end=\"\\r\")\n",
    "            icd_batch = icds[list_training_matrices[idx]].to_dense()\n",
    "            ais_batch = aiss[list_training_matrices[idx]].to_dense()\n",
    "            scores = model(icd_batch.cuda())\n",
    "            loss = loss_function(scores, ais_batch.cuda())\n",
    "            del icd_batch\n",
    "            del ais_batch\n",
    "            del scores\n",
    "            optimizer.zero_grad()\n",
    "            loss.backward()\n",
    "            optimizer.step()\n",
    "\n",
    "    print('Training loss at epoch number ' + str(epoch+1) + ' is ' + str(float(loss)))\n",
    "     \n",
    "    print('\\nValidating data...')\n",
    "    new_val_losses = [] # List of losses for this epoch      \n",
    "    # Validation data don't train, just see where u are after each epoch # When validating round up/down\n",
    "    val_loader.dataset.count = 0\n",
    "    for batch_index, (icds, aiss) in enumerate((val_loader)):\n",
    "        for idx in range(0, len(icds)):\n",
    "            print(\"On batch \" + str(idx+1) + \" / \" + str(len(icds)), end=\"\\r\")\n",
    "            icd_batch = icds[idx].to_dense()\n",
    "            ais_batch = aiss[idx].to_dense()\n",
    "            # forward\n",
    "            scores = model(icd_batch.cuda())\n",
    "            loss = loss_function(scores, ais_batch.cuda())\n",
    "            new_val_losses.append(loss.item())\n",
    "            del icd_batch\n",
    "            del ais_batch\n",
    "            del scores\n",
    "            del loss\n",
    "    avg_new_val_loss = sum(new_val_losses) / len(new_val_losses)\n",
    "    \n",
    "    # Check if we are getting a less accurate model\n",
    "    if len(val_losses) > 0:\n",
    "        print(\"Previous val losses : \" + str(val_losses))\n",
    "        print(\"Last current val loss: \" + str(avg_new_val_loss))\n",
    "        if avg_new_val_loss >= best_val_loss:\n",
    "            print(\"Model worsened...\")\n",
    "            num_epochs_not_improved += 1\n",
    "            val_losses.append(avg_new_val_loss)\n",
    "            if num_epochs_not_improved >= lr_decay_threshold:\n",
    "                print(\"Model is worsening... decay learning rate\")\n",
    "                for g in optimizer.param_groups:\n",
    "                    g['lr'] = g['lr']/lr_decay_factor_decrease\n",
    "                    print(\"New learning rate is \" + str(g['lr']))\n",
    "                num_epochs_not_improved = 0\n",
    "                count_lr_decays += 1\n",
    "            if count_lr_decays > max_number_lr_decays:\n",
    "                break\n",
    "        else:\n",
    "            best_val_loss = avg_new_val_loss\n",
    "            num_epochs_not_improved = 0\n",
    "            print(\"Model continuing to improve... saving state\")\n",
    "            # Then save the model\n",
    "            if is_first_model_save:\n",
    "                # Store trained model for the first time\n",
    "                # https://stackoverflow.com/a/43819235/16393363\n",
    "                torch.save(model.state_dict(), MODEL_ROOT_PATH+MODEL_NAME)\n",
    "            else: \n",
    "                # Save entire model\n",
    "                torch.save(model, MODEL_ROOT_PATH+MODEL_NAME)\n",
    "            val_losses.append(avg_new_val_loss)\n",
    "    else:\n",
    "        best_val_loss = avg_new_val_loss\n",
    "        val_losses.append(avg_new_val_loss)\n",
    "\n",
    "# Done training get last best model\n",
    "try:\n",
    "    model = torch.load(MODEL_ROOT_PATH+MODEL_NAME)\n",
    "    model.to(device)\n",
    "except:\n",
    "    # Load for the first time\n",
    "    model = NeuralNetwork(input_size=input_size, num_classes=num_classes)\n",
    "    model.load_state_dict(torch.load(MODEL_ROOT_PATH+MODEL_NAME))\n",
    "    model.to(device)"
   ]
  },
  {
   "cell_type": "markdown",
   "metadata": {},
   "source": [
    "<a id='test'></a>\n",
    "## Evaluate the trained neural net"
   ]
  },
  {
   "cell_type": "markdown",
   "metadata": {},
   "source": [
    "### Analyze losses"
   ]
  },
  {
   "cell_type": "code",
   "execution_count": 36,
   "metadata": {},
   "outputs": [
    {
     "name": "stdout",
     "output_type": "stream",
     "text": [
      "Stored 'val_losses' (list)\n"
     ]
    }
   ],
   "source": [
    "%store val_losses"
   ]
  },
  {
   "cell_type": "code",
   "execution_count": 12,
   "metadata": {},
   "outputs": [],
   "source": [
    "%store -r val_losses"
   ]
  },
  {
   "cell_type": "code",
   "execution_count": 13,
   "metadata": {},
   "outputs": [
    {
     "data": {
      "image/png": "[encoded data removed]",
      "text/plain": [
       "<Figure size 432x288 with 1 Axes>"
      ]
     },
     "metadata": {
      "needs_background": "light"
     },
     "output_type": "display_data"
    }
   ],
   "source": [
    "# Plot on log scale\n",
    "t = np.asarray(val_losses)\n",
    "plt.plot(np.asarray([x for x in range(0, len(t))]), (t))\n",
    "plt.ylabel('Loss')\n",
    "plt.yscale(\"log\") \n",
    "plt.xlabel('Epoch')\n",
    "plt.title(\"Initial Learning Rate %f\"%(learning_rate))\n",
    "plt.show()"
   ]
  },
  {
   "cell_type": "markdown",
   "metadata": {},
   "source": [
    "### Test Neural Net With Testing Data"
   ]
  },
  {
   "cell_type": "code",
   "execution_count": 14,
   "metadata": {},
   "outputs": [
    {
     "name": "stdout",
     "output_type": "stream",
     "text": [
      "Testing with testing data...\n",
      "On batch 100 / 100\r"
     ]
    }
   ],
   "source": [
    "import collections\n",
    "\n",
    "# Testing parameters\n",
    "score_cut_off = 0.3 # Cut off score, above which will be 1, below will be 0\n",
    "\n",
    "# Load model and test\n",
    "try:\n",
    "    model = torch.load(MODEL_ROOT_PATH+MODEL_NAME)\n",
    "    model.to(device)\n",
    "except:\n",
    "    # Load for the first time\n",
    "    model = NeuralNetwork(input_size=input_size, num_classes=num_classes)\n",
    "    model.load_state_dict(torch.load(MODEL_ROOT_PATH+MODEL_NAME))\n",
    "    model.to(device)\n",
    "    \n",
    "scores_list = []\n",
    "print('Testing with testing data...')\n",
    "test_loader.dataset.count = 0\n",
    "for batch_index, (icds, aiss) in enumerate((test_loader)):\n",
    "    for idx in range(0, len(icds)):\n",
    "            print(\"On batch \" + str(idx+1) + \" / \" + str(len(icds)), end=\"\\r\")\n",
    "            icd_batch = icds[idx].to_dense()\n",
    "            ais_batch = aiss[idx].to_dense()\n",
    "            # forward\n",
    "            scores = model(icd_batch.cuda())\n",
    "            scores = (scores>=score_cut_off).float()\n",
    "            scores_list.append(scores)\n"
   ]
  },
  {
   "cell_type": "markdown",
   "metadata": {
    "jupyter": {
     "outputs_hidden": true
    }
   },
   "source": [
    "### Create a dataframe that shows the observations and prediction AIS codes for each patient, along with ICD codes"
   ]
  },
  {
   "cell_type": "code",
   "execution_count": 26,
   "metadata": {},
   "outputs": [
    {
     "name": "stdout",
     "output_type": "stream",
     "text": [
      "Done...\n"
     ]
    },
    {
     "ename": "KeyboardInterrupt",
     "evalue": "",
     "output_type": "error",
     "traceback": [
      "\u001b[0;31m---------------------------------------------------------------------------\u001b[0m",
      "\u001b[0;31mKeyboardInterrupt\u001b[0m                         Traceback (most recent call last)",
      "\u001b[0;32m<ipython-input-26-82358c7221b7>\u001b[0m in \u001b[0;36m<module>\u001b[0;34m\u001b[0m\n\u001b[1;32m     14\u001b[0m         \u001b[0mpt_row_dictionary\u001b[0m \u001b[0;34m=\u001b[0m \u001b[0;34m{\u001b[0m\u001b[0;34m}\u001b[0m\u001b[0;34m\u001b[0m\u001b[0;34m\u001b[0m\u001b[0m\n\u001b[1;32m     15\u001b[0m         \u001b[0;31m# Get the keys to ais codes for each pt, can have may ais codes\u001b[0m\u001b[0;34m\u001b[0m\u001b[0;34m\u001b[0m\u001b[0;34m\u001b[0m\u001b[0m\n\u001b[0;32m---> 16\u001b[0;31m         \u001b[0mpt_ais_codes_keys\u001b[0m \u001b[0;34m=\u001b[0m \u001b[0;34m(\u001b[0m\u001b[0mpts_score\u001b[0m \u001b[0;34m==\u001b[0m \u001b[0;36m1\u001b[0m\u001b[0;34m)\u001b[0m\u001b[0;34m.\u001b[0m\u001b[0mnonzero\u001b[0m\u001b[0;34m(\u001b[0m\u001b[0mas_tuple\u001b[0m\u001b[0;34m=\u001b[0m\u001b[0;32mFalse\u001b[0m\u001b[0;34m)\u001b[0m\u001b[0;34m.\u001b[0m\u001b[0mtolist\u001b[0m\u001b[0;34m(\u001b[0m\u001b[0;34m)\u001b[0m\u001b[0;34m\u001b[0m\u001b[0;34m\u001b[0m\u001b[0m\n\u001b[0m\u001b[1;32m     17\u001b[0m         \u001b[0mais_code_str\u001b[0m \u001b[0;34m=\u001b[0m \u001b[0;34m''\u001b[0m\u001b[0;34m\u001b[0m\u001b[0;34m\u001b[0m\u001b[0m\n\u001b[1;32m     18\u001b[0m         \u001b[0;31m# For each code in patient's predicted ais codes map and append code to string\u001b[0m\u001b[0;34m\u001b[0m\u001b[0;34m\u001b[0m\u001b[0;34m\u001b[0m\u001b[0m\n",
      "\u001b[0;31mKeyboardInterrupt\u001b[0m: "
     ]
    }
   ],
   "source": [
    "# Check accuracy 200s write code to be able to compoare to other methods\n",
    "# Start by recreating the dataframe ais_test from our data\n",
    "df_rows_list = []\n",
    "batch_index = 0 # Index of the batch we are on\n",
    "# In each batch get the list of scores for each pt\n",
    "for batch_scores in scores_list:\n",
    "    batch_multiplier = batch_index * batch_size # Used to map to the pt number in ais_test/icd_test\n",
    "    pt_num_from_batch = 0 # Used to map to pt row number\n",
    "    for pts_score in batch_scores:\n",
    "        abs_pt_num = batch_multiplier + pt_num_from_batch\n",
    "        # If we have gotten to the dummy pts used to round out sparse coo matrix size, then exit\n",
    "        if abs_pt_num >= len(icd_test):\n",
    "            break\n",
    "        pt_row_dictionary = {}\n",
    "        # Get the keys to ais codes for each pt, can have may ais codes\n",
    "        pt_ais_codes_keys = (pts_score == 1).nonzero(as_tuple=False).tolist()\n",
    "        ais_code_str = ''\n",
    "        # For each code in patient's predicted ais codes map and append code to string\n",
    "        for ais_code_key in pt_ais_codes_keys:\n",
    "            ais_code = ais_inverted_dict[int(ais_code_key[0])]\n",
    "            ais_code_str = ais_code_str + str((ais_code)) + ' '\n",
    "        # Gather data for making ais_test_predictions_df\n",
    "        try: # For some reason AIS_map is 1 pt shorter than ais_test and icd_test\n",
    "            pt_row_dictionary['ICD9CODE'] = icd_test.iloc[abs_pt_num][0]\n",
    "            if ais_code_str == '':\n",
    "                #print(abs_pt_num)\n",
    "                pt_row_dictionary['AIS_pred'] = np.NaN\n",
    "            else:\n",
    "                pt_row_dictionary['AIS_pred'] = ais_code_str[0:-1]\n",
    "            pt_row_dictionary['AIS_obs'] = ais_test.iloc[abs_pt_num][0]\n",
    "            pt_row_dictionary['AIS_map'] = ais_map.iloc[abs_pt_num][0]\n",
    "            df_rows_list.append(pt_row_dictionary)\n",
    "            pt_num_from_batch += 1\n",
    "        except:\n",
    "            print('Done...')\n",
    "            break\n",
    "    batch_index += 1\n",
    "    \n",
    "        \n",
    "    \n",
    "ais_test_predictions_df = pd.DataFrame(df_rows_list, columns=['ICD9CODE', 'AIS_obs', 'AIS_pred', 'AIS_map']) \n",
    "ais_test_predictions_df = hlp200.process_ais_codes(ais_test_predictions_df, ais_dot)"
   ]
  },
  {
   "cell_type": "code",
   "execution_count": 94,
   "metadata": {},
   "outputs": [
    {
     "name": "stdout",
     "output_type": "stream",
     "text": [
      "Stored 'ais_test_predictions_df' (DataFrame)\n"
     ]
    }
   ],
   "source": [
    "%store ais_test_predictions_df"
   ]
  },
  {
   "cell_type": "code",
   "execution_count": 15,
   "metadata": {},
   "outputs": [],
   "source": [
    "%store -r ais_test_predictions_df"
   ]
  },
  {
   "cell_type": "code",
   "execution_count": 28,
   "metadata": {},
   "outputs": [
    {
     "data": {
      "text/html": [
       "<div>\n",
       "<style scoped>\n",
       "    .dataframe tbody tr th:only-of-type {\n",
       "        vertical-align: middle;\n",
       "    }\n",
       "\n",
       "    .dataframe tbody tr th {\n",
       "        vertical-align: top;\n",
       "    }\n",
       "\n",
       "    .dataframe thead th {\n",
       "        text-align: right;\n",
       "    }\n",
       "</style>\n",
       "<table border=\"1\" class=\"dataframe\">\n",
       "  <thead>\n",
       "    <tr style=\"text-align: right;\">\n",
       "      <th></th>\n",
       "      <th>ICD9CODE</th>\n",
       "      <th>AIS_obs</th>\n",
       "      <th>AIS_pred</th>\n",
       "      <th>AIS_map</th>\n",
       "    </tr>\n",
       "  </thead>\n",
       "  <tbody>\n",
       "    <tr>\n",
       "      <th>0</th>\n",
       "      <td>A70_79 E880.9 P87.03 P87.44 D850.0</td>\n",
       "      <td>[161001.1]</td>\n",
       "      <td>[161001.1]</td>\n",
       "      <td>[110000.1]</td>\n",
       "    </tr>\n",
       "    <tr>\n",
       "      <th>1</th>\n",
       "      <td>A50_59 E884.9 P-2 D805.2 D805.4 D807.03</td>\n",
       "      <td>[450203.3, 650416.2, 650630.2]</td>\n",
       "      <td>[450203.3, 650416.2, 650620.2]</td>\n",
       "      <td>[420000.3, 620000.2, 630000.2]</td>\n",
       "    </tr>\n",
       "    <tr>\n",
       "      <th>2</th>\n",
       "      <td>A60_69 E885.9 P79.35 P87.03 D820.21</td>\n",
       "      <td>[853151.3]</td>\n",
       "      <td>[853151.3]</td>\n",
       "      <td>[840000.3]</td>\n",
       "    </tr>\n",
       "    <tr>\n",
       "      <th>3</th>\n",
       "      <td>A50_59 E881.0 P88.01 P88.38 D805.4 D823.01 D82...</td>\n",
       "      <td>[650616.2, 854441.2, 857200.2]</td>\n",
       "      <td>[852004.2, 854471.2]</td>\n",
       "      <td>[630000.2, 840000.2, 840000.2]</td>\n",
       "    </tr>\n",
       "    <tr>\n",
       "      <th>4</th>\n",
       "      <td>A30_39 E986 P54.11 D879.4</td>\n",
       "      <td>[516000.1]</td>\n",
       "      <td>[516002.1]</td>\n",
       "      <td>[560000.1]</td>\n",
       "    </tr>\n",
       "  </tbody>\n",
       "</table>\n",
       "</div>"
      ],
      "text/plain": [
       "                                            ICD9CODE  \\\n",
       "0                 A70_79 E880.9 P87.03 P87.44 D850.0   \n",
       "1            A50_59 E884.9 P-2 D805.2 D805.4 D807.03   \n",
       "2                A60_69 E885.9 P79.35 P87.03 D820.21   \n",
       "3  A50_59 E881.0 P88.01 P88.38 D805.4 D823.01 D82...   \n",
       "4                          A30_39 E986 P54.11 D879.4   \n",
       "\n",
       "                          AIS_obs                        AIS_pred  \\\n",
       "0                      [161001.1]                      [161001.1]   \n",
       "1  [450203.3, 650416.2, 650630.2]  [450203.3, 650416.2, 650620.2]   \n",
       "2                      [853151.3]                      [853151.3]   \n",
       "3  [650616.2, 854441.2, 857200.2]            [852004.2, 854471.2]   \n",
       "4                      [516000.1]                      [516002.1]   \n",
       "\n",
       "                          AIS_map  \n",
       "0                      [110000.1]  \n",
       "1  [420000.3, 620000.2, 630000.2]  \n",
       "2                      [840000.3]  \n",
       "3  [630000.2, 840000.2, 840000.2]  \n",
       "4                      [560000.1]  "
      ]
     },
     "execution_count": 28,
     "metadata": {},
     "output_type": "execute_result"
    }
   ],
   "source": [
    "ais_test_predictions_df.head(5)"
   ]
  },
  {
   "cell_type": "code",
   "execution_count": 115,
   "metadata": {},
   "outputs": [],
   "source": [
    "NUMEXPR_MAX_THREADS = 20\n",
    "\n",
    "sample_res = ais_test_predictions_df.head(10000)\n",
    "\n",
    "# loop through all results\n",
    "for i in range(0,len(sample_res)):\n",
    "    \n",
    "    # match up lists of AIS codes\n",
    "    matches = hlp200.match_ais(sample_res.AIS_obs[i], sample_res.AIS_pred[i])\n",
    "    \n",
    "    # check if first iteration\n",
    "    if i==0:\n",
    "        # create dataframe for results\n",
    "        match_results = hlp200.match_stats(matches, ais_codes_df)\n",
    "        \n",
    "    else:\n",
    "        # append results to dataframe\n",
    "        match_results = match_results.append(hlp200.match_stats(matches, ais_codes_df), ignore_index=True)\n",
    "        \n",
    "match_results = sample_res.join(match_results)\n",
    "match_results.to_csv(\"../Results/feedforward_ais_check_accuracy_1.csv\", index=False)"
   ]
  },
  {
   "cell_type": "code",
   "execution_count": 116,
   "metadata": {},
   "outputs": [
    {
     "name": "stdout",
     "output_type": "stream",
     "text": [
      "num_obs     2.8856\n",
      "num_pred    3.0627\n",
      "dtype: float64\n"
     ]
    },
    {
     "data": {
      "text/plain": [
       "<AxesSubplot:>"
      ]
     },
     "execution_count": 116,
     "metadata": {},
     "output_type": "execute_result"
    },
    {
     "data": {
      "image/png": "[encoded data removed]",
      "text/plain": [
       "<Figure size 432x288 with 1 Axes>"
      ]
     },
     "metadata": {
      "needs_background": "light"
     },
     "output_type": "display_data"
    }
   ],
   "source": [
    "# mean number of injuries per patient\n",
    "print(match_results[['num_obs','num_pred']].mean())\n",
    "match_results[['num_obs','num_pred']].mean().plot.bar()"
   ]
  },
  {
   "cell_type": "code",
   "execution_count": 117,
   "metadata": {},
   "outputs": [
    {
     "name": "stdout",
     "output_type": "stream",
     "text": [
      "ISS equal: 0.723\n",
      "ISS >=16 equal: 0.9217\n"
     ]
    }
   ],
   "source": [
    "# ISS results\n",
    "print(\"ISS equal:\", match_results.iss_equal.mean())\n",
    "print(\"ISS >=16 equal:\", match_results.iss_16_equal.mean())"
   ]
  },
  {
   "cell_type": "code",
   "execution_count": 118,
   "metadata": {},
   "outputs": [
    {
     "name": "stdout",
     "output_type": "stream",
     "text": [
      "ISS>=16 underpredicted: 0.7726692209450831\n"
     ]
    }
   ],
   "source": [
    "iss_16_mismatch = match_results[match_results.iss_16_equal==0]\n",
    "print(\"ISS>=16 underpredicted:\", len(iss_16_mismatch[iss_16_mismatch.iss_obs>iss_16_mismatch.iss_pred])/len(iss_16_mismatch))"
   ]
  },
  {
   "cell_type": "code",
   "execution_count": 119,
   "metadata": {},
   "outputs": [
    {
     "name": "stdout",
     "output_type": "stream",
     "text": [
      "iss_obs     8.798057\n",
      "iss_pred    7.661881\n",
      "dtype: float64\n"
     ]
    },
    {
     "data": {
      "text/plain": [
       "<AxesSubplot:>"
      ]
     },
     "execution_count": 119,
     "metadata": {},
     "output_type": "execute_result"
    },
    {
     "data": {
      "image/png": "[encoded data removed]",
      "text/plain": [
       "<Figure size 432x288 with 1 Axes>"
      ]
     },
     "metadata": {
      "needs_background": "light"
     },
     "output_type": "display_data"
    }
   ],
   "source": [
    "# mean ISS\n",
    "print(match_results[['iss_obs','iss_pred']].mean())\n",
    "match_results[['iss_obs','iss_pred']].mean().plot.bar()"
   ]
  },
  {
   "cell_type": "code",
   "execution_count": 120,
   "metadata": {},
   "outputs": [
    {
     "name": "stdout",
     "output_type": "stream",
     "text": [
      "MAIS equal: 0.7879\n",
      "MAIS >=3 equal: 0.9026\n"
     ]
    }
   ],
   "source": [
    "# MAIS results\n",
    "print(\"MAIS equal:\", match_results.mais_equal.mean())\n",
    "print(\"MAIS >=3 equal:\", match_results.mais_3_equal.mean())"
   ]
  },
  {
   "cell_type": "code",
   "execution_count": 121,
   "metadata": {},
   "outputs": [
    {
     "name": "stdout",
     "output_type": "stream",
     "text": [
      "MAIS>=3 underpredicted: 0.686858316221766\n"
     ]
    }
   ],
   "source": [
    "mais_3_mismatch = match_results[match_results.mais_3_equal==0]\n",
    "print(\"MAIS>=3 underpredicted:\", len(mais_3_mismatch[mais_3_mismatch.mais_obs>mais_3_mismatch.mais_pred])/len(mais_3_mismatch))"
   ]
  },
  {
   "cell_type": "code",
   "execution_count": 122,
   "metadata": {},
   "outputs": [
    {
     "name": "stdout",
     "output_type": "stream",
     "text": [
      "mais_obs     2.5149\n",
      "mais_pred    2.3778\n",
      "dtype: float64\n"
     ]
    },
    {
     "data": {
      "text/plain": [
       "<AxesSubplot:>"
      ]
     },
     "execution_count": 122,
     "metadata": {},
     "output_type": "execute_result"
    },
    {
     "data": {
      "image/png": "[encoded data removed]",
      "text/plain": [
       "<Figure size 432x288 with 1 Axes>"
      ]
     },
     "metadata": {
      "needs_background": "light"
     },
     "output_type": "display_data"
    }
   ],
   "source": [
    "# mean MAIS\n",
    "print(match_results[['mais_obs','mais_pred']].mean())\n",
    "match_results[['mais_obs','mais_pred']].mean().plot.bar()"
   ]
  },
  {
   "cell_type": "code",
   "execution_count": 123,
   "metadata": {},
   "outputs": [
    {
     "data": {
      "text/html": [
       "<div>\n",
       "<style scoped>\n",
       "    .dataframe tbody tr th:only-of-type {\n",
       "        vertical-align: middle;\n",
       "    }\n",
       "\n",
       "    .dataframe tbody tr th {\n",
       "        vertical-align: top;\n",
       "    }\n",
       "\n",
       "    .dataframe thead th {\n",
       "        text-align: right;\n",
       "    }\n",
       "</style>\n",
       "<table border=\"1\" class=\"dataframe\">\n",
       "  <thead>\n",
       "    <tr style=\"text-align: right;\">\n",
       "      <th></th>\n",
       "      <th>exact</th>\n",
       "      <th>same_reg_same_sev</th>\n",
       "      <th>same_reg_diff_sev</th>\n",
       "      <th>diff_reg_same_sev</th>\n",
       "      <th>diff_reg_diff_sev</th>\n",
       "      <th>unmatch_obs</th>\n",
       "      <th>unmatch_pred</th>\n",
       "    </tr>\n",
       "  </thead>\n",
       "  <tbody>\n",
       "    <tr>\n",
       "      <th>0</th>\n",
       "      <td>0.636055</td>\n",
       "      <td>0.179997</td>\n",
       "      <td>0.074057</td>\n",
       "      <td>0.021486</td>\n",
       "      <td>0.013342</td>\n",
       "      <td>0.075444</td>\n",
       "      <td>0.136817</td>\n",
       "    </tr>\n",
       "  </tbody>\n",
       "</table>\n",
       "</div>"
      ],
      "text/plain": [
       "      exact  same_reg_same_sev  same_reg_diff_sev  diff_reg_same_sev  \\\n",
       "0  0.636055           0.179997           0.074057           0.021486   \n",
       "\n",
       "   diff_reg_diff_sev  unmatch_obs  unmatch_pred  \n",
       "0           0.013342     0.075444      0.136817  "
      ]
     },
     "execution_count": 123,
     "metadata": {},
     "output_type": "execute_result"
    }
   ],
   "source": [
    "# total codes observed\n",
    "num_obs = sum(match_results.num_obs)\n",
    "\n",
    "# match categories\n",
    "match_cat = pd.DataFrame({'exact':[sum(match_results.exact)/num_obs], \\\n",
    "                          'same_reg_same_sev':[sum(match_results.same_reg_same_sev)/num_obs], \\\n",
    "                          'same_reg_diff_sev':[sum(match_results.same_reg_diff_sev)/num_obs], \\\n",
    "                          'diff_reg_same_sev':[sum(match_results.diff_reg_same_sev)/num_obs], \\\n",
    "                          'diff_reg_diff_sev':[sum(match_results.diff_reg_diff_sev)/num_obs], \\\n",
    "                          'unmatch_obs':[sum(match_results.unmatched_obs)/num_obs], \\\n",
    "                          'unmatch_pred':[sum(match_results.unmatched_pred)/num_obs]})\n",
    "\n",
    "match_cat"
   ]
  },
  {
   "cell_type": "code",
   "execution_count": 124,
   "metadata": {},
   "outputs": [
    {
     "data": {
      "image/png": "[encoded data removed]",
      "text/plain": [
       "<Figure size 432x288 with 1 Axes>"
      ]
     },
     "metadata": {
      "needs_background": "light"
     },
     "output_type": "display_data"
    }
   ],
   "source": [
    "match_cat.plot.barh().invert_yaxis()"
   ]
  },
  {
   "cell_type": "code",
   "execution_count": 125,
   "metadata": {},
   "outputs": [
    {
     "data": {
      "text/plain": [
       "(0.0, 0.75)"
      ]
     },
     "execution_count": 125,
     "metadata": {},
     "output_type": "execute_result"
    },
    {
     "data": {
      "image/png": "[encoded data removed]",
      "text/plain": [
       "<Figure size 432x288 with 1 Axes>"
      ]
     },
     "metadata": {
      "needs_background": "light"
     },
     "output_type": "display_data"
    }
   ],
   "source": [
    "ax = match_cat.plot.barh()\n",
    "ax.invert_yaxis()\n",
    "ax.set_xlim(0,0.75)"
   ]
  },
  {
   "cell_type": "code",
   "execution_count": 126,
   "metadata": {},
   "outputs": [
    {
     "data": {
      "text/plain": [
       "<AxesSubplot:>"
      ]
     },
     "execution_count": 126,
     "metadata": {},
     "output_type": "execute_result"
    },
    {
     "data": {
      "image/png": "[encoded data removed]",
      "text/plain": [
       "<Figure size 432x288 with 1 Axes>"
      ]
     },
     "metadata": {
      "needs_background": "light"
     },
     "output_type": "display_data"
    }
   ],
   "source": [
    "# total codes observed\n",
    "num_obs = sum(match_results.num_obs)\n",
    "\n",
    "# match categories\n",
    "match_cat = pd.DataFrame({'Good':[(sum(match_results.exact) + sum(match_results.same_reg_same_sev))/num_obs], \\\n",
    "                          'Maybe okay':[sum(match_results.same_reg_diff_sev)/num_obs], \\\n",
    "                          'Not great':[sum(match_results.diff_reg_same_sev)/num_obs], \\\n",
    "                          'Poor':[(sum(match_results.unmatched))/num_obs]})\n",
    "\n",
    "match_cat.plot.bar()"
   ]
  },
  {
   "cell_type": "markdown",
   "metadata": {},
   "source": [
    "### Check accuracy"
   ]
  },
  {
   "cell_type": "code",
   "execution_count": 33,
   "metadata": {},
   "outputs": [
    {
     "name": "stdout",
     "output_type": "stream",
     "text": [
      "Accuracy on training set: \n"
     ]
    },
    {
     "ename": "RuntimeError",
     "evalue": "Expected all tensors to be on the same device, but found at least two devices, cpu and cuda:0! (when checking argument for argument mat1 in method wrapper__addmm)",
     "output_type": "error",
     "traceback": [
      "\u001b[0;31m---------------------------------------------------------------------------\u001b[0m",
      "\u001b[0;31mRuntimeError\u001b[0m                              Traceback (most recent call last)",
      "\u001b[0;32m<ipython-input-33-0bd0fdbdaef7>\u001b[0m in \u001b[0;36m<module>\u001b[0;34m\u001b[0m\n\u001b[1;32m     60\u001b[0m \u001b[0;34m\u001b[0m\u001b[0m\n\u001b[1;32m     61\u001b[0m \u001b[0mprint\u001b[0m\u001b[0;34m(\u001b[0m\u001b[0;34mf\"Accuracy on training set: \"\u001b[0m\u001b[0;34m)\u001b[0m\u001b[0;34m\u001b[0m\u001b[0;34m\u001b[0m\u001b[0m\n\u001b[0;32m---> 62\u001b[0;31m \u001b[0mprint\u001b[0m\u001b[0;34m(\u001b[0m\u001b[0mcheck_accuracy\u001b[0m\u001b[0;34m(\u001b[0m\u001b[0msparse_icd_train\u001b[0m\u001b[0;34m,\u001b[0m \u001b[0msparse_ais_train\u001b[0m\u001b[0;34m,\u001b[0m \u001b[0mmodel\u001b[0m\u001b[0;34m)\u001b[0m\u001b[0;34m*\u001b[0m\u001b[0;36m100\u001b[0m\u001b[0;34m)\u001b[0m\u001b[0;34m\u001b[0m\u001b[0;34m\u001b[0m\u001b[0m\n\u001b[0m\u001b[1;32m     63\u001b[0m \u001b[0mprint\u001b[0m\u001b[0;34m(\u001b[0m\u001b[0;34mf\"Accuracy on test set: \"\u001b[0m\u001b[0;34m)\u001b[0m\u001b[0;34m\u001b[0m\u001b[0;34m\u001b[0m\u001b[0m\n\u001b[1;32m     64\u001b[0m \u001b[0mprint\u001b[0m\u001b[0;34m(\u001b[0m\u001b[0mcheck_accuracy\u001b[0m\u001b[0;34m(\u001b[0m\u001b[0msparse_icd_test\u001b[0m\u001b[0;34m,\u001b[0m \u001b[0msparse_ais_test\u001b[0m\u001b[0;34m,\u001b[0m \u001b[0mmodel\u001b[0m\u001b[0;34m)\u001b[0m\u001b[0;34m*\u001b[0m\u001b[0;36m100\u001b[0m\u001b[0;34m)\u001b[0m\u001b[0;34m\u001b[0m\u001b[0;34m\u001b[0m\u001b[0m\n",
      "\u001b[0;32m<ipython-input-33-0bd0fdbdaef7>\u001b[0m in \u001b[0;36mcheck_accuracy\u001b[0;34m(sparse_icd, sparse_ais, model)\u001b[0m\n\u001b[1;32m     34\u001b[0m         \u001b[0;32mwhile\u001b[0m \u001b[0;32mnot\u001b[0m \u001b[0mcurrent_row\u001b[0m \u001b[0;34m>=\u001b[0m \u001b[0;34m(\u001b[0m\u001b[0mlen\u001b[0m\u001b[0;34m(\u001b[0m\u001b[0msparse_icd\u001b[0m\u001b[0;34m)\u001b[0m \u001b[0;34m/\u001b[0m \u001b[0;34m(\u001b[0m\u001b[0mdivisor\u001b[0m \u001b[0;34m*\u001b[0m \u001b[0mbatch_size\u001b[0m\u001b[0;34m)\u001b[0m\u001b[0;34m)\u001b[0m\u001b[0;34m:\u001b[0m\u001b[0;34m\u001b[0m\u001b[0;34m\u001b[0m\u001b[0m\n\u001b[1;32m     35\u001b[0m             \u001b[0;31m# Get predictions\u001b[0m\u001b[0;34m\u001b[0m\u001b[0;34m\u001b[0m\u001b[0;34m\u001b[0m\u001b[0m\n\u001b[0;32m---> 36\u001b[0;31m             \u001b[0mscores\u001b[0m \u001b[0;34m=\u001b[0m \u001b[0mmodel\u001b[0m\u001b[0;34m(\u001b[0m\u001b[0mget_dense_submat\u001b[0m\u001b[0;34m(\u001b[0m\u001b[0msparse_icd\u001b[0m\u001b[0;34m,\u001b[0m \u001b[0mcurrent_row\u001b[0m\u001b[0;34m,\u001b[0m \u001b[0mend\u001b[0m\u001b[0;34m)\u001b[0m\u001b[0;34m.\u001b[0m\u001b[0mcuda\u001b[0m\u001b[0;34m(\u001b[0m\u001b[0;34m)\u001b[0m\u001b[0;34m)\u001b[0m\u001b[0;34m\u001b[0m\u001b[0;34m\u001b[0m\u001b[0m\n\u001b[0m\u001b[1;32m     37\u001b[0m             \u001b[0m_\u001b[0m\u001b[0;34m,\u001b[0m \u001b[0mpredictions\u001b[0m \u001b[0;34m=\u001b[0m \u001b[0mscores\u001b[0m\u001b[0;34m.\u001b[0m\u001b[0mmax\u001b[0m\u001b[0;34m(\u001b[0m\u001b[0;36m1\u001b[0m\u001b[0;34m)\u001b[0m\u001b[0;34m\u001b[0m\u001b[0;34m\u001b[0m\u001b[0m\n\u001b[1;32m     38\u001b[0m             \u001b[0mpredictions\u001b[0m \u001b[0;34m=\u001b[0m \u001b[0mpredictions\u001b[0m\u001b[0;34m.\u001b[0m\u001b[0mto\u001b[0m\u001b[0;34m(\u001b[0m\u001b[0mdevice\u001b[0m\u001b[0;34m)\u001b[0m\u001b[0;34m\u001b[0m\u001b[0;34m\u001b[0m\u001b[0m\n",
      "\u001b[0;32m~/.local/lib/python3.8/site-packages/torch/nn/modules/module.py\u001b[0m in \u001b[0;36m_call_impl\u001b[0;34m(self, *input, **kwargs)\u001b[0m\n\u001b[1;32m   1108\u001b[0m         if not (self._backward_hooks or self._forward_hooks or self._forward_pre_hooks or _global_backward_hooks\n\u001b[1;32m   1109\u001b[0m                 or _global_forward_hooks or _global_forward_pre_hooks):\n\u001b[0;32m-> 1110\u001b[0;31m             \u001b[0;32mreturn\u001b[0m \u001b[0mforward_call\u001b[0m\u001b[0;34m(\u001b[0m\u001b[0;34m*\u001b[0m\u001b[0minput\u001b[0m\u001b[0;34m,\u001b[0m \u001b[0;34m**\u001b[0m\u001b[0mkwargs\u001b[0m\u001b[0;34m)\u001b[0m\u001b[0;34m\u001b[0m\u001b[0;34m\u001b[0m\u001b[0m\n\u001b[0m\u001b[1;32m   1111\u001b[0m         \u001b[0;31m# Do not call functions when jit is used\u001b[0m\u001b[0;34m\u001b[0m\u001b[0;34m\u001b[0m\u001b[0;34m\u001b[0m\u001b[0m\n\u001b[1;32m   1112\u001b[0m         \u001b[0mfull_backward_hooks\u001b[0m\u001b[0;34m,\u001b[0m \u001b[0mnon_full_backward_hooks\u001b[0m \u001b[0;34m=\u001b[0m \u001b[0;34m[\u001b[0m\u001b[0;34m]\u001b[0m\u001b[0;34m,\u001b[0m \u001b[0;34m[\u001b[0m\u001b[0;34m]\u001b[0m\u001b[0;34m\u001b[0m\u001b[0;34m\u001b[0m\u001b[0m\n",
      "\u001b[0;32m<ipython-input-7-5f82b8705743>\u001b[0m in \u001b[0;36mforward\u001b[0;34m(self, x)\u001b[0m\n\u001b[1;32m     11\u001b[0m \u001b[0;34m\u001b[0m\u001b[0m\n\u001b[1;32m     12\u001b[0m     \u001b[0;32mdef\u001b[0m \u001b[0mforward\u001b[0m\u001b[0;34m(\u001b[0m\u001b[0mself\u001b[0m\u001b[0;34m,\u001b[0m \u001b[0mx\u001b[0m\u001b[0;34m)\u001b[0m\u001b[0;34m:\u001b[0m\u001b[0;34m\u001b[0m\u001b[0;34m\u001b[0m\u001b[0m\n\u001b[0;32m---> 13\u001b[0;31m         \u001b[0mlogits\u001b[0m \u001b[0;34m=\u001b[0m \u001b[0mself\u001b[0m\u001b[0;34m.\u001b[0m\u001b[0mlinear_relu_stack\u001b[0m\u001b[0;34m(\u001b[0m\u001b[0mx\u001b[0m\u001b[0;34m)\u001b[0m\u001b[0;34m\u001b[0m\u001b[0;34m\u001b[0m\u001b[0m\n\u001b[0m\u001b[1;32m     14\u001b[0m         \u001b[0;32mreturn\u001b[0m \u001b[0mlogits\u001b[0m\u001b[0;34m\u001b[0m\u001b[0;34m\u001b[0m\u001b[0m\n",
      "\u001b[0;32m~/.local/lib/python3.8/site-packages/torch/nn/modules/module.py\u001b[0m in \u001b[0;36m_call_impl\u001b[0;34m(self, *input, **kwargs)\u001b[0m\n\u001b[1;32m   1108\u001b[0m         if not (self._backward_hooks or self._forward_hooks or self._forward_pre_hooks or _global_backward_hooks\n\u001b[1;32m   1109\u001b[0m                 or _global_forward_hooks or _global_forward_pre_hooks):\n\u001b[0;32m-> 1110\u001b[0;31m             \u001b[0;32mreturn\u001b[0m \u001b[0mforward_call\u001b[0m\u001b[0;34m(\u001b[0m\u001b[0;34m*\u001b[0m\u001b[0minput\u001b[0m\u001b[0;34m,\u001b[0m \u001b[0;34m**\u001b[0m\u001b[0mkwargs\u001b[0m\u001b[0;34m)\u001b[0m\u001b[0;34m\u001b[0m\u001b[0;34m\u001b[0m\u001b[0m\n\u001b[0m\u001b[1;32m   1111\u001b[0m         \u001b[0;31m# Do not call functions when jit is used\u001b[0m\u001b[0;34m\u001b[0m\u001b[0;34m\u001b[0m\u001b[0;34m\u001b[0m\u001b[0m\n\u001b[1;32m   1112\u001b[0m         \u001b[0mfull_backward_hooks\u001b[0m\u001b[0;34m,\u001b[0m \u001b[0mnon_full_backward_hooks\u001b[0m \u001b[0;34m=\u001b[0m \u001b[0;34m[\u001b[0m\u001b[0;34m]\u001b[0m\u001b[0;34m,\u001b[0m \u001b[0;34m[\u001b[0m\u001b[0;34m]\u001b[0m\u001b[0;34m\u001b[0m\u001b[0;34m\u001b[0m\u001b[0m\n",
      "\u001b[0;32m~/.local/lib/python3.8/site-packages/torch/nn/modules/container.py\u001b[0m in \u001b[0;36mforward\u001b[0;34m(self, input)\u001b[0m\n\u001b[1;32m    139\u001b[0m     \u001b[0;32mdef\u001b[0m \u001b[0mforward\u001b[0m\u001b[0;34m(\u001b[0m\u001b[0mself\u001b[0m\u001b[0;34m,\u001b[0m \u001b[0minput\u001b[0m\u001b[0;34m)\u001b[0m\u001b[0;34m:\u001b[0m\u001b[0;34m\u001b[0m\u001b[0;34m\u001b[0m\u001b[0m\n\u001b[1;32m    140\u001b[0m         \u001b[0;32mfor\u001b[0m \u001b[0mmodule\u001b[0m \u001b[0;32min\u001b[0m \u001b[0mself\u001b[0m\u001b[0;34m:\u001b[0m\u001b[0;34m\u001b[0m\u001b[0;34m\u001b[0m\u001b[0m\n\u001b[0;32m--> 141\u001b[0;31m             \u001b[0minput\u001b[0m \u001b[0;34m=\u001b[0m \u001b[0mmodule\u001b[0m\u001b[0;34m(\u001b[0m\u001b[0minput\u001b[0m\u001b[0;34m)\u001b[0m\u001b[0;34m\u001b[0m\u001b[0;34m\u001b[0m\u001b[0m\n\u001b[0m\u001b[1;32m    142\u001b[0m         \u001b[0;32mreturn\u001b[0m \u001b[0minput\u001b[0m\u001b[0;34m\u001b[0m\u001b[0;34m\u001b[0m\u001b[0m\n\u001b[1;32m    143\u001b[0m \u001b[0;34m\u001b[0m\u001b[0m\n",
      "\u001b[0;32m~/.local/lib/python3.8/site-packages/torch/nn/modules/module.py\u001b[0m in \u001b[0;36m_call_impl\u001b[0;34m(self, *input, **kwargs)\u001b[0m\n\u001b[1;32m   1108\u001b[0m         if not (self._backward_hooks or self._forward_hooks or self._forward_pre_hooks or _global_backward_hooks\n\u001b[1;32m   1109\u001b[0m                 or _global_forward_hooks or _global_forward_pre_hooks):\n\u001b[0;32m-> 1110\u001b[0;31m             \u001b[0;32mreturn\u001b[0m \u001b[0mforward_call\u001b[0m\u001b[0;34m(\u001b[0m\u001b[0;34m*\u001b[0m\u001b[0minput\u001b[0m\u001b[0;34m,\u001b[0m \u001b[0;34m**\u001b[0m\u001b[0mkwargs\u001b[0m\u001b[0;34m)\u001b[0m\u001b[0;34m\u001b[0m\u001b[0;34m\u001b[0m\u001b[0m\n\u001b[0m\u001b[1;32m   1111\u001b[0m         \u001b[0;31m# Do not call functions when jit is used\u001b[0m\u001b[0;34m\u001b[0m\u001b[0;34m\u001b[0m\u001b[0;34m\u001b[0m\u001b[0m\n\u001b[1;32m   1112\u001b[0m         \u001b[0mfull_backward_hooks\u001b[0m\u001b[0;34m,\u001b[0m \u001b[0mnon_full_backward_hooks\u001b[0m \u001b[0;34m=\u001b[0m \u001b[0;34m[\u001b[0m\u001b[0;34m]\u001b[0m\u001b[0;34m,\u001b[0m \u001b[0;34m[\u001b[0m\u001b[0;34m]\u001b[0m\u001b[0;34m\u001b[0m\u001b[0;34m\u001b[0m\u001b[0m\n",
      "\u001b[0;32m~/.local/lib/python3.8/site-packages/torch/nn/modules/linear.py\u001b[0m in \u001b[0;36mforward\u001b[0;34m(self, input)\u001b[0m\n\u001b[1;32m    101\u001b[0m \u001b[0;34m\u001b[0m\u001b[0m\n\u001b[1;32m    102\u001b[0m     \u001b[0;32mdef\u001b[0m \u001b[0mforward\u001b[0m\u001b[0;34m(\u001b[0m\u001b[0mself\u001b[0m\u001b[0;34m,\u001b[0m \u001b[0minput\u001b[0m\u001b[0;34m:\u001b[0m \u001b[0mTensor\u001b[0m\u001b[0;34m)\u001b[0m \u001b[0;34m->\u001b[0m \u001b[0mTensor\u001b[0m\u001b[0;34m:\u001b[0m\u001b[0;34m\u001b[0m\u001b[0;34m\u001b[0m\u001b[0m\n\u001b[0;32m--> 103\u001b[0;31m         \u001b[0;32mreturn\u001b[0m \u001b[0mF\u001b[0m\u001b[0;34m.\u001b[0m\u001b[0mlinear\u001b[0m\u001b[0;34m(\u001b[0m\u001b[0minput\u001b[0m\u001b[0;34m,\u001b[0m \u001b[0mself\u001b[0m\u001b[0;34m.\u001b[0m\u001b[0mweight\u001b[0m\u001b[0;34m,\u001b[0m \u001b[0mself\u001b[0m\u001b[0;34m.\u001b[0m\u001b[0mbias\u001b[0m\u001b[0;34m)\u001b[0m\u001b[0;34m\u001b[0m\u001b[0;34m\u001b[0m\u001b[0m\n\u001b[0m\u001b[1;32m    104\u001b[0m \u001b[0;34m\u001b[0m\u001b[0m\n\u001b[1;32m    105\u001b[0m     \u001b[0;32mdef\u001b[0m \u001b[0mextra_repr\u001b[0m\u001b[0;34m(\u001b[0m\u001b[0mself\u001b[0m\u001b[0;34m)\u001b[0m \u001b[0;34m->\u001b[0m \u001b[0mstr\u001b[0m\u001b[0;34m:\u001b[0m\u001b[0;34m\u001b[0m\u001b[0;34m\u001b[0m\u001b[0m\n",
      "\u001b[0;31mRuntimeError\u001b[0m: Expected all tensors to be on the same device, but found at least two devices, cpu and cuda:0! (when checking argument for argument mat1 in method wrapper__addmm)"
     ]
    }
   ],
   "source": [
    "divisor = 900 # Set to 1 to run for all data\n",
    "\n",
    "# Function that gets submatrix in dense format\n",
    "def get_dense_submat(full_sparse_mat, start, end, ais=False):\n",
    "    try:\n",
    "        if ais == False:\n",
    "            return torch.index_select(full_sparse_mat.cuda(),0,torch.tensor(list(range(start, end))).cuda()).to_dense()\n",
    "        else:\n",
    "            raise(\"Not sure what's going on\")\n",
    "    except:\n",
    "        return torch.index_select(full_sparse_mat.cuda(),0,torch.tensor(list(range(start, end))).cuda())\n",
    "\n",
    "    \n",
    "    \n",
    "    \n",
    "# Okay all of this is junk im going to start over\n",
    "# What I think I need:\n",
    "#   - Get predictions for each patient\n",
    "#   - Get the ais codes for each patient\n",
    "#   - Compare those, then incr  \n",
    "    \n",
    "# Check accuracy on training & test to see how good our model\n",
    "def check_accuracy(sparse_icd, sparse_ais, model):\n",
    "    num_correct = 0\n",
    "    num_samples = 0\n",
    "    model.eval()\n",
    "    # Keep track of where we are\n",
    "    current_row = 0\n",
    "    end = 1983\n",
    "    # Transfer to GPU\n",
    "    sparse_icd, sparse_ais = sparse_icd.to(device), sparse_ais.to(device)\n",
    "    with torch.no_grad():\n",
    "        # While current row isn't higher than the desired length\n",
    "        while not current_row >= (len(sparse_icd) / (divisor * batch_size)):\n",
    "            # Get predictions\n",
    "            scores = model(get_dense_submat(sparse_icd, current_row, end).cuda())\n",
    "            _, predictions = scores.max(1)\n",
    "            predictions = predictions.to(device)\n",
    "\n",
    "            \n",
    "            dense_pred = get_dense_submat(predictions, current_row, end)\n",
    "            dense_ais = get_dense_submat(sparse_ais, current_row, end, ais=True)\n",
    "            # For row in batch\n",
    "            for row in range(current_row, end):\n",
    "                print(dense_pred)\n",
    "                print(dense_ais)\n",
    "                # If prediction matches sparse ais, add another correct\n",
    "                num_correct += (dense_pred[row] == \n",
    "                                dense_ais[row])\n",
    "                num_samples += predictions.size(0)\n",
    "                return 'done'\n",
    "            current_row = end\n",
    "            # If end is greater than the length we are trying to go to, just set end to that length\n",
    "            if end >= (len(sparse_icd) / (divisor * batch_size)):\n",
    "                end = (len(sparse_icd) / (divisor * batch_size))\n",
    "            end += 1983\n",
    "\n",
    "    model.train()\n",
    "    return num_correct/num_samples\n",
    "\n",
    "print(f\"Accuracy on training set: \")\n",
    "print(check_accuracy(sparse_icd_train, sparse_ais_train, model)*100)\n",
    "print(f\"Accuracy on test set: \")\n",
    "print(check_accuracy(sparse_icd_test, sparse_ais_test, model)*100)"
   ]
  },
  {
   "cell_type": "code",
   "execution_count": null,
   "metadata": {},
   "outputs": [],
   "source": []
  }
 ],
 "metadata": {
  "kernelspec": {
   "display_name": "Python 3",
   "language": "python",
   "name": "python3"
  },
  "language_info": {
   "codemirror_mode": {
    "name": "ipython",
    "version": 3
   },
   "file_extension": ".py",
   "mimetype": "text/x-python",
   "name": "python",
   "nbconvert_exporter": "python",
   "pygments_lexer": "ipython3",
   "version": "3.8.8"
  }
 },
 "nbformat": 4,
 "nbformat_minor": 4
}
