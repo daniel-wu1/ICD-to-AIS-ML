{
 "cells": [
  {
   "cell_type": "markdown",
   "metadata": {},
   "source": [
    "# Project: ICD-AIS conversion using Deep Learning\n",
    "\n",
    "This script checks the accuracy of AIS predictions"
   ]
  },
  {
   "cell_type": "markdown",
   "metadata": {},
   "source": [
    "## Setup"
   ]
  },
  {
   "cell_type": "code",
   "execution_count": 1,
   "metadata": {},
   "outputs": [],
   "source": [
    "import numpy as np\n",
    "import pandas as pd\n",
    "import sqlite3\n",
    "import random\n",
    "import math\n",
    "import modules.helper_functions_200 as hlp"
   ]
  },
  {
   "cell_type": "markdown",
   "metadata": {},
   "source": [
    "## Parameters\n"
   ]
  },
  {
   "cell_type": "code",
   "execution_count": 2,
   "metadata": {},
   "outputs": [],
   "source": [
    "ais_pred_onmt_file = \"../Results/test_ais_pred_early_stop.csv\" # Created by early stop openNMT model\n",
    "ais_map_file = \"../Results/test_ais_pred_aaam_map.csv\" # This is the creation of 110. Takes ICD codes and translates to AIS using AAAM map. This is derived from icd_obs_file\n",
    "ais_obs_file = \"../Data/test_ais_pre_I9_A05.csv\" # A file of AIS observed\n",
    "icd_obs_file =\"../Data/test_icd_pre_I9_A05.csv\" # A file of ICD observed\n",
    "ais_codes_file = \"../Data/AIS08_codes.csv\" # This maps AIS08 to AIS98"
   ]
  },
  {
   "cell_type": "markdown",
   "metadata": {},
   "source": [
    "## Load data and merge"
   ]
  },
  {
   "cell_type": "code",
   "execution_count": 3,
   "metadata": {},
   "outputs": [],
   "source": [
    "# load predictions from OpenNMT\n",
    "ais_pred = pd.read_csv(ais_pred_onmt_file, header=None, skip_blank_lines=False,names=[\"AIS05CODE\"])"
   ]
  },
  {
   "cell_type": "code",
   "execution_count": 4,
   "metadata": {},
   "outputs": [
    {
     "data": {
      "text/html": [
       "<div>\n",
       "<style scoped>\n",
       "    .dataframe tbody tr th:only-of-type {\n",
       "        vertical-align: middle;\n",
       "    }\n",
       "\n",
       "    .dataframe tbody tr th {\n",
       "        vertical-align: top;\n",
       "    }\n",
       "\n",
       "    .dataframe thead th {\n",
       "        text-align: right;\n",
       "    }\n",
       "</style>\n",
       "<table border=\"1\" class=\"dataframe\">\n",
       "  <thead>\n",
       "    <tr style=\"text-align: right;\">\n",
       "      <th></th>\n",
       "      <th>AIS05CODE</th>\n",
       "    </tr>\n",
       "  </thead>\n",
       "  <tbody>\n",
       "    <tr>\n",
       "      <th>0</th>\n",
       "      <td>[110000.1]</td>\n",
       "    </tr>\n",
       "    <tr>\n",
       "      <th>1</th>\n",
       "      <td>[420000.3, 620000.2, 630000.2]</td>\n",
       "    </tr>\n",
       "    <tr>\n",
       "      <th>2</th>\n",
       "      <td>[840000.3]</td>\n",
       "    </tr>\n",
       "    <tr>\n",
       "      <th>3</th>\n",
       "      <td>[630000.2, 840000.2, 840000.2]</td>\n",
       "    </tr>\n",
       "    <tr>\n",
       "      <th>4</th>\n",
       "      <td>[560000.1]</td>\n",
       "    </tr>\n",
       "  </tbody>\n",
       "</table>\n",
       "</div>"
      ],
      "text/plain": [
       "                        AIS05CODE\n",
       "0                      [110000.1]\n",
       "1  [420000.3, 620000.2, 630000.2]\n",
       "2                      [840000.3]\n",
       "3  [630000.2, 840000.2, 840000.2]\n",
       "4                      [560000.1]"
      ]
     },
     "execution_count": 4,
     "metadata": {},
     "output_type": "execute_result"
    }
   ],
   "source": [
    "# load mapped values from 110\n",
    "ais_map = pd.read_csv(ais_map_file, header=None, skip_blank_lines=False, names=[\"AIS05CODE\"])\n",
    "ais_map.head(5)"
   ]
  },
  {
   "cell_type": "code",
   "execution_count": 5,
   "metadata": {},
   "outputs": [
    {
     "data": {
      "text/html": [
       "<div>\n",
       "<style scoped>\n",
       "    .dataframe tbody tr th:only-of-type {\n",
       "        vertical-align: middle;\n",
       "    }\n",
       "\n",
       "    .dataframe tbody tr th {\n",
       "        vertical-align: top;\n",
       "    }\n",
       "\n",
       "    .dataframe thead th {\n",
       "        text-align: right;\n",
       "    }\n",
       "</style>\n",
       "<table border=\"1\" class=\"dataframe\">\n",
       "  <thead>\n",
       "    <tr style=\"text-align: right;\">\n",
       "      <th></th>\n",
       "      <th>AIS05CODE</th>\n",
       "    </tr>\n",
       "  </thead>\n",
       "  <tbody>\n",
       "    <tr>\n",
       "      <th>0</th>\n",
       "      <td>161001</td>\n",
       "    </tr>\n",
       "    <tr>\n",
       "      <th>1</th>\n",
       "      <td>450203 650416 650630</td>\n",
       "    </tr>\n",
       "    <tr>\n",
       "      <th>2</th>\n",
       "      <td>853151</td>\n",
       "    </tr>\n",
       "    <tr>\n",
       "      <th>3</th>\n",
       "      <td>650616 854441 857200</td>\n",
       "    </tr>\n",
       "    <tr>\n",
       "      <th>4</th>\n",
       "      <td>516000</td>\n",
       "    </tr>\n",
       "  </tbody>\n",
       "</table>\n",
       "</div>"
      ],
      "text/plain": [
       "              AIS05CODE\n",
       "0                161001\n",
       "1  450203 650416 650630\n",
       "2                853151\n",
       "3  650616 854441 857200\n",
       "4                516000"
      ]
     },
     "execution_count": 5,
     "metadata": {},
     "output_type": "execute_result"
    }
   ],
   "source": [
    "# load observations (in AIS)\n",
    "ais_obs = pd.read_csv(ais_obs_file, header=None, names=[\"AIS05CODE\"])\n",
    "ais_obs.head(5)"
   ]
  },
  {
   "cell_type": "code",
   "execution_count": 6,
   "metadata": {},
   "outputs": [
    {
     "data": {
      "text/html": [
       "<div>\n",
       "<style scoped>\n",
       "    .dataframe tbody tr th:only-of-type {\n",
       "        vertical-align: middle;\n",
       "    }\n",
       "\n",
       "    .dataframe tbody tr th {\n",
       "        vertical-align: top;\n",
       "    }\n",
       "\n",
       "    .dataframe thead th {\n",
       "        text-align: right;\n",
       "    }\n",
       "</style>\n",
       "<table border=\"1\" class=\"dataframe\">\n",
       "  <thead>\n",
       "    <tr style=\"text-align: right;\">\n",
       "      <th></th>\n",
       "      <th>ICD9CODE</th>\n",
       "    </tr>\n",
       "  </thead>\n",
       "  <tbody>\n",
       "    <tr>\n",
       "      <th>0</th>\n",
       "      <td>A79 E880.9 P87.03 P87.44 D850.0</td>\n",
       "    </tr>\n",
       "    <tr>\n",
       "      <th>1</th>\n",
       "      <td>A55 E884.9 P-2 D805.2 D805.4 D807.03</td>\n",
       "    </tr>\n",
       "    <tr>\n",
       "      <th>2</th>\n",
       "      <td>A70 E885.9 P79.35 P87.03 D820.21</td>\n",
       "    </tr>\n",
       "    <tr>\n",
       "      <th>3</th>\n",
       "      <td>A56 E881.0 P88.01 P88.38 D805.4 D823.01 D825.20</td>\n",
       "    </tr>\n",
       "    <tr>\n",
       "      <th>4</th>\n",
       "      <td>A40 E986 P54.11 D879.4</td>\n",
       "    </tr>\n",
       "  </tbody>\n",
       "</table>\n",
       "</div>"
      ],
      "text/plain": [
       "                                          ICD9CODE\n",
       "0                  A79 E880.9 P87.03 P87.44 D850.0\n",
       "1             A55 E884.9 P-2 D805.2 D805.4 D807.03\n",
       "2                 A70 E885.9 P79.35 P87.03 D820.21\n",
       "3  A56 E881.0 P88.01 P88.38 D805.4 D823.01 D825.20\n",
       "4                           A40 E986 P54.11 D879.4"
      ]
     },
     "execution_count": 6,
     "metadata": {},
     "output_type": "execute_result"
    }
   ],
   "source": [
    "# load predictions\n",
    "test_res = pd.read_csv(icd_obs_file, header=None, names=[\"ICD9CODE\"])\n",
    "test_res.head(5)"
   ]
  },
  {
   "cell_type": "code",
   "execution_count": 7,
   "metadata": {},
   "outputs": [
    {
     "data": {
      "text/html": [
       "<div>\n",
       "<style scoped>\n",
       "    .dataframe tbody tr th:only-of-type {\n",
       "        vertical-align: middle;\n",
       "    }\n",
       "\n",
       "    .dataframe tbody tr th {\n",
       "        vertical-align: top;\n",
       "    }\n",
       "\n",
       "    .dataframe thead th {\n",
       "        text-align: right;\n",
       "    }\n",
       "</style>\n",
       "<table border=\"1\" class=\"dataframe\">\n",
       "  <thead>\n",
       "    <tr style=\"text-align: right;\">\n",
       "      <th></th>\n",
       "      <th>ICD9CODE</th>\n",
       "      <th>AIS_obs</th>\n",
       "      <th>AIS_pred</th>\n",
       "      <th>AIS_map</th>\n",
       "    </tr>\n",
       "  </thead>\n",
       "  <tbody>\n",
       "    <tr>\n",
       "      <th>0</th>\n",
       "      <td>A79 E880.9 P87.03 P87.44 D850.0</td>\n",
       "      <td>161001</td>\n",
       "      <td>161001</td>\n",
       "      <td>[110000.1]</td>\n",
       "    </tr>\n",
       "    <tr>\n",
       "      <th>1</th>\n",
       "      <td>A55 E884.9 P-2 D805.2 D805.4 D807.03</td>\n",
       "      <td>450203 650416 650630</td>\n",
       "      <td>450203 650420 650620</td>\n",
       "      <td>[420000.3, 620000.2, 630000.2]</td>\n",
       "    </tr>\n",
       "    <tr>\n",
       "      <th>2</th>\n",
       "      <td>A70 E885.9 P79.35 P87.03 D820.21</td>\n",
       "      <td>853151</td>\n",
       "      <td>853151</td>\n",
       "      <td>[840000.3]</td>\n",
       "    </tr>\n",
       "    <tr>\n",
       "      <th>3</th>\n",
       "      <td>A56 E881.0 P88.01 P88.38 D805.4 D823.01 D825.20</td>\n",
       "      <td>650616 854441 857200</td>\n",
       "      <td>650620 852004 854471</td>\n",
       "      <td>[630000.2, 840000.2, 840000.2]</td>\n",
       "    </tr>\n",
       "    <tr>\n",
       "      <th>4</th>\n",
       "      <td>A40 E986 P54.11 D879.4</td>\n",
       "      <td>516000</td>\n",
       "      <td>516002</td>\n",
       "      <td>[560000.1]</td>\n",
       "    </tr>\n",
       "  </tbody>\n",
       "</table>\n",
       "</div>"
      ],
      "text/plain": [
       "                                          ICD9CODE               AIS_obs  \\\n",
       "0                  A79 E880.9 P87.03 P87.44 D850.0                161001   \n",
       "1             A55 E884.9 P-2 D805.2 D805.4 D807.03  450203 650416 650630   \n",
       "2                 A70 E885.9 P79.35 P87.03 D820.21                853151   \n",
       "3  A56 E881.0 P88.01 P88.38 D805.4 D823.01 D825.20  650616 854441 857200   \n",
       "4                           A40 E986 P54.11 D879.4                516000   \n",
       "\n",
       "               AIS_pred                         AIS_map  \n",
       "0                161001                      [110000.1]  \n",
       "1  450203 650420 650620  [420000.3, 620000.2, 630000.2]  \n",
       "2                853151                      [840000.3]  \n",
       "3  650620 852004 854471  [630000.2, 840000.2, 840000.2]  \n",
       "4                516002                      [560000.1]  "
      ]
     },
     "execution_count": 7,
     "metadata": {},
     "output_type": "execute_result"
    }
   ],
   "source": [
    "# merge data into test res by adding new columns\n",
    "test_res['AIS_obs'] = ais_obs.AIS05CODE # Actual AIS obs\n",
    "test_res['AIS_pred'] = ais_pred.AIS05CODE # Predictions by OpenNMT\n",
    "test_res['AIS_map'] = ais_map.AIS05CODE # What was mapped by AAAM map via 110\n",
    "test_res.head(5)"
   ]
  },
  {
   "cell_type": "code",
   "execution_count": 8,
   "metadata": {},
   "outputs": [],
   "source": [
    "# load AIS codes\n",
    "ais_codes = pd.read_csv(ais_codes_file, header=0, encoding='iso-8859-1')\n",
    "\n",
    "# get predot code\n",
    "ais_codes['predot'] = ais_codes.code.apply(lambda x: math.floor(x))\n",
    "\n",
    "# make dictionary of codes to get full code with post dot from just the predot\n",
    "ais_dot = hlp.get_ais_dot_map(ais_codes)"
   ]
  },
  {
   "cell_type": "markdown",
   "metadata": {},
   "source": [
    "## Process AIS codes \n",
    "- Convert to list \n",
    "- Remove missing and unknown predicted values\n",
    "- Convert to numbers\n",
    "- Add post-dot to AIS"
   ]
  },
  {
   "cell_type": "code",
   "execution_count": 9,
   "metadata": {},
   "outputs": [],
   "source": [
    "test_res = hlp.process_ais_codes(test_res, ais_dot)"
   ]
  },
  {
   "cell_type": "code",
   "execution_count": 10,
   "metadata": {},
   "outputs": [
    {
     "data": {
      "text/html": [
       "<div>\n",
       "<style scoped>\n",
       "    .dataframe tbody tr th:only-of-type {\n",
       "        vertical-align: middle;\n",
       "    }\n",
       "\n",
       "    .dataframe tbody tr th {\n",
       "        vertical-align: top;\n",
       "    }\n",
       "\n",
       "    .dataframe thead th {\n",
       "        text-align: right;\n",
       "    }\n",
       "</style>\n",
       "<table border=\"1\" class=\"dataframe\">\n",
       "  <thead>\n",
       "    <tr style=\"text-align: right;\">\n",
       "      <th></th>\n",
       "      <th>ICD9CODE</th>\n",
       "      <th>AIS_obs</th>\n",
       "      <th>AIS_pred</th>\n",
       "      <th>AIS_map</th>\n",
       "    </tr>\n",
       "  </thead>\n",
       "  <tbody>\n",
       "    <tr>\n",
       "      <th>0</th>\n",
       "      <td>A79 E880.9 P87.03 P87.44 D850.0</td>\n",
       "      <td>[161001.1]</td>\n",
       "      <td>[161001.1]</td>\n",
       "      <td>[110000.1]</td>\n",
       "    </tr>\n",
       "    <tr>\n",
       "      <th>1</th>\n",
       "      <td>A55 E884.9 P-2 D805.2 D805.4 D807.03</td>\n",
       "      <td>[450203.3, 650416.2, 650630.2]</td>\n",
       "      <td>[450203.3, 650420.2, 650620.2]</td>\n",
       "      <td>[420000.3, 620000.2, 630000.2]</td>\n",
       "    </tr>\n",
       "    <tr>\n",
       "      <th>2</th>\n",
       "      <td>A70 E885.9 P79.35 P87.03 D820.21</td>\n",
       "      <td>[853151.3]</td>\n",
       "      <td>[853151.3]</td>\n",
       "      <td>[840000.3]</td>\n",
       "    </tr>\n",
       "    <tr>\n",
       "      <th>3</th>\n",
       "      <td>A56 E881.0 P88.01 P88.38 D805.4 D823.01 D825.20</td>\n",
       "      <td>[650616.2, 854441.2, 857200.2]</td>\n",
       "      <td>[650620.2, 852004.2, 854471.2]</td>\n",
       "      <td>[630000.2, 840000.2, 840000.2]</td>\n",
       "    </tr>\n",
       "    <tr>\n",
       "      <th>4</th>\n",
       "      <td>A40 E986 P54.11 D879.4</td>\n",
       "      <td>[516000.1]</td>\n",
       "      <td>[516002.1]</td>\n",
       "      <td>[560000.1]</td>\n",
       "    </tr>\n",
       "  </tbody>\n",
       "</table>\n",
       "</div>"
      ],
      "text/plain": [
       "                                          ICD9CODE  \\\n",
       "0                  A79 E880.9 P87.03 P87.44 D850.0   \n",
       "1             A55 E884.9 P-2 D805.2 D805.4 D807.03   \n",
       "2                 A70 E885.9 P79.35 P87.03 D820.21   \n",
       "3  A56 E881.0 P88.01 P88.38 D805.4 D823.01 D825.20   \n",
       "4                           A40 E986 P54.11 D879.4   \n",
       "\n",
       "                          AIS_obs                        AIS_pred  \\\n",
       "0                      [161001.1]                      [161001.1]   \n",
       "1  [450203.3, 650416.2, 650630.2]  [450203.3, 650420.2, 650620.2]   \n",
       "2                      [853151.3]                      [853151.3]   \n",
       "3  [650616.2, 854441.2, 857200.2]  [650620.2, 852004.2, 854471.2]   \n",
       "4                      [516000.1]                      [516002.1]   \n",
       "\n",
       "                          AIS_map  \n",
       "0                      [110000.1]  \n",
       "1  [420000.3, 620000.2, 630000.2]  \n",
       "2                      [840000.3]  \n",
       "3  [630000.2, 840000.2, 840000.2]  \n",
       "4                      [560000.1]  "
      ]
     },
     "execution_count": 10,
     "metadata": {},
     "output_type": "execute_result"
    }
   ],
   "source": [
    "test_res.head(5)"
   ]
  },
  {
   "cell_type": "code",
   "execution_count": 11,
   "metadata": {},
   "outputs": [
    {
     "data": {
      "text/plain": [
       "2228"
      ]
     },
     "execution_count": 11,
     "metadata": {},
     "output_type": "execute_result"
    }
   ],
   "source": [
    "sum(test_res.apply(lambda x: 1 if 'E881.0' in x.ICD9CODE else 0, axis=1))"
   ]
  },
  {
   "cell_type": "code",
   "execution_count": 12,
   "metadata": {},
   "outputs": [
    {
     "data": {
      "text/plain": [
       "81"
      ]
     },
     "execution_count": 12,
     "metadata": {},
     "output_type": "execute_result"
    }
   ],
   "source": [
    "sum(test_res.apply(lambda x: 1 if 'D825.20' in x.ICD9CODE else 0, axis=1))"
   ]
  },
  {
   "cell_type": "code",
   "execution_count": 13,
   "metadata": {},
   "outputs": [
    {
     "data": {
      "text/plain": [
       "6544"
      ]
     },
     "execution_count": 13,
     "metadata": {},
     "output_type": "execute_result"
    }
   ],
   "source": [
    "sum(test_res.apply(lambda x: 1 if 'D805.4' in x.ICD9CODE else 0, axis=1))"
   ]
  },
  {
   "cell_type": "code",
   "execution_count": 14,
   "metadata": {},
   "outputs": [
    {
     "data": {
      "text/plain": [
       "40248"
      ]
     },
     "execution_count": 14,
     "metadata": {},
     "output_type": "execute_result"
    }
   ],
   "source": [
    "sum(test_res.apply(lambda x: 1 if 'P88.38' in x.ICD9CODE else 0, axis=1))"
   ]
  },
  {
   "cell_type": "code",
   "execution_count": 15,
   "metadata": {},
   "outputs": [
    {
     "data": {
      "text/plain": [
       "1498"
      ]
     },
     "execution_count": 15,
     "metadata": {},
     "output_type": "execute_result"
    }
   ],
   "source": [
    "sum(test_res.apply(lambda x: 1 if 'A56' in x.ICD9CODE else 0, axis=1))"
   ]
  },
  {
   "cell_type": "code",
   "execution_count": 16,
   "metadata": {},
   "outputs": [
    {
     "data": {
      "text/plain": [
       "25971"
      ]
     },
     "execution_count": 16,
     "metadata": {},
     "output_type": "execute_result"
    }
   ],
   "source": [
    "sum(test_res.apply(lambda x: 1 if 'P88.01' in x.ICD9CODE else 0, axis=1))"
   ]
  },
  {
   "cell_type": "code",
   "execution_count": 17,
   "metadata": {},
   "outputs": [
    {
     "data": {
      "text/plain": [
       "99717"
      ]
     },
     "execution_count": 17,
     "metadata": {},
     "output_type": "execute_result"
    }
   ],
   "source": [
    "len(test_res)"
   ]
  },
  {
   "cell_type": "code",
   "execution_count": 18,
   "metadata": {},
   "outputs": [
    {
     "name": "stdout",
     "output_type": "stream",
     "text": [
      "Codes1:  [210602.1, 251002.2, 441406.2, 450201.1, 650222.2]\n",
      "Codes2:  [210602.1, 251002.2, 441407.2, 450201.1, 650218.2]\n",
      "2022-06-30 14:59:19,613: Note: NumExpr detected 28 cores but \"NUMEXPR_MAX_THREADS\" not set, so enforcing safe limit of 8.\n",
      "2022-06-30 14:59:19,614: NumExpr defaulting to 8 threads.\n"
     ]
    },
    {
     "data": {
      "text/html": [
       "<div>\n",
       "<style scoped>\n",
       "    .dataframe tbody tr th:only-of-type {\n",
       "        vertical-align: middle;\n",
       "    }\n",
       "\n",
       "    .dataframe tbody tr th {\n",
       "        vertical-align: top;\n",
       "    }\n",
       "\n",
       "    .dataframe thead th {\n",
       "        text-align: right;\n",
       "    }\n",
       "</style>\n",
       "<table border=\"1\" class=\"dataframe\">\n",
       "  <thead>\n",
       "    <tr style=\"text-align: right;\">\n",
       "      <th></th>\n",
       "      <th>code1</th>\n",
       "      <th>code2</th>\n",
       "    </tr>\n",
       "  </thead>\n",
       "  <tbody>\n",
       "    <tr>\n",
       "      <th>0</th>\n",
       "      <td>251002.2</td>\n",
       "      <td>251002.2</td>\n",
       "    </tr>\n",
       "    <tr>\n",
       "      <th>1</th>\n",
       "      <td>441406.2</td>\n",
       "      <td>441407.2</td>\n",
       "    </tr>\n",
       "    <tr>\n",
       "      <th>2</th>\n",
       "      <td>650222.2</td>\n",
       "      <td>650218.2</td>\n",
       "    </tr>\n",
       "    <tr>\n",
       "      <th>3</th>\n",
       "      <td>210602.1</td>\n",
       "      <td>210602.1</td>\n",
       "    </tr>\n",
       "    <tr>\n",
       "      <th>4</th>\n",
       "      <td>450201.1</td>\n",
       "      <td>450201.1</td>\n",
       "    </tr>\n",
       "  </tbody>\n",
       "</table>\n",
       "</div>"
      ],
      "text/plain": [
       "      code1     code2\n",
       "0  251002.2  251002.2\n",
       "1  441406.2  441407.2\n",
       "2  650222.2  650218.2\n",
       "3  210602.1  210602.1\n",
       "4  450201.1  450201.1"
      ]
     },
     "execution_count": 18,
     "metadata": {},
     "output_type": "execute_result"
    }
   ],
   "source": [
    "i = 17\n",
    "print(\"Codes1: \", test_res.AIS_obs[i])\n",
    "print(\"Codes2: \", test_res.AIS_pred[i])\n",
    "\n",
    "# function will return the best estimate for matching two lists of AIS codes.\n",
    "hlp.match_ais(test_res.AIS_obs[i],test_res.AIS_pred[i])"
   ]
  },
  {
   "cell_type": "code",
   "execution_count": 19,
   "metadata": {},
   "outputs": [
    {
     "name": "stdout",
     "output_type": "stream",
     "text": [
      "Codes1:  [650616.2, 856100.2, 856151.2, 856200.2]\n",
      "Codes2:  [630000.2, 840000.2, 840000.2, 840000.2, 840000.3]\n"
     ]
    },
    {
     "data": {
      "text/html": [
       "<div>\n",
       "<style scoped>\n",
       "    .dataframe tbody tr th:only-of-type {\n",
       "        vertical-align: middle;\n",
       "    }\n",
       "\n",
       "    .dataframe tbody tr th {\n",
       "        vertical-align: top;\n",
       "    }\n",
       "\n",
       "    .dataframe thead th {\n",
       "        text-align: right;\n",
       "    }\n",
       "</style>\n",
       "<table border=\"1\" class=\"dataframe\">\n",
       "  <thead>\n",
       "    <tr style=\"text-align: right;\">\n",
       "      <th></th>\n",
       "      <th>code1</th>\n",
       "      <th>code2</th>\n",
       "    </tr>\n",
       "  </thead>\n",
       "  <tbody>\n",
       "    <tr>\n",
       "      <th>0</th>\n",
       "      <td>650616.2</td>\n",
       "      <td>630000.2</td>\n",
       "    </tr>\n",
       "    <tr>\n",
       "      <th>1</th>\n",
       "      <td>856100.2</td>\n",
       "      <td>840000.2</td>\n",
       "    </tr>\n",
       "    <tr>\n",
       "      <th>2</th>\n",
       "      <td>856151.2</td>\n",
       "      <td>840000.2</td>\n",
       "    </tr>\n",
       "    <tr>\n",
       "      <th>3</th>\n",
       "      <td>856200.2</td>\n",
       "      <td>840000.2</td>\n",
       "    </tr>\n",
       "    <tr>\n",
       "      <th>4</th>\n",
       "      <td>NaN</td>\n",
       "      <td>840000.3</td>\n",
       "    </tr>\n",
       "  </tbody>\n",
       "</table>\n",
       "</div>"
      ],
      "text/plain": [
       "      code1     code2\n",
       "0  650616.2  630000.2\n",
       "1  856100.2  840000.2\n",
       "2  856151.2  840000.2\n",
       "3  856200.2  840000.2\n",
       "4       NaN  840000.3"
      ]
     },
     "execution_count": 19,
     "metadata": {},
     "output_type": "execute_result"
    }
   ],
   "source": [
    "i = 11\n",
    "print(\"Codes1: \", test_res.AIS_obs[i])\n",
    "print(\"Codes2: \", test_res.AIS_map[i])\n",
    "\n",
    "hlp.match_ais(test_res.AIS_obs[i],test_res.AIS_map[i])"
   ]
  },
  {
   "cell_type": "markdown",
   "metadata": {},
   "source": [
    "## Evaluate predictions"
   ]
  },
  {
   "cell_type": "code",
   "execution_count": 20,
   "metadata": {},
   "outputs": [
    {
     "name": "stdout",
     "output_type": "stream",
     "text": [
      "CPU times: user 9min 30s, sys: 616 ms, total: 9min 31s\n",
      "Wall time: 9min 30s\n"
     ]
    }
   ],
   "source": [
    "%%time\n",
    "sample_res = test_res.head(10000)\n",
    "\n",
    "# loop through all results\n",
    "for i in range(0,len(sample_res)):\n",
    "    \n",
    "    # match up lists of AIS codes\n",
    "    matches = hlp.match_ais(sample_res.AIS_obs[i], sample_res.AIS_pred[i])\n",
    "    \n",
    "    # check if first iteration\n",
    "    if i==0:\n",
    "        # create dataframe for results\n",
    "        hlp.match_results = hlp.match_stats(matches, ais_codes)\n",
    "        \n",
    "    else:\n",
    "        # append results to dataframe\n",
    "        hlp.match_results = hlp.match_results.append(hlp.match_stats(matches, ais_codes), ignore_index=True)\n",
    "        \n",
    "hlp.match_results = sample_res.join(hlp.match_results)\n",
    "hlp.match_results.to_csv(\"../Results/train_ais_check_accuracy.csv\", index=False)"
   ]
  },
  {
   "cell_type": "code",
   "execution_count": 21,
   "metadata": {},
   "outputs": [
    {
     "name": "stdout",
     "output_type": "stream",
     "text": [
      "num_obs     2.8856\n",
      "num_pred    2.7873\n",
      "dtype: float64\n"
     ]
    },
    {
     "data": {
      "text/plain": [
       "<AxesSubplot:>"
      ]
     },
     "execution_count": 21,
     "metadata": {},
     "output_type": "execute_result"
    },
    {
     "data": {
      "image/png": "[encoded data removed]",
      "text/plain": [
       "<Figure size 432x288 with 1 Axes>"
      ]
     },
     "metadata": {
      "needs_background": "light"
     },
     "output_type": "display_data"
    }
   ],
   "source": [
    "# mean number of injuries per patient\n",
    "print(hlp.match_results[['num_obs','num_pred']].mean())\n",
    "hlp.match_results[['num_obs','num_pred']].mean().plot.bar()"
   ]
  },
  {
   "cell_type": "code",
   "execution_count": 22,
   "metadata": {},
   "outputs": [
    {
     "name": "stdout",
     "output_type": "stream",
     "text": [
      "ISS equal: 0.7659\n",
      "ISS >=16 equal: 0.9199\n"
     ]
    }
   ],
   "source": [
    "# ISS results\n",
    "print(\"ISS equal:\", hlp.match_results.iss_equal.mean())\n",
    "print(\"ISS >=16 equal:\", hlp.match_results.iss_16_equal.mean())"
   ]
  },
  {
   "cell_type": "code",
   "execution_count": 23,
   "metadata": {},
   "outputs": [
    {
     "name": "stdout",
     "output_type": "stream",
     "text": [
      "ISS>=16 underpredicted: 0.6903870162297129\n"
     ]
    }
   ],
   "source": [
    "iss_16_mismatch = hlp.match_results[hlp.match_results.iss_16_equal==0]\n",
    "print(\"ISS>=16 underpredicted:\", len(iss_16_mismatch[iss_16_mismatch.iss_obs>iss_16_mismatch.iss_pred])/len(iss_16_mismatch))"
   ]
  },
  {
   "cell_type": "code",
   "execution_count": 24,
   "metadata": {},
   "outputs": [
    {
     "name": "stdout",
     "output_type": "stream",
     "text": [
      "iss_obs     8.798057\n",
      "iss_pred    7.950203\n",
      "dtype: float64\n"
     ]
    },
    {
     "data": {
      "text/plain": [
       "<AxesSubplot:>"
      ]
     },
     "execution_count": 24,
     "metadata": {},
     "output_type": "execute_result"
    },
    {
     "data": {
      "image/png": "[encoded data removed]",
      "text/plain": [
       "<Figure size 432x288 with 1 Axes>"
      ]
     },
     "metadata": {
      "needs_background": "light"
     },
     "output_type": "display_data"
    }
   ],
   "source": [
    "# mean ISS\n",
    "print(hlp.match_results[['iss_obs','iss_pred']].mean())\n",
    "hlp.match_results[['iss_obs','iss_pred']].mean().plot.bar()"
   ]
  },
  {
   "cell_type": "code",
   "execution_count": 25,
   "metadata": {},
   "outputs": [
    {
     "name": "stdout",
     "output_type": "stream",
     "text": [
      "MAIS equal: 0.8123\n",
      "MAIS >=3 equal: 0.9261\n"
     ]
    }
   ],
   "source": [
    "# MAIS results\n",
    "print(\"MAIS equal:\", hlp.match_results.mais_equal.mean())\n",
    "print(\"MAIS >=3 equal:\", hlp.match_results.mais_3_equal.mean())"
   ]
  },
  {
   "cell_type": "code",
   "execution_count": 26,
   "metadata": {},
   "outputs": [
    {
     "name": "stdout",
     "output_type": "stream",
     "text": [
      "MAIS>=3 underpredicted: 0.6062246278755075\n"
     ]
    }
   ],
   "source": [
    "mais_3_mismatch = hlp.match_results[hlp.match_results.mais_3_equal==0]\n",
    "print(\"MAIS>=3 underpredicted:\", len(mais_3_mismatch[mais_3_mismatch.mais_obs>mais_3_mismatch.mais_pred])/len(mais_3_mismatch))"
   ]
  },
  {
   "cell_type": "code",
   "execution_count": 27,
   "metadata": {},
   "outputs": [
    {
     "name": "stdout",
     "output_type": "stream",
     "text": [
      "mais_obs     2.5149\n",
      "mais_pred    2.4435\n",
      "dtype: float64\n"
     ]
    },
    {
     "data": {
      "text/plain": [
       "<AxesSubplot:>"
      ]
     },
     "execution_count": 27,
     "metadata": {},
     "output_type": "execute_result"
    },
    {
     "data": {
      "image/png": "[encoded data removed]",
      "text/plain": [
       "<Figure size 432x288 with 1 Axes>"
      ]
     },
     "metadata": {
      "needs_background": "light"
     },
     "output_type": "display_data"
    }
   ],
   "source": [
    "# mean MAIS\n",
    "print(hlp.match_results[['mais_obs','mais_pred']].mean())\n",
    "hlp.match_results[['mais_obs','mais_pred']].mean().plot.bar()"
   ]
  },
  {
   "cell_type": "code",
   "execution_count": 28,
   "metadata": {},
   "outputs": [
    {
     "data": {
      "text/html": [
       "<div>\n",
       "<style scoped>\n",
       "    .dataframe tbody tr th:only-of-type {\n",
       "        vertical-align: middle;\n",
       "    }\n",
       "\n",
       "    .dataframe tbody tr th {\n",
       "        vertical-align: top;\n",
       "    }\n",
       "\n",
       "    .dataframe thead th {\n",
       "        text-align: right;\n",
       "    }\n",
       "</style>\n",
       "<table border=\"1\" class=\"dataframe\">\n",
       "  <thead>\n",
       "    <tr style=\"text-align: right;\">\n",
       "      <th></th>\n",
       "      <th>exact</th>\n",
       "      <th>same_reg_same_sev</th>\n",
       "      <th>same_reg_diff_sev</th>\n",
       "      <th>diff_reg_same_sev</th>\n",
       "      <th>diff_reg_diff_sev</th>\n",
       "      <th>unmatch_obs</th>\n",
       "      <th>unmatch_pred</th>\n",
       "    </tr>\n",
       "  </thead>\n",
       "  <tbody>\n",
       "    <tr>\n",
       "      <th>0</th>\n",
       "      <td>0.552745</td>\n",
       "      <td>0.263446</td>\n",
       "      <td>0.110341</td>\n",
       "      <td>0.020342</td>\n",
       "      <td>0.006896</td>\n",
       "      <td>0.046334</td>\n",
       "      <td>0.012268</td>\n",
       "    </tr>\n",
       "  </tbody>\n",
       "</table>\n",
       "</div>"
      ],
      "text/plain": [
       "      exact  same_reg_same_sev  same_reg_diff_sev  diff_reg_same_sev  \\\n",
       "0  0.552745           0.263446           0.110341           0.020342   \n",
       "\n",
       "   diff_reg_diff_sev  unmatch_obs  unmatch_pred  \n",
       "0           0.006896     0.046334      0.012268  "
      ]
     },
     "execution_count": 28,
     "metadata": {},
     "output_type": "execute_result"
    }
   ],
   "source": [
    "# total codes observed\n",
    "num_obs = sum(hlp.match_results.num_obs)\n",
    "\n",
    "# match categories\n",
    "match_cat = pd.DataFrame({'exact':[sum(hlp.match_results.exact)/num_obs], \\\n",
    "                          'same_reg_same_sev':[sum(hlp.match_results.same_reg_same_sev)/num_obs], \\\n",
    "                          'same_reg_diff_sev':[sum(hlp.match_results.same_reg_diff_sev)/num_obs], \\\n",
    "                          'diff_reg_same_sev':[sum(hlp.match_results.diff_reg_same_sev)/num_obs], \\\n",
    "                          'diff_reg_diff_sev':[sum(hlp.match_results.diff_reg_diff_sev)/num_obs], \\\n",
    "                          'unmatch_obs':[sum(hlp.match_results.unmatched_obs)/num_obs], \\\n",
    "                          'unmatch_pred':[sum(hlp.match_results.unmatched_pred)/num_obs]})\n",
    "\n",
    "match_cat"
   ]
  },
  {
   "cell_type": "code",
   "execution_count": 29,
   "metadata": {},
   "outputs": [
    {
     "data": {
      "image/png": "[encoded data removed]",
      "text/plain": [
       "<Figure size 432x288 with 1 Axes>"
      ]
     },
     "metadata": {
      "needs_background": "light"
     },
     "output_type": "display_data"
    }
   ],
   "source": [
    "match_cat.plot.barh().invert_yaxis()"
   ]
  },
  {
   "cell_type": "code",
   "execution_count": 30,
   "metadata": {},
   "outputs": [
    {
     "data": {
      "text/plain": [
       "(0.0, 0.75)"
      ]
     },
     "execution_count": 30,
     "metadata": {},
     "output_type": "execute_result"
    },
    {
     "data": {
      "image/png": "[encoded data removed]",
      "text/plain": [
       "<Figure size 432x288 with 1 Axes>"
      ]
     },
     "metadata": {
      "needs_background": "light"
     },
     "output_type": "display_data"
    }
   ],
   "source": [
    "ax = match_cat.plot.barh()\n",
    "ax.invert_yaxis()\n",
    "ax.set_xlim(0,0.75)"
   ]
  },
  {
   "cell_type": "code",
   "execution_count": 31,
   "metadata": {},
   "outputs": [
    {
     "data": {
      "text/plain": [
       "<AxesSubplot:>"
      ]
     },
     "execution_count": 31,
     "metadata": {},
     "output_type": "execute_result"
    },
    {
     "data": {
      "image/png": "[encoded data removed]",
      "text/plain": [
       "<Figure size 432x288 with 1 Axes>"
      ]
     },
     "metadata": {
      "needs_background": "light"
     },
     "output_type": "display_data"
    }
   ],
   "source": [
    "# total codes observed\n",
    "num_obs = sum(hlp.match_results.num_obs)\n",
    "\n",
    "# match categories\n",
    "match_cat = pd.DataFrame({'Good':[(sum(hlp.match_results.exact) + sum(hlp.match_results.same_reg_same_sev))/num_obs], \\\n",
    "                          'Maybe okay':[sum(hlp.match_results.same_reg_diff_sev)/num_obs], \\\n",
    "                          'Not great':[sum(hlp.match_results.diff_reg_same_sev)/num_obs], \\\n",
    "                          'Poor':[(sum(hlp.match_results.unmatched))/num_obs]})\n",
    "\n",
    "match_cat.plot.bar()"
   ]
  },
  {
   "cell_type": "code",
   "execution_count": 32,
   "metadata": {},
   "outputs": [
    {
     "name": "stdout",
     "output_type": "stream",
     "text": [
      "Number unknown: 16\n",
      "Percent unknown 0.00016045408506072185\n"
     ]
    }
   ],
   "source": [
    "# number of unknown codes\n",
    "num_unk = len(ais_pred[ais_pred.AIS05CODE.fillna('0').str.contains('<unk>')])\n",
    "print(\"Number unknown:\", num_unk)\n",
    "print(\"Percent unknown\", num_unk/len(ais_pred))"
   ]
  },
  {
   "cell_type": "code",
   "execution_count": 33,
   "metadata": {},
   "outputs": [
    {
     "name": "stdout",
     "output_type": "stream",
     "text": [
      "Int64Index([20528, 21816, 38417, 41366, 55338, 61810, 72353, 78096, 78122,\n",
      "            93880, 94143, 95757, 96259, 96417, 98223, 99036],\n",
      "           dtype='int64')\n",
      "99717\n"
     ]
    },
    {
     "data": {
      "text/html": [
       "<div>\n",
       "<style scoped>\n",
       "    .dataframe tbody tr th:only-of-type {\n",
       "        vertical-align: middle;\n",
       "    }\n",
       "\n",
       "    .dataframe tbody tr th {\n",
       "        vertical-align: top;\n",
       "    }\n",
       "\n",
       "    .dataframe thead th {\n",
       "        text-align: right;\n",
       "    }\n",
       "</style>\n",
       "<table border=\"1\" class=\"dataframe\">\n",
       "  <thead>\n",
       "    <tr style=\"text-align: right;\">\n",
       "      <th></th>\n",
       "      <th>ICD9CODE</th>\n",
       "      <th>AIS05CODE_obs</th>\n",
       "      <th>AIS05CODE_pred</th>\n",
       "    </tr>\n",
       "  </thead>\n",
       "  <tbody>\n",
       "    <tr>\n",
       "      <th>20528</th>\n",
       "      <td>A53 E911 P33.23 P88.72 P96.71 P98.15 D862.21</td>\n",
       "      <td>440299</td>\n",
       "      <td>&lt;unk&gt;</td>\n",
       "    </tr>\n",
       "    <tr>\n",
       "      <th>21816</th>\n",
       "      <td>A64 E906.0 P04.3 P39.31 P82.45 P89.52 P93.58 P...</td>\n",
       "      <td>730099 740200 740600</td>\n",
       "      <td>&lt;unk&gt;</td>\n",
       "    </tr>\n",
       "    <tr>\n",
       "      <th>38417</th>\n",
       "      <td>A22 E886.9 P31.42 P88.41 D925.2</td>\n",
       "      <td>340212</td>\n",
       "      <td>&lt;unk&gt;</td>\n",
       "    </tr>\n",
       "    <tr>\n",
       "      <th>41366</th>\n",
       "      <td>A24 E812.0 P80.51 P81.02 P87.03 P88.01 P88.38 ...</td>\n",
       "      <td>640600</td>\n",
       "      <td>&lt;unk&gt;</td>\n",
       "    </tr>\n",
       "    <tr>\n",
       "      <th>55338</th>\n",
       "      <td>A45 E917.9 P29.11 P31.42 P87.03 P87.41 P87.44 ...</td>\n",
       "      <td>341699 750500</td>\n",
       "      <td>&lt;unk&gt; 750500</td>\n",
       "    </tr>\n",
       "  </tbody>\n",
       "</table>\n",
       "</div>"
      ],
      "text/plain": [
       "                                                ICD9CODE  \\\n",
       "20528       A53 E911 P33.23 P88.72 P96.71 P98.15 D862.21   \n",
       "21816  A64 E906.0 P04.3 P39.31 P82.45 P89.52 P93.58 P...   \n",
       "38417                    A22 E886.9 P31.42 P88.41 D925.2   \n",
       "41366  A24 E812.0 P80.51 P81.02 P87.03 P88.01 P88.38 ...   \n",
       "55338  A45 E917.9 P29.11 P31.42 P87.03 P87.41 P87.44 ...   \n",
       "\n",
       "              AIS05CODE_obs AIS05CODE_pred  \n",
       "20528                440299          <unk>  \n",
       "21816  730099 740200 740600          <unk>  \n",
       "38417                340212          <unk>  \n",
       "41366                640600          <unk>  \n",
       "55338         341699 750500   <unk> 750500  "
      ]
     },
     "execution_count": 33,
     "metadata": {},
     "output_type": "execute_result"
    }
   ],
   "source": [
    "unk_idx = ais_pred[ais_pred.AIS05CODE.fillna('0').str.contains('<unk>')].index\n",
    "print(unk_idx)\n",
    "print(len(test_res))\n",
    "test_res.iloc[unk_idx][['ICD9CODE']] \\\n",
    "    .join(ais_obs.iloc[unk_idx].rename(columns={'AIS05CODE':'AIS05CODE_obs'})) \\\n",
    "    .join(ais_pred.iloc[unk_idx].rename(columns={'AIS05CODE':'AIS05CODE_pred'})) \\\n",
    "    .head(5)"
   ]
  },
  {
   "cell_type": "code",
   "execution_count": 34,
   "metadata": {},
   "outputs": [
    {
     "name": "stdout",
     "output_type": "stream",
     "text": [
      "Empty prediction set: 25\n",
      "Percent empty prediction set: 0.0002507095079073779\n"
     ]
    }
   ],
   "source": [
    "# number of empty predictions\n",
    "print(\"Empty prediction set:\",len(ais_pred[ais_pred.AIS05CODE.isnull()]))\n",
    "print(\"Percent empty prediction set:\",len(ais_pred[ais_pred.AIS05CODE.isnull()])/len(ais_pred))"
   ]
  },
  {
   "cell_type": "markdown",
   "metadata": {},
   "source": [
    "## Evaluate AAAM map"
   ]
  },
  {
   "cell_type": "code",
   "execution_count": 35,
   "metadata": {},
   "outputs": [
    {
     "name": "stdout",
     "output_type": "stream",
     "text": [
      "CPU times: user 9min 49s, sys: 1.77 s, total: 9min 51s\n",
      "Wall time: 9min 50s\n"
     ]
    }
   ],
   "source": [
    "%%time\n",
    "sample_res = test_res.head(10000)\n",
    "\n",
    "# loop through all results\n",
    "for i in range(0,len(sample_res)):\n",
    "\n",
    "    # match up lists of AIS codes\n",
    "    matches = hlp.match_ais(sample_res.AIS_obs[i], sample_res.AIS_map[i])\n",
    "    \n",
    "    # check if first iteration\n",
    "    if i==0:\n",
    "        # create dataframe for results\n",
    "        hlp.match_results_map = hlp.match_stats(matches, ais_codes, mapped_codes=False)\n",
    "        \n",
    "    else:\n",
    "        # append results to dataframe\n",
    "        hlp.match_results_map = hlp.match_results_map.append(hlp.match_stats(matches, ais_codes, mapped_codes=False), ignore_index=True)\n",
    "        \n",
    "hlp.match_results_map = sample_res.join(hlp.match_results_map)"
   ]
  },
  {
   "cell_type": "code",
   "execution_count": 36,
   "metadata": {},
   "outputs": [
    {
     "name": "stdout",
     "output_type": "stream",
     "text": [
      "num_obs     2.8856\n",
      "num_pred    2.8312\n",
      "dtype: float64\n"
     ]
    },
    {
     "data": {
      "text/plain": [
       "<AxesSubplot:>"
      ]
     },
     "execution_count": 36,
     "metadata": {},
     "output_type": "execute_result"
    },
    {
     "data": {
      "image/png": "[encoded data removed]",
      "text/plain": [
       "<Figure size 432x288 with 1 Axes>"
      ]
     },
     "metadata": {
      "needs_background": "light"
     },
     "output_type": "display_data"
    }
   ],
   "source": [
    "# mean number of injuries per patient\n",
    "print(hlp.match_results_map[['num_obs','num_pred']].mean())\n",
    "hlp.match_results_map[['num_obs','num_pred']].mean().plot.bar()"
   ]
  },
  {
   "cell_type": "code",
   "execution_count": 37,
   "metadata": {},
   "outputs": [
    {
     "name": "stdout",
     "output_type": "stream",
     "text": [
      "ISS equal: 0.4167\n",
      "ISS >=16 equal: 0.8744\n"
     ]
    }
   ],
   "source": [
    "# ISS results\n",
    "print(\"ISS equal:\", hlp.match_results_map.iss_equal.mean())\n",
    "print(\"ISS >=16 equal:\", hlp.match_results_map.iss_16_equal.mean())"
   ]
  },
  {
   "cell_type": "code",
   "execution_count": 38,
   "metadata": {},
   "outputs": [
    {
     "name": "stdout",
     "output_type": "stream",
     "text": [
      "ISS>=16 underpredicted: 0.802547770700637\n"
     ]
    }
   ],
   "source": [
    "iss_16_mismatch_map = hlp.match_results_map[hlp.match_results_map.iss_16_equal==0]\n",
    "print(\"ISS>=16 underpredicted:\", len(iss_16_mismatch_map[iss_16_mismatch_map.iss_obs>iss_16_mismatch_map.iss_pred])/len(iss_16_mismatch_map))"
   ]
  },
  {
   "cell_type": "code",
   "execution_count": 39,
   "metadata": {},
   "outputs": [
    {
     "name": "stdout",
     "output_type": "stream",
     "text": [
      "iss_obs     8.798057\n",
      "iss_pred    6.714700\n",
      "dtype: float64\n"
     ]
    },
    {
     "data": {
      "text/plain": [
       "<AxesSubplot:>"
      ]
     },
     "execution_count": 39,
     "metadata": {},
     "output_type": "execute_result"
    },
    {
     "data": {
      "image/png": "[encoded data removed]",
      "text/plain": [
       "<Figure size 432x288 with 1 Axes>"
      ]
     },
     "metadata": {
      "needs_background": "light"
     },
     "output_type": "display_data"
    }
   ],
   "source": [
    "# mean ISS\n",
    "print(hlp.match_results_map[['iss_obs','iss_pred']].mean())\n",
    "hlp.match_results_map[['iss_obs','iss_pred']].mean().plot.bar()"
   ]
  },
  {
   "cell_type": "code",
   "execution_count": 40,
   "metadata": {},
   "outputs": [
    {
     "name": "stdout",
     "output_type": "stream",
     "text": [
      "MAIS equal: 0.7363\n",
      "MAIS >=3 equal: 0.9057\n"
     ]
    }
   ],
   "source": [
    "# MAIS results\n",
    "print(\"MAIS equal:\", hlp.match_results_map.mais_equal.mean())\n",
    "print(\"MAIS >=3 equal:\", hlp.match_results_map.mais_3_equal.mean())"
   ]
  },
  {
   "cell_type": "code",
   "execution_count": 41,
   "metadata": {},
   "outputs": [
    {
     "name": "stdout",
     "output_type": "stream",
     "text": [
      "MAIS>=3 underpredicted: 0.6150583244962884\n"
     ]
    }
   ],
   "source": [
    "mais_3_mismatch_map = hlp.match_results_map[hlp.match_results_map.mais_3_equal==0]\n",
    "print(\"MAIS>=3 underpredicted:\", len(mais_3_mismatch_map[mais_3_mismatch_map.mais_obs>mais_3_mismatch_map.mais_pred])/len(mais_3_mismatch_map))"
   ]
  },
  {
   "cell_type": "code",
   "execution_count": 42,
   "metadata": {},
   "outputs": [
    {
     "name": "stdout",
     "output_type": "stream",
     "text": [
      "mais_obs     2.5149\n",
      "mais_pred    2.4031\n",
      "dtype: float64\n"
     ]
    },
    {
     "data": {
      "text/plain": [
       "<AxesSubplot:>"
      ]
     },
     "execution_count": 42,
     "metadata": {},
     "output_type": "execute_result"
    },
    {
     "data": {
      "image/png": "[encoded data removed]",
      "text/plain": [
       "<Figure size 432x288 with 1 Axes>"
      ]
     },
     "metadata": {
      "needs_background": "light"
     },
     "output_type": "display_data"
    }
   ],
   "source": [
    "# mean MAIS\n",
    "print(hlp.match_results_map[['mais_obs','mais_pred']].mean())\n",
    "hlp.match_results_map[['mais_obs','mais_pred']].mean().plot.bar()"
   ]
  },
  {
   "cell_type": "code",
   "execution_count": 43,
   "metadata": {},
   "outputs": [
    {
     "data": {
      "text/html": [
       "<div>\n",
       "<style scoped>\n",
       "    .dataframe tbody tr th:only-of-type {\n",
       "        vertical-align: middle;\n",
       "    }\n",
       "\n",
       "    .dataframe tbody tr th {\n",
       "        vertical-align: top;\n",
       "    }\n",
       "\n",
       "    .dataframe thead th {\n",
       "        text-align: right;\n",
       "    }\n",
       "</style>\n",
       "<table border=\"1\" class=\"dataframe\">\n",
       "  <thead>\n",
       "    <tr style=\"text-align: right;\">\n",
       "      <th></th>\n",
       "      <th>exact</th>\n",
       "      <th>same_reg_same_sev</th>\n",
       "      <th>same_reg_diff_sev</th>\n",
       "      <th>diff_reg_same_sev</th>\n",
       "      <th>diff_reg_diff_sev</th>\n",
       "      <th>unmatch_obs</th>\n",
       "      <th>unmatch_pred</th>\n",
       "    </tr>\n",
       "  </thead>\n",
       "  <tbody>\n",
       "    <tr>\n",
       "      <th>0</th>\n",
       "      <td>0.001871</td>\n",
       "      <td>0.752772</td>\n",
       "      <td>0.170571</td>\n",
       "      <td>0.029041</td>\n",
       "      <td>0.007763</td>\n",
       "      <td>0.042764</td>\n",
       "      <td>0.023912</td>\n",
       "    </tr>\n",
       "  </tbody>\n",
       "</table>\n",
       "</div>"
      ],
      "text/plain": [
       "      exact  same_reg_same_sev  same_reg_diff_sev  diff_reg_same_sev  \\\n",
       "0  0.001871           0.752772           0.170571           0.029041   \n",
       "\n",
       "   diff_reg_diff_sev  unmatch_obs  unmatch_pred  \n",
       "0           0.007763     0.042764      0.023912  "
      ]
     },
     "execution_count": 43,
     "metadata": {},
     "output_type": "execute_result"
    }
   ],
   "source": [
    "# total codes observed\n",
    "num_obs = sum(hlp.match_results_map.num_obs)\n",
    "\n",
    "# match categories\n",
    "match_cat_map = pd.DataFrame({'exact':[sum(hlp.match_results_map.exact)/num_obs], \\\n",
    "                          'same_reg_same_sev':[sum(hlp.match_results_map.same_reg_same_sev)/num_obs], \\\n",
    "                          'same_reg_diff_sev':[sum(hlp.match_results_map.same_reg_diff_sev)/num_obs], \\\n",
    "                          'diff_reg_same_sev':[sum(hlp.match_results_map.diff_reg_same_sev)/num_obs], \\\n",
    "                          'diff_reg_diff_sev':[sum(hlp.match_results_map.diff_reg_diff_sev)/num_obs], \\\n",
    "                          'unmatch_obs':[sum(hlp.match_results_map.unmatched_obs)/num_obs], \\\n",
    "                          'unmatch_pred':[sum(hlp.match_results_map.unmatched_pred)/num_obs]})\n",
    "\n",
    "match_cat_map"
   ]
  },
  {
   "cell_type": "code",
   "execution_count": 44,
   "metadata": {},
   "outputs": [
    {
     "data": {
      "image/png": "[encoded data removed]",
      "text/plain": [
       "<Figure size 432x288 with 1 Axes>"
      ]
     },
     "metadata": {
      "needs_background": "light"
     },
     "output_type": "display_data"
    }
   ],
   "source": [
    "match_cat_map.plot.barh().invert_yaxis()"
   ]
  },
  {
   "cell_type": "code",
   "execution_count": 45,
   "metadata": {},
   "outputs": [
    {
     "data": {
      "text/plain": [
       "<AxesSubplot:>"
      ]
     },
     "execution_count": 45,
     "metadata": {},
     "output_type": "execute_result"
    },
    {
     "data": {
      "image/png": "[encoded data removed]",
      "text/plain": [
       "<Figure size 432x288 with 1 Axes>"
      ]
     },
     "metadata": {
      "needs_background": "light"
     },
     "output_type": "display_data"
    }
   ],
   "source": [
    "# total codes observed\n",
    "num_obs = sum(hlp.match_results_map.num_obs)\n",
    "\n",
    "# match categories\n",
    "match_cat_map = pd.DataFrame({'Good':[(sum(hlp.match_results_map.exact) + sum(hlp.match_results_map.same_reg_same_sev))/num_obs], \\\n",
    "                          'Maybe okay':[sum(hlp.match_results_map.same_reg_diff_sev)/num_obs], \\\n",
    "                          'Not great':[sum(hlp.match_results_map.diff_reg_same_sev)/num_obs], \\\n",
    "                          'Poor':[(sum(hlp.match_results_map.unmatched))/num_obs]})\n",
    "\n",
    "match_cat_map.plot.bar(ylim=(0,.85))"
   ]
  }
 ],
 "metadata": {
  "kernelspec": {
   "display_name": "Python 3.8",
   "language": "python",
   "name": "python-3.8"
  },
  "language_info": {
   "codemirror_mode": {
    "name": "ipython",
    "version": 3
   },
   "file_extension": ".py",
   "mimetype": "text/x-python",
   "name": "python",
   "nbconvert_exporter": "python",
   "pygments_lexer": "ipython3",
   "version": "3.8.8"
  }
 },
 "nbformat": 4,
 "nbformat_minor": 4
}
