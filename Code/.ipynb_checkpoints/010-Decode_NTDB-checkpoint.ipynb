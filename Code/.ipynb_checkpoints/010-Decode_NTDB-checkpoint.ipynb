{
 "cells": [
  {
   "cell_type": "markdown",
   "metadata": {},
   "source": [
    "# Project: ICD-AIS conversion using Deep Learning\n",
    "\n",
    "This script converts 2013 and 2014 NTDB data into CSVs that can be utilized to convert ICD codes to AIS using deep learning\n",
    "\n",
    "To run this file you will need to obtain the NTDB data from the American College of Surgeons TQIP\n",
    "- You can request this data here: https://www.facs.org/quality-programs/trauma/quality/national-trauma-data-bank/datasets/"
   ]
  },
  {
   "cell_type": "code",
   "execution_count": null,
   "metadata": {},
   "outputs": [],
   "source": [
    "import modules.helper_functions_000 as hlp\n",
    "import os"
   ]
  },
  {
   "cell_type": "markdown",
   "metadata": {},
   "source": [
    "## Set parameters\n",
    "* You can chose to have prefixes for the different codes\n",
    "* You can remove severity from AIS codes\n",
    "* You can places ages in decade bins\n",
    "* You can set a minimum age"
   ]
  },
  {
   "cell_type": "code",
   "execution_count": 9,
   "metadata": {},
   "outputs": [],
   "source": [
    "years = [2013, 2014]\n",
    "prefix_age = True # add 'A' designator to age\n",
    "prefix_ecodes = True # add 'E' designator to E-codes\n",
    "prefix_pcodes = True # add 'P' designator to P-codes\n",
    "prefix_dcodes = True # add 'D' designator to D-codes\n",
    "truncate_ais = True # remove severity designation of AIS codes\n",
    "age_cat = False  # place ages in bins\n",
    "min_age = 18 # minimum age of patient\n",
    "\n",
    "test_percent = 0.1 # percent of data for testing\n",
    "validation_num = 2000 # number of cases for validation"
   ]
  },
  {
   "cell_type": "markdown",
   "metadata": {},
   "source": [
    "## Load files and convert seperate CSVs to one pandas dataframe"
   ]
  },
  {
   "cell_type": "code",
   "execution_count": 10,
   "metadata": {},
   "outputs": [
    {
     "name": "stdout",
     "output_type": "stream",
     "text": [
      "CPU times: user 1min 39s, sys: 2.46 s, total: 1min 41s\n",
      "Wall time: 1min 41s\n"
     ]
    }
   ],
   "source": [
    "%%time\n",
    "# Create a dataframe containing inc_key, age, year of admission, icd9 ecode, \n",
    "# icd9 pcodes as a list, icd9 dcodes as a list, ais05codes as a list \n",
    "pt_df = hlp.create_inclusive_df(years, \n",
    "                                prefix_age, \n",
    "                                prefix_ecodes, \n",
    "                                prefix_pcodes, \n",
    "                                prefix_dcodes, \n",
    "                                truncate_ais, \n",
    "                                age_cat, \n",
    "                                min_age)"
   ]
  },
  {
   "cell_type": "code",
   "execution_count": 11,
   "metadata": {},
   "outputs": [
    {
     "data": {
      "text/html": [
       "<div>\n",
       "<style scoped>\n",
       "    .dataframe tbody tr th:only-of-type {\n",
       "        vertical-align: middle;\n",
       "    }\n",
       "\n",
       "    .dataframe tbody tr th {\n",
       "        vertical-align: top;\n",
       "    }\n",
       "\n",
       "    .dataframe thead th {\n",
       "        text-align: right;\n",
       "    }\n",
       "</style>\n",
       "<table border=\"1\" class=\"dataframe\">\n",
       "  <thead>\n",
       "    <tr style=\"text-align: right;\">\n",
       "      <th></th>\n",
       "      <th>INC_KEY</th>\n",
       "      <th>AGE</th>\n",
       "      <th>YOADMIT</th>\n",
       "      <th>ECODE</th>\n",
       "      <th>PCODES</th>\n",
       "      <th>DCODES</th>\n",
       "      <th>AIS05CODE</th>\n",
       "    </tr>\n",
       "  </thead>\n",
       "  <tbody>\n",
       "    <tr>\n",
       "      <th>0</th>\n",
       "      <td>14000000</td>\n",
       "      <td>A79</td>\n",
       "      <td>2013</td>\n",
       "      <td>E880.9</td>\n",
       "      <td>[P87.03, P87.44]</td>\n",
       "      <td>[D850.0]</td>\n",
       "      <td>[161001]</td>\n",
       "    </tr>\n",
       "    <tr>\n",
       "      <th>1</th>\n",
       "      <td>14000002</td>\n",
       "      <td>A55</td>\n",
       "      <td>2013</td>\n",
       "      <td>E884.9</td>\n",
       "      <td>[P-2]</td>\n",
       "      <td>[D807.03, D805.4, D805.2]</td>\n",
       "      <td>[650630, 450203, 650416]</td>\n",
       "    </tr>\n",
       "    <tr>\n",
       "      <th>2</th>\n",
       "      <td>14000003</td>\n",
       "      <td>A70</td>\n",
       "      <td>2013</td>\n",
       "      <td>E885.9</td>\n",
       "      <td>[P79.35, P87.03]</td>\n",
       "      <td>[D820.21]</td>\n",
       "      <td>[853151]</td>\n",
       "    </tr>\n",
       "    <tr>\n",
       "      <th>3</th>\n",
       "      <td>14000004</td>\n",
       "      <td>A56</td>\n",
       "      <td>2013</td>\n",
       "      <td>E881.0</td>\n",
       "      <td>[P88.38, P88.01]</td>\n",
       "      <td>[D825.20, D823.01, D805.4]</td>\n",
       "      <td>[857200, 650616, 854441]</td>\n",
       "    </tr>\n",
       "    <tr>\n",
       "      <th>4</th>\n",
       "      <td>14000005</td>\n",
       "      <td>A40</td>\n",
       "      <td>2013</td>\n",
       "      <td>E986</td>\n",
       "      <td>[P54.11]</td>\n",
       "      <td>[D879.4]</td>\n",
       "      <td>[516000]</td>\n",
       "    </tr>\n",
       "    <tr>\n",
       "      <th>...</th>\n",
       "      <td>...</td>\n",
       "      <td>...</td>\n",
       "      <td>...</td>\n",
       "      <td>...</td>\n",
       "      <td>...</td>\n",
       "      <td>...</td>\n",
       "      <td>...</td>\n",
       "    </tr>\n",
       "    <tr>\n",
       "      <th>997167</th>\n",
       "      <td>140869291</td>\n",
       "      <td>A82</td>\n",
       "      <td>2014</td>\n",
       "      <td>E812.0</td>\n",
       "      <td>[P79.35, P99.04, P88.29]</td>\n",
       "      <td>[D920, D873.42, D820.22]</td>\n",
       "      <td>[853271, 210202, 210402]</td>\n",
       "    </tr>\n",
       "    <tr>\n",
       "      <th>997168</th>\n",
       "      <td>140869379</td>\n",
       "      <td>A73</td>\n",
       "      <td>2014</td>\n",
       "      <td>E888.8</td>\n",
       "      <td>[P-1]</td>\n",
       "      <td>[D959.01, D810.00, D807.06]</td>\n",
       "      <td>[450210]</td>\n",
       "    </tr>\n",
       "    <tr>\n",
       "      <th>997169</th>\n",
       "      <td>140869626</td>\n",
       "      <td>A77</td>\n",
       "      <td>2014</td>\n",
       "      <td>E888.8</td>\n",
       "      <td>[P-1]</td>\n",
       "      <td>[D910.0, D852.02]</td>\n",
       "      <td>[110202]</td>\n",
       "    </tr>\n",
       "    <tr>\n",
       "      <th>997170</th>\n",
       "      <td>140870093</td>\n",
       "      <td>A47</td>\n",
       "      <td>2014</td>\n",
       "      <td>E826.1</td>\n",
       "      <td>[P96.04]</td>\n",
       "      <td>[D916.0, D910.0, D803.20]</td>\n",
       "      <td>[810202]</td>\n",
       "    </tr>\n",
       "    <tr>\n",
       "      <th>997171</th>\n",
       "      <td>140870332</td>\n",
       "      <td>A55</td>\n",
       "      <td>2014</td>\n",
       "      <td>E812.1</td>\n",
       "      <td>[P-1]</td>\n",
       "      <td>[D847.1, D847.0]</td>\n",
       "      <td>[640278]</td>\n",
       "    </tr>\n",
       "  </tbody>\n",
       "</table>\n",
       "<p>997172 rows × 7 columns</p>\n",
       "</div>"
      ],
      "text/plain": [
       "          INC_KEY  AGE YOADMIT   ECODE                    PCODES  \\\n",
       "0        14000000  A79    2013  E880.9          [P87.03, P87.44]   \n",
       "1        14000002  A55    2013  E884.9                     [P-2]   \n",
       "2        14000003  A70    2013  E885.9          [P79.35, P87.03]   \n",
       "3        14000004  A56    2013  E881.0          [P88.38, P88.01]   \n",
       "4        14000005  A40    2013    E986                  [P54.11]   \n",
       "...           ...  ...     ...     ...                       ...   \n",
       "997167  140869291  A82    2014  E812.0  [P79.35, P99.04, P88.29]   \n",
       "997168  140869379  A73    2014  E888.8                     [P-1]   \n",
       "997169  140869626  A77    2014  E888.8                     [P-1]   \n",
       "997170  140870093  A47    2014  E826.1                  [P96.04]   \n",
       "997171  140870332  A55    2014  E812.1                     [P-1]   \n",
       "\n",
       "                             DCODES                 AIS05CODE  \n",
       "0                          [D850.0]                  [161001]  \n",
       "1         [D807.03, D805.4, D805.2]  [650630, 450203, 650416]  \n",
       "2                         [D820.21]                  [853151]  \n",
       "3        [D825.20, D823.01, D805.4]  [857200, 650616, 854441]  \n",
       "4                          [D879.4]                  [516000]  \n",
       "...                             ...                       ...  \n",
       "997167     [D920, D873.42, D820.22]  [853271, 210202, 210402]  \n",
       "997168  [D959.01, D810.00, D807.06]                  [450210]  \n",
       "997169            [D910.0, D852.02]                  [110202]  \n",
       "997170    [D916.0, D910.0, D803.20]                  [810202]  \n",
       "997171             [D847.1, D847.0]                  [640278]  \n",
       "\n",
       "[997172 rows x 7 columns]"
      ]
     },
     "execution_count": 11,
     "metadata": {},
     "output_type": "execute_result"
    }
   ],
   "source": [
    "pt_df"
   ]
  },
  {
   "cell_type": "markdown",
   "metadata": {},
   "source": [
    "## Write out data files"
   ]
  },
  {
   "cell_type": "code",
   "execution_count": 12,
   "metadata": {},
   "outputs": [],
   "source": [
    "ICD_cols = ['AGE','ECODE','PCODES','DCODES']\n",
    "AIS_cols = ['AIS05CODE']"
   ]
  },
  {
   "cell_type": "code",
   "execution_count": 13,
   "metadata": {},
   "outputs": [],
   "source": [
    "# calc number of test cases\n",
    "num_test = round(len(pt_df)*test_percent)"
   ]
  },
  {
   "cell_type": "code",
   "execution_count": 14,
   "metadata": {},
   "outputs": [],
   "source": [
    "outdir = '../Data'\n",
    "if not os.path.exists(outdir):\n",
    "    os.mkdir(outdir)\n",
    "\n",
    "if not age_cat:\n",
    "    # ICD files\n",
    "    hlp.write_pt_dat(pt_df[:num_test], ICD_cols, \"../Data/test_icd_pre_I9_A05.csv\")\n",
    "    hlp.write_pt_dat(pt_df[num_test:(num_test+validation_num)], ICD_cols, \"../Data/val_icd_pre_I9_A05.csv\")\n",
    "    hlp.write_pt_dat(pt_df[(num_test+validation_num):], ICD_cols, \"../Data/train_icd_pre_I9_A05.csv\")\n",
    "\n",
    "    hlp.write_pt_dat(pt_df[:num_test], AIS_cols, \"../Data/test_ais_pre_I9_A05.csv\")\n",
    "    hlp.write_pt_dat(pt_df[num_test:(num_test+validation_num)], AIS_cols, \"../Data/val_ais_pre_I9_A05.csv\")\n",
    "    hlp.write_pt_dat(pt_df[(num_test+validation_num):], AIS_cols, \"../Data/train_ais_pre_I9_A05.csv\")\n",
    "\n",
    "else:\n",
    "    # ICD files if categorizing age\n",
    "    hlp.write_pt_dat(pt_df[:num_test], ICD_cols, \"../Data/test_icd_agecat_I9_A05.csv\")\n",
    "    hlp.write_pt_dat(pt_df[num_test:(num_test+validation_num)], ICD_cols, \"../Data/val_icd_agecat_I9_A05.csv\")\n",
    "    hlp.write_pt_dat(pt_df[(num_test+validation_num):], ICD_cols, \"../Data/train_icd_agecat_I9_A05.csv\")\n",
    "\n",
    "    hlp.write_pt_dat(pt_df[:num_test], AIS_cols, \"../Data/test_ais_agecat_I9_A05.csv\")\n",
    "    hlp.write_pt_dat(pt_df[num_test:(num_test+validation_num)], AIS_cols, \"../Data/val_ais_agecat_I9_A05.csv\")\n",
    "    hlp.write_pt_dat(pt_df[(num_test+validation_num):], AIS_cols, \"../Data/train_ais_agecat_I9_A05.csv\")"
   ]
  },
  {
   "cell_type": "code",
   "execution_count": null,
   "metadata": {},
   "outputs": [],
   "source": []
  }
 ],
 "metadata": {
  "kernelspec": {
   "display_name": "Python 3",
   "language": "python",
   "name": "python3"
  },
  "language_info": {
   "codemirror_mode": {
    "name": "ipython",
    "version": 3
   },
   "file_extension": ".py",
   "mimetype": "text/x-python",
   "name": "python",
   "nbconvert_exporter": "python",
   "pygments_lexer": "ipython3",
   "version": "3.8.8"
  }
 },
 "nbformat": 4,
 "nbformat_minor": 4
}
