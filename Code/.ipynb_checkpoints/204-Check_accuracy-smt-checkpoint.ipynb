{
 "cells": [
  {
   "cell_type": "markdown",
   "metadata": {},
   "source": [
    "# Project: ICD-AIS conversion using Deep Learning\n",
    "\n",
    "This script checks the accuracy of AIS predictions in the training data."
   ]
  },
  {
   "cell_type": "markdown",
   "metadata": {},
   "source": [
    "## Setup"
   ]
  },
  {
   "cell_type": "code",
   "execution_count": 1,
   "metadata": {},
   "outputs": [],
   "source": [
    "import numpy as np\n",
    "import pandas as pd\n",
    "import sqlite3\n",
    "import random\n",
    "import math\n",
    "import modules.helper_functions_200 as hlp"
   ]
  },
  {
   "cell_type": "markdown",
   "metadata": {},
   "source": [
    "## Parameters\n"
   ]
  },
  {
   "cell_type": "code",
   "execution_count": 2,
   "metadata": {},
   "outputs": [],
   "source": [
    "ais_pred_onmt_file = \"../Results/test_ais_pred_early_stop-d_only.csv\"\n",
    "smt_map_file = \"../Results/test_ais_pred_smt_map.csv\"\n",
    "ais_obs_file = \"../Data/test_ais_pre_I9_A05.csv\"\n",
    "icd_obs_file =\"../Data/test_icd_pre_I9_A05.csv\"\n",
    "ais_codes_file = \"../Data/AIS08_codes.csv\""
   ]
  },
  {
   "cell_type": "markdown",
   "metadata": {},
   "source": [
    "## Load data and merge"
   ]
  },
  {
   "cell_type": "code",
   "execution_count": 3,
   "metadata": {},
   "outputs": [],
   "source": [
    "# load predictions\n",
    "ais_pred = pd.read_csv(ais_pred_onmt_file, header=None, skip_blank_lines=False,names=[\"AIS05CODE\"])"
   ]
  },
  {
   "cell_type": "code",
   "execution_count": 4,
   "metadata": {},
   "outputs": [],
   "source": [
    "# load mapped values\n",
    "smt_map = pd.read_csv(smt_map_file, header=None, skip_blank_lines=False, names=[\"AIS05CODE\"])"
   ]
  },
  {
   "cell_type": "code",
   "execution_count": 5,
   "metadata": {},
   "outputs": [],
   "source": [
    "# load observations\n",
    "ais_obs = pd.read_csv(ais_obs_file, header=None, names=[\"AIS05CODE\"])"
   ]
  },
  {
   "cell_type": "code",
   "execution_count": 6,
   "metadata": {},
   "outputs": [],
   "source": [
    "# load predictions\n",
    "test_res = pd.read_csv(icd_obs_file, header=None, names=[\"ICD9CODE\"])"
   ]
  },
  {
   "cell_type": "code",
   "execution_count": 7,
   "metadata": {},
   "outputs": [],
   "source": [
    "# merge data\n",
    "test_res['AIS_obs'] = ais_obs.AIS05CODE\n",
    "test_res['AIS_pred'] = ais_pred.AIS05CODE\n",
    "test_res['AIS_smt'] = smt_map.AIS05CODE"
   ]
  },
  {
   "cell_type": "code",
   "execution_count": 8,
   "metadata": {},
   "outputs": [],
   "source": [
    "# load AIS codes\n",
    "ais_codes = pd.read_csv(ais_codes_file, header=0, encoding='iso-8859-1')\n",
    "\n",
    "# get predot code\n",
    "ais_codes['predot'] = ais_codes.code.apply(lambda x: math.floor(x))\n",
    "\n",
    "# make dictionary of codes to get full code with post dot from just the predot\n",
    "ais_dot = hlp.get_ais_dot_map(ais_codes)"
   ]
  },
  {
   "cell_type": "markdown",
   "metadata": {},
   "source": [
    "## Process AIS codes \n",
    "- Convert to list \n",
    "- Remove missing and unknown predicted values\n",
    "- Convert to numbers\n",
    "- Add post-dot to AIS"
   ]
  },
  {
   "cell_type": "code",
   "execution_count": 9,
   "metadata": {},
   "outputs": [],
   "source": [
    "test_res = hlp.process_ais_codes(test_res, ais_dot)"
   ]
  },
  {
   "cell_type": "code",
   "execution_count": 14,
   "metadata": {},
   "outputs": [
    {
     "data": {
      "text/html": [
       "<div>\n",
       "<style scoped>\n",
       "    .dataframe tbody tr th:only-of-type {\n",
       "        vertical-align: middle;\n",
       "    }\n",
       "\n",
       "    .dataframe tbody tr th {\n",
       "        vertical-align: top;\n",
       "    }\n",
       "\n",
       "    .dataframe thead th {\n",
       "        text-align: right;\n",
       "    }\n",
       "</style>\n",
       "<table border=\"1\" class=\"dataframe\">\n",
       "  <thead>\n",
       "    <tr style=\"text-align: right;\">\n",
       "      <th></th>\n",
       "      <th>ICD9CODE</th>\n",
       "      <th>AIS_obs</th>\n",
       "      <th>AIS_pred</th>\n",
       "      <th>AIS_smt</th>\n",
       "    </tr>\n",
       "  </thead>\n",
       "  <tbody>\n",
       "    <tr>\n",
       "      <th>0</th>\n",
       "      <td>A79 E880.9 P87.03 P87.44 D850.0</td>\n",
       "      <td>[161001.1]</td>\n",
       "      <td>[161001.1]</td>\n",
       "      <td>[161001.1]</td>\n",
       "    </tr>\n",
       "    <tr>\n",
       "      <th>1</th>\n",
       "      <td>A55 E884.9 P-2 D805.2 D805.4 D807.03</td>\n",
       "      <td>[450203.3, 650416.2, 650630.2]</td>\n",
       "      <td>[450203.3, 650432.2, 650632.2]</td>\n",
       "      <td>[650420.2, 650620.2, 450203.3]</td>\n",
       "    </tr>\n",
       "    <tr>\n",
       "      <th>2</th>\n",
       "      <td>A70 E885.9 P79.35 P87.03 D820.21</td>\n",
       "      <td>[853151.3]</td>\n",
       "      <td>[853151.3]</td>\n",
       "      <td>[853151.3]</td>\n",
       "    </tr>\n",
       "    <tr>\n",
       "      <th>3</th>\n",
       "      <td>A56 E881.0 P88.01 P88.38 D805.4 D823.01 D825.20</td>\n",
       "      <td>[650616.2, 854441.2, 857200.2]</td>\n",
       "      <td>[650630.2, 852004.2, 854471.2]</td>\n",
       "      <td>[650620.2, 854471.2, 852004.2]</td>\n",
       "    </tr>\n",
       "    <tr>\n",
       "      <th>4</th>\n",
       "      <td>A40 E986 P54.11 D879.4</td>\n",
       "      <td>[516000.1]</td>\n",
       "      <td>[510602.1]</td>\n",
       "      <td>[510602.1]</td>\n",
       "    </tr>\n",
       "    <tr>\n",
       "      <th>5</th>\n",
       "      <td>A25 E885.9 P87.03 P88.38 P96.04 P96.71 D801.22</td>\n",
       "      <td>[140651.3, 140694.2, 150200.3]</td>\n",
       "      <td>[150202.3]</td>\n",
       "      <td>[150202.3]</td>\n",
       "    </tr>\n",
       "    <tr>\n",
       "      <th>6</th>\n",
       "      <td>A65 E917.3 P79.31 D812.00</td>\n",
       "      <td>[751111.2]</td>\n",
       "      <td>[751111.2]</td>\n",
       "      <td>[751111.2]</td>\n",
       "    </tr>\n",
       "    <tr>\n",
       "      <th>7</th>\n",
       "      <td>A60 E885.3 P79.15 D820.22</td>\n",
       "      <td>[853111.3]</td>\n",
       "      <td>[853151.3]</td>\n",
       "      <td>[853221.3]</td>\n",
       "    </tr>\n",
       "    <tr>\n",
       "      <th>8</th>\n",
       "      <td>A84 E886.9 P87.03 P87.41 P88.01 P88.38 D852.20...</td>\n",
       "      <td>[110602.1, 140438.3]</td>\n",
       "      <td>[110602.1, 140652.4]</td>\n",
       "      <td>[140650.3, 110600.1]</td>\n",
       "    </tr>\n",
       "    <tr>\n",
       "      <th>9</th>\n",
       "      <td>A73 E816.0 P87.03 P87.04 P87.41 P88.01 P88.38 ...</td>\n",
       "      <td>[110604.2, 140694.2, 750961.2]</td>\n",
       "      <td>[110602.1, 140694.2, 750951.2]</td>\n",
       "      <td>[750961.2, 140694.2, 110806.3]</td>\n",
       "    </tr>\n",
       "    <tr>\n",
       "      <th>10</th>\n",
       "      <td>A83 E888.9 P87.03 D873.50</td>\n",
       "      <td>[210602.1]</td>\n",
       "      <td>[210602.1]</td>\n",
       "      <td>[123002.4]</td>\n",
       "    </tr>\n",
       "    <tr>\n",
       "      <th>11</th>\n",
       "      <td>A65 E820.0 P87.03 P87.41 P88.01 P88.38 D805.4 ...</td>\n",
       "      <td>[650616.2, 856100.2, 856151.2, 856200.2]</td>\n",
       "      <td>[650620.2, 856100.2, 856200.2]</td>\n",
       "      <td>[650620.2, 856100.2, 856251.2, 856151.2, 85615...</td>\n",
       "    </tr>\n",
       "    <tr>\n",
       "      <th>12</th>\n",
       "      <td>A66 E885.9 P-2 D873.0</td>\n",
       "      <td>[110600.1]</td>\n",
       "      <td>[110602.1]</td>\n",
       "      <td>[110600.1]</td>\n",
       "    </tr>\n",
       "    <tr>\n",
       "      <th>13</th>\n",
       "      <td>A34 E826.1 P-2 D802.29 D804.02 D879.8</td>\n",
       "      <td>[250808.3, 251213.2, 910600.1]</td>\n",
       "      <td>[250610.2, 250615.2, 910600.1]</td>\n",
       "      <td>[250602.1, 251900.3, 910800.1]</td>\n",
       "    </tr>\n",
       "    <tr>\n",
       "      <th>14</th>\n",
       "      <td>A66 E812.0 P31.1 P34.04 P41.5 P43.11 P54.21 P8...</td>\n",
       "      <td>[441402.3, 442200.3, 450212.3, 544228.5]</td>\n",
       "      <td>[441408.3, 442200.3, 450203.3, 544228.5]</td>\n",
       "      <td>[450203.3, 442200.3, 441406.2, 544228.5]</td>\n",
       "    </tr>\n",
       "  </tbody>\n",
       "</table>\n",
       "</div>"
      ],
      "text/plain": [
       "                                             ICD9CODE  \\\n",
       "0                     A79 E880.9 P87.03 P87.44 D850.0   \n",
       "1                A55 E884.9 P-2 D805.2 D805.4 D807.03   \n",
       "2                    A70 E885.9 P79.35 P87.03 D820.21   \n",
       "3     A56 E881.0 P88.01 P88.38 D805.4 D823.01 D825.20   \n",
       "4                              A40 E986 P54.11 D879.4   \n",
       "5      A25 E885.9 P87.03 P88.38 P96.04 P96.71 D801.22   \n",
       "6                           A65 E917.3 P79.31 D812.00   \n",
       "7                           A60 E885.3 P79.15 D820.22   \n",
       "8   A84 E886.9 P87.03 P87.41 P88.01 P88.38 D852.20...   \n",
       "9   A73 E816.0 P87.03 P87.04 P87.41 P88.01 P88.38 ...   \n",
       "10                          A83 E888.9 P87.03 D873.50   \n",
       "11  A65 E820.0 P87.03 P87.41 P88.01 P88.38 D805.4 ...   \n",
       "12                              A66 E885.9 P-2 D873.0   \n",
       "13              A34 E826.1 P-2 D802.29 D804.02 D879.8   \n",
       "14  A66 E812.0 P31.1 P34.04 P41.5 P43.11 P54.21 P8...   \n",
       "\n",
       "                                     AIS_obs  \\\n",
       "0                                 [161001.1]   \n",
       "1             [450203.3, 650416.2, 650630.2]   \n",
       "2                                 [853151.3]   \n",
       "3             [650616.2, 854441.2, 857200.2]   \n",
       "4                                 [516000.1]   \n",
       "5             [140651.3, 140694.2, 150200.3]   \n",
       "6                                 [751111.2]   \n",
       "7                                 [853111.3]   \n",
       "8                       [110602.1, 140438.3]   \n",
       "9             [110604.2, 140694.2, 750961.2]   \n",
       "10                                [210602.1]   \n",
       "11  [650616.2, 856100.2, 856151.2, 856200.2]   \n",
       "12                                [110600.1]   \n",
       "13            [250808.3, 251213.2, 910600.1]   \n",
       "14  [441402.3, 442200.3, 450212.3, 544228.5]   \n",
       "\n",
       "                                    AIS_pred  \\\n",
       "0                                 [161001.1]   \n",
       "1             [450203.3, 650432.2, 650632.2]   \n",
       "2                                 [853151.3]   \n",
       "3             [650630.2, 852004.2, 854471.2]   \n",
       "4                                 [510602.1]   \n",
       "5                                 [150202.3]   \n",
       "6                                 [751111.2]   \n",
       "7                                 [853151.3]   \n",
       "8                       [110602.1, 140652.4]   \n",
       "9             [110602.1, 140694.2, 750951.2]   \n",
       "10                                [210602.1]   \n",
       "11            [650620.2, 856100.2, 856200.2]   \n",
       "12                                [110602.1]   \n",
       "13            [250610.2, 250615.2, 910600.1]   \n",
       "14  [441408.3, 442200.3, 450203.3, 544228.5]   \n",
       "\n",
       "                                              AIS_smt  \n",
       "0                                          [161001.1]  \n",
       "1                      [650420.2, 650620.2, 450203.3]  \n",
       "2                                          [853151.3]  \n",
       "3                      [650620.2, 854471.2, 852004.2]  \n",
       "4                                          [510602.1]  \n",
       "5                                          [150202.3]  \n",
       "6                                          [751111.2]  \n",
       "7                                          [853221.3]  \n",
       "8                                [140650.3, 110600.1]  \n",
       "9                      [750961.2, 140694.2, 110806.3]  \n",
       "10                                         [123002.4]  \n",
       "11  [650620.2, 856100.2, 856251.2, 856151.2, 85615...  \n",
       "12                                         [110600.1]  \n",
       "13                     [250602.1, 251900.3, 910800.1]  \n",
       "14           [450203.3, 442200.3, 441406.2, 544228.5]  "
      ]
     },
     "execution_count": 14,
     "metadata": {},
     "output_type": "execute_result"
    }
   ],
   "source": [
    "test_res.head(15)"
   ]
  },
  {
   "cell_type": "code",
   "execution_count": 16,
   "metadata": {},
   "outputs": [
    {
     "name": "stdout",
     "output_type": "stream",
     "text": [
      "Codes1:  [210602.1, 251002.2, 441406.2, 450201.1, 650222.2]\n",
      "Codes2:  [210602.1, 251002.2, 441408.3, 450201.1, 650222.2]\n"
     ]
    },
    {
     "data": {
      "text/html": [
       "<div>\n",
       "<style scoped>\n",
       "    .dataframe tbody tr th:only-of-type {\n",
       "        vertical-align: middle;\n",
       "    }\n",
       "\n",
       "    .dataframe tbody tr th {\n",
       "        vertical-align: top;\n",
       "    }\n",
       "\n",
       "    .dataframe thead th {\n",
       "        text-align: right;\n",
       "    }\n",
       "</style>\n",
       "<table border=\"1\" class=\"dataframe\">\n",
       "  <thead>\n",
       "    <tr style=\"text-align: right;\">\n",
       "      <th></th>\n",
       "      <th>code1</th>\n",
       "      <th>code2</th>\n",
       "    </tr>\n",
       "  </thead>\n",
       "  <tbody>\n",
       "    <tr>\n",
       "      <th>0</th>\n",
       "      <td>251002.2</td>\n",
       "      <td>251002.2</td>\n",
       "    </tr>\n",
       "    <tr>\n",
       "      <th>1</th>\n",
       "      <td>441406.2</td>\n",
       "      <td>441408.3</td>\n",
       "    </tr>\n",
       "    <tr>\n",
       "      <th>2</th>\n",
       "      <td>650222.2</td>\n",
       "      <td>650222.2</td>\n",
       "    </tr>\n",
       "    <tr>\n",
       "      <th>3</th>\n",
       "      <td>210602.1</td>\n",
       "      <td>210602.1</td>\n",
       "    </tr>\n",
       "    <tr>\n",
       "      <th>4</th>\n",
       "      <td>450201.1</td>\n",
       "      <td>450201.1</td>\n",
       "    </tr>\n",
       "  </tbody>\n",
       "</table>\n",
       "</div>"
      ],
      "text/plain": [
       "      code1     code2\n",
       "0  251002.2  251002.2\n",
       "1  441406.2  441408.3\n",
       "2  650222.2  650222.2\n",
       "3  210602.1  210602.1\n",
       "4  450201.1  450201.1"
      ]
     },
     "execution_count": 16,
     "metadata": {},
     "output_type": "execute_result"
    }
   ],
   "source": [
    "i = 17\n",
    "print(\"Codes1: \", test_res.AIS_obs[i])\n",
    "print(\"Codes2: \", test_res.AIS_pred[i])\n",
    "\n",
    "# function will return the best estimate for matching two lists of AIS codes.\n",
    "hlp.match_ais(test_res.AIS_obs[i],test_res.AIS_pred[i])"
   ]
  },
  {
   "cell_type": "code",
   "execution_count": 17,
   "metadata": {},
   "outputs": [
    {
     "name": "stdout",
     "output_type": "stream",
     "text": [
      "Codes1:  [650616.2, 856100.2, 856151.2, 856200.2]\n",
      "Codes2:  [650620.2, 856100.2, 856251.2, 856151.2, 856152.3]\n"
     ]
    },
    {
     "data": {
      "text/html": [
       "<div>\n",
       "<style scoped>\n",
       "    .dataframe tbody tr th:only-of-type {\n",
       "        vertical-align: middle;\n",
       "    }\n",
       "\n",
       "    .dataframe tbody tr th {\n",
       "        vertical-align: top;\n",
       "    }\n",
       "\n",
       "    .dataframe thead th {\n",
       "        text-align: right;\n",
       "    }\n",
       "</style>\n",
       "<table border=\"1\" class=\"dataframe\">\n",
       "  <thead>\n",
       "    <tr style=\"text-align: right;\">\n",
       "      <th></th>\n",
       "      <th>code1</th>\n",
       "      <th>code2</th>\n",
       "    </tr>\n",
       "  </thead>\n",
       "  <tbody>\n",
       "    <tr>\n",
       "      <th>0</th>\n",
       "      <td>650616.2</td>\n",
       "      <td>650620.2</td>\n",
       "    </tr>\n",
       "    <tr>\n",
       "      <th>1</th>\n",
       "      <td>856100.2</td>\n",
       "      <td>856100.2</td>\n",
       "    </tr>\n",
       "    <tr>\n",
       "      <th>2</th>\n",
       "      <td>856151.2</td>\n",
       "      <td>856151.2</td>\n",
       "    </tr>\n",
       "    <tr>\n",
       "      <th>3</th>\n",
       "      <td>856200.2</td>\n",
       "      <td>856251.2</td>\n",
       "    </tr>\n",
       "    <tr>\n",
       "      <th>4</th>\n",
       "      <td>NaN</td>\n",
       "      <td>856152.3</td>\n",
       "    </tr>\n",
       "  </tbody>\n",
       "</table>\n",
       "</div>"
      ],
      "text/plain": [
       "      code1     code2\n",
       "0  650616.2  650620.2\n",
       "1  856100.2  856100.2\n",
       "2  856151.2  856151.2\n",
       "3  856200.2  856251.2\n",
       "4       NaN  856152.3"
      ]
     },
     "execution_count": 17,
     "metadata": {},
     "output_type": "execute_result"
    }
   ],
   "source": [
    "i = 11\n",
    "print(\"Codes1: \", test_res.AIS_obs[i])\n",
    "print(\"Codes2: \", test_res.AIS_smt[i])\n",
    "\n",
    "hlp.match_ais(test_res.AIS_obs[i],test_res.AIS_smt[i])"
   ]
  },
  {
   "cell_type": "markdown",
   "metadata": {},
   "source": [
    "## Evaluate predictions"
   ]
  },
  {
   "cell_type": "code",
   "execution_count": 21,
   "metadata": {},
   "outputs": [
    {
     "name": "stdout",
     "output_type": "stream",
     "text": [
      "CPU times: user 6min 46s, sys: 163 ms, total: 6min 46s\n",
      "Wall time: 6min 47s\n"
     ]
    }
   ],
   "source": [
    "%%time\n",
    "sample_res = test_res.head(10000)\n",
    "\n",
    "# loop through all results\n",
    "for i in range(0,len(sample_res)):\n",
    "    \n",
    "    # match up lists of AIS codes\n",
    "    matches = hlp.match_ais(sample_res.AIS_obs[i], sample_res.AIS_pred[i])\n",
    "    \n",
    "    # check if first iteration\n",
    "    if i==0:\n",
    "        # create dataframe for results\n",
    "        match_results = hlp.match_stats(matches, ais_codes)\n",
    "        \n",
    "    else:\n",
    "        # append results to dataframe\n",
    "        match_results = match_results.append(hlp.match_stats(matches, ais_codes), ignore_index=True)\n",
    "        \n",
    "match_results = sample_res.join(match_results)\n",
    "match_results.to_csv(\"../Results/train_ais_check_accuracy_smt.csv\", index=False)"
   ]
  },
  {
   "cell_type": "code",
   "execution_count": 22,
   "metadata": {},
   "outputs": [
    {
     "name": "stdout",
     "output_type": "stream",
     "text": [
      "num_obs     3.0012\n",
      "num_pred    2.9067\n",
      "dtype: float64\n"
     ]
    },
    {
     "data": {
      "text/plain": [
       "<AxesSubplot:>"
      ]
     },
     "execution_count": 22,
     "metadata": {},
     "output_type": "execute_result"
    },
    {
     "data": {
      "image/png": "[encoded data removed]",
      "text/plain": [
       "<Figure size 432x288 with 1 Axes>"
      ]
     },
     "metadata": {
      "needs_background": "light"
     },
     "output_type": "display_data"
    }
   ],
   "source": [
    "# mean number of injuries per patient\n",
    "print(match_results[['num_obs','num_pred']].mean())\n",
    "match_results[['num_obs','num_pred']].mean().plot.bar()"
   ]
  },
  {
   "cell_type": "code",
   "execution_count": 23,
   "metadata": {},
   "outputs": [
    {
     "name": "stdout",
     "output_type": "stream",
     "text": [
      "ISS equal: 0.7457\n",
      "ISS >=16 equal: 0.9246\n"
     ]
    }
   ],
   "source": [
    "# ISS results\n",
    "print(\"ISS equal:\", match_results.iss_equal.mean())\n",
    "print(\"ISS >=16 equal:\", match_results.iss_16_equal.mean())"
   ]
  },
  {
   "cell_type": "code",
   "execution_count": 24,
   "metadata": {},
   "outputs": [
    {
     "name": "stdout",
     "output_type": "stream",
     "text": [
      "ISS>=16 underpredicted: 0.6206896551724138\n"
     ]
    }
   ],
   "source": [
    "iss_16_mismatch = match_results[match_results.iss_16_equal==0]\n",
    "print(\"ISS>=16 underpredicted:\", len(iss_16_mismatch[iss_16_mismatch.iss_obs>iss_16_mismatch.iss_pred])/len(iss_16_mismatch))"
   ]
  },
  {
   "cell_type": "code",
   "execution_count": 25,
   "metadata": {},
   "outputs": [
    {
     "name": "stdout",
     "output_type": "stream",
     "text": [
      "iss_obs     8.883721\n",
      "iss_pred    8.365070\n",
      "dtype: float64\n"
     ]
    },
    {
     "data": {
      "text/plain": [
       "<AxesSubplot:>"
      ]
     },
     "execution_count": 25,
     "metadata": {},
     "output_type": "execute_result"
    },
    {
     "data": {
      "image/png": "[encoded data removed]",
      "text/plain": [
       "<Figure size 432x288 with 1 Axes>"
      ]
     },
     "metadata": {
      "needs_background": "light"
     },
     "output_type": "display_data"
    }
   ],
   "source": [
    "# mean ISS\n",
    "print(match_results[['iss_obs','iss_pred']].mean())\n",
    "match_results[['iss_obs','iss_pred']].mean().plot.bar()"
   ]
  },
  {
   "cell_type": "code",
   "execution_count": 26,
   "metadata": {},
   "outputs": [
    {
     "name": "stdout",
     "output_type": "stream",
     "text": [
      "MAIS equal: 0.7946\n",
      "MAIS >=3 equal: 0.9153\n"
     ]
    }
   ],
   "source": [
    "# MAIS results\n",
    "print(\"MAIS equal:\", match_results.mais_equal.mean())\n",
    "print(\"MAIS >=3 equal:\", match_results.mais_3_equal.mean())"
   ]
  },
  {
   "cell_type": "code",
   "execution_count": 27,
   "metadata": {},
   "outputs": [
    {
     "name": "stdout",
     "output_type": "stream",
     "text": [
      "MAIS>=3 underpredicted: 0.5430932703659976\n"
     ]
    }
   ],
   "source": [
    "mais_3_mismatch = match_results[match_results.mais_3_equal==0]\n",
    "print(\"MAIS>=3 underpredicted:\", len(mais_3_mismatch[mais_3_mismatch.mais_obs>mais_3_mismatch.mais_pred])/len(mais_3_mismatch))"
   ]
  },
  {
   "cell_type": "code",
   "execution_count": 28,
   "metadata": {},
   "outputs": [
    {
     "name": "stdout",
     "output_type": "stream",
     "text": [
      "mais_obs     2.5467\n",
      "mais_pred    2.4153\n",
      "dtype: float64\n"
     ]
    },
    {
     "data": {
      "text/plain": [
       "<AxesSubplot:>"
      ]
     },
     "execution_count": 28,
     "metadata": {},
     "output_type": "execute_result"
    },
    {
     "data": {
      "image/png": "[encoded data removed]",
      "text/plain": [
       "<Figure size 432x288 with 1 Axes>"
      ]
     },
     "metadata": {
      "needs_background": "light"
     },
     "output_type": "display_data"
    }
   ],
   "source": [
    "# mean MAIS\n",
    "print(match_results[['mais_obs','mais_pred']].mean())\n",
    "match_results[['mais_obs','mais_pred']].mean().plot.bar()"
   ]
  },
  {
   "cell_type": "code",
   "execution_count": 29,
   "metadata": {},
   "outputs": [
    {
     "data": {
      "text/html": [
       "<div>\n",
       "<style scoped>\n",
       "    .dataframe tbody tr th:only-of-type {\n",
       "        vertical-align: middle;\n",
       "    }\n",
       "\n",
       "    .dataframe tbody tr th {\n",
       "        vertical-align: top;\n",
       "    }\n",
       "\n",
       "    .dataframe thead th {\n",
       "        text-align: right;\n",
       "    }\n",
       "</style>\n",
       "<table border=\"1\" class=\"dataframe\">\n",
       "  <thead>\n",
       "    <tr style=\"text-align: right;\">\n",
       "      <th></th>\n",
       "      <th>exact</th>\n",
       "      <th>same_reg_same_sev</th>\n",
       "      <th>same_reg_diff_sev</th>\n",
       "      <th>diff_reg_same_sev</th>\n",
       "      <th>diff_reg_diff_sev</th>\n",
       "      <th>unmatch_obs</th>\n",
       "      <th>unmatch_pred</th>\n",
       "    </tr>\n",
       "  </thead>\n",
       "  <tbody>\n",
       "    <tr>\n",
       "      <th>0</th>\n",
       "      <td>0.548281</td>\n",
       "      <td>0.259163</td>\n",
       "      <td>0.113688</td>\n",
       "      <td>0.021092</td>\n",
       "      <td>0.005898</td>\n",
       "      <td>0.052179</td>\n",
       "      <td>0.020692</td>\n",
       "    </tr>\n",
       "  </tbody>\n",
       "</table>\n",
       "</div>"
      ],
      "text/plain": [
       "      exact  same_reg_same_sev  same_reg_diff_sev  diff_reg_same_sev  \\\n",
       "0  0.548281           0.259163           0.113688           0.021092   \n",
       "\n",
       "   diff_reg_diff_sev  unmatch_obs  unmatch_pred  \n",
       "0           0.005898     0.052179      0.020692  "
      ]
     },
     "execution_count": 29,
     "metadata": {},
     "output_type": "execute_result"
    }
   ],
   "source": [
    "# total codes observed\n",
    "num_obs = sum(match_results.num_obs)\n",
    "\n",
    "# match categories\n",
    "match_cat = pd.DataFrame({'exact':[sum(match_results.exact)/num_obs], \\\n",
    "                          'same_reg_same_sev':[sum(match_results.same_reg_same_sev)/num_obs], \\\n",
    "                          'same_reg_diff_sev':[sum(match_results.same_reg_diff_sev)/num_obs], \\\n",
    "                          'diff_reg_same_sev':[sum(match_results.diff_reg_same_sev)/num_obs], \\\n",
    "                          'diff_reg_diff_sev':[sum(match_results.diff_reg_diff_sev)/num_obs], \\\n",
    "                          'unmatch_obs':[sum(match_results.unmatched_obs)/num_obs], \\\n",
    "                          'unmatch_pred':[sum(match_results.unmatched_pred)/num_obs]})\n",
    "\n",
    "match_cat"
   ]
  },
  {
   "cell_type": "code",
   "execution_count": 30,
   "metadata": {},
   "outputs": [
    {
     "data": {
      "image/png": "[encoded data removed]",
      "text/plain": [
       "<Figure size 432x288 with 1 Axes>"
      ]
     },
     "metadata": {
      "needs_background": "light"
     },
     "output_type": "display_data"
    }
   ],
   "source": [
    "match_cat.plot.barh().invert_yaxis()"
   ]
  },
  {
   "cell_type": "code",
   "execution_count": 31,
   "metadata": {},
   "outputs": [
    {
     "data": {
      "text/plain": [
       "(0.0, 0.75)"
      ]
     },
     "execution_count": 31,
     "metadata": {},
     "output_type": "execute_result"
    },
    {
     "data": {
      "image/png": "[encoded data removed]",
      "text/plain": [
       "<Figure size 432x288 with 1 Axes>"
      ]
     },
     "metadata": {
      "needs_background": "light"
     },
     "output_type": "display_data"
    }
   ],
   "source": [
    "ax = match_cat.plot.barh()\n",
    "ax.invert_yaxis()\n",
    "ax.set_xlim(0,0.75)"
   ]
  },
  {
   "cell_type": "code",
   "execution_count": 32,
   "metadata": {},
   "outputs": [
    {
     "data": {
      "text/plain": [
       "<AxesSubplot:>"
      ]
     },
     "execution_count": 32,
     "metadata": {},
     "output_type": "execute_result"
    },
    {
     "data": {
      "image/png": "[encoded data removed]",
      "text/plain": [
       "<Figure size 432x288 with 1 Axes>"
      ]
     },
     "metadata": {
      "needs_background": "light"
     },
     "output_type": "display_data"
    }
   ],
   "source": [
    "# total codes observed\n",
    "num_obs = sum(match_results.num_obs)\n",
    "\n",
    "# match categories\n",
    "match_cat = pd.DataFrame({'Good':[(sum(match_results.exact) + sum(match_results.same_reg_same_sev))/num_obs], \\\n",
    "                          'Maybe okay':[sum(match_results.same_reg_diff_sev)/num_obs], \\\n",
    "                          'Not great':[sum(match_results.diff_reg_same_sev)/num_obs], \\\n",
    "                          'Poor':[(sum(match_results.unmatched))/num_obs]})\n",
    "\n",
    "match_cat.plot.bar()"
   ]
  },
  {
   "cell_type": "code",
   "execution_count": 33,
   "metadata": {},
   "outputs": [
    {
     "name": "stdout",
     "output_type": "stream",
     "text": [
      "Number unknown: 235\n",
      "Percent unknown 0.0019203425564253845\n"
     ]
    }
   ],
   "source": [
    "# number of unknown codes\n",
    "num_unk = len(ais_pred[ais_pred.AIS05CODE.fillna('0').str.contains('<unk>')])\n",
    "print(\"Number unknown:\", num_unk)\n",
    "print(\"Percent unknown\", num_unk/len(ais_pred))"
   ]
  },
  {
   "cell_type": "code",
   "execution_count": 34,
   "metadata": {},
   "outputs": [
    {
     "data": {
      "text/html": [
       "<div>\n",
       "<style scoped>\n",
       "    .dataframe tbody tr th:only-of-type {\n",
       "        vertical-align: middle;\n",
       "    }\n",
       "\n",
       "    .dataframe tbody tr th {\n",
       "        vertical-align: top;\n",
       "    }\n",
       "\n",
       "    .dataframe thead th {\n",
       "        text-align: right;\n",
       "    }\n",
       "</style>\n",
       "<table border=\"1\" class=\"dataframe\">\n",
       "  <thead>\n",
       "    <tr style=\"text-align: right;\">\n",
       "      <th></th>\n",
       "      <th>ICD9CODE</th>\n",
       "      <th>AIS05CODE_obs</th>\n",
       "      <th>AIS05CODE_pred</th>\n",
       "    </tr>\n",
       "  </thead>\n",
       "  <tbody>\n",
       "    <tr>\n",
       "      <th>73</th>\n",
       "      <td>A23 E955.0 P-2 D806.10 D807.6 D851.49 D874.5</td>\n",
       "      <td>140402 340610 350200 640272</td>\n",
       "      <td>&lt;unk&gt; 341608 341608</td>\n",
       "    </tr>\n",
       "    <tr>\n",
       "      <th>89</th>\n",
       "      <td>A65 E815.2 P-2 D834.02 D850.5 D862.29 D951.8</td>\n",
       "      <td>131402 161002 442208 772570</td>\n",
       "      <td>&lt;unk&gt; 161002 442209 772570</td>\n",
       "    </tr>\n",
       "    <tr>\n",
       "      <th>468</th>\n",
       "      <td>A24 E812.0 P75.34 P87.49 P88.01 P88.38 P88.79 ...</td>\n",
       "      <td>210202 510402 545299</td>\n",
       "      <td>210202 510402 &lt;unk&gt;</td>\n",
       "    </tr>\n",
       "    <tr>\n",
       "      <th>512</th>\n",
       "      <td>A53 E820.0 P86.59 P87.03 P87.41 P88.01 P88.38 ...</td>\n",
       "      <td>110602 110802 915000</td>\n",
       "      <td>110602 &lt;unk&gt;</td>\n",
       "    </tr>\n",
       "    <tr>\n",
       "      <th>530</th>\n",
       "      <td>A59 E888.9 P02.94 P03.53 P81.03 P81.62 P84.51 ...</td>\n",
       "      <td>243400 321002 640220 650210 650218 650222</td>\n",
       "      <td>243402 &lt;unk&gt; 640221 650222</td>\n",
       "    </tr>\n",
       "  </tbody>\n",
       "</table>\n",
       "</div>"
      ],
      "text/plain": [
       "                                              ICD9CODE  \\\n",
       "73        A23 E955.0 P-2 D806.10 D807.6 D851.49 D874.5   \n",
       "89        A65 E815.2 P-2 D834.02 D850.5 D862.29 D951.8   \n",
       "468  A24 E812.0 P75.34 P87.49 P88.01 P88.38 P88.79 ...   \n",
       "512  A53 E820.0 P86.59 P87.03 P87.41 P88.01 P88.38 ...   \n",
       "530  A59 E888.9 P02.94 P03.53 P81.03 P81.62 P84.51 ...   \n",
       "\n",
       "                                 AIS05CODE_obs              AIS05CODE_pred  \n",
       "73                 140402 340610 350200 640272         <unk> 341608 341608  \n",
       "89                 131402 161002 442208 772570  <unk> 161002 442209 772570  \n",
       "468                       210202 510402 545299         210202 510402 <unk>  \n",
       "512                       110602 110802 915000                110602 <unk>  \n",
       "530  243400 321002 640220 650210 650218 650222  243402 <unk> 640221 650222  "
      ]
     },
     "execution_count": 34,
     "metadata": {},
     "output_type": "execute_result"
    }
   ],
   "source": [
    "unk_idx = ais_pred[ais_pred.AIS05CODE.fillna('0').str.contains('<unk>')].index\n",
    "\n",
    "test_res.iloc[unk_idx][['ICD9CODE']] \\\n",
    "    .join(ais_obs.iloc[unk_idx].rename(columns={'AIS05CODE':'AIS05CODE_obs'})) \\\n",
    "    .join(ais_pred.iloc[unk_idx].rename(columns={'AIS05CODE':'AIS05CODE_pred'})) \\\n",
    "    .head(5)"
   ]
  },
  {
   "cell_type": "code",
   "execution_count": 35,
   "metadata": {},
   "outputs": [
    {
     "name": "stdout",
     "output_type": "stream",
     "text": [
      "Empty prediction set: 9\n",
      "Percent empty prediction set: 7.354503407586579e-05\n"
     ]
    }
   ],
   "source": [
    "# number of empty predictions\n",
    "print(\"Empty prediction set:\",len(ais_pred[ais_pred.AIS05CODE.isnull()]))\n",
    "print(\"Percent empty prediction set:\",len(ais_pred[ais_pred.AIS05CODE.isnull()])/len(ais_pred))"
   ]
  },
  {
   "cell_type": "markdown",
   "metadata": {},
   "source": [
    "## Evaluate SMT map"
   ]
  },
  {
   "cell_type": "code",
   "execution_count": 36,
   "metadata": {},
   "outputs": [
    {
     "name": "stdout",
     "output_type": "stream",
     "text": [
      "CPU times: user 6min 49s, sys: 168 ms, total: 6min 49s\n",
      "Wall time: 6min 50s\n"
     ]
    }
   ],
   "source": [
    "%%time\n",
    "sample_res = test_res.head(10000)\n",
    "\n",
    "# loop through all results\n",
    "for i in range(0,len(sample_res)):\n",
    "\n",
    "    # match up lists of AIS codes\n",
    "    matches = hlp.match_ais(sample_res.AIS_obs[i], sample_res.AIS_smt[i])\n",
    "    \n",
    "    # check if first iteration\n",
    "    if i==0:\n",
    "        # create dataframe for results\n",
    "        match_results_map = hlp.match_stats(matches, ais_codes, mapped_codes=False)\n",
    "        \n",
    "    else:\n",
    "        # append results to dataframe\n",
    "        match_results_map = match_results_map.append(hlp.match_stats(matches, ais_codes, mapped_codes=False), ignore_index=True)\n",
    "        \n",
    "match_results_map = sample_res.join(match_results_map)"
   ]
  },
  {
   "cell_type": "code",
   "execution_count": 37,
   "metadata": {},
   "outputs": [
    {
     "name": "stdout",
     "output_type": "stream",
     "text": [
      "num_obs     3.0012\n",
      "num_pred    2.9540\n",
      "dtype: float64\n"
     ]
    },
    {
     "data": {
      "text/plain": [
       "<AxesSubplot:>"
      ]
     },
     "execution_count": 37,
     "metadata": {},
     "output_type": "execute_result"
    },
    {
     "data": {
      "image/png": "[encoded data removed]",
      "text/plain": [
       "<Figure size 432x288 with 1 Axes>"
      ]
     },
     "metadata": {
      "needs_background": "light"
     },
     "output_type": "display_data"
    }
   ],
   "source": [
    "# mean number of injuries per patient\n",
    "print(match_results_map[['num_obs','num_pred']].mean())\n",
    "match_results_map[['num_obs','num_pred']].mean().plot.bar()"
   ]
  },
  {
   "cell_type": "code",
   "execution_count": 38,
   "metadata": {},
   "outputs": [
    {
     "name": "stdout",
     "output_type": "stream",
     "text": [
      "ISS equal: 0.6785\n",
      "ISS >=16 equal: 0.8874\n"
     ]
    }
   ],
   "source": [
    "# ISS results\n",
    "print(\"ISS equal:\", match_results_map.iss_equal.mean())\n",
    "print(\"ISS >=16 equal:\", match_results_map.iss_16_equal.mean())"
   ]
  },
  {
   "cell_type": "code",
   "execution_count": 39,
   "metadata": {},
   "outputs": [
    {
     "name": "stdout",
     "output_type": "stream",
     "text": [
      "ISS>=16 underpredicted: 0.5213143872113677\n"
     ]
    }
   ],
   "source": [
    "iss_16_mismatch_map = match_results_map[match_results_map.iss_16_equal==0]\n",
    "print(\"ISS>=16 underpredicted:\", len(iss_16_mismatch_map[iss_16_mismatch_map.iss_obs>iss_16_mismatch_map.iss_pred])/len(iss_16_mismatch_map))"
   ]
  },
  {
   "cell_type": "code",
   "execution_count": 40,
   "metadata": {},
   "outputs": [
    {
     "name": "stdout",
     "output_type": "stream",
     "text": [
      "iss_obs     8.883721\n",
      "iss_pred    8.682917\n",
      "dtype: float64\n"
     ]
    },
    {
     "data": {
      "text/plain": [
       "<AxesSubplot:>"
      ]
     },
     "execution_count": 40,
     "metadata": {},
     "output_type": "execute_result"
    },
    {
     "data": {
      "image/png": "[encoded data removed]",
      "text/plain": [
       "<Figure size 432x288 with 1 Axes>"
      ]
     },
     "metadata": {
      "needs_background": "light"
     },
     "output_type": "display_data"
    }
   ],
   "source": [
    "# mean ISS\n",
    "print(match_results_map[['iss_obs','iss_pred']].mean())\n",
    "match_results_map[['iss_obs','iss_pred']].mean().plot.bar()"
   ]
  },
  {
   "cell_type": "code",
   "execution_count": 41,
   "metadata": {},
   "outputs": [
    {
     "name": "stdout",
     "output_type": "stream",
     "text": [
      "MAIS equal: 0.7369\n",
      "MAIS >=3 equal: 0.8628\n"
     ]
    }
   ],
   "source": [
    "# MAIS results\n",
    "print(\"MAIS equal:\", match_results_map.mais_equal.mean())\n",
    "print(\"MAIS >=3 equal:\", match_results_map.mais_3_equal.mean())"
   ]
  },
  {
   "cell_type": "code",
   "execution_count": 42,
   "metadata": {},
   "outputs": [
    {
     "name": "stdout",
     "output_type": "stream",
     "text": [
      "MAIS>=3 underpredicted: 0.565597667638484\n"
     ]
    }
   ],
   "source": [
    "mais_3_mismatch_map = match_results_map[match_results_map.mais_3_equal==0]\n",
    "print(\"MAIS>=3 underpredicted:\", len(mais_3_mismatch_map[mais_3_mismatch_map.mais_obs>mais_3_mismatch_map.mais_pred])/len(mais_3_mismatch_map))"
   ]
  },
  {
   "cell_type": "code",
   "execution_count": 43,
   "metadata": {},
   "outputs": [
    {
     "name": "stdout",
     "output_type": "stream",
     "text": [
      "mais_obs     2.5467\n",
      "mais_pred    2.6033\n",
      "dtype: float64\n"
     ]
    },
    {
     "data": {
      "text/plain": [
       "<AxesSubplot:>"
      ]
     },
     "execution_count": 43,
     "metadata": {},
     "output_type": "execute_result"
    },
    {
     "data": {
      "image/png": "[encoded data removed]",
      "text/plain": [
       "<Figure size 432x288 with 1 Axes>"
      ]
     },
     "metadata": {
      "needs_background": "light"
     },
     "output_type": "display_data"
    }
   ],
   "source": [
    "# mean MAIS\n",
    "print(match_results_map[['mais_obs','mais_pred']].mean())\n",
    "match_results_map[['mais_obs','mais_pred']].mean().plot.bar()"
   ]
  },
  {
   "cell_type": "code",
   "execution_count": 44,
   "metadata": {},
   "outputs": [
    {
     "data": {
      "text/html": [
       "<div>\n",
       "<style scoped>\n",
       "    .dataframe tbody tr th:only-of-type {\n",
       "        vertical-align: middle;\n",
       "    }\n",
       "\n",
       "    .dataframe tbody tr th {\n",
       "        vertical-align: top;\n",
       "    }\n",
       "\n",
       "    .dataframe thead th {\n",
       "        text-align: right;\n",
       "    }\n",
       "</style>\n",
       "<table border=\"1\" class=\"dataframe\">\n",
       "  <thead>\n",
       "    <tr style=\"text-align: right;\">\n",
       "      <th></th>\n",
       "      <th>exact</th>\n",
       "      <th>same_reg_same_sev</th>\n",
       "      <th>same_reg_diff_sev</th>\n",
       "      <th>diff_reg_same_sev</th>\n",
       "      <th>diff_reg_diff_sev</th>\n",
       "      <th>unmatch_obs</th>\n",
       "      <th>unmatch_pred</th>\n",
       "    </tr>\n",
       "  </thead>\n",
       "  <tbody>\n",
       "    <tr>\n",
       "      <th>0</th>\n",
       "      <td>0.468812</td>\n",
       "      <td>0.322538</td>\n",
       "      <td>0.130115</td>\n",
       "      <td>0.021591</td>\n",
       "      <td>0.014261</td>\n",
       "      <td>0.042983</td>\n",
       "      <td>0.027256</td>\n",
       "    </tr>\n",
       "  </tbody>\n",
       "</table>\n",
       "</div>"
      ],
      "text/plain": [
       "      exact  same_reg_same_sev  same_reg_diff_sev  diff_reg_same_sev  \\\n",
       "0  0.468812           0.322538           0.130115           0.021591   \n",
       "\n",
       "   diff_reg_diff_sev  unmatch_obs  unmatch_pred  \n",
       "0           0.014261     0.042983      0.027256  "
      ]
     },
     "execution_count": 44,
     "metadata": {},
     "output_type": "execute_result"
    }
   ],
   "source": [
    "# total codes observed\n",
    "num_obs = sum(match_results_map.num_obs)\n",
    "\n",
    "# match categories\n",
    "match_cat_map = pd.DataFrame({'exact':[sum(match_results_map.exact)/num_obs], \\\n",
    "                          'same_reg_same_sev':[sum(match_results_map.same_reg_same_sev)/num_obs], \\\n",
    "                          'same_reg_diff_sev':[sum(match_results_map.same_reg_diff_sev)/num_obs], \\\n",
    "                          'diff_reg_same_sev':[sum(match_results_map.diff_reg_same_sev)/num_obs], \\\n",
    "                          'diff_reg_diff_sev':[sum(match_results_map.diff_reg_diff_sev)/num_obs], \\\n",
    "                          'unmatch_obs':[sum(match_results_map.unmatched_obs)/num_obs], \\\n",
    "                          'unmatch_pred':[sum(match_results_map.unmatched_pred)/num_obs]})\n",
    "\n",
    "match_cat_map"
   ]
  },
  {
   "cell_type": "code",
   "execution_count": 45,
   "metadata": {},
   "outputs": [
    {
     "data": {
      "image/png": "[encoded data removed]",
      "text/plain": [
       "<Figure size 432x288 with 1 Axes>"
      ]
     },
     "metadata": {
      "needs_background": "light"
     },
     "output_type": "display_data"
    }
   ],
   "source": [
    "match_cat_map.plot.barh().invert_yaxis()"
   ]
  },
  {
   "cell_type": "code",
   "execution_count": 46,
   "metadata": {},
   "outputs": [
    {
     "data": {
      "text/plain": [
       "(0.0, 0.75)"
      ]
     },
     "execution_count": 46,
     "metadata": {},
     "output_type": "execute_result"
    },
    {
     "data": {
      "image/png": "[encoded data removed]",
      "text/plain": [
       "<Figure size 432x288 with 1 Axes>"
      ]
     },
     "metadata": {
      "needs_background": "light"
     },
     "output_type": "display_data"
    }
   ],
   "source": [
    "ax = match_cat.plot.barh()\n",
    "ax.invert_yaxis()\n",
    "ax.set_xlim(0,0.75)"
   ]
  },
  {
   "cell_type": "code",
   "execution_count": 47,
   "metadata": {},
   "outputs": [
    {
     "data": {
      "text/plain": [
       "<AxesSubplot:>"
      ]
     },
     "execution_count": 47,
     "metadata": {},
     "output_type": "execute_result"
    },
    {
     "data": {
      "image/png": "[encoded data removed]",
      "text/plain": [
       "<Figure size 432x288 with 1 Axes>"
      ]
     },
     "metadata": {
      "needs_background": "light"
     },
     "output_type": "display_data"
    }
   ],
   "source": [
    "# total codes observed\n",
    "num_obs = sum(match_results_map.num_obs)\n",
    "\n",
    "# match categories\n",
    "match_cat_map = pd.DataFrame({'Good':[(sum(match_results_map.exact) + sum(match_results_map.same_reg_same_sev))/num_obs], \\\n",
    "                          'Maybe okay':[sum(match_results_map.same_reg_diff_sev)/num_obs], \\\n",
    "                          'Not great':[sum(match_results_map.diff_reg_same_sev)/num_obs], \\\n",
    "                          'Poor':[(sum(match_results_map.unmatched))/num_obs]})\n",
    "\n",
    "match_cat_map.plot.bar(ylim=(0,.85))"
   ]
  },
  {
   "cell_type": "code",
   "execution_count": null,
   "metadata": {},
   "outputs": [],
   "source": []
  }
 ],
 "metadata": {
  "kernelspec": {
   "display_name": "Python 3.8",
   "language": "python",
   "name": "python-3.8"
  },
  "language_info": {
   "codemirror_mode": {
    "name": "ipython",
    "version": 3
   },
   "file_extension": ".py",
   "mimetype": "text/x-python",
   "name": "python",
   "nbconvert_exporter": "python",
   "pygments_lexer": "ipython3",
   "version": "3.8.8"
  }
 },
 "nbformat": 4,
 "nbformat_minor": 4
}
