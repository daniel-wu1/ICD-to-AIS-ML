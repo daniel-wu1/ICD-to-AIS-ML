{
 "cells": [
  {
   "cell_type": "markdown",
   "metadata": {},
   "source": [
    "# Project: ICD-AIS conversion using Deep Learning\n",
    "\n",
    "This script checks the accuracy of AIS predictions in the testing data."
   ]
  },
  {
   "cell_type": "markdown",
   "metadata": {},
   "source": [
    "## Setup"
   ]
  },
  {
   "cell_type": "code",
   "execution_count": 1,
   "metadata": {},
   "outputs": [],
   "source": [
    "import numpy as np\n",
    "import pandas as pd\n",
    "import sqlite3\n",
    "import random\n",
    "import math"
   ]
  },
  {
   "cell_type": "markdown",
   "metadata": {},
   "source": [
    "## Parameters\n"
   ]
  },
  {
   "cell_type": "code",
   "execution_count": 2,
   "metadata": {},
   "outputs": [],
   "source": [
    "ais_pred_onmt_file = \"../Results/test_ais_pred_early_stop-agecat.csv\"\n",
    "ais_map_file = \"../Results/test_ais_pred_aaam_map.csv\"\n",
    "ais_obs_file = \"../Data/test_ais_agecat_I9_A05.csv\"\n",
    "icd_obs_file =\"../Data/test_icd_agecat_I9_A05.csv\"\n",
    "ais_codes_file = \"../Data/AIS08_codes.csv\""
   ]
  },
  {
   "cell_type": "markdown",
   "metadata": {},
   "source": [
    "## Load data and merge"
   ]
  },
  {
   "cell_type": "code",
   "execution_count": 3,
   "metadata": {},
   "outputs": [],
   "source": [
    "# load predictions\n",
    "ais_pred = pd.read_csv(ais_pred_onmt_file, header=None, skip_blank_lines=False,names=[\"AIS05CODE\"])"
   ]
  },
  {
   "cell_type": "code",
   "execution_count": 4,
   "metadata": {},
   "outputs": [],
   "source": [
    "# load mapped values\n",
    "ais_map = pd.read_csv(ais_map_file, header=None, skip_blank_lines=False, names=[\"AIS05CODE\"])"
   ]
  },
  {
   "cell_type": "code",
   "execution_count": 5,
   "metadata": {},
   "outputs": [],
   "source": [
    "# load observations\n",
    "ais_obs = pd.read_csv(ais_obs_file, header=None, names=[\"AIS05CODE\"])"
   ]
  },
  {
   "cell_type": "code",
   "execution_count": 6,
   "metadata": {},
   "outputs": [],
   "source": [
    "# load predictions\n",
    "test_res = pd.read_csv(icd_obs_file, header=None, names=[\"ICD9CODE\"])"
   ]
  },
  {
   "cell_type": "code",
   "execution_count": 7,
   "metadata": {},
   "outputs": [],
   "source": [
    "# merge data\n",
    "test_res['AIS_obs'] = ais_obs.AIS05CODE\n",
    "test_res['AIS_pred'] = ais_pred.AIS05CODE\n",
    "test_res['AIS_map'] = ais_map.AIS05CODE"
   ]
  },
  {
   "cell_type": "code",
   "execution_count": 8,
   "metadata": {},
   "outputs": [],
   "source": [
    "# load AIS codes\n",
    "ais_codes = pd.read_csv(ais_codes_file, header=0, encoding='iso-8859-1')\n",
    "\n",
    "# get predot code\n",
    "ais_codes['predot'] = ais_codes.code.apply(lambda x: math.floor(x))\n",
    "\n",
    "# make dictionary of codes\n",
    "ais_dot = pd.Series(ais_codes.code.values, index=ais_codes.predot).to_dict()\n",
    "ais_dot[0] = 0.0\n",
    "ais_dot[-1] = -1.0"
   ]
  },
  {
   "cell_type": "markdown",
   "metadata": {},
   "source": [
    "## Process AIS codes \n",
    "- Convert to list \n",
    "- Remove missing and unknown predicted values\n",
    "- Convert to numbers\n",
    "- Add post-dot to AIS"
   ]
  },
  {
   "cell_type": "code",
   "execution_count": 9,
   "metadata": {},
   "outputs": [],
   "source": [
    "# convert string to list\n",
    "test_res['AIS_obs'] = test_res.AIS_obs.str.split(\" \")\n",
    "test_res['AIS_pred'] = test_res.AIS_pred.str.split(\" \")"
   ]
  },
  {
   "cell_type": "code",
   "execution_count": 10,
   "metadata": {},
   "outputs": [],
   "source": [
    "# replace predicted NaN (no prediction for patient) with 0 \n",
    "test_res['AIS_pred'] = [ [\"0\"] if x is np.NaN else x for x in test_res['AIS_pred']]\n",
    "\n",
    "# replace <unk> (unknown code encountered) with -1\n",
    "test_res['AIS_pred'] = test_res.apply(lambda x: [\"-1\" if val==\"<unk>\" else val for val in x['AIS_pred']], axis=1)"
   ]
  },
  {
   "cell_type": "code",
   "execution_count": 11,
   "metadata": {},
   "outputs": [],
   "source": [
    "# convert to numbers\n",
    "test_res['AIS_obs'] = test_res.apply(lambda x: [int(val) for val in x['AIS_obs']], axis=1)\n",
    "test_res['AIS_pred'] = test_res.apply(lambda x: [int(val) for val in x['AIS_pred']], axis=1)"
   ]
  },
  {
   "cell_type": "code",
   "execution_count": 12,
   "metadata": {},
   "outputs": [
    {
     "name": "stderr",
     "output_type": "stream",
     "text": [
      "<ipython-input-12-4ec1ed9964c0>:2: FutureWarning: The default value of regex will change from True to False in a future version. In addition, single character regular expressions will *not* be treated as literal strings when regex=True.\n",
      "  test_res['AIS_map'] = test_res.AIS_map.str.replace('[','').str.replace(']','')\n"
     ]
    }
   ],
   "source": [
    "# convert map string to number\n",
    "test_res['AIS_map'] = test_res.AIS_map.str.replace('[','').str.replace(']','')\n",
    "test_res['AIS_map'] = test_res.apply(lambda x: [np.float64(val) for val in x['AIS_map'].split(\",\")], axis=1)"
   ]
  },
  {
   "cell_type": "code",
   "execution_count": 13,
   "metadata": {},
   "outputs": [],
   "source": [
    "# add post-dot code\n",
    "test_res['AIS_obs'] = test_res.apply(lambda x: [ais_dot[val] for val in x['AIS_obs']], axis=1)\n",
    "test_res['AIS_pred'] = test_res.apply(lambda x: [ais_dot[val] for val in x['AIS_pred']], axis=1)"
   ]
  },
  {
   "cell_type": "code",
   "execution_count": 14,
   "metadata": {},
   "outputs": [
    {
     "data": {
      "text/html": [
       "<div>\n",
       "<style scoped>\n",
       "    .dataframe tbody tr th:only-of-type {\n",
       "        vertical-align: middle;\n",
       "    }\n",
       "\n",
       "    .dataframe tbody tr th {\n",
       "        vertical-align: top;\n",
       "    }\n",
       "\n",
       "    .dataframe thead th {\n",
       "        text-align: right;\n",
       "    }\n",
       "</style>\n",
       "<table border=\"1\" class=\"dataframe\">\n",
       "  <thead>\n",
       "    <tr style=\"text-align: right;\">\n",
       "      <th></th>\n",
       "      <th>ICD9CODE</th>\n",
       "      <th>AIS_obs</th>\n",
       "      <th>AIS_pred</th>\n",
       "      <th>AIS_map</th>\n",
       "    </tr>\n",
       "  </thead>\n",
       "  <tbody>\n",
       "    <tr>\n",
       "      <th>0</th>\n",
       "      <td>A70_79 E880.9 P87.03 P87.44 D850.0</td>\n",
       "      <td>[161001.1]</td>\n",
       "      <td>[161001.1]</td>\n",
       "      <td>[110000.1]</td>\n",
       "    </tr>\n",
       "    <tr>\n",
       "      <th>1</th>\n",
       "      <td>A50_59 E884.9 P-2 D805.2 D805.4 D807.03</td>\n",
       "      <td>[450203.3, 650416.2, 650630.2]</td>\n",
       "      <td>[450203.3, 650416.2, 650616.2]</td>\n",
       "      <td>[420000.3, 620000.2, 630000.2]</td>\n",
       "    </tr>\n",
       "    <tr>\n",
       "      <th>2</th>\n",
       "      <td>A60_69 E885.9 P79.35 P87.03 D820.21</td>\n",
       "      <td>[853151.3]</td>\n",
       "      <td>[853151.3]</td>\n",
       "      <td>[840000.3]</td>\n",
       "    </tr>\n",
       "    <tr>\n",
       "      <th>3</th>\n",
       "      <td>A50_59 E881.0 P88.01 P88.38 D805.4 D823.01 D82...</td>\n",
       "      <td>[650616.2, 854441.2, 857200.2]</td>\n",
       "      <td>[650620.2, 852004.2, 854471.2]</td>\n",
       "      <td>[630000.2, 840000.2, 840000.2]</td>\n",
       "    </tr>\n",
       "    <tr>\n",
       "      <th>4</th>\n",
       "      <td>A30_39 E986 P54.11 D879.4</td>\n",
       "      <td>[516000.1]</td>\n",
       "      <td>[516000.1]</td>\n",
       "      <td>[560000.1]</td>\n",
       "    </tr>\n",
       "    <tr>\n",
       "      <th>5</th>\n",
       "      <td>A20_29 E885.9 P87.03 P88.38 P96.04 P96.71 D801.22</td>\n",
       "      <td>[140651.3, 140694.2, 150200.3]</td>\n",
       "      <td>[140694.2, 150200.3]</td>\n",
       "      <td>[110000.3]</td>\n",
       "    </tr>\n",
       "    <tr>\n",
       "      <th>6</th>\n",
       "      <td>A60_69 E917.3 P79.31 D812.00</td>\n",
       "      <td>[751111.2]</td>\n",
       "      <td>[751111.2]</td>\n",
       "      <td>[740000.2]</td>\n",
       "    </tr>\n",
       "    <tr>\n",
       "      <th>7</th>\n",
       "      <td>A50_59 E885.3 P79.15 D820.22</td>\n",
       "      <td>[853111.3]</td>\n",
       "      <td>[853221.3]</td>\n",
       "      <td>[840000.3]</td>\n",
       "    </tr>\n",
       "    <tr>\n",
       "      <th>8</th>\n",
       "      <td>A80_89 E886.9 P87.03 P87.41 P88.01 P88.38 D852...</td>\n",
       "      <td>[110602.1, 140438.3]</td>\n",
       "      <td>[110600.1, 140650.3]</td>\n",
       "      <td>[110000.3, 160000.1]</td>\n",
       "    </tr>\n",
       "    <tr>\n",
       "      <th>9</th>\n",
       "      <td>A70_79 E816.0 P87.03 P87.04 P87.41 P88.01 P88....</td>\n",
       "      <td>[110604.2, 140694.2, 750961.2]</td>\n",
       "      <td>[110602.1, 140694.2, 750900.2]</td>\n",
       "      <td>[110000.2, 160000.1, 740000.2]</td>\n",
       "    </tr>\n",
       "    <tr>\n",
       "      <th>10</th>\n",
       "      <td>A80_89 E888.9 P87.03 D873.50</td>\n",
       "      <td>[210602.1]</td>\n",
       "      <td>[210600.1]</td>\n",
       "      <td>[260000.1]</td>\n",
       "    </tr>\n",
       "    <tr>\n",
       "      <th>11</th>\n",
       "      <td>A60_69 E820.0 P87.03 P87.41 P88.01 P88.38 D805...</td>\n",
       "      <td>[650616.2, 856100.2, 856151.2, 856200.2]</td>\n",
       "      <td>[650620.2, 856100.2, 856151.2, 856200.2]</td>\n",
       "      <td>[630000.2, 840000.2, 840000.2, 840000.2, 84000...</td>\n",
       "    </tr>\n",
       "    <tr>\n",
       "      <th>12</th>\n",
       "      <td>A60_69 E885.9 P-2 D873.0</td>\n",
       "      <td>[110600.1]</td>\n",
       "      <td>[110602.1]</td>\n",
       "      <td>[160000.1]</td>\n",
       "    </tr>\n",
       "    <tr>\n",
       "      <th>13</th>\n",
       "      <td>A30_39 E826.1 P-2 D802.29 D804.02 D879.8</td>\n",
       "      <td>[250808.3, 251213.2, 910600.1]</td>\n",
       "      <td>[250607.1, 250800.2, 910600.1]</td>\n",
       "      <td>[0.0, 250000.1, 960000.1]</td>\n",
       "    </tr>\n",
       "    <tr>\n",
       "      <th>14</th>\n",
       "      <td>A60_69 E812.0 P31.1 P34.04 P41.5 P43.11 P54.21...</td>\n",
       "      <td>[441402.3, 442200.3, 450212.3, 544228.5]</td>\n",
       "      <td>[441406.2, 442200.3, 450203.3, 544228.5]</td>\n",
       "      <td>[420000.3, 420000.3, 420000.3, 530000.5]</td>\n",
       "    </tr>\n",
       "  </tbody>\n",
       "</table>\n",
       "</div>"
      ],
      "text/plain": [
       "                                             ICD9CODE  \\\n",
       "0                  A70_79 E880.9 P87.03 P87.44 D850.0   \n",
       "1             A50_59 E884.9 P-2 D805.2 D805.4 D807.03   \n",
       "2                 A60_69 E885.9 P79.35 P87.03 D820.21   \n",
       "3   A50_59 E881.0 P88.01 P88.38 D805.4 D823.01 D82...   \n",
       "4                           A30_39 E986 P54.11 D879.4   \n",
       "5   A20_29 E885.9 P87.03 P88.38 P96.04 P96.71 D801.22   \n",
       "6                        A60_69 E917.3 P79.31 D812.00   \n",
       "7                        A50_59 E885.3 P79.15 D820.22   \n",
       "8   A80_89 E886.9 P87.03 P87.41 P88.01 P88.38 D852...   \n",
       "9   A70_79 E816.0 P87.03 P87.04 P87.41 P88.01 P88....   \n",
       "10                       A80_89 E888.9 P87.03 D873.50   \n",
       "11  A60_69 E820.0 P87.03 P87.41 P88.01 P88.38 D805...   \n",
       "12                           A60_69 E885.9 P-2 D873.0   \n",
       "13           A30_39 E826.1 P-2 D802.29 D804.02 D879.8   \n",
       "14  A60_69 E812.0 P31.1 P34.04 P41.5 P43.11 P54.21...   \n",
       "\n",
       "                                     AIS_obs  \\\n",
       "0                                 [161001.1]   \n",
       "1             [450203.3, 650416.2, 650630.2]   \n",
       "2                                 [853151.3]   \n",
       "3             [650616.2, 854441.2, 857200.2]   \n",
       "4                                 [516000.1]   \n",
       "5             [140651.3, 140694.2, 150200.3]   \n",
       "6                                 [751111.2]   \n",
       "7                                 [853111.3]   \n",
       "8                       [110602.1, 140438.3]   \n",
       "9             [110604.2, 140694.2, 750961.2]   \n",
       "10                                [210602.1]   \n",
       "11  [650616.2, 856100.2, 856151.2, 856200.2]   \n",
       "12                                [110600.1]   \n",
       "13            [250808.3, 251213.2, 910600.1]   \n",
       "14  [441402.3, 442200.3, 450212.3, 544228.5]   \n",
       "\n",
       "                                    AIS_pred  \\\n",
       "0                                 [161001.1]   \n",
       "1             [450203.3, 650416.2, 650616.2]   \n",
       "2                                 [853151.3]   \n",
       "3             [650620.2, 852004.2, 854471.2]   \n",
       "4                                 [516000.1]   \n",
       "5                       [140694.2, 150200.3]   \n",
       "6                                 [751111.2]   \n",
       "7                                 [853221.3]   \n",
       "8                       [110600.1, 140650.3]   \n",
       "9             [110602.1, 140694.2, 750900.2]   \n",
       "10                                [210600.1]   \n",
       "11  [650620.2, 856100.2, 856151.2, 856200.2]   \n",
       "12                                [110602.1]   \n",
       "13            [250607.1, 250800.2, 910600.1]   \n",
       "14  [441406.2, 442200.3, 450203.3, 544228.5]   \n",
       "\n",
       "                                              AIS_map  \n",
       "0                                          [110000.1]  \n",
       "1                      [420000.3, 620000.2, 630000.2]  \n",
       "2                                          [840000.3]  \n",
       "3                      [630000.2, 840000.2, 840000.2]  \n",
       "4                                          [560000.1]  \n",
       "5                                          [110000.3]  \n",
       "6                                          [740000.2]  \n",
       "7                                          [840000.3]  \n",
       "8                                [110000.3, 160000.1]  \n",
       "9                      [110000.2, 160000.1, 740000.2]  \n",
       "10                                         [260000.1]  \n",
       "11  [630000.2, 840000.2, 840000.2, 840000.2, 84000...  \n",
       "12                                         [160000.1]  \n",
       "13                          [0.0, 250000.1, 960000.1]  \n",
       "14           [420000.3, 420000.3, 420000.3, 530000.5]  "
      ]
     },
     "execution_count": 14,
     "metadata": {},
     "output_type": "execute_result"
    }
   ],
   "source": [
    "test_res.head(15)"
   ]
  },
  {
   "cell_type": "markdown",
   "metadata": {},
   "source": [
    "## Function to match AIS codes from two list\n",
    "This function will return the best estimate for matching two lists of AIS codes."
   ]
  },
  {
   "cell_type": "code",
   "execution_count": 15,
   "metadata": {},
   "outputs": [],
   "source": [
    "def match_ais(ais1, ais2):\n",
    "    '''\n",
    "    This function matches AIS codes from two lists with proximation.  The overarching concept\n",
    "    is to match codes based on 1) exact matches, 2) same body region-same severity, \n",
    "    3) same body region-different severity, 4) different body region-same severity, \n",
    "    5) remaining codes are paired in decreasing severity, 6) unmatched codes are then added.\n",
    "    \n",
    "    Parameters:\n",
    "        ais1 - list of AIS codes\n",
    "        ais2 - list of AIS codes\n",
    "    Returns:\n",
    "        Pandas dataframe with matched codes\n",
    "    '''\n",
    "    \n",
    "    # df for matches\n",
    "    matches = pd.DataFrame(columns={'codes1','code2'})\n",
    "    \n",
    "    # df for data\n",
    "    df1 = pd.DataFrame({'ais_code':ais1, 'curr_prec':ais1}).sort_values('ais_code')\n",
    "    df2 = pd.DataFrame({'ais_code':ais2, 'curr_prec':ais2}).sort_values('ais_code')\n",
    "\n",
    "    # determine body region\n",
    "    df1['region'] = np.floor(df1.ais_code/100000)\n",
    "    df2['region'] = np.floor(df2.ais_code/100000)\n",
    "    \n",
    "    # determine severity\n",
    "    df1['severity'] = np.round(df1.curr_prec%1 * 10)\n",
    "    df2['severity'] = np.round(df2.curr_prec%1 * 10)\n",
    "\n",
    "    # move severity to the 2nd MSD\n",
    "    df1['curr_prec'] = np.floor(df1.region * 1000000 + df1.severity * 100000 + df1.ais_code%100000)\n",
    "    df2['curr_prec'] = np.floor(df2.region * 1000000 + df2.severity * 100000 + df2.ais_code%100000)    \n",
    "    \n",
    "    # matching steps #1-3, loop through all digits\n",
    "    for digit in range(0,7):\n",
    "\n",
    "        # loop through ais1 codes\n",
    "        for i in range(0,len(df1)):\n",
    "\n",
    "            # loop through ais2 codes\n",
    "            for j in range(0,len(df2)):\n",
    "\n",
    "                # check for match\n",
    "                if df1.curr_prec[i] == df2.curr_prec[j]:\n",
    "\n",
    "                    # match found, add to match list\n",
    "                    matches = matches.append({'code1':df1.ais_code[i], 'code2':df2.ais_code[j]}, ignore_index=True)\n",
    "\n",
    "                    # remove rows with matched codes from dfs\n",
    "                    df1 = df1.drop(index=i, axis=1)\n",
    "                    df2 = df2.drop(index=j, axis=1).reset_index(drop=True)\n",
    "\n",
    "                    # stop searching for code\n",
    "                    break\n",
    "\n",
    "        # decrease precision, on first loop this removes severity\n",
    "        df1['curr_prec'] = np.floor(df1.curr_prec/10)\n",
    "        df2['curr_prec'] = np.floor(df2.curr_prec/10)\n",
    "\n",
    "        # reset index for list1\n",
    "        df1 = df1.reset_index(drop=True) \n",
    "\n",
    "    # matching step #4 - find same severity in different body regions    \n",
    "        \n",
    "    # assign severity to current precision\n",
    "    df1['curr_prec'] = df1.severity\n",
    "    df2['curr_prec'] = df2.severity\n",
    "    \n",
    "    # sort based on codes\n",
    "    df1 = df1.sort_values('ais_code').reset_index(drop=True)\n",
    "    df2 = df2.sort_values('ais_code').reset_index(drop=True)\n",
    "    \n",
    "    #loop through all unmatched codes in list 1\n",
    "    for i in range(0,len(df1)):\n",
    "        \n",
    "        # loop through unmatched codes in list 2\n",
    "        for j in range(0,len(df2)):\n",
    "                \n",
    "            # check for match\n",
    "            if df1.curr_prec[i] == df2.curr_prec[j]:\n",
    "\n",
    "                # match found, add to match list\n",
    "                matches = matches.append({'code1':df1.ais_code[i], 'code2':df2.ais_code[j]}, ignore_index=True)\n",
    "\n",
    "                # remove rows with matched codes from dfs\n",
    "                df1 = df1.drop(index=i, axis=1)\n",
    "                df2 = df2.drop(index=j, axis=1).reset_index(drop=True)\n",
    "\n",
    "                # stop searching for code\n",
    "                break\n",
    "                \n",
    "    # matching step #5-6, sequentially assign unmatched codes from based on decreasing AIS severity\n",
    "\n",
    "    # arrange in decreasing severity\n",
    "    df1 = df1.sort_values('curr_prec', ascending=False).reset_index(drop=True)\n",
    "    df2 = df2.sort_values('curr_prec', ascending=False).reset_index(drop=True)\n",
    "  \n",
    "    #loop through all unmatched codes in list 1\n",
    "    for i in range(0,len(df1)):\n",
    "\n",
    "        # check if list 2 still has any numbers\n",
    "        if len(df2) > 0:\n",
    "\n",
    "            # add to match list\n",
    "            matches = matches.append({'code1':df1.ais_code[i], 'code2':df2.ais_code[0]}, ignore_index=True)\n",
    "\n",
    "            # remove rows with matched codes from df\n",
    "            df2 = df2.drop(index=0, axis=1).reset_index(drop=True)\n",
    "\n",
    "        # else no more codes in list 2\n",
    "        else:\n",
    "\n",
    "            # add to match list\n",
    "            matches = matches.append({'code1':df1.ais_code[i], 'code2':None}, ignore_index=True)\n",
    "\n",
    "        # remove code from list 1\n",
    "        df1 = df1.drop(index=i, axis=1)\n",
    "\n",
    "    # assign unmatched to any remaining codes list 2\n",
    "    for j in range(0,len(df2)):\n",
    "\n",
    "        # add to match list\n",
    "        matches = matches.append({'code1':None, 'code2':df2.ais_code[j]}, ignore_index=True)\n",
    "        \n",
    "    # remove values that are undefined\n",
    "    matches['code1'] = matches.code1.apply(lambda x: None if x<=0 else x)\n",
    "    matches['code2'] = matches.code2.apply(lambda x: None if x<=0 else x)\n",
    "\n",
    "    # arrange by decrease AIS severity\n",
    "    matches['severity1'] = matches.code1%1\n",
    "    matches = matches.sort_values('code1').sort_values('severity1',ascending=False)[['code1','code2']].reset_index(drop=True)\n",
    "\n",
    "    return matches"
   ]
  },
  {
   "cell_type": "code",
   "execution_count": 16,
   "metadata": {},
   "outputs": [
    {
     "name": "stdout",
     "output_type": "stream",
     "text": [
      "Codes1:  [210602.1, 251002.2, 441406.2, 450201.1, 650222.2]\n",
      "Codes2:  [210600.1, 251002.2, 441402.3, 450201.1, 650220.2]\n"
     ]
    },
    {
     "data": {
      "text/html": [
       "<div>\n",
       "<style scoped>\n",
       "    .dataframe tbody tr th:only-of-type {\n",
       "        vertical-align: middle;\n",
       "    }\n",
       "\n",
       "    .dataframe tbody tr th {\n",
       "        vertical-align: top;\n",
       "    }\n",
       "\n",
       "    .dataframe thead th {\n",
       "        text-align: right;\n",
       "    }\n",
       "</style>\n",
       "<table border=\"1\" class=\"dataframe\">\n",
       "  <thead>\n",
       "    <tr style=\"text-align: right;\">\n",
       "      <th></th>\n",
       "      <th>code1</th>\n",
       "      <th>code2</th>\n",
       "    </tr>\n",
       "  </thead>\n",
       "  <tbody>\n",
       "    <tr>\n",
       "      <th>0</th>\n",
       "      <td>251002.2</td>\n",
       "      <td>251002.2</td>\n",
       "    </tr>\n",
       "    <tr>\n",
       "      <th>1</th>\n",
       "      <td>441406.2</td>\n",
       "      <td>441402.3</td>\n",
       "    </tr>\n",
       "    <tr>\n",
       "      <th>2</th>\n",
       "      <td>650222.2</td>\n",
       "      <td>650220.2</td>\n",
       "    </tr>\n",
       "    <tr>\n",
       "      <th>3</th>\n",
       "      <td>210602.1</td>\n",
       "      <td>210600.1</td>\n",
       "    </tr>\n",
       "    <tr>\n",
       "      <th>4</th>\n",
       "      <td>450201.1</td>\n",
       "      <td>450201.1</td>\n",
       "    </tr>\n",
       "  </tbody>\n",
       "</table>\n",
       "</div>"
      ],
      "text/plain": [
       "      code1     code2\n",
       "0  251002.2  251002.2\n",
       "1  441406.2  441402.3\n",
       "2  650222.2  650220.2\n",
       "3  210602.1  210600.1\n",
       "4  450201.1  450201.1"
      ]
     },
     "execution_count": 16,
     "metadata": {},
     "output_type": "execute_result"
    }
   ],
   "source": [
    "i = 17\n",
    "print(\"Codes1: \", test_res.AIS_obs[i])\n",
    "print(\"Codes2: \", test_res.AIS_pred[i])\n",
    "\n",
    "match_ais(test_res.AIS_obs[i],test_res.AIS_pred[i])"
   ]
  },
  {
   "cell_type": "code",
   "execution_count": 17,
   "metadata": {},
   "outputs": [
    {
     "name": "stdout",
     "output_type": "stream",
     "text": [
      "Codes1:  [650616.2, 856100.2, 856151.2, 856200.2]\n",
      "Codes2:  [630000.2, 840000.2, 840000.2, 840000.2, 840000.3]\n"
     ]
    },
    {
     "data": {
      "text/html": [
       "<div>\n",
       "<style scoped>\n",
       "    .dataframe tbody tr th:only-of-type {\n",
       "        vertical-align: middle;\n",
       "    }\n",
       "\n",
       "    .dataframe tbody tr th {\n",
       "        vertical-align: top;\n",
       "    }\n",
       "\n",
       "    .dataframe thead th {\n",
       "        text-align: right;\n",
       "    }\n",
       "</style>\n",
       "<table border=\"1\" class=\"dataframe\">\n",
       "  <thead>\n",
       "    <tr style=\"text-align: right;\">\n",
       "      <th></th>\n",
       "      <th>code1</th>\n",
       "      <th>code2</th>\n",
       "    </tr>\n",
       "  </thead>\n",
       "  <tbody>\n",
       "    <tr>\n",
       "      <th>0</th>\n",
       "      <td>650616.2</td>\n",
       "      <td>630000.2</td>\n",
       "    </tr>\n",
       "    <tr>\n",
       "      <th>1</th>\n",
       "      <td>856100.2</td>\n",
       "      <td>840000.2</td>\n",
       "    </tr>\n",
       "    <tr>\n",
       "      <th>2</th>\n",
       "      <td>856151.2</td>\n",
       "      <td>840000.2</td>\n",
       "    </tr>\n",
       "    <tr>\n",
       "      <th>3</th>\n",
       "      <td>856200.2</td>\n",
       "      <td>840000.2</td>\n",
       "    </tr>\n",
       "    <tr>\n",
       "      <th>4</th>\n",
       "      <td>NaN</td>\n",
       "      <td>840000.3</td>\n",
       "    </tr>\n",
       "  </tbody>\n",
       "</table>\n",
       "</div>"
      ],
      "text/plain": [
       "      code1     code2\n",
       "0  650616.2  630000.2\n",
       "1  856100.2  840000.2\n",
       "2  856151.2  840000.2\n",
       "3  856200.2  840000.2\n",
       "4       NaN  840000.3"
      ]
     },
     "execution_count": 17,
     "metadata": {},
     "output_type": "execute_result"
    }
   ],
   "source": [
    "i = 11\n",
    "print(\"Codes1: \", test_res.AIS_obs[i])\n",
    "print(\"Codes2: \", test_res.AIS_map[i])\n",
    "\n",
    "match_ais(test_res.AIS_obs[i],test_res.AIS_map[i])"
   ]
  },
  {
   "cell_type": "markdown",
   "metadata": {},
   "source": [
    "## Function to calculate ISS"
   ]
  },
  {
   "cell_type": "code",
   "execution_count": 18,
   "metadata": {},
   "outputs": [],
   "source": [
    "def calc_ISS(codes_list, NISS=False, mapped_codes=False):\n",
    "    '''\n",
    "    This function accepts a list of AIS codes and returns the ISS.  This is based\n",
    "    on the six body regions method.\n",
    "    \n",
    "    Parameters:\n",
    "        ais_codes - list of AIS codes\n",
    "        NISS - True if the new injury severity score method should be used\n",
    "        \n",
    "    Returns:\n",
    "        ISS or NISS\n",
    "    '''\n",
    "    \n",
    "    # dataframe for code and region info\n",
    "    codes_df = pd.DataFrame(codes_list, columns=['code'])\n",
    "    \n",
    "    # add region to codes\n",
    "    if mapped_codes == False:\n",
    "        codes_df = codes_df.merge(ais_codes[['code','region']], how='left', on='code')\n",
    "    else:\n",
    "        codes_df['region'] = ((codes_df.code/10000)%10).astype(int)\n",
    "    \n",
    "    # get severity and severity squared\n",
    "    codes_df['severity'] = ((codes_df.code*10)%10).astype(int)\n",
    "    codes_df['severity_sq'] = np.square(codes_df.severity)\n",
    "       \n",
    "    # check if any severity is 9, then unknown\n",
    "    if (codes_df.severity==9).any():\n",
    "        # IS is unknown\n",
    "        IS = np.nan\n",
    "\n",
    "    # else check if any severity is 6, then automatic 75\n",
    "    elif (codes_df.severity==9).any():\n",
    "        # IS is max (75)\n",
    "        IS = 75\n",
    "        \n",
    "    # calculate injury severity\n",
    "    else:\n",
    "        # check if using NISS, highest severity in any region\n",
    "        if NISS:\n",
    "            # get 3 highest severity codes\n",
    "            codes_df = codes_df.sort_values('severity', ascending=False).reset_index(drop=True).head(3)\n",
    "\n",
    "            # calculate injury severity\n",
    "            IS = sum(codes_df.severity_sq)\n",
    "            \n",
    "        # else using ISS, highest severity in different body regions\n",
    "        else:\n",
    "            # get highest severity codes in different body regions\n",
    "            codes_df = codes_df.sort_values('severity', ascending=False).groupby('region').head(1).reset_index(drop=True)\n",
    "            \n",
    "            # get 3 highest severity codes\n",
    "            codes_df = codes_df.sort_values('severity', ascending=False).reset_index(drop=True).head(3)\n",
    "            \n",
    "            # calculate injury severity\n",
    "            IS = sum(codes_df.severity_sq)\n",
    "        \n",
    "    return IS"
   ]
  },
  {
   "cell_type": "markdown",
   "metadata": {},
   "source": [
    "## Function to evaluate matches"
   ]
  },
  {
   "cell_type": "code",
   "execution_count": 19,
   "metadata": {},
   "outputs": [],
   "source": [
    "def eval_matches(codes_df):\n",
    "    '''\n",
    "    This function determines the level of match  between paired\n",
    "    lists of AIS codes.  \n",
    "\n",
    "    Parameter:\n",
    "        codes_df - dataframe with matched list of AIS codes, two columns of AIS codes\n",
    "        \n",
    "    Returns:\n",
    "        Dataframe with match level added as one-hot encoding.  The levels are:\n",
    "            exact - number of exact matches\n",
    "            same_reg_same_sev - same body region, same severity, but not exact match\n",
    "            same_reg_diff_sev - same body region, different severity \n",
    "            diff_reg_same_sev - same body region, different severity \n",
    "            diff_reg_diff_sev - different body region, different severity, but matched\n",
    "            unmatched_obs - number of unmatched observed codes\n",
    "            unmatched_pred - number of unmatched predicted codes\n",
    "    '''\n",
    "    \n",
    "    # make sure column names are correct\n",
    "    codes_df = codes_df.rename(columns={codes_df.columns[0]:'obs',codes_df.columns[1]:'pred'})\n",
    "    \n",
    "    # fill in NaN with 0\n",
    "    codes_df = codes_df.fillna(0)\n",
    "    \n",
    "    # add region to codes\n",
    "    codes_df['reg_obs'] = np.floor(codes_df.obs/100000).astype(int)\n",
    "    codes_df['reg_pred'] = np.floor(codes_df.pred/100000).astype(int)\n",
    "    \n",
    "    # get severity and severity squared\n",
    "    codes_df['sev_obs'] = ((codes_df.obs*10)%10).astype(int)\n",
    "    codes_df['sev_pred'] = ((codes_df.pred*10)%10).astype(int)\n",
    "    \n",
    "    # evaluate for exact matches\n",
    "    codes_df['exact'] = codes_df.apply(lambda x: 1 if x['obs']==x['pred'] else 0, axis=1)\n",
    "    \n",
    "    # evaluate for same region, same severity, but not exact match\n",
    "    codes_df['same_reg_same_sev'] = codes_df.apply(lambda x: 1 if ((x['exact']==0) & \\\n",
    "                                                                   (x['reg_obs']==x['reg_pred']) & \\\n",
    "                                                                   (x['sev_obs']==x['sev_pred'])) else 0, axis=1)\n",
    "    \n",
    "    # evaluate for same region, different severity\n",
    "    codes_df['same_reg_diff_sev'] = codes_df.apply(lambda x: 1 if ((x['reg_obs']==x['reg_pred']) & \\\n",
    "                                                                   (x['sev_obs']!=x['sev_pred'])) else 0, axis=1)\n",
    "    \n",
    "    # evaluate for different region, same severity\n",
    "    codes_df['diff_reg_same_sev'] = codes_df.apply(lambda x: 1 if ((x['reg_obs']!=x['reg_pred']) & \\\n",
    "                                                                   (x['sev_obs']==x['sev_pred'])) else 0, axis=1)\n",
    "    \n",
    "    # evaluate for different region, different severity, but not completely unmatched\n",
    "    codes_df['diff_reg_diff_sev'] = codes_df.apply(lambda x: 1 if ((x['reg_obs']!=x['reg_pred']) & \\\n",
    "                                                                   (x['sev_obs']!=x['sev_pred']) & \\\n",
    "                                                                   (x['obs']!=0) & (x['pred']!=0)) else 0, axis=1)\n",
    "    \n",
    "    # evaluate for unmatched codes\n",
    "    codes_df['unmatched_obs'] = codes_df.apply(lambda x: 1 if x['pred']==0 else 0, axis=1)    \n",
    "    codes_df['unmatched_pred'] = codes_df.apply(lambda x: 1 if x['obs']==0 else 0, axis=1) \n",
    "        \n",
    "    return codes_df"
   ]
  },
  {
   "cell_type": "markdown",
   "metadata": {},
   "source": [
    "## Function to calculate stats on matches"
   ]
  },
  {
   "cell_type": "code",
   "execution_count": 20,
   "metadata": {},
   "outputs": [],
   "source": [
    "def match_stats(codes_df, mapped_codes=False):\n",
    "    '''\n",
    "    This function calculates stats of matched lists of AIS codes.  \n",
    "        \n",
    "    Parameter:\n",
    "        codes_df - dataframe with matched list of AIS codes, two columns ('obs' and 'pred')\n",
    "        \n",
    "    Returns:\n",
    "        dataframe with results on one row.  These stats include:\n",
    "            num_obs - number of observed injuries\n",
    "            num_pred - number of predicted injuries\n",
    "            mais_obs - maximum AIS severity observed\n",
    "            main_pred - maximum AIS severity predicted\n",
    "            ISS_obs - observed ISS\n",
    "            ISS_pred - predicted ISS\n",
    "            exact - number of exact matches\n",
    "            same_reg_same_sev - number of codes in same body region, same severity, but not exact match\n",
    "            same_reg_diff_sev - number of codes in same body region, different severity \n",
    "            diff_reg_same_sev - number of codes in same body region, different severity \n",
    "            unmatched_obs - number of unmatched observed codes\n",
    "            unmatched_pred - number of unmatched predicted codes\n",
    "    '''\n",
    "         \n",
    "    # evaluate matches\n",
    "    codes_df = eval_matches(codes_df)\n",
    "    \n",
    "    #display(codes_df)\n",
    "    \n",
    "    # get non-zero codes\n",
    "    codes_obs = codes_df[codes_df.obs!=0]['obs'].values\n",
    "    codes_pred = codes_df[codes_df.pred!=0]['pred'].values\n",
    "    \n",
    "    # create df for results and populate with number of codes\n",
    "    results = pd.DataFrame({'num_obs':[len(codes_obs)], 'num_pred':[len(codes_pred)]})\n",
    "    \n",
    "    #print(codes_obs)\n",
    "    \n",
    "    # calculate ISS\n",
    "    results['iss_obs'] = calc_ISS(codes_obs, mapped_codes)\n",
    "    results['iss_pred'] = calc_ISS(codes_pred, mapped_codes)\n",
    "    results['iss_equal'] = [1 if results.iss_obs[0] == results.iss_pred[0] else 0]\n",
    "    results['iss_16_equal'] = [1 if (results.iss_obs[0]>=16) == (results.iss_pred[0]>=16) else 0]\n",
    "    \n",
    "    # determine MAIS\n",
    "    results['mais_obs'] = max(codes_df.sev_obs)\n",
    "    results['mais_pred'] = max(codes_df.sev_pred)\n",
    "    results['mais_equal'] = [1 if results.mais_obs[0] == results.mais_pred[0] else 0]\n",
    "    results['mais_3_equal'] = [1 if (results.mais_obs[0]>=3) == (results.mais_pred[0]>=3) else 0]\n",
    "    \n",
    "    # count types of matches\n",
    "    results['exact'] = sum(codes_df.exact)\n",
    "    results['same_reg_same_sev'] = sum(codes_df.same_reg_same_sev)\n",
    "    results['same_reg_diff_sev'] = sum(codes_df.same_reg_diff_sev)\n",
    "    results['diff_reg_same_sev'] = sum(codes_df.diff_reg_same_sev)\n",
    "    results['diff_reg_diff_sev'] = sum(codes_df.diff_reg_diff_sev)\n",
    "    results['unmatched_obs'] = sum(codes_df.unmatched_obs)\n",
    "    results['unmatched_pred'] = sum(codes_df.unmatched_pred)\n",
    "    \n",
    "    # calculate total unmatched (either obs or pred, and different region/different severity)\n",
    "    results['unmatched'] = results.diff_reg_diff_sev[0] + results.unmatched_obs[0] + results.unmatched_pred[0] \n",
    "    \n",
    "    return results"
   ]
  },
  {
   "cell_type": "markdown",
   "metadata": {},
   "source": [
    "## Evaluate predictions"
   ]
  },
  {
   "cell_type": "code",
   "execution_count": 21,
   "metadata": {},
   "outputs": [
    {
     "name": "stdout",
     "output_type": "stream",
     "text": [
      "CPU times: user 8min 32s, sys: 286 ms, total: 8min 33s\n",
      "Wall time: 8min 32s\n"
     ]
    }
   ],
   "source": [
    "%%time\n",
    "sample_res = test_res.head(10000)\n",
    "\n",
    "# loop through all results\n",
    "for i in range(0,len(sample_res)):\n",
    "    \n",
    "    # match up lists of AIS codes\n",
    "    matches = match_ais(sample_res.AIS_obs[i], sample_res.AIS_pred[i])\n",
    "    \n",
    "    # check if first iteration\n",
    "    if i==0:\n",
    "        # create dataframe for results\n",
    "        match_results = match_stats(matches)\n",
    "        \n",
    "    else:\n",
    "        # append results to dataframe\n",
    "        match_results = match_results.append(match_stats(matches), ignore_index=True)\n",
    "        \n",
    "match_results = sample_res.join(match_results)"
   ]
  },
  {
   "cell_type": "code",
   "execution_count": 22,
   "metadata": {},
   "outputs": [
    {
     "name": "stdout",
     "output_type": "stream",
     "text": [
      "num_obs     3.0012\n",
      "num_pred    2.9226\n",
      "dtype: float64\n"
     ]
    },
    {
     "data": {
      "text/plain": [
       "<AxesSubplot:>"
      ]
     },
     "execution_count": 22,
     "metadata": {},
     "output_type": "execute_result"
    },
    {
     "data": {
      "image/png": "[encoded data removed]",
      "text/plain": [
       "<Figure size 432x288 with 1 Axes>"
      ]
     },
     "metadata": {
      "needs_background": "light"
     },
     "output_type": "display_data"
    }
   ],
   "source": [
    "# mean number of injuries per patient\n",
    "print(match_results[['num_obs','num_pred']].mean())\n",
    "match_results[['num_obs','num_pred']].mean().plot.bar()"
   ]
  },
  {
   "cell_type": "code",
   "execution_count": 23,
   "metadata": {},
   "outputs": [
    {
     "name": "stdout",
     "output_type": "stream",
     "text": [
      "ISS equal: 0.7398\n",
      "ISS >=16 equal: 0.9164\n"
     ]
    }
   ],
   "source": [
    "# ISS results\n",
    "print(\"ISS equal:\", match_results.iss_equal.mean())\n",
    "print(\"ISS >=16 equal:\", match_results.iss_16_equal.mean())"
   ]
  },
  {
   "cell_type": "code",
   "execution_count": 24,
   "metadata": {},
   "outputs": [
    {
     "name": "stdout",
     "output_type": "stream",
     "text": [
      "ISS>=16 underpredicted: 0.7344497607655502\n"
     ]
    }
   ],
   "source": [
    "iss_16_mismatch = match_results[match_results.iss_16_equal==0]\n",
    "print(\"ISS>=16 underpredicted:\", len(iss_16_mismatch[iss_16_mismatch.iss_obs>iss_16_mismatch.iss_pred])/len(iss_16_mismatch))"
   ]
  },
  {
   "cell_type": "code",
   "execution_count": 25,
   "metadata": {},
   "outputs": [
    {
     "name": "stdout",
     "output_type": "stream",
     "text": [
      "iss_obs     8.883721\n",
      "iss_pred    8.150855\n",
      "dtype: float64\n"
     ]
    },
    {
     "data": {
      "text/plain": [
       "<AxesSubplot:>"
      ]
     },
     "execution_count": 25,
     "metadata": {},
     "output_type": "execute_result"
    },
    {
     "data": {
      "image/png": "[encoded data removed]",
      "text/plain": [
       "<Figure size 432x288 with 1 Axes>"
      ]
     },
     "metadata": {
      "needs_background": "light"
     },
     "output_type": "display_data"
    }
   ],
   "source": [
    "# mean ISS\n",
    "print(match_results[['iss_obs','iss_pred']].mean())\n",
    "match_results[['iss_obs','iss_pred']].mean().plot.bar()"
   ]
  },
  {
   "cell_type": "code",
   "execution_count": 26,
   "metadata": {},
   "outputs": [
    {
     "name": "stdout",
     "output_type": "stream",
     "text": [
      "MAIS equal: 0.791\n",
      "MAIS >=3 equal: 0.9135\n"
     ]
    }
   ],
   "source": [
    "# MAIS results\n",
    "print(\"MAIS equal:\", match_results.mais_equal.mean())\n",
    "print(\"MAIS >=3 equal:\", match_results.mais_3_equal.mean())"
   ]
  },
  {
   "cell_type": "code",
   "execution_count": 27,
   "metadata": {},
   "outputs": [
    {
     "name": "stdout",
     "output_type": "stream",
     "text": [
      "MAIS>=3 underpredicted: 0.5526011560693641\n"
     ]
    }
   ],
   "source": [
    "mais_3_mismatch = match_results[match_results.mais_3_equal==0]\n",
    "print(\"MAIS>=3 underpredicted:\", len(mais_3_mismatch[mais_3_mismatch.mais_obs>mais_3_mismatch.mais_pred])/len(mais_3_mismatch))"
   ]
  },
  {
   "cell_type": "code",
   "execution_count": 28,
   "metadata": {},
   "outputs": [
    {
     "name": "stdout",
     "output_type": "stream",
     "text": [
      "mais_obs     2.5467\n",
      "mais_pred    2.4779\n",
      "dtype: float64\n"
     ]
    },
    {
     "data": {
      "text/plain": [
       "<AxesSubplot:>"
      ]
     },
     "execution_count": 28,
     "metadata": {},
     "output_type": "execute_result"
    },
    {
     "data": {
      "image/png": "[encoded data removed]",
      "text/plain": [
       "<Figure size 432x288 with 1 Axes>"
      ]
     },
     "metadata": {
      "needs_background": "light"
     },
     "output_type": "display_data"
    }
   ],
   "source": [
    "# mean MAIS\n",
    "print(match_results[['mais_obs','mais_pred']].mean())\n",
    "match_results[['mais_obs','mais_pred']].mean().plot.bar()"
   ]
  },
  {
   "cell_type": "code",
   "execution_count": 29,
   "metadata": {},
   "outputs": [
    {
     "data": {
      "text/html": [
       "<div>\n",
       "<style scoped>\n",
       "    .dataframe tbody tr th:only-of-type {\n",
       "        vertical-align: middle;\n",
       "    }\n",
       "\n",
       "    .dataframe tbody tr th {\n",
       "        vertical-align: top;\n",
       "    }\n",
       "\n",
       "    .dataframe thead th {\n",
       "        text-align: right;\n",
       "    }\n",
       "</style>\n",
       "<table border=\"1\" class=\"dataframe\">\n",
       "  <thead>\n",
       "    <tr style=\"text-align: right;\">\n",
       "      <th></th>\n",
       "      <th>exact</th>\n",
       "      <th>same_reg_same_sev</th>\n",
       "      <th>same_reg_diff_sev</th>\n",
       "      <th>diff_reg_same_sev</th>\n",
       "      <th>diff_reg_diff_sev</th>\n",
       "      <th>unmatch_obs</th>\n",
       "      <th>unmatch_pred</th>\n",
       "    </tr>\n",
       "  </thead>\n",
       "  <tbody>\n",
       "    <tr>\n",
       "      <th>0</th>\n",
       "      <td>0.527856</td>\n",
       "      <td>0.284553</td>\n",
       "      <td>0.117753</td>\n",
       "      <td>0.019925</td>\n",
       "      <td>0.006764</td>\n",
       "      <td>0.043249</td>\n",
       "      <td>0.01706</td>\n",
       "    </tr>\n",
       "  </tbody>\n",
       "</table>\n",
       "</div>"
      ],
      "text/plain": [
       "      exact  same_reg_same_sev  same_reg_diff_sev  diff_reg_same_sev  \\\n",
       "0  0.527856           0.284553           0.117753           0.019925   \n",
       "\n",
       "   diff_reg_diff_sev  unmatch_obs  unmatch_pred  \n",
       "0           0.006764     0.043249       0.01706  "
      ]
     },
     "execution_count": 29,
     "metadata": {},
     "output_type": "execute_result"
    }
   ],
   "source": [
    "# total codes observed\n",
    "num_obs = sum(match_results.num_obs)\n",
    "\n",
    "# match categories\n",
    "match_cat = pd.DataFrame({'exact':[sum(match_results.exact)/num_obs], \\\n",
    "                          'same_reg_same_sev':[sum(match_results.same_reg_same_sev)/num_obs], \\\n",
    "                          'same_reg_diff_sev':[sum(match_results.same_reg_diff_sev)/num_obs], \\\n",
    "                          'diff_reg_same_sev':[sum(match_results.diff_reg_same_sev)/num_obs], \\\n",
    "                          'diff_reg_diff_sev':[sum(match_results.diff_reg_diff_sev)/num_obs], \\\n",
    "                          'unmatch_obs':[sum(match_results.unmatched_obs)/num_obs], \\\n",
    "                          'unmatch_pred':[sum(match_results.unmatched_pred)/num_obs]})\n",
    "\n",
    "match_cat"
   ]
  },
  {
   "cell_type": "code",
   "execution_count": 30,
   "metadata": {},
   "outputs": [
    {
     "data": {
      "image/png": "[encoded data removed]",
      "text/plain": [
       "<Figure size 432x288 with 1 Axes>"
      ]
     },
     "metadata": {
      "needs_background": "light"
     },
     "output_type": "display_data"
    }
   ],
   "source": [
    "match_cat.plot.barh().invert_yaxis()"
   ]
  },
  {
   "cell_type": "code",
   "execution_count": 31,
   "metadata": {},
   "outputs": [
    {
     "data": {
      "text/plain": [
       "(0.0, 0.75)"
      ]
     },
     "execution_count": 31,
     "metadata": {},
     "output_type": "execute_result"
    },
    {
     "data": {
      "image/png": "[encoded data removed]",
      "text/plain": [
       "<Figure size 432x288 with 1 Axes>"
      ]
     },
     "metadata": {
      "needs_background": "light"
     },
     "output_type": "display_data"
    }
   ],
   "source": [
    "ax = match_cat.plot.barh()\n",
    "ax.invert_yaxis()\n",
    "ax.set_xlim(0,0.75)"
   ]
  },
  {
   "cell_type": "code",
   "execution_count": 32,
   "metadata": {},
   "outputs": [
    {
     "data": {
      "text/plain": [
       "<AxesSubplot:>"
      ]
     },
     "execution_count": 32,
     "metadata": {},
     "output_type": "execute_result"
    },
    {
     "data": {
      "image/png": "[encoded data removed]",
      "text/plain": [
       "<Figure size 432x288 with 1 Axes>"
      ]
     },
     "metadata": {
      "needs_background": "light"
     },
     "output_type": "display_data"
    }
   ],
   "source": [
    "# total codes observed\n",
    "num_obs = sum(match_results.num_obs)\n",
    "\n",
    "# match categories\n",
    "match_cat = pd.DataFrame({'Good':[(sum(match_results.exact) + sum(match_results.same_reg_same_sev))/num_obs], \\\n",
    "                          'Maybe okay':[sum(match_results.same_reg_diff_sev)/num_obs], \\\n",
    "                          'Not great':[sum(match_results.diff_reg_same_sev)/num_obs], \\\n",
    "                          'Poor':[(sum(match_results.unmatched))/num_obs]})\n",
    "\n",
    "match_cat.plot.bar()"
   ]
  },
  {
   "cell_type": "code",
   "execution_count": 33,
   "metadata": {},
   "outputs": [
    {
     "name": "stdout",
     "output_type": "stream",
     "text": [
      "Number unknown: 88\n",
      "Percent unknown 0.00071910699985291\n"
     ]
    }
   ],
   "source": [
    "# number of unknown codes\n",
    "num_unk = len(ais_pred[ais_pred.AIS05CODE.fillna('0').str.contains('<unk>')])\n",
    "print(\"Number unknown:\", num_unk)\n",
    "print(\"Percent unknown\", num_unk/len(ais_pred))"
   ]
  },
  {
   "cell_type": "code",
   "execution_count": 34,
   "metadata": {},
   "outputs": [
    {
     "data": {
      "text/html": [
       "<div>\n",
       "<style scoped>\n",
       "    .dataframe tbody tr th:only-of-type {\n",
       "        vertical-align: middle;\n",
       "    }\n",
       "\n",
       "    .dataframe tbody tr th {\n",
       "        vertical-align: top;\n",
       "    }\n",
       "\n",
       "    .dataframe thead th {\n",
       "        text-align: right;\n",
       "    }\n",
       "</style>\n",
       "<table border=\"1\" class=\"dataframe\">\n",
       "  <thead>\n",
       "    <tr style=\"text-align: right;\">\n",
       "      <th></th>\n",
       "      <th>ICD9CODE</th>\n",
       "      <th>AIS05CODE_obs</th>\n",
       "      <th>AIS05CODE_pred</th>\n",
       "    </tr>\n",
       "  </thead>\n",
       "  <tbody>\n",
       "    <tr>\n",
       "      <th>512</th>\n",
       "      <td>A50_59 E820.0 P86.59 P87.03 P87.41 P88.01 P88....</td>\n",
       "      <td>110602 110802 915000</td>\n",
       "      <td>110600 &lt;unk&gt;</td>\n",
       "    </tr>\n",
       "    <tr>\n",
       "      <th>1288</th>\n",
       "      <td>A20_29 E816.0 P03.53 P77.79 P81.08 P86.59 P87....</td>\n",
       "      <td>161002 450202 630604 650634 856100</td>\n",
       "      <td>161004 450202 &lt;unk&gt; 650620 856151</td>\n",
       "    </tr>\n",
       "    <tr>\n",
       "      <th>4508</th>\n",
       "      <td>A40_49 E813.2 P38.7 P79.39 P79.39 P88.47 D805....</td>\n",
       "      <td>161000 210402 521106 640608 640642 650620 6506...</td>\n",
       "      <td>161001 210402 510402 &lt;unk&gt; 640604 640604 65062...</td>\n",
       "    </tr>\n",
       "    <tr>\n",
       "      <th>4766</th>\n",
       "      <td>A40_49 E816.0 P03.53 P34.04 P81.04 P87.03 P88....</td>\n",
       "      <td>630606 650620</td>\n",
       "      <td>&lt;unk&gt; 650632</td>\n",
       "    </tr>\n",
       "    <tr>\n",
       "      <th>5125</th>\n",
       "      <td>A30_39 E953.0 P31.1 P87.03 P88.32 P88.38 P88.4...</td>\n",
       "      <td>340212 710402</td>\n",
       "      <td>&lt;unk&gt; 710402</td>\n",
       "    </tr>\n",
       "  </tbody>\n",
       "</table>\n",
       "</div>"
      ],
      "text/plain": [
       "                                               ICD9CODE  \\\n",
       "512   A50_59 E820.0 P86.59 P87.03 P87.41 P88.01 P88....   \n",
       "1288  A20_29 E816.0 P03.53 P77.79 P81.08 P86.59 P87....   \n",
       "4508  A40_49 E813.2 P38.7 P79.39 P79.39 P88.47 D805....   \n",
       "4766  A40_49 E816.0 P03.53 P34.04 P81.04 P87.03 P88....   \n",
       "5125  A30_39 E953.0 P31.1 P87.03 P88.32 P88.38 P88.4...   \n",
       "\n",
       "                                          AIS05CODE_obs  \\\n",
       "512                                110602 110802 915000   \n",
       "1288                 161002 450202 630604 650634 856100   \n",
       "4508  161000 210402 521106 640608 640642 650620 6506...   \n",
       "4766                                      630606 650620   \n",
       "5125                                      340212 710402   \n",
       "\n",
       "                                         AIS05CODE_pred  \n",
       "512                                        110600 <unk>  \n",
       "1288                  161004 450202 <unk> 650620 856151  \n",
       "4508  161001 210402 510402 <unk> 640604 640604 65062...  \n",
       "4766                                       <unk> 650632  \n",
       "5125                                       <unk> 710402  "
      ]
     },
     "execution_count": 34,
     "metadata": {},
     "output_type": "execute_result"
    }
   ],
   "source": [
    "unk_idx = ais_pred[ais_pred.AIS05CODE.fillna('0').str.contains('<unk>')].index\n",
    "\n",
    "test_res.iloc[unk_idx][['ICD9CODE']] \\\n",
    "    .join(ais_obs.iloc[unk_idx].rename(columns={'AIS05CODE':'AIS05CODE_obs'})) \\\n",
    "    .join(ais_pred.iloc[unk_idx].rename(columns={'AIS05CODE':'AIS05CODE_pred'})) \\\n",
    "    .head(5)"
   ]
  },
  {
   "cell_type": "code",
   "execution_count": 35,
   "metadata": {},
   "outputs": [
    {
     "name": "stdout",
     "output_type": "stream",
     "text": [
      "Empty prediction set: 27\n",
      "Percent empty prediction set: 0.00022063510222759738\n"
     ]
    }
   ],
   "source": [
    "# number of empty predictions\n",
    "print(\"Empty prediction set:\",len(ais_pred[ais_pred.AIS05CODE.isnull()]))\n",
    "print(\"Percent empty prediction set:\",len(ais_pred[ais_pred.AIS05CODE.isnull()])/len(ais_pred))"
   ]
  },
  {
   "cell_type": "markdown",
   "metadata": {},
   "source": [
    "## Evaluate AAAM map"
   ]
  },
  {
   "cell_type": "code",
   "execution_count": 36,
   "metadata": {},
   "outputs": [
    {
     "name": "stdout",
     "output_type": "stream",
     "text": [
      "CPU times: user 8min 46s, sys: 293 ms, total: 8min 46s\n",
      "Wall time: 8min 46s\n"
     ]
    }
   ],
   "source": [
    "%%time\n",
    "sample_res = test_res.head(10000)\n",
    "\n",
    "# loop through all results\n",
    "for i in range(0,len(sample_res)):\n",
    "\n",
    "    # match up lists of AIS codes\n",
    "    matches = match_ais(sample_res.AIS_obs[i], sample_res.AIS_map[i])\n",
    "    \n",
    "    # check if first iteration\n",
    "    if i==0:\n",
    "        # create dataframe for results\n",
    "        match_results_map = match_stats(matches, mapped_codes=False)\n",
    "        \n",
    "    else:\n",
    "        # append results to dataframe\n",
    "        match_results_map = match_results_map.append(match_stats(matches, mapped_codes=False), ignore_index=True)\n",
    "        \n",
    "match_results_map = sample_res.join(match_results_map)"
   ]
  },
  {
   "cell_type": "code",
   "execution_count": 37,
   "metadata": {},
   "outputs": [
    {
     "name": "stdout",
     "output_type": "stream",
     "text": [
      "num_obs     3.0012\n",
      "num_pred    2.9321\n",
      "dtype: float64\n"
     ]
    },
    {
     "data": {
      "text/plain": [
       "<AxesSubplot:>"
      ]
     },
     "execution_count": 37,
     "metadata": {},
     "output_type": "execute_result"
    },
    {
     "data": {
      "image/png": "[encoded data removed]",
      "text/plain": [
       "<Figure size 432x288 with 1 Axes>"
      ]
     },
     "metadata": {
      "needs_background": "light"
     },
     "output_type": "display_data"
    }
   ],
   "source": [
    "# mean number of injuries per patient\n",
    "print(match_results_map[['num_obs','num_pred']].mean())\n",
    "match_results_map[['num_obs','num_pred']].mean().plot.bar()"
   ]
  },
  {
   "cell_type": "code",
   "execution_count": 38,
   "metadata": {},
   "outputs": [
    {
     "name": "stdout",
     "output_type": "stream",
     "text": [
      "ISS equal: 0.3941\n",
      "ISS >=16 equal: 0.874\n"
     ]
    }
   ],
   "source": [
    "# ISS results\n",
    "print(\"ISS equal:\", match_results_map.iss_equal.mean())\n",
    "print(\"ISS >=16 equal:\", match_results_map.iss_16_equal.mean())"
   ]
  },
  {
   "cell_type": "code",
   "execution_count": 39,
   "metadata": {},
   "outputs": [
    {
     "name": "stdout",
     "output_type": "stream",
     "text": [
      "ISS>=16 underpredicted: 0.7857142857142857\n"
     ]
    }
   ],
   "source": [
    "iss_16_mismatch_map = match_results_map[match_results_map.iss_16_equal==0]\n",
    "print(\"ISS>=16 underpredicted:\", len(iss_16_mismatch_map[iss_16_mismatch_map.iss_obs>iss_16_mismatch_map.iss_pred])/len(iss_16_mismatch_map))"
   ]
  },
  {
   "cell_type": "code",
   "execution_count": 40,
   "metadata": {},
   "outputs": [
    {
     "name": "stdout",
     "output_type": "stream",
     "text": [
      "iss_obs     8.883721\n",
      "iss_pred    6.818500\n",
      "dtype: float64\n"
     ]
    },
    {
     "data": {
      "text/plain": [
       "<AxesSubplot:>"
      ]
     },
     "execution_count": 40,
     "metadata": {},
     "output_type": "execute_result"
    },
    {
     "data": {
      "image/png": "[encoded data removed]",
      "text/plain": [
       "<Figure size 432x288 with 1 Axes>"
      ]
     },
     "metadata": {
      "needs_background": "light"
     },
     "output_type": "display_data"
    }
   ],
   "source": [
    "# mean ISS\n",
    "print(match_results_map[['iss_obs','iss_pred']].mean())\n",
    "match_results_map[['iss_obs','iss_pred']].mean().plot.bar()"
   ]
  },
  {
   "cell_type": "code",
   "execution_count": 41,
   "metadata": {},
   "outputs": [
    {
     "name": "stdout",
     "output_type": "stream",
     "text": [
      "MAIS equal: 0.728\n",
      "MAIS >=3 equal: 0.9\n"
     ]
    }
   ],
   "source": [
    "# MAIS results\n",
    "print(\"MAIS equal:\", match_results_map.mais_equal.mean())\n",
    "print(\"MAIS >=3 equal:\", match_results_map.mais_3_equal.mean())"
   ]
  },
  {
   "cell_type": "code",
   "execution_count": 42,
   "metadata": {},
   "outputs": [
    {
     "name": "stdout",
     "output_type": "stream",
     "text": [
      "MAIS>=3 underpredicted: 0.631\n"
     ]
    }
   ],
   "source": [
    "mais_3_mismatch_map = match_results_map[match_results_map.mais_3_equal==0]\n",
    "print(\"MAIS>=3 underpredicted:\", len(mais_3_mismatch_map[mais_3_mismatch_map.mais_obs>mais_3_mismatch_map.mais_pred])/len(mais_3_mismatch_map))"
   ]
  },
  {
   "cell_type": "code",
   "execution_count": 43,
   "metadata": {},
   "outputs": [
    {
     "name": "stdout",
     "output_type": "stream",
     "text": [
      "mais_obs     2.5467\n",
      "mais_pred    2.4237\n",
      "dtype: float64\n"
     ]
    },
    {
     "data": {
      "text/plain": [
       "<AxesSubplot:>"
      ]
     },
     "execution_count": 43,
     "metadata": {},
     "output_type": "execute_result"
    },
    {
     "data": {
      "image/png": "[encoded data removed]",
      "text/plain": [
       "<Figure size 432x288 with 1 Axes>"
      ]
     },
     "metadata": {
      "needs_background": "light"
     },
     "output_type": "display_data"
    }
   ],
   "source": [
    "# mean MAIS\n",
    "print(match_results_map[['mais_obs','mais_pred']].mean())\n",
    "match_results_map[['mais_obs','mais_pred']].mean().plot.bar()"
   ]
  },
  {
   "cell_type": "code",
   "execution_count": 44,
   "metadata": {},
   "outputs": [
    {
     "data": {
      "text/html": [
       "<div>\n",
       "<style scoped>\n",
       "    .dataframe tbody tr th:only-of-type {\n",
       "        vertical-align: middle;\n",
       "    }\n",
       "\n",
       "    .dataframe tbody tr th {\n",
       "        vertical-align: top;\n",
       "    }\n",
       "\n",
       "    .dataframe thead th {\n",
       "        text-align: right;\n",
       "    }\n",
       "</style>\n",
       "<table border=\"1\" class=\"dataframe\">\n",
       "  <thead>\n",
       "    <tr style=\"text-align: right;\">\n",
       "      <th></th>\n",
       "      <th>exact</th>\n",
       "      <th>same_reg_same_sev</th>\n",
       "      <th>same_reg_diff_sev</th>\n",
       "      <th>diff_reg_same_sev</th>\n",
       "      <th>diff_reg_diff_sev</th>\n",
       "      <th>unmatch_obs</th>\n",
       "      <th>unmatch_pred</th>\n",
       "    </tr>\n",
       "  </thead>\n",
       "  <tbody>\n",
       "    <tr>\n",
       "      <th>0</th>\n",
       "      <td>0.002632</td>\n",
       "      <td>0.746102</td>\n",
       "      <td>0.172164</td>\n",
       "      <td>0.027222</td>\n",
       "      <td>0.007897</td>\n",
       "      <td>0.05028</td>\n",
       "      <td>0.027256</td>\n",
       "    </tr>\n",
       "  </tbody>\n",
       "</table>\n",
       "</div>"
      ],
      "text/plain": [
       "      exact  same_reg_same_sev  same_reg_diff_sev  diff_reg_same_sev  \\\n",
       "0  0.002632           0.746102           0.172164           0.027222   \n",
       "\n",
       "   diff_reg_diff_sev  unmatch_obs  unmatch_pred  \n",
       "0           0.007897      0.05028      0.027256  "
      ]
     },
     "execution_count": 44,
     "metadata": {},
     "output_type": "execute_result"
    }
   ],
   "source": [
    "# total codes observed\n",
    "num_obs = sum(match_results_map.num_obs)\n",
    "\n",
    "# match categories\n",
    "match_cat_map = pd.DataFrame({'exact':[sum(match_results_map.exact)/num_obs], \\\n",
    "                          'same_reg_same_sev':[sum(match_results_map.same_reg_same_sev)/num_obs], \\\n",
    "                          'same_reg_diff_sev':[sum(match_results_map.same_reg_diff_sev)/num_obs], \\\n",
    "                          'diff_reg_same_sev':[sum(match_results_map.diff_reg_same_sev)/num_obs], \\\n",
    "                          'diff_reg_diff_sev':[sum(match_results_map.diff_reg_diff_sev)/num_obs], \\\n",
    "                          'unmatch_obs':[sum(match_results_map.unmatched_obs)/num_obs], \\\n",
    "                          'unmatch_pred':[sum(match_results_map.unmatched_pred)/num_obs]})\n",
    "\n",
    "match_cat_map"
   ]
  },
  {
   "cell_type": "code",
   "execution_count": 45,
   "metadata": {},
   "outputs": [
    {
     "data": {
      "image/png": "[encoded data removed]",
      "text/plain": [
       "<Figure size 432x288 with 1 Axes>"
      ]
     },
     "metadata": {
      "needs_background": "light"
     },
     "output_type": "display_data"
    }
   ],
   "source": [
    "match_cat_map.plot.barh().invert_yaxis()"
   ]
  },
  {
   "cell_type": "code",
   "execution_count": 46,
   "metadata": {},
   "outputs": [
    {
     "data": {
      "text/plain": [
       "<AxesSubplot:>"
      ]
     },
     "execution_count": 46,
     "metadata": {},
     "output_type": "execute_result"
    },
    {
     "data": {
      "image/png": "[encoded data removed]",
      "text/plain": [
       "<Figure size 432x288 with 1 Axes>"
      ]
     },
     "metadata": {
      "needs_background": "light"
     },
     "output_type": "display_data"
    }
   ],
   "source": [
    "# total codes observed\n",
    "num_obs = sum(match_results_map.num_obs)\n",
    "\n",
    "# match categories\n",
    "match_cat_map = pd.DataFrame({'Good':[(sum(match_results_map.exact) + sum(match_results_map.same_reg_same_sev))/num_obs], \\\n",
    "                          'Maybe okay':[sum(match_results_map.same_reg_diff_sev)/num_obs], \\\n",
    "                          'Not great':[sum(match_results_map.diff_reg_same_sev)/num_obs], \\\n",
    "                          'Poor':[(sum(match_results_map.unmatched))/num_obs]})\n",
    "\n",
    "match_cat_map.plot.bar(ylim=(0,.85))"
   ]
  },
  {
   "cell_type": "code",
   "execution_count": null,
   "metadata": {},
   "outputs": [],
   "source": []
  }
 ],
 "metadata": {
  "kernelspec": {
   "display_name": "Python 3.8",
   "language": "python",
   "name": "python-3.8"
  },
  "language_info": {
   "codemirror_mode": {
    "name": "ipython",
    "version": 3
   },
   "file_extension": ".py",
   "mimetype": "text/x-python",
   "name": "python",
   "nbconvert_exporter": "python",
   "pygments_lexer": "ipython3",
   "version": "3.8.8"
  }
 },
 "nbformat": 4,
 "nbformat_minor": 4
}
