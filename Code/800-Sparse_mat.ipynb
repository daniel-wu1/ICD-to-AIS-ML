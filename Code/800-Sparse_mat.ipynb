{
 "cells": [
  {
   "cell_type": "markdown",
   "metadata": {},
   "source": [
    "# Project: ICD-AIS conversion using Deep Learning\n",
    "\n",
    "This script creates sparse matrices for the input and output files"
   ]
  },
  {
   "cell_type": "markdown",
   "metadata": {},
   "source": [
    "## Setup"
   ]
  },
  {
   "cell_type": "code",
   "execution_count": 3,
   "metadata": {},
   "outputs": [],
   "source": [
    "import numpy as np\n",
    "import pandas as pd\n",
    "import sqlite3\n",
    "import random\n",
    "import math"
   ]
  },
  {
   "cell_type": "code",
   "execution_count": 4,
   "metadata": {},
   "outputs": [],
   "source": [
    "ais_train_file = \"../Data/train_ais_pre_I9_A05.csv\"\n",
    "icd_train_file =\"../Data/train_icd_pre_I9_A05.csv\"\n",
    "ais_val_file = \"../Data/val_ais_pre_I9_A05.csv\"\n",
    "icd_val_file =\"../Data/val_icd_pre_I9_A05.csv\"\n",
    "ais_test_file = \"../Data/test_ais_pre_I9_A05.csv\"\n",
    "icd_test_file =\"../Data/test_icd_pre_I9_A05.csv\"\n",
    "ais_codes_file = \"../Data/AIS08_codes.csv\""
   ]
  },
  {
   "cell_type": "markdown",
   "metadata": {},
   "source": [
    "## Load data"
   ]
  },
  {
   "cell_type": "code",
   "execution_count": 5,
   "metadata": {},
   "outputs": [],
   "source": [
    "icd_test = pd.read_csv(icd_test_file, header=None, names=[\"icd_code\"])\n",
    "ais_test = pd.read_csv(ais_test_file, header=None, names=[\"ais_code\"])"
   ]
  },
  {
   "cell_type": "markdown",
   "metadata": {},
   "source": [
    "## Extract all unique patient ICD and AIS codes"
   ]
  },
  {
   "cell_type": "code",
   "execution_count": 4,
   "metadata": {},
   "outputs": [],
   "source": [
    "def convert_to_long(df):\n",
    "    # get name of code column\n",
    "    code = icd_test.columns[0]\n",
    "    \n",
    "    # may key from index\n",
    "    df = df.reset_index().rename(columns={'index':'key'})\n",
    "    \n",
    "    # split codes\n",
    "    df[code] = df[code].str.split(' ', expand=False)\n",
    "    \n",
    "    # create dataframe for long format\n",
    "    long = pd.DataFrame(columns=['key', code])\n",
    "    \n",
    "    # loop through all entries\n",
    "    for k in df.key:\n",
    "        # get codes\n",
    "        entry = df.iloc[k][code]\n",
    "        \n",
    "        # append to long \n",
    "        long = long.append(pd.DataFrame({'key':k,code:entry}))\n",
    "        \n",
    "    return long"
   ]
  },
  {
   "cell_type": "code",
   "execution_count": 9,
   "metadata": {},
   "outputs": [
    {
     "name": "stdout",
     "output_type": "stream",
     "text": [
      "CPU times: user 21min 58s, sys: 3min 20s, total: 25min 19s\n",
      "Wall time: 25min 22s\n"
     ]
    }
   ],
   "source": [
    "%%time\n",
    "icd_test_long = convert_to_long(icd_test[0:100000])"
   ]
  },
  {
   "cell_type": "code",
   "execution_count": 11,
   "metadata": {},
   "outputs": [
    {
     "data": {
      "text/plain": [
       "122374"
      ]
     },
     "execution_count": 11,
     "metadata": {},
     "output_type": "execute_result"
    }
   ],
   "source": [
    "len(icd_test)"
   ]
  },
  {
   "cell_type": "markdown",
   "metadata": {},
   "source": [
    "## Create vocabulary dictionary and output files"
   ]
  },
  {
   "cell_type": "code",
   "execution_count": null,
   "metadata": {},
   "outputs": [],
   "source": []
  },
  {
   "cell_type": "code",
   "execution_count": null,
   "metadata": {},
   "outputs": [],
   "source": []
  },
  {
   "cell_type": "markdown",
   "metadata": {},
   "source": [
    "## Function to generate sparse matrix\n",
    "\n",
    "coo_array((data, (i, j)), [shape=(M, N)])\n",
    "\n",
    "    to construct from three arrays:\n",
    "\n",
    "            data[:] the entries of the array, in any order\n",
    "\n",
    "            i[:] the row indices of the array entries\n",
    "\n",
    "            j[:] the column indices of the array entries\n",
    "\n"
   ]
  },
  {
   "cell_type": "code",
   "execution_count": null,
   "metadata": {},
   "outputs": [],
   "source": []
  },
  {
   "cell_type": "code",
   "execution_count": null,
   "metadata": {},
   "outputs": [],
   "source": []
  }
 ],
 "metadata": {
  "kernelspec": {
   "display_name": "Python 3",
   "language": "python",
   "name": "python3"
  },
  "language_info": {
   "codemirror_mode": {
    "name": "ipython",
    "version": 3
   },
   "file_extension": ".py",
   "mimetype": "text/x-python",
   "name": "python",
   "nbconvert_exporter": "python",
   "pygments_lexer": "ipython3",
   "version": "3.8.8"
  }
 },
 "nbformat": 4,
 "nbformat_minor": 4
}
